{
  "nbformat": 4,
  "nbformat_minor": 0,
  "metadata": {
    "colab": {
      "name": "Taxas Personalizadas ao Cliente.ipynb",
      "provenance": [],
      "collapsed_sections": []
    },
    "kernelspec": {
      "name": "python3",
      "display_name": "Python 3"
    },
    "accelerator": "GPU"
  },
  "cells": [
    {
      "cell_type": "markdown",
      "metadata": {
        "id": "A1eaRA1fD2PW"
      },
      "source": [
        "![alt text](https://encrypted-tbn0.gstatic.com/images?q=tbn%3AANd9GcTK4gQ9nhwHHaSXMHpeggWg7twwMCgb877smkRmtkmDeDoGF9Z6&usqp=CAU)"
      ]
    },
    {
      "cell_type": "markdown",
      "metadata": {
        "id": "xpmZHxI0D2PX"
      },
      "source": [
        "# <font color='PURPLE'>Ciência dos Dados na Prática</font>\n",
        "\n",
        "# <font color='GREY'> Personalizando as Taxas de Acordo para cada Cliente</font>\n"
      ]
    },
    {
      "cell_type": "markdown",
      "metadata": {
        "id": "e1cKdtvmaw0L"
      },
      "source": [
        "![](https://media3.giphy.com/media/kd9i2msDiqiWY/giphy.gif)\r\n",
        "![](https://www.pewresearch.org/wp-content/uploads/2013/12/incomeinequality.gif)\r\n"
      ]
    },
    {
      "cell_type": "markdown",
      "metadata": {
        "id": "gq2qDOywpJi5"
      },
      "source": [
        "# Bancos e Cooperativas de Crédito\r\n",
        "Essas são 2 de uma infinidade de empresas que oferecem vários tipos de contas e fornecem empréstimos com base nos requisitos de seus clientes. Corretoras da Bolsa ofertam diversos produtos como investimentos em mercado e os mais variados fundos de investimento. "
      ]
    },
    {
      "cell_type": "markdown",
      "metadata": {
        "id": "XSfUNDgqpbmD"
      },
      "source": [
        "\r\n",
        "![](https://pro2-bar-s3-cdn-cf.myportfolio.com/175e3b73089ce78b4d03c0c413bb3c6d/bc08fcc6-17c9-4cc7-b233-c02ea464a44c_rw_1200.gif?h=4ef07270d0b94368f7dde1eb52046219)\r\n"
      ]
    },
    {
      "cell_type": "markdown",
      "metadata": {
        "id": "oLXC35aepVsw"
      },
      "source": [
        "Existem muitos bancos em todo o mundo que estão aproveitando o aprendizado de máquina e a IA em sua rotina diária e obtendo benefícios com isso. No Brasil e no Mundo as empresas estão usando o aprendizado de máquina para fornecer vários recursos aos clientes, bem como para prevenção e detecção de risco. Algumas aplicações incluem:\r\n",
        "\r\n",
        "1. Suporte ao cliente\r\n",
        "\r\n",
        "2. Detecção de fraude\r\n",
        "\r\n",
        "3. Modelagem de Risco\r\n",
        "\r\n",
        "4. Análise de marketing\r\n",
        "\r\n",
        "5. Segmentação de clientes\r\n",
        "\r\n",
        "\r\n",
        "![](https://gestaodeclinicas.ajmed.com.br/wp-content/uploads/2019/09/Taxa-trimestral-Uniprofissional.gif)"
      ]
    },
    {
      "cell_type": "markdown",
      "metadata": {
        "id": "28ng26ism25C"
      },
      "source": [
        "# Só que tem mais...\r\n",
        "\r\n",
        "\r\n",
        "Você já se perguntou como os credores usam vários fatores, como pontuação de crédito, renda anual, valor do empréstimo aprovado, prazo de validade, relação dívida / renda, etc., e **selecionam suas taxas de juros?**\r\n",
        "\r\n",
        "O processo, definido como 'precificação baseada em risco', usa um algoritmo sofisticado que alavanca diferentes fatores determinantes de um solicitante de empréstimo. \r\n",
        "\r\n",
        "A seleção de variáveis significativas ajudará a desenvolver um algoritmo de previsão que pode estimar as taxas de juros dos empréstimos com base nas informações dos clientes. \r\n",
        "\r\n"
      ]
    },
    {
      "cell_type": "markdown",
      "metadata": {
        "id": "MO_zOCKXrTVR"
      },
      "source": [
        "#1° Problema de Negócio\r\n"
      ]
    },
    {
      "cell_type": "markdown",
      "metadata": {
        "id": "s8SswLOprWOv"
      },
      "source": [
        "Ajudar as empresas de crédito a obter uma **estimativa imediata da taxa de juros fixa** com base nas informações dos clientes. Esse é o <\"**deal**\">\r\n",
        "\r\n",
        "Aqui, seu objetivo é usar um conjunto de dados de treinamento para **prever a categoria de taxa de empréstimo (1/2/3)** que será atribuída a cada empréstimo em nosso conjunto de teste.\r\n"
      ]
    },
    {
      "cell_type": "markdown",
      "metadata": {
        "id": "fWc99c0im3FN"
      },
      "source": [
        "#2° Análise Exploratória dos Dados\r\n"
      ]
    },
    {
      "cell_type": "code",
      "metadata": {
        "id": "6bUzqz7ruXVN"
      },
      "source": [
        "!pip install catboost"
      ],
      "execution_count": null,
      "outputs": []
    },
    {
      "cell_type": "code",
      "metadata": {
        "id": "NO6RPnp7r-1N"
      },
      "source": [
        "import pandas as pd\r\n",
        "import numpy as np\r\n",
        "import seaborn as sns\r\n",
        "from catboost import CatBoostClassifier\r\n",
        "from sklearn.preprocessing import LabelEncoder\r\n",
        "from sklearn.model_selection import train_test_split, KFold, StratifiedKFold\r\n",
        "from sklearn.metrics import f1_score\r\n",
        "from collections import Counter\r\n",
        "import warnings\r\n",
        "warnings.filterwarnings(\"ignore\")"
      ],
      "execution_count": 4,
      "outputs": []
    },
    {
      "cell_type": "code",
      "metadata": {
        "id": "J63SjQYk75ct",
        "colab": {
          "base_uri": "https://localhost:8080/"
        },
        "outputId": "bb9163b1-5387-44e3-b3ef-5daf42e63d5b"
      },
      "source": [
        "# Versões dos pacotes usados neste jupyter notebook\r\n",
        "!pip install -q -U watermark\r\n",
        "%reload_ext watermark\r\n",
        "%watermark -a \"Ciência dos Dados\" --iversions\r\n",
        "\r\n",
        "# Versão da Linguagem Python\r\n",
        "from platform import python_version\r\n",
        "print('Versão da Linguagem Python Usada Neste Jupyter Notebook:', python_version())\r\n",
        "\r\n",
        "#Alertas\r\n",
        "import warnings\r\n",
        "import sys\r\n",
        "warnings.simplefilter(action='ignore', category=FutureWarning)\r\n",
        "warnings.filterwarnings(\"ignore\", category=FutureWarning)\r\n",
        "if not sys.warnoptions:\r\n",
        "    warnings.simplefilter(\"ignore\")\r\n",
        "\r\n"
      ],
      "execution_count": 5,
      "outputs": [
        {
          "output_type": "stream",
          "text": [
            "Author: Ciência dos Dados\n",
            "\n",
            "numpy  : 1.19.5\n",
            "IPython: 5.5.0\n",
            "seaborn: 0.11.1\n",
            "pandas : 1.1.5\n",
            "\n",
            "Versão da Linguagem Python Usada Neste Jupyter Notebook: 3.7.10\n"
          ],
          "name": "stdout"
        }
      ]
    },
    {
      "cell_type": "markdown",
      "metadata": {
        "id": "tgVu1EtMvj5P"
      },
      "source": [
        "###Fonte de Dados:\r\n",
        "\r\n",
        "https://datahack.analyticsvidhya.com/contest/janatahack-machine-learning-for-banking/ "
      ]
    },
    {
      "cell_type": "code",
      "metadata": {
        "id": "Qg0HSc_Pun4D"
      },
      "source": [
        "#Importar os Dados\r\n",
        "df_train = pd.read_csv(\"train_fNxu4vz.csv\")\r\n",
        "df_test = pd.read_csv(\"test_fjtUOL8.csv\")"
      ],
      "execution_count": 6,
      "outputs": []
    },
    {
      "cell_type": "code",
      "metadata": {
        "colab": {
          "base_uri": "https://localhost:8080/",
          "height": 291
        },
        "id": "Y650SKOn6Li0",
        "outputId": "b915e9d1-ccd2-4892-96ac-5649c217f196"
      },
      "source": [
        "df_train.head()"
      ],
      "execution_count": 21,
      "outputs": [
        {
          "output_type": "execute_result",
          "data": {
            "text/html": [
              "<div>\n",
              "<style scoped>\n",
              "    .dataframe tbody tr th:only-of-type {\n",
              "        vertical-align: middle;\n",
              "    }\n",
              "\n",
              "    .dataframe tbody tr th {\n",
              "        vertical-align: top;\n",
              "    }\n",
              "\n",
              "    .dataframe thead th {\n",
              "        text-align: right;\n",
              "    }\n",
              "</style>\n",
              "<table border=\"1\" class=\"dataframe\">\n",
              "  <thead>\n",
              "    <tr style=\"text-align: right;\">\n",
              "      <th></th>\n",
              "      <th>Loan_ID</th>\n",
              "      <th>Loan_Amount_Requested</th>\n",
              "      <th>Length_Employed</th>\n",
              "      <th>Home_Owner</th>\n",
              "      <th>Annual_Income</th>\n",
              "      <th>Income_Verified</th>\n",
              "      <th>Purpose_Of_Loan</th>\n",
              "      <th>Debt_To_Income</th>\n",
              "      <th>Inquiries_Last_6Mo</th>\n",
              "      <th>Months_Since_Deliquency</th>\n",
              "      <th>Number_Open_Accounts</th>\n",
              "      <th>Total_Accounts</th>\n",
              "      <th>Gender</th>\n",
              "      <th>Interest_Rate</th>\n",
              "    </tr>\n",
              "  </thead>\n",
              "  <tbody>\n",
              "    <tr>\n",
              "      <th>0</th>\n",
              "      <td>10000001</td>\n",
              "      <td>7,000</td>\n",
              "      <td>&lt; 1 year</td>\n",
              "      <td>Rent</td>\n",
              "      <td>68000.0</td>\n",
              "      <td>not verified</td>\n",
              "      <td>car</td>\n",
              "      <td>18.37</td>\n",
              "      <td>0</td>\n",
              "      <td>NaN</td>\n",
              "      <td>9</td>\n",
              "      <td>14</td>\n",
              "      <td>Female</td>\n",
              "      <td>1</td>\n",
              "    </tr>\n",
              "    <tr>\n",
              "      <th>1</th>\n",
              "      <td>10000002</td>\n",
              "      <td>30,000</td>\n",
              "      <td>4 years</td>\n",
              "      <td>Mortgage</td>\n",
              "      <td>NaN</td>\n",
              "      <td>VERIFIED - income</td>\n",
              "      <td>debt_consolidation</td>\n",
              "      <td>14.93</td>\n",
              "      <td>0</td>\n",
              "      <td>17.0</td>\n",
              "      <td>12</td>\n",
              "      <td>24</td>\n",
              "      <td>Female</td>\n",
              "      <td>3</td>\n",
              "    </tr>\n",
              "    <tr>\n",
              "      <th>2</th>\n",
              "      <td>10000003</td>\n",
              "      <td>24,725</td>\n",
              "      <td>7 years</td>\n",
              "      <td>Mortgage</td>\n",
              "      <td>75566.4</td>\n",
              "      <td>VERIFIED - income source</td>\n",
              "      <td>debt_consolidation</td>\n",
              "      <td>15.88</td>\n",
              "      <td>0</td>\n",
              "      <td>NaN</td>\n",
              "      <td>12</td>\n",
              "      <td>16</td>\n",
              "      <td>Male</td>\n",
              "      <td>3</td>\n",
              "    </tr>\n",
              "    <tr>\n",
              "      <th>3</th>\n",
              "      <td>10000004</td>\n",
              "      <td>16,000</td>\n",
              "      <td>&lt; 1 year</td>\n",
              "      <td>NaN</td>\n",
              "      <td>56160.0</td>\n",
              "      <td>VERIFIED - income source</td>\n",
              "      <td>debt_consolidation</td>\n",
              "      <td>14.34</td>\n",
              "      <td>3</td>\n",
              "      <td>NaN</td>\n",
              "      <td>16</td>\n",
              "      <td>22</td>\n",
              "      <td>Male</td>\n",
              "      <td>3</td>\n",
              "    </tr>\n",
              "    <tr>\n",
              "      <th>4</th>\n",
              "      <td>10000005</td>\n",
              "      <td>17,000</td>\n",
              "      <td>8 years</td>\n",
              "      <td>Own</td>\n",
              "      <td>96000.0</td>\n",
              "      <td>VERIFIED - income source</td>\n",
              "      <td>debt_consolidation</td>\n",
              "      <td>22.17</td>\n",
              "      <td>1</td>\n",
              "      <td>NaN</td>\n",
              "      <td>19</td>\n",
              "      <td>30</td>\n",
              "      <td>Female</td>\n",
              "      <td>1</td>\n",
              "    </tr>\n",
              "  </tbody>\n",
              "</table>\n",
              "</div>"
            ],
            "text/plain": [
              "    Loan_ID Loan_Amount_Requested  ...  Gender Interest_Rate\n",
              "0  10000001                 7,000  ...  Female             1\n",
              "1  10000002                30,000  ...  Female             3\n",
              "2  10000003                24,725  ...    Male             3\n",
              "3  10000004                16,000  ...    Male             3\n",
              "4  10000005                17,000  ...  Female             1\n",
              "\n",
              "[5 rows x 14 columns]"
            ]
          },
          "metadata": {
            "tags": []
          },
          "execution_count": 21
        }
      ]
    },
    {
      "cell_type": "code",
      "metadata": {
        "colab": {
          "base_uri": "https://localhost:8080/"
        },
        "id": "fLC2p0Ns6ASu",
        "outputId": "4b74fc00-ce8f-47a5-bd88-d03b53df18c4"
      },
      "source": [
        "df_train.shape"
      ],
      "execution_count": 9,
      "outputs": [
        {
          "output_type": "execute_result",
          "data": {
            "text/plain": [
              "(164309, 14)"
            ]
          },
          "metadata": {
            "tags": []
          },
          "execution_count": 9
        }
      ]
    },
    {
      "cell_type": "code",
      "metadata": {
        "id": "kfbzu6LTC5Ld"
      },
      "source": [
        "df_test.head()"
      ],
      "execution_count": null,
      "outputs": []
    },
    {
      "cell_type": "code",
      "metadata": {
        "colab": {
          "base_uri": "https://localhost:8080/"
        },
        "id": "RGLvZ3Ti_Vfv",
        "outputId": "5d02aa80-571a-4e11-eed2-70fc3d938df0"
      },
      "source": [
        "df_test.shape"
      ],
      "execution_count": 11,
      "outputs": [
        {
          "output_type": "execute_result",
          "data": {
            "text/plain": [
              "(109541, 13)"
            ]
          },
          "metadata": {
            "tags": []
          },
          "execution_count": 11
        }
      ]
    },
    {
      "cell_type": "code",
      "metadata": {
        "id": "dwgfRvNBuwtF",
        "colab": {
          "base_uri": "https://localhost:8080/"
        },
        "outputId": "eff345d6-a799-4a8a-e636-3af7ffc32946"
      },
      "source": [
        "#Descrição dos Campos\r\n",
        "df_train.info()"
      ],
      "execution_count": 12,
      "outputs": [
        {
          "output_type": "stream",
          "text": [
            "<class 'pandas.core.frame.DataFrame'>\n",
            "RangeIndex: 164309 entries, 0 to 164308\n",
            "Data columns (total 14 columns):\n",
            " #   Column                   Non-Null Count   Dtype  \n",
            "---  ------                   --------------   -----  \n",
            " 0   Loan_ID                  164309 non-null  int64  \n",
            " 1   Loan_Amount_Requested    164309 non-null  object \n",
            " 2   Length_Employed          156938 non-null  object \n",
            " 3   Home_Owner               138960 non-null  object \n",
            " 4   Annual_Income            139207 non-null  float64\n",
            " 5   Income_Verified          164309 non-null  object \n",
            " 6   Purpose_Of_Loan          164309 non-null  object \n",
            " 7   Debt_To_Income           164309 non-null  float64\n",
            " 8   Inquiries_Last_6Mo       164309 non-null  int64  \n",
            " 9   Months_Since_Deliquency  75930 non-null   float64\n",
            " 10  Number_Open_Accounts     164309 non-null  int64  \n",
            " 11  Total_Accounts           164309 non-null  int64  \n",
            " 12  Gender                   164309 non-null  object \n",
            " 13  Interest_Rate            164309 non-null  int64  \n",
            "dtypes: float64(3), int64(5), object(6)\n",
            "memory usage: 17.6+ MB\n"
          ],
          "name": "stdout"
        }
      ]
    },
    {
      "cell_type": "markdown",
      "metadata": {
        "id": "ykRRniLFDMU-"
      },
      "source": [
        "### **Dicionário de Dados**"
      ]
    },
    {
      "cell_type": "markdown",
      "metadata": {
        "id": "cwnEXJQP3nbR"
      },
      "source": [
        "![](https://cienciadosdados.com/images/2021/adjuros.png)"
      ]
    },
    {
      "cell_type": "code",
      "metadata": {
        "colab": {
          "base_uri": "https://localhost:8080/",
          "height": 316
        },
        "id": "VYqdSei95uOu",
        "outputId": "30d5a6fa-ac53-4442-8d60-f7fa7fb88111"
      },
      "source": [
        "#Estatística dos Campos\r\n",
        "df_train.describe()"
      ],
      "execution_count": 13,
      "outputs": [
        {
          "output_type": "execute_result",
          "data": {
            "text/html": [
              "<div>\n",
              "<style scoped>\n",
              "    .dataframe tbody tr th:only-of-type {\n",
              "        vertical-align: middle;\n",
              "    }\n",
              "\n",
              "    .dataframe tbody tr th {\n",
              "        vertical-align: top;\n",
              "    }\n",
              "\n",
              "    .dataframe thead th {\n",
              "        text-align: right;\n",
              "    }\n",
              "</style>\n",
              "<table border=\"1\" class=\"dataframe\">\n",
              "  <thead>\n",
              "    <tr style=\"text-align: right;\">\n",
              "      <th></th>\n",
              "      <th>Loan_ID</th>\n",
              "      <th>Annual_Income</th>\n",
              "      <th>Debt_To_Income</th>\n",
              "      <th>Inquiries_Last_6Mo</th>\n",
              "      <th>Months_Since_Deliquency</th>\n",
              "      <th>Number_Open_Accounts</th>\n",
              "      <th>Total_Accounts</th>\n",
              "      <th>Interest_Rate</th>\n",
              "    </tr>\n",
              "  </thead>\n",
              "  <tbody>\n",
              "    <tr>\n",
              "      <th>count</th>\n",
              "      <td>1.643090e+05</td>\n",
              "      <td>1.392070e+05</td>\n",
              "      <td>164309.000000</td>\n",
              "      <td>164309.000000</td>\n",
              "      <td>75930.000000</td>\n",
              "      <td>164309.000000</td>\n",
              "      <td>164309.000000</td>\n",
              "      <td>164309.000000</td>\n",
              "    </tr>\n",
              "    <tr>\n",
              "      <th>mean</th>\n",
              "      <td>1.008216e+07</td>\n",
              "      <td>7.333116e+04</td>\n",
              "      <td>17.207189</td>\n",
              "      <td>0.781698</td>\n",
              "      <td>34.229356</td>\n",
              "      <td>11.193818</td>\n",
              "      <td>25.067665</td>\n",
              "      <td>2.158951</td>\n",
              "    </tr>\n",
              "    <tr>\n",
              "      <th>std</th>\n",
              "      <td>4.743207e+04</td>\n",
              "      <td>6.037750e+04</td>\n",
              "      <td>7.845083</td>\n",
              "      <td>1.034747</td>\n",
              "      <td>21.761180</td>\n",
              "      <td>4.991813</td>\n",
              "      <td>11.583067</td>\n",
              "      <td>0.738364</td>\n",
              "    </tr>\n",
              "    <tr>\n",
              "      <th>min</th>\n",
              "      <td>1.000000e+07</td>\n",
              "      <td>4.000000e+03</td>\n",
              "      <td>0.000000</td>\n",
              "      <td>0.000000</td>\n",
              "      <td>0.000000</td>\n",
              "      <td>0.000000</td>\n",
              "      <td>2.000000</td>\n",
              "      <td>1.000000</td>\n",
              "    </tr>\n",
              "    <tr>\n",
              "      <th>25%</th>\n",
              "      <td>1.004108e+07</td>\n",
              "      <td>4.500000e+04</td>\n",
              "      <td>11.370000</td>\n",
              "      <td>0.000000</td>\n",
              "      <td>16.000000</td>\n",
              "      <td>8.000000</td>\n",
              "      <td>17.000000</td>\n",
              "      <td>2.000000</td>\n",
              "    </tr>\n",
              "    <tr>\n",
              "      <th>50%</th>\n",
              "      <td>1.008216e+07</td>\n",
              "      <td>6.300000e+04</td>\n",
              "      <td>16.840000</td>\n",
              "      <td>0.000000</td>\n",
              "      <td>31.000000</td>\n",
              "      <td>10.000000</td>\n",
              "      <td>23.000000</td>\n",
              "      <td>2.000000</td>\n",
              "    </tr>\n",
              "    <tr>\n",
              "      <th>75%</th>\n",
              "      <td>1.012323e+07</td>\n",
              "      <td>8.869750e+04</td>\n",
              "      <td>22.780000</td>\n",
              "      <td>1.000000</td>\n",
              "      <td>50.000000</td>\n",
              "      <td>14.000000</td>\n",
              "      <td>32.000000</td>\n",
              "      <td>3.000000</td>\n",
              "    </tr>\n",
              "    <tr>\n",
              "      <th>max</th>\n",
              "      <td>1.016431e+07</td>\n",
              "      <td>7.500000e+06</td>\n",
              "      <td>39.990000</td>\n",
              "      <td>8.000000</td>\n",
              "      <td>180.000000</td>\n",
              "      <td>76.000000</td>\n",
              "      <td>156.000000</td>\n",
              "      <td>3.000000</td>\n",
              "    </tr>\n",
              "  </tbody>\n",
              "</table>\n",
              "</div>"
            ],
            "text/plain": [
              "            Loan_ID  Annual_Income  ...  Total_Accounts  Interest_Rate\n",
              "count  1.643090e+05   1.392070e+05  ...   164309.000000  164309.000000\n",
              "mean   1.008216e+07   7.333116e+04  ...       25.067665       2.158951\n",
              "std    4.743207e+04   6.037750e+04  ...       11.583067       0.738364\n",
              "min    1.000000e+07   4.000000e+03  ...        2.000000       1.000000\n",
              "25%    1.004108e+07   4.500000e+04  ...       17.000000       2.000000\n",
              "50%    1.008216e+07   6.300000e+04  ...       23.000000       2.000000\n",
              "75%    1.012323e+07   8.869750e+04  ...       32.000000       3.000000\n",
              "max    1.016431e+07   7.500000e+06  ...      156.000000       3.000000\n",
              "\n",
              "[8 rows x 8 columns]"
            ]
          },
          "metadata": {
            "tags": []
          },
          "execution_count": 13
        }
      ]
    },
    {
      "cell_type": "code",
      "metadata": {
        "id": "hRCjWIrK54GB"
      },
      "source": [
        "#Contagem de Domínios Distintos\r\n",
        "df_train.nunique()"
      ],
      "execution_count": null,
      "outputs": []
    },
    {
      "cell_type": "code",
      "metadata": {
        "id": "kyCr6XmQ7Y9U"
      },
      "source": [
        "#Verifica Valores Nulos\r\n",
        "df_train.isna().sum()"
      ],
      "execution_count": null,
      "outputs": []
    },
    {
      "cell_type": "code",
      "metadata": {
        "id": "oBOlB8mk8BGH"
      },
      "source": [
        "# #Estatística dos Campos\r\n",
        "df_train['Length_Employed'].value_counts()"
      ],
      "execution_count": null,
      "outputs": []
    },
    {
      "cell_type": "code",
      "metadata": {
        "id": "m9h6M1G_8M8I",
        "colab": {
          "base_uri": "https://localhost:8080/",
          "height": 297
        },
        "outputId": "59b9dba2-f0d3-4d99-ebea-001a4359cadd"
      },
      "source": [
        "#Estatística dos Campos\r\n",
        "df_train['Interest_Rate'].value_counts()\r\n",
        "sns.countplot(df_train['Interest_Rate'])"
      ],
      "execution_count": 17,
      "outputs": [
        {
          "output_type": "execute_result",
          "data": {
            "text/plain": [
              "<matplotlib.axes._subplots.AxesSubplot at 0x7f12ff393350>"
            ]
          },
          "metadata": {
            "tags": []
          },
          "execution_count": 17
        },
        {
          "output_type": "display_data",
          "data": {
            "image/png": "[encoded data removed]",
            "text/plain": [
              "<Figure size 432x288 with 1 Axes>"
            ]
          },
          "metadata": {
            "tags": [],
            "needs_background": "light"
          }
        }
      ]
    },
    {
      "cell_type": "code",
      "metadata": {
        "id": "IjOhGljH9yh6",
        "colab": {
          "base_uri": "https://localhost:8080/",
          "height": 297
        },
        "outputId": "1b69cc67-3ec8-4d7f-94e7-7a5408b049db"
      },
      "source": [
        "#Estatística dos Campos\r\n",
        "df_train['Home_Owner'].value_counts()\r\n",
        "sns.countplot(df_train['Home_Owner'])"
      ],
      "execution_count": 18,
      "outputs": [
        {
          "output_type": "execute_result",
          "data": {
            "text/plain": [
              "<matplotlib.axes._subplots.AxesSubplot at 0x7f12ff2976d0>"
            ]
          },
          "metadata": {
            "tags": []
          },
          "execution_count": 18
        },
        {
          "output_type": "display_data",
          "data": {
            "image/png": "[encoded data removed]",
            "text/plain": [
              "<Figure size 432x288 with 1 Axes>"
            ]
          },
          "metadata": {
            "tags": [],
            "needs_background": "light"
          }
        }
      ]
    },
    {
      "cell_type": "code",
      "metadata": {
        "colab": {
          "base_uri": "https://localhost:8080/",
          "height": 297
        },
        "id": "SOwlHdhs95kx",
        "outputId": "b87f2144-071d-465a-dd66-cf3ca7596b7b"
      },
      "source": [
        "#Estatística dos Campos\r\n",
        "df_train['Income_Verified'].value_counts()\r\n",
        "sns.countplot(df_train['Income_Verified'])"
      ],
      "execution_count": 19,
      "outputs": [
        {
          "output_type": "execute_result",
          "data": {
            "text/plain": [
              "<matplotlib.axes._subplots.AxesSubplot at 0x7f12fede3690>"
            ]
          },
          "metadata": {
            "tags": []
          },
          "execution_count": 19
        },
        {
          "output_type": "display_data",
          "data": {
            "image/png": "[encoded data removed]",
            "text/plain": [
              "<Figure size 432x288 with 1 Axes>"
            ]
          },
          "metadata": {
            "tags": [],
            "needs_background": "light"
          }
        }
      ]
    },
    {
      "cell_type": "code",
      "metadata": {
        "id": "dN6ozUK9-L8X"
      },
      "source": [
        "#Estatística dos Campos\r\n",
        "df_train['Purpose_Of_Loan'].value_counts()\r\n"
      ],
      "execution_count": null,
      "outputs": []
    },
    {
      "cell_type": "markdown",
      "metadata": {
        "id": "TdEYKzRIm3I6"
      },
      "source": [
        "#3° Pré-Processamento dos Dados"
      ]
    },
    {
      "cell_type": "code",
      "metadata": {
        "id": "vE5JCGFQurpK"
      },
      "source": [
        "# Convert to numeric\r\n",
        "df_train[\"Loan_Amount_Requested\"] = df_train[\"Loan_Amount_Requested\"].str.replace(\",\", \"\")\r\n",
        "df_train[\"Loan_Amount_Requested\"] = pd.to_numeric(df_train[\"Loan_Amount_Requested\"])\r\n",
        "df_test[\"Loan_Amount_Requested\"] = df_test[\"Loan_Amount_Requested\"].str.replace(\",\", \"\")\r\n",
        "df_test[\"Loan_Amount_Requested\"] = pd.to_numeric(df_test[\"Loan_Amount_Requested\"])\r\n"
      ],
      "execution_count": 22,
      "outputs": []
    },
    {
      "cell_type": "code",
      "metadata": {
        "id": "Vr7C0joBvBnN"
      },
      "source": [
        "# Tratamento de Valores Missing e Nulos\r\n",
        "df_train[\"Length_Employed\"].fillna('NaN', inplace=True)\r\n",
        "df_test[\"Length_Employed\"].fillna('NaN', inplace=True)\r\n",
        "\r\n",
        "df_train[\"Home_Owner\"].fillna('NaN', inplace=True)\r\n",
        "df_test[\"Home_Owner\"].fillna('NaN', inplace=True)\r\n",
        "\r\n",
        "df_train[\"Income_Verified\"].fillna('NaN', inplace=True)\r\n",
        "df_test[\"Income_Verified\"].fillna('NaN', inplace=True)\r\n",
        "\r\n",
        "df_train[\"Purpose_Of_Loan\"].fillna('NaN', inplace=True)\r\n",
        "df_test[\"Purpose_Of_Loan\"].fillna('NaN', inplace=True)\r\n",
        "\r\n",
        "df_train[\"Gender\"].fillna('NaN', inplace=True)\r\n",
        "df_test[\"Gender\"].fillna('NaN', inplace=True)\r\n",
        "\r\n"
      ],
      "execution_count": 23,
      "outputs": []
    },
    {
      "cell_type": "code",
      "metadata": {
        "id": "F-LHu0puvKFf"
      },
      "source": [
        "# Drop loan ids - Eliminando campos de Identificação (campos sem utilidade, pois somente identificam o cliente)\r\n",
        "df_train = df_train.drop([\"Loan_ID\"], axis=1)\r\n",
        "loan_ids = df_test[\"Loan_ID\"].values\r\n",
        "df_test = df_test.drop([\"Loan_ID\"], axis=1)\r\n",
        "\r\n"
      ],
      "execution_count": 24,
      "outputs": []
    },
    {
      "cell_type": "markdown",
      "metadata": {
        "id": "8yapJXDE_AVL"
      },
      "source": [
        "### Imputação de Valores Missing \r\n"
      ]
    },
    {
      "cell_type": "code",
      "metadata": {
        "id": "G4Bu9KIg_E5m"
      },
      "source": [
        "# Imputação Pela Media -  mean\r\n",
        "df_train[\"Annual_Income\"].fillna(df_train[\"Annual_Income\"].mean(), inplace=True)\r\n",
        "df_test[\"Annual_Income\"].fillna(df_test[\"Annual_Income\"].mean(), inplace=True)\r\n",
        "\r\n",
        "# Substituíndo nulos por Zero\r\n",
        "df_train[\"Months_Since_Deliquency\"].fillna(0, inplace=True)\r\n",
        "df_test[\"Months_Since_Deliquency\"].fillna(0, inplace=True)\r\n",
        "\r\n"
      ],
      "execution_count": 25,
      "outputs": []
    },
    {
      "cell_type": "markdown",
      "metadata": {
        "id": "Pm9m1R3g_Gs6"
      },
      "source": [
        "### Criação de Variáveis - feature engineering"
      ]
    },
    {
      "cell_type": "code",
      "metadata": {
        "id": "vSwbqom1_NXU"
      },
      "source": [
        "# New feature\r\n",
        "df_train[\"Number_Invalid_Acc\"] = df_train[\"Total_Accounts\"] - df_train[\"Number_Open_Accounts\"]\r\n",
        "df_test[\"Number_Invalid_Acc\"] = df_test[\"Total_Accounts\"] - df_test[\"Number_Open_Accounts\"]\r\n",
        "\r\n",
        "# New feature\r\n",
        "df_train[\"Number_Years_To_Repay_Debt\"] = df_train[\"Loan_Amount_Requested\"]/df_train[\"Annual_Income\"]\r\n",
        "df_test[\"Number_Years_To_Repay_Debt\"] = df_test[\"Loan_Amount_Requested\"]/df_test[\"Annual_Income\"]\r\n",
        "\r\n",
        "df_train.head()"
      ],
      "execution_count": null,
      "outputs": []
    },
    {
      "cell_type": "code",
      "metadata": {
        "colab": {
          "base_uri": "https://localhost:8080/"
        },
        "id": "L0ARUKFdv7Kl",
        "outputId": "d59ca05b-2a38-46b0-c465-adb4b8b5dba4"
      },
      "source": [
        "#Pré - Amostragem - Dados de Treino e Teste\r\n",
        "X_train, Y = df_train.drop([\"Interest_Rate\"], axis=1).values, df_train[\"Interest_Rate\"].values\r\n",
        "X_test = df_test.values\r\n",
        "\r\n",
        "X_train.shape, Y.shape, X_test.shape"
      ],
      "execution_count": 29,
      "outputs": [
        {
          "output_type": "execute_result",
          "data": {
            "text/plain": [
              "((164309, 12), (164309,), (109541, 12))"
            ]
          },
          "metadata": {
            "tags": []
          },
          "execution_count": 29
        }
      ]
    },
    {
      "cell_type": "code",
      "metadata": {
        "id": "TIXoPhyzwFpB",
        "colab": {
          "base_uri": "https://localhost:8080/"
        },
        "outputId": "b51916c1-5542-4a83-e667-ebf9de012a53"
      },
      "source": [
        "Y"
      ],
      "execution_count": 28,
      "outputs": [
        {
          "output_type": "execute_result",
          "data": {
            "text/plain": [
              "array([1, 3, 3, ..., 1, 3, 2])"
            ]
          },
          "metadata": {
            "tags": []
          },
          "execution_count": 28
        }
      ]
    },
    {
      "cell_type": "markdown",
      "metadata": {
        "id": "C17poDU9m3KQ"
      },
      "source": [
        "#4° Construíndo a Máquina Preditiva \r\n"
      ]
    },
    {
      "cell_type": "markdown",
      "metadata": {
        "id": "uydTpWhN1RBj"
      },
      "source": [
        "### Validação Cruzada ou Cross Validation\r\n",
        "https://youtu.be/HSRsFP-lW0Q"
      ]
    },
    {
      "cell_type": "code",
      "metadata": {
        "colab": {
          "base_uri": "https://localhost:8080/",
          "height": 220
        },
        "id": "YzzQds5v1Z5b",
        "outputId": "745ed11e-1c0f-4d8e-c62f-dd4d1ff737c1"
      },
      "source": [
        "from IPython.core.display import HTML\n",
        "HTML('<<iframe width=\"380\" height=\"200\" src=\"https://www.youtube.com/embed/FI3RlY9AaVs\" frameborder=\"0\" allow=\"accelerometer; autoplay; clipboard-write; encrypted-media; gyroscope; picture-in-picture\" allowfullscreen></iframe>')"
      ],
      "execution_count": null,
      "outputs": [
        {
          "output_type": "execute_result",
          "data": {
            "text/html": [
              "<<iframe width=\"380\" height=\"200\" src=\"https://www.youtube.com/embed/FI3RlY9AaVs\" frameborder=\"0\" allow=\"accelerometer; autoplay; clipboard-write; encrypted-media; gyroscope; picture-in-picture\" allowfullscreen></iframe>"
            ],
            "text/plain": [
              "<IPython.core.display.HTML object>"
            ]
          },
          "metadata": {
            "tags": []
          },
          "execution_count": 90
        }
      ]
    },
    {
      "cell_type": "markdown",
      "metadata": {
        "id": "l71PLTf-7LTX"
      },
      "source": [
        "![](https://dadosdadosdados.files.wordpress.com/2018/06/copa2018_01.jpg?w=869)"
      ]
    },
    {
      "cell_type": "code",
      "metadata": {
        "id": "-2kC59mKwTPj",
        "colab": {
          "base_uri": "https://localhost:8080/"
        },
        "outputId": "a95988ce-dbbf-47c9-ebf1-4d84d765e8df"
      },
      "source": [
        "# Validação Cruzada - Otimizando e Profissionalizando a Amostragem\r\n",
        "\r\n",
        "kfold, scores = KFold(n_splits=5, shuffle=True, random_state=0), list()\r\n",
        "\r\n",
        "for train, test in kfold.split(X_train):\r\n",
        "    x_train, x_test = X_train[train], X_train[test]\r\n",
        "    y_train, y_test = Y[train], Y[test]\r\n",
        "    \r\n",
        "    model = CatBoostClassifier(task_type=\"GPU\", n_estimators=1000, max_depth=4, random_state=7, verbose=500)\r\n",
        "    model.fit(x_train, y_train, cat_features=[1, 2, 4, 5, 11])\r\n",
        "    \r\n",
        "    #Avaliação no tempo de Treinamento\r\n",
        "    preds = model.predict(x_test)\r\n",
        "    score = f1_score(y_test, preds, average=\"weighted\")\r\n",
        "    scores.append(score)\r\n",
        "    print(score)\r\n",
        "print(\"Average: \", sum(scores)/len(scores))"
      ],
      "execution_count": 31,
      "outputs": [
        {
          "output_type": "stream",
          "text": [
            "Learning rate set to 0.175594\n",
            "0:\tlearn: 1.0809143\ttotal: 12.3ms\tremaining: 12.2s\n",
            "500:\tlearn: 0.9052816\ttotal: 4.36s\tremaining: 4.34s\n",
            "999:\tlearn: 0.8933738\ttotal: 8.51s\tremaining: 0us\n",
            "0.5349985568689661\n",
            "Learning rate set to 0.175594\n",
            "0:\tlearn: 1.0808181\ttotal: 8.88ms\tremaining: 8.87s\n",
            "500:\tlearn: 0.9038374\ttotal: 3.92s\tremaining: 3.91s\n",
            "999:\tlearn: 0.8916711\ttotal: 7.98s\tremaining: 0us\n",
            "0.5346382159205323\n",
            "Learning rate set to 0.175594\n",
            "0:\tlearn: 1.0812158\ttotal: 9.35ms\tremaining: 9.34s\n",
            "500:\tlearn: 0.9049934\ttotal: 3.95s\tremaining: 3.94s\n",
            "999:\tlearn: 0.8927167\ttotal: 8.09s\tremaining: 0us\n",
            "0.533148672300574\n",
            "Learning rate set to 0.175594\n",
            "0:\tlearn: 1.0808484\ttotal: 9.16ms\tremaining: 9.15s\n",
            "500:\tlearn: 0.9051933\ttotal: 4.02s\tremaining: 4s\n",
            "999:\tlearn: 0.8925900\ttotal: 8.25s\tremaining: 0us\n",
            "0.534585938864088\n",
            "Learning rate set to 0.175594\n",
            "0:\tlearn: 1.0809992\ttotal: 9.63ms\tremaining: 9.62s\n",
            "500:\tlearn: 0.9049773\ttotal: 4.14s\tremaining: 4.13s\n",
            "999:\tlearn: 0.8930004\ttotal: 8.34s\tremaining: 0us\n",
            "0.5371743308945667\n",
            "Average:  0.5349091429697455\n"
          ],
          "name": "stdout"
        }
      ]
    },
    {
      "cell_type": "markdown",
      "metadata": {
        "id": "Y2c4yilf6qjn"
      },
      "source": [
        "### Principais Variáveis"
      ]
    },
    {
      "cell_type": "code",
      "metadata": {
        "colab": {
          "base_uri": "https://localhost:8080/",
          "height": 609
        },
        "id": "ow6cpOAu6p-v",
        "outputId": "6d5dbc21-e68e-439c-fc86-0dfabb22d8dd"
      },
      "source": [
        "#Feature Importances\r\n",
        "feat_imp = pd.Series(model.feature_importances_, index=df_train.drop([\"Interest_Rate\"], axis=1).columns)\r\n",
        "feat_imp.nlargest(30).plot(kind='barh', figsize=(8,10))"
      ],
      "execution_count": 32,
      "outputs": [
        {
          "output_type": "execute_result",
          "data": {
            "text/plain": [
              "<matplotlib.axes._subplots.AxesSubplot at 0x7f12fcc97f90>"
            ]
          },
          "metadata": {
            "tags": []
          },
          "execution_count": 32
        },
        {
          "output_type": "display_data",
          "data": {
            "image/png": "[encoded data removed]",
            "text/plain": [
              "<Figure size 576x720 with 1 Axes>"
            ]
          },
          "metadata": {
            "tags": [],
            "needs_background": "light"
          }
        }
      ]
    },
    {
      "cell_type": "markdown",
      "metadata": {
        "id": "RdMLL-Z6m3Mg"
      },
      "source": [
        "#5° Avaliação da Máquina Preditiva"
      ]
    },
    {
      "cell_type": "code",
      "metadata": {
        "id": "1fvMw2H4y3HZ"
      },
      "source": [
        "#preds = model.predict(x_test)\r\n",
        "#score = f1_score(y_test, preds, average=\"weighted\")\r\n",
        "#scores.append(score)\r\n",
        "#print(score)\r\n",
        "#print(\"Average: \", sum(scores)/len(scores))"
      ],
      "execution_count": null,
      "outputs": []
    },
    {
      "cell_type": "markdown",
      "metadata": {
        "id": "DJxwDlQ42bOf"
      },
      "source": [
        "\r\n",
        "\r\n",
        "```\r\n",
        "# Isto está formatado como código\r\n",
        "```\r\n",
        "\r\n",
        "# Entre os 20 Primeiros do Mundo na Competição!\r\n",
        "https://datahack.analyticsvidhya.com/contest/janatahack-machine-learning-for-banking/#LeaderBoard\r\n",
        "\r\n",
        "![](https://cienciadosdados.com/images/2021/av.png)"
      ]
    },
    {
      "cell_type": "markdown",
      "metadata": {
        "id": "NjMWsJkW39Fq"
      },
      "source": [
        "# **Resumão**\r\n",
        "![](https://i.pinimg.com/originals/55/01/60/5501609ee45d514d1f2c4a63502045e2.gif)\r\n",
        "\r\n",
        "* Nesta aula, aprendemos a **Criar Máquina Preditiva** que prevê a Melhor Categoria de Taxa de juros para o Cliente\r\n",
        "* Mais 1 Case com **Catboost**\r\n",
        "* **Validação Cruzada**\r\n",
        "* **Imputação** de Valores Missing\r\n",
        "* Criação de Variáveis - **Feature Engineering**\r\n",
        "* Ficamos entre os 20 primeiros colocados na competição\r\n",
        "\r\n",
        "\r\n"
      ]
    },
    {
      "cell_type": "markdown",
      "metadata": {
        "id": "SLF6vuqmxTUL"
      },
      "source": [
        "#Fim"
      ]
    },
    {
      "cell_type": "markdown",
      "metadata": {
        "id": "_fHqFSvWe94c"
      },
      "source": [
        "## Valeu!"
      ]
    },
    {
      "cell_type": "markdown",
      "metadata": {
        "id": "_2DT4SBZRDP-"
      },
      "source": [
        "### #Links - Ciência dos Dados <a href=\"https://linktr.ee/cienciadosdados\">https://linktr.ee/cienciadosdados</a>"
      ]
    },
    {
      "cell_type": "markdown",
      "metadata": {
        "id": "ThxYRK6DfJ3f"
      },
      "source": [
        "### #YouTube - Mais Aulas como essa no YouTube <a href=\"https://www.youtube.com/watch?v=IaIc5oHd3II&t=1569s\">https://www.youtube.com/watch?v=IaIc5oHd3II&t=1569s</a>"
      ]
    },
    {
      "cell_type": "code",
      "metadata": {
        "colab": {
          "base_uri": "https://localhost:8080/",
          "height": 223
        },
        "id": "_pg8zEm-Nv6Y",
        "outputId": "c87109bf-3121-4d2f-a37a-fdb2aaec183f"
      },
      "source": [
        "from IPython.core.display import HTML\n",
        "HTML('<iframe width=\"380\" height=\"202\" src=\"https://www.youtube.com/embed/O8SZGlSFnwo\" frameborder=\"0\" allow=\"accelerometer; autoplay; clipboard-write; encrypted-media; gyroscope; picture-in-picture\" allowfullscreen></iframe>')"
      ],
      "execution_count": null,
      "outputs": [
        {
          "output_type": "execute_result",
          "data": {
            "text/html": [
              "<iframe width=\"380\" height=\"202\" src=\"https://www.youtube.com/embed/O8SZGlSFnwo\" frameborder=\"0\" allow=\"accelerometer; autoplay; clipboard-write; encrypted-media; gyroscope; picture-in-picture\" allowfullscreen></iframe>"
            ],
            "text/plain": [
              "<IPython.core.display.HTML object>"
            ]
          },
          "metadata": {
            "tags": []
          },
          "execution_count": 19
        }
      ]
    }
  ]
}