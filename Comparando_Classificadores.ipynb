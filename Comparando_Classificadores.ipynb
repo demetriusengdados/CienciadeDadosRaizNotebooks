{
  "nbformat": 4,
  "nbformat_minor": 0,
  "metadata": {
    "colab": {
      "name": "Comparando Classificadores.ipynb",
      "provenance": [],
      "collapsed_sections": [
        "m5cN2-KOzJZH",
        "SOwYi6_fzRk_",
        "4j3Pvz4tze7-",
        "7v2QYaD3z0OY"
      ]
    },
    "kernelspec": {
      "name": "python3",
      "display_name": "Python 3"
    }
  },
  "cells": [
    {
      "cell_type": "markdown",
      "metadata": {
        "id": "A1eaRA1fD2PW"
      },
      "source": [
        "![alt text](https://encrypted-tbn0.gstatic.com/images?q=tbn%3AANd9GcTK4gQ9nhwHHaSXMHpeggWg7twwMCgb877smkRmtkmDeDoGF9Z6&usqp=CAU)"
      ]
    },
    {
      "cell_type": "markdown",
      "metadata": {
        "id": "xpmZHxI0D2PX"
      },
      "source": [
        "# <font color='PURPLE'>Ciência dos Dados na Prática</font>\n",
        "\n",
        "# <font color='GREY'> Comparando Algoritmos de Classificação</font>\n"
      ]
    },
    {
      "cell_type": "markdown",
      "metadata": {
        "id": "EZtwXlub7M_m"
      },
      "source": [
        "![alt text](https://static.wixstatic.com/media/cd6ba3_8ded15f339da43b8828e185004e563a2~mv2.gif) \r\n",
        "\r\n",
        "![alt text](https://miro.medium.com/max/1080/1*Z_-lE3mQOr4WKudO37gihQ.gif)"
      ]
    },
    {
      "cell_type": "markdown",
      "metadata": {
        "id": "XRJb4sERw6-X"
      },
      "source": [
        "#1° Problema de Negócio \n",
        "Precisamos escolher qual é o melhor Algoritimo de Classificação para construir uma Máquina Preditiva que, a partir de dados históricos da empresa, faça a previsão dos **clientes** que estão mais propensos a **adquirir um seguro**.\n",
        "\n"
      ]
    },
    {
      "cell_type": "markdown",
      "metadata": {
        "id": "m5cN2-KOzJZH"
      },
      "source": [
        "# 2° Análise Exploratória dos Dados"
      ]
    },
    {
      "cell_type": "code",
      "metadata": {
        "id": "qbkQqxaiWdP7"
      },
      "source": [
        "# Bibliotecas default\r\n",
        "import pandas as pd\r\n",
        "import seaborn as sns\r\n",
        "import matplotlib.pyplot as plt\r\n",
        "\r\n",
        "#Importação de 9 Classificadores\r\n",
        "from sklearn.linear_model import LogisticRegression\r\n",
        "from sklearn.tree import DecisionTreeClassifier\r\n",
        "from sklearn.ensemble import RandomForestClassifier\r\n",
        "from sklearn.preprocessing import LabelEncoder\r\n",
        "from sklearn.model_selection import train_test_split\r\n",
        "from sklearn.metrics import confusion_matrix\r\n",
        "from sklearn.metrics import classification_report\r\n",
        "from xgboost import XGBClassifier \r\n",
        "from lightgbm import LGBMClassifier\r\n",
        "from sklearn.ensemble import GradientBoostingClassifier\r\n",
        "from sklearn.svm import SVC\r\n",
        "from sklearn.neighbors import KNeighborsClassifier\r\n",
        "from sklearn.neural_network import MLPClassifier"
      ],
      "execution_count": 72,
      "outputs": []
    },
    {
      "cell_type": "code",
      "metadata": {
        "id": "ORGlaS4k6Mj0"
      },
      "source": [
        "# Se conectando na Fonte de Dados\r\n",
        "data = pd.read_csv('/content/seguro.csv', sep=',')"
      ],
      "execution_count": 28,
      "outputs": []
    },
    {
      "cell_type": "code",
      "metadata": {
        "id": "dGLK6zecpUqr"
      },
      "source": [
        "# Informações Gerais da Fonte de Dados\r\n",
        "data.info()"
      ],
      "execution_count": null,
      "outputs": []
    },
    {
      "cell_type": "code",
      "metadata": {
        "colab": {
          "base_uri": "https://localhost:8080/",
          "height": 279
        },
        "id": "Gf4wiFSWxas8",
        "outputId": "3c27497a-9cfe-4cc0-dcce-b60397f01055"
      },
      "source": [
        "# Análise Exploratória da Variável\r\n",
        "data.profissao.value_counts()\r\n",
        "graf = sns.countplot(x=\"profissao\", data=data)"
      ],
      "execution_count": 31,
      "outputs": [
        {
          "output_type": "display_data",
          "data": {
            "image/png": "[encoded data removed]",
            "text/plain": [
              "<Figure size 432x288 with 1 Axes>"
            ]
          },
          "metadata": {
            "tags": [],
            "needs_background": "light"
          }
        }
      ]
    },
    {
      "cell_type": "code",
      "metadata": {
        "colab": {
          "base_uri": "https://localhost:8080/",
          "height": 0
        },
        "id": "LojEmK9qxzWe",
        "outputId": "035e3a31-67ba-4b6d-a95d-20f4803fc951"
      },
      "source": [
        "# Análise Exploratória da Variável\r\n",
        "data.educacao.value_counts()\r\n",
        "graf = sns.countplot(x=\"educacao\", data=data)"
      ],
      "execution_count": 32,
      "outputs": [
        {
          "output_type": "display_data",
          "data": {
            "image/png": "[encoded data removed]",
            "text/plain": [
              "<Figure size 432x288 with 1 Axes>"
            ]
          },
          "metadata": {
            "tags": [],
            "needs_background": "light"
          }
        }
      ]
    },
    {
      "cell_type": "code",
      "metadata": {
        "colab": {
          "base_uri": "https://localhost:8080/",
          "height": 279
        },
        "id": "ShaYem3ax8KQ",
        "outputId": "b70d9fc6-8622-470d-8f01-cd9fe0d5f23f"
      },
      "source": [
        "# Análise Exploratória da Variável\r\n",
        "data.cargo.value_counts()\r\n",
        "graf = sns.countplot(x=\"cargo\", data=data)"
      ],
      "execution_count": 33,
      "outputs": [
        {
          "output_type": "display_data",
          "data": {
            "image/png": "[encoded data removed]",
            "text/plain": [
              "<Figure size 432x288 with 1 Axes>"
            ]
          },
          "metadata": {
            "tags": [],
            "needs_background": "light"
          }
        }
      ]
    },
    {
      "cell_type": "code",
      "metadata": {
        "colab": {
          "base_uri": "https://localhost:8080/",
          "height": 279
        },
        "id": "H8wZeuzLyAjF",
        "outputId": "0e559119-9bed-4930-fa46-6bddcbaab1ec"
      },
      "source": [
        "# Análise Exploratória da Variável\r\n",
        "data.renda.value_counts()\r\n",
        "graf = sns.countplot(x=\"renda\", data=data)"
      ],
      "execution_count": 34,
      "outputs": [
        {
          "output_type": "display_data",
          "data": {
            "image/png": "[encoded data removed]",
            "text/plain": [
              "<Figure size 432x288 with 1 Axes>"
            ]
          },
          "metadata": {
            "tags": [],
            "needs_background": "light"
          }
        }
      ]
    },
    {
      "cell_type": "code",
      "metadata": {
        "colab": {
          "base_uri": "https://localhost:8080/",
          "height": 279
        },
        "id": "cwMRpfet7vDj",
        "outputId": "0b54630b-0e91-4bd6-e1d8-8fc4758fa9cb"
      },
      "source": [
        "# Análise Exploratória da Variável\r\n",
        "data.segmentacao.value_counts()\r\n",
        "graf = sns.boxplot(x=data[\"segmentacao\"])\r\n"
      ],
      "execution_count": 76,
      "outputs": [
        {
          "output_type": "display_data",
          "data": {
            "image/png": "[encoded data removed]",
            "text/plain": [
              "<Figure size 432x288 with 1 Axes>"
            ]
          },
          "metadata": {
            "tags": [],
            "needs_background": "light"
          }
        }
      ]
    },
    {
      "cell_type": "code",
      "metadata": {
        "colab": {
          "base_uri": "https://localhost:8080/"
        },
        "id": "Tap1n2QR8c4Z",
        "outputId": "4f28adaf-e1df-4f24-c920-212a37660084"
      },
      "source": [
        "# Análise Exploratória da Variável\r\n",
        "data.segmentacao.value_counts()"
      ],
      "execution_count": 77,
      "outputs": [
        {
          "output_type": "execute_result",
          "data": {
            "text/plain": [
              "40    15217\n",
              "50     2819\n",
              "45     1824\n",
              "60     1475\n",
              "35     1297\n",
              "      ...  \n",
              "92        1\n",
              "94        1\n",
              "87        1\n",
              "74        1\n",
              "82        1\n",
              "Name: segmentacao, Length: 94, dtype: int64"
            ]
          },
          "metadata": {
            "tags": []
          },
          "execution_count": 77
        }
      ]
    },
    {
      "cell_type": "code",
      "metadata": {
        "id": "5EKqbvaxyqgR",
        "colab": {
          "base_uri": "https://localhost:8080/",
          "height": 279
        },
        "outputId": "db90c1f4-976b-4da6-e413-d999965d8878"
      },
      "source": [
        "# Análise Exploratória da Variável\r\n",
        "data.seguro.value_counts()\r\n",
        "graf = sns.countplot(x=\"seguro\", data=data)"
      ],
      "execution_count": 78,
      "outputs": [
        {
          "output_type": "display_data",
          "data": {
            "image/png": "[encoded data removed]",
            "text/plain": [
              "<Figure size 432x288 with 1 Axes>"
            ]
          },
          "metadata": {
            "tags": [],
            "needs_background": "light"
          }
        }
      ]
    },
    {
      "cell_type": "code",
      "metadata": {
        "colab": {
          "base_uri": "https://localhost:8080/",
          "height": 436
        },
        "id": "YW2V6P3FX0tl",
        "outputId": "492b9a73-7473-4074-8827-bf09941b821c"
      },
      "source": [
        "#correlation map\r\n",
        "f,ax = plt.subplots(figsize=(6, 6))\r\n",
        "sns.heatmap(data.corr(), annot=True, linewidths=.05, fmt= '.1f',ax=ax)\r\n",
        "plt.show()"
      ],
      "execution_count": 79,
      "outputs": [
        {
          "output_type": "display_data",
          "data": {
            "image/png": "[encoded data removed]",
            "text/plain": [
              "<Figure size 432x432 with 2 Axes>"
            ]
          },
          "metadata": {
            "tags": [],
            "needs_background": "light"
          }
        }
      ]
    },
    {
      "cell_type": "markdown",
      "metadata": {
        "id": "SOwYi6_fzRk_"
      },
      "source": [
        "#3° Pré-Processamento dos Dados"
      ]
    },
    {
      "cell_type": "code",
      "metadata": {
        "id": "5G773thWW1An"
      },
      "source": [
        "# Take the fields of interest and plug them into variable X\r\n",
        "X = data[['renda', 'cargo', 'educacao', 'profissao','segmentacao']]\r\n",
        "# Make sure to provide the corresponding truth value\r\n",
        "Y = data['seguro'].values.tolist()\r\n",
        "\r\n",
        "# Split the data into test and training (30% for test)\r\n",
        "X_train, X_test, Y_train, Y_test = train_test_split(X, Y, test_size=0.3)\r\n",
        "\r\n"
      ],
      "execution_count": 38,
      "outputs": []
    },
    {
      "cell_type": "markdown",
      "metadata": {
        "id": "4j3Pvz4tze7-"
      },
      "source": [
        "#4° Máquina Preditiva"
      ]
    },
    {
      "cell_type": "code",
      "metadata": {
        "id": "nmmVHHoq6eLp"
      },
      "source": [
        "# Comparando os 9 Algoritmos de Classificação\r\n",
        "\r\n",
        "#67,39% clf = SVC()\r\n",
        "#68,60% clf = LogisticRegression()\r\n",
        "#71,83% clf = DecisionTreeClassifier()\r\n",
        "#72,32% clf = KNeighborsClassifier()\r\n",
        "#72,53% clf = MLPClassifier()\r\n",
        "#73,76% clf = RandomForestClassifier()\r\n",
        "#75,19% clf = GradientBoostingClassifier()\r\n",
        "#74,55% clf = XGBClassifier()\r\n",
        "#75,40% clf = LGBMClassifier()\r\n",
        "\r\n"
      ],
      "execution_count": 17,
      "outputs": []
    },
    {
      "cell_type": "code",
      "metadata": {
        "colab": {
          "base_uri": "https://localhost:8080/"
        },
        "id": "pmY-BPsQ6fnR",
        "outputId": "23779d7d-6333-4fa8-ddb6-9edf0ccceb5d"
      },
      "source": [
        "# Criando o Classificador com o Algoritmo a ser Avaliado\r\n",
        "clf =  LGBMClassifier()\r\n",
        "clf"
      ],
      "execution_count": 117,
      "outputs": [
        {
          "output_type": "execute_result",
          "data": {
            "text/plain": [
              "LGBMClassifier(boosting_type='gbdt', class_weight=None, colsample_bytree=1.0,\n",
              "               importance_type='split', learning_rate=1, max_depth=-1,\n",
              "               min_child_samples=20, min_child_weight=0.001, min_split_gain=0.0,\n",
              "               n_estimators=100, n_jobs=-1, num_leaves=31, objective=None,\n",
              "               random_state=None, reg_alpha=0.0, reg_lambda=0.0, silent=True,\n",
              "               subsample=1.0, subsample_for_bin=200000, subsample_freq=0)"
            ]
          },
          "metadata": {
            "tags": []
          },
          "execution_count": 117
        }
      ]
    },
    {
      "cell_type": "code",
      "metadata": {
        "id": "AQ34ylqZd9GI"
      },
      "source": [
        ""
      ],
      "execution_count": null,
      "outputs": []
    },
    {
      "cell_type": "code",
      "metadata": {
        "id": "3VOrqigp6hGq"
      },
      "source": [
        "# Train the classifier using the train data\r\n",
        "clf = clf.fit(X_train, Y_train)"
      ],
      "execution_count": 118,
      "outputs": []
    },
    {
      "cell_type": "markdown",
      "metadata": {
        "id": "7v2QYaD3z0OY"
      },
      "source": [
        "#5° Avaliação da Máquina Preditiva "
      ]
    },
    {
      "cell_type": "code",
      "metadata": {
        "colab": {
          "base_uri": "https://localhost:8080/"
        },
        "id": "eSu-yLiP6naN",
        "outputId": "8f607866-a035-4351-f6a7-c231b595b5a0"
      },
      "source": [
        "# Validate the classifier\r\n",
        "accuracy = clf.score(X_test, Y_test)\r\n",
        "print('Accuracy: ' + str(accuracy))\r\n",
        "\r\n",
        "# Make a confusion matrix\r\n",
        "prediction = clf.predict(X_test)\r\n",
        "\r\n",
        "cm = confusion_matrix(prediction, Y_test)\r\n",
        "cr = classification_report(prediction, Y_test)\r\n",
        "print(cm)\r\n",
        "print(cr)"
      ],
      "execution_count": 119,
      "outputs": [
        {
          "output_type": "stream",
          "text": [
            "Accuracy: 0.7360016378339646\n",
            "[[1675 1002]\n",
            " [1577 5515]]\n",
            "              precision    recall  f1-score   support\n",
            "\n",
            "           0       0.52      0.63      0.57      2677\n",
            "           1       0.85      0.78      0.81      7092\n",
            "\n",
            "    accuracy                           0.74      9769\n",
            "   macro avg       0.68      0.70      0.69      9769\n",
            "weighted avg       0.76      0.74      0.74      9769\n",
            "\n"
          ],
          "name": "stdout"
        }
      ]
    },
    {
      "cell_type": "code",
      "metadata": {
        "id": "hfWSbnr1bgyJ"
      },
      "source": [
        "                                        #Acurácia     #F1 \r\n",
        "#LogisticRegression                     67,58%        24%\r\n",
        "#SVC                                    67,68%        26%\r\n",
        "#KNeighborsClassifier                   70,93%        52%\r\n",
        "#DecisionTreeClassifier                 71,93%        56%\r\n",
        "#MLPClassifier                          72,21%        45%\r\n",
        "#RandomForestClassifier                 72,87%        56%\r\n",
        "#GradientBoostingClassifier             74,95%        57%\r\n",
        "#XGBClassifier                          75,02%        57%\r\n",
        "#LightGBM                               75,01%        59%\r\n"
      ],
      "execution_count": null,
      "outputs": []
    },
    {
      "cell_type": "markdown",
      "metadata": {
        "id": "SLF6vuqmxTUL"
      },
      "source": [
        "#Fim"
      ]
    },
    {
      "cell_type": "markdown",
      "metadata": {
        "id": "_fHqFSvWe94c"
      },
      "source": [
        "## Valeu!"
      ]
    },
    {
      "cell_type": "markdown",
      "metadata": {
        "id": "_2DT4SBZRDP-"
      },
      "source": [
        "### #Links - Ciência dos Dados <a href=\"https://linktr.ee/cienciadosdados\">https://linktr.ee/cienciadosdados</a>"
      ]
    },
    {
      "cell_type": "markdown",
      "metadata": {
        "id": "ThxYRK6DfJ3f"
      },
      "source": [
        "### #YouTube - Mais Aulas como essa no YouTube <a href=\"https://www.youtube.com/watch?v=IaIc5oHd3II&t=1569s\">https://www.youtube.com/watch?v=IaIc5oHd3II&t=1569s</a>"
      ]
    },
    {
      "cell_type": "code",
      "metadata": {
        "colab": {
          "base_uri": "https://localhost:8080/",
          "height": 220
        },
        "id": "_pg8zEm-Nv6Y",
        "outputId": "2f997626-ee27-409d-8256-1b2de6c523fb"
      },
      "source": [
        "from IPython.core.display import HTML\n",
        "HTML('<iframe width=\"340\" height=\"200\" src=\"https://www.youtube.com/embed/K1y3Sf6xw_g\" frameborder=\"0\" allow=\"accelerometer; autoplay; clipboard-write; encrypted-media; gyroscope; picture-in-picture\" allowfullscreen></iframe>')"
      ],
      "execution_count": 70,
      "outputs": [
        {
          "output_type": "execute_result",
          "data": {
            "text/html": [
              "<iframe width=\"340\" height=\"200\" src=\"https://www.youtube.com/embed/K1y3Sf6xw_g\" frameborder=\"0\" allow=\"accelerometer; autoplay; clipboard-write; encrypted-media; gyroscope; picture-in-picture\" allowfullscreen></iframe>"
            ],
            "text/plain": [
              "<IPython.core.display.HTML object>"
            ]
          },
          "metadata": {
            "tags": []
          },
          "execution_count": 70
        }
      ]
    },
    {
      "cell_type": "code",
      "metadata": {
        "id": "9S8NvQteR985"
      },
      "source": [
        ""
      ],
      "execution_count": null,
      "outputs": []
    }
  ]
}