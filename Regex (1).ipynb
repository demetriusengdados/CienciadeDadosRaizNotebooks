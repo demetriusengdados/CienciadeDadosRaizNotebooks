{
  "nbformat": 4,
  "nbformat_minor": 0,
  "metadata": {
    "colab": {
      "name": "Regex.ipynb",
      "provenance": [],
      "collapsed_sections": [
        "MrWUVJnavRLu",
        "wcywmXiWv-Mz",
        "PW8I1jx6wmGx"
      ]
    },
    "kernelspec": {
      "name": "python3",
      "display_name": "Python 3"
    }
  },
  "cells": [
    {
      "cell_type": "markdown",
      "metadata": {
        "id": "A1eaRA1fD2PW"
      },
      "source": [
        "![alt text](https://encrypted-tbn0.gstatic.com/images?q=tbn%3AANd9GcTK4gQ9nhwHHaSXMHpeggWg7twwMCgb877smkRmtkmDeDoGF9Z6&usqp=CAU)"
      ]
    },
    {
      "cell_type": "markdown",
      "metadata": {
        "id": "xpmZHxI0D2PX"
      },
      "source": [
        "# <font color='Green'>Dicas e Truques de Ciência de Dados</font>\n",
        "\n",
        "## <font color='Grey'> 3 Aplicações de expressões regulares (Regex) que todo Cientista de Dados deve conhecer </font>\n"
      ]
    },
    {
      "cell_type": "markdown",
      "metadata": {
        "id": "P16Q6aLeQvwr"
      },
      "source": [
        "![alt text](https://media3.giphy.com/media/MarRSACy8q3MPtXKQq/giphy.gif)\r\n",
        "\r\n",
        "### <font color='Blue'>PLN - Processamento de Linguagem Natural</font>\r\n",
        "\r\n",
        "![alt text](https://www.grupooffice.com.br/gallery_gen/3ded6ec43993acc0814acea029d3c50d_anim.gif)"
      ]
    },
    {
      "cell_type": "markdown",
      "metadata": {
        "id": "MrWUVJnavRLu"
      },
      "source": [
        "##1° Extração de E-mail de Documentos\r\n",
        "\r\n",
        "*  Comunicaçao Direta com Cliente Potencial\r\n"
      ]
    },
    {
      "cell_type": "markdown",
      "metadata": {
        "id": "9ObENawlTTN3"
      },
      "source": [
        "![alt text](https://www.consignet.com.br/wp-content/uploads/2018/10/o-que-e-comunicacao-assertiva-alcance-objetivos-sem-prejudicar-relacoes.jpg)"
      ]
    },
    {
      "cell_type": "markdown",
      "metadata": {
        "id": "HrDivV72T23S"
      },
      "source": [
        "*  Segmentação de Público para Campanhas de Marketing\r\n",
        "\r\n",
        "![alt text](https://www.agenciaunico.com.br/fotos/images/SegmentacionClientes-01-Portugues2.jpg)\r\n",
        "\r\n",
        "![alt text](https://garratech.com.br/wp-content/uploads/21398f7323df02b64fae25c704ccc32f.gif)\r\n",
        "\r\n",
        "*  Pequisa de Mercado\r\n",
        "\r\n",
        "![alt text](https://1.bp.blogspot.com/-v7YS4nlPEkI/Wil7KArqJ8I/AAAAAAAACBA/28bWNFXwEhcl6CLmQsXJlRlMF2GX9xlhwCLcBGAs/s1600/social.gif)\r\n",
        "\r\n",
        "\r\n",
        "![alt text](https://mpeweek.bb.com.br/wp-content/uploads/2019/09/ACCA1507-FA90-47E9-848A-1BEDA78A80D5.png)"
      ]
    },
    {
      "cell_type": "markdown",
      "metadata": {
        "id": "JnZpANMCV9IS"
      },
      "source": [
        "### Extração de E-mail de um texto"
      ]
    },
    {
      "cell_type": "code",
      "metadata": {
        "id": "KDXhMitXkLTZ"
      },
      "source": [
        "#Biblioteca Regular Expressions\r\n",
        "import re\r\n",
        "# Texto para buscar o E-mail\r\n",
        "text = \"Observa-se que o correio eletrônico, \\\r\n",
        "edau@gmail.com, deixa de ser apenas um meio de troca de \\\r\n",
        "mensagens entre pessoas para se tornar um grande fator na \\\r\n",
        "produtividade das empresas. Grandes empresas como visaofin@gmail.com , estão, cada vez \\\r\n",
        "mais, usando o correio eletrônico para desempenhar papéis decisivos\\\r\n",
        " em suas negociações. Dentro disso, o e-mail suporte@cienciadosdados.com, uma intranet pode ser estabelecida \\\r\n",
        " para tornar a comunicação de funcionários com outros grupos, tornando \\\r\n",
        " assim mais fácil o trabalho e eliminando mensagens em massa e outras mensagens indesejadas.\"\r\n",
        "\r\n",
        "re.findall(r\"[\\w.-]+@[\\w.-]+\", text)\r\n"
      ],
      "execution_count": null,
      "outputs": []
    },
    {
      "cell_type": "code",
      "metadata": {
        "id": "8O34aJ6RlS29"
      },
      "source": [
        "#Biblioteca Regular Expressions\r\n",
        "import re\r\n",
        "\r\n",
        "# Caminho do seu arquivo para buscar email\r\n",
        "with open(\"/content/livro.txt\", \"r\") as fp:\r\n",
        "  text = fp.read()\r\n",
        "  \r\n",
        "re.findall(r\"[\\w.-]+@[\\w.-]+\", text)\r\n",
        "\r\n"
      ],
      "execution_count": null,
      "outputs": []
    },
    {
      "cell_type": "markdown",
      "metadata": {
        "id": "wcywmXiWv-Mz"
      },
      "source": [
        "##2° Busca de Informações Relevantes da Web\r\n",
        "\r\n",
        "* Análise de Concorrentes\r\n",
        "\r\n",
        "![alt text](https://ushealthcare4u.com/wp-content/uploads/2020/06/Impact-of-COVID-19-on-Erectile-Dysfunction-Treatment-Market-Size-Share.gif)\r\n",
        "\r\n",
        "* Pesquisa de Tópicos\r\n",
        "\r\n",
        "![alt text](https://endomarketing.tv/wp-content/uploads/2016/06/endomarketing-progic-comunicacao-interna-eficaz-712x350.gif)\r\n",
        "\r\n",
        "* Fundamentos para Tomada de Decisão Estratégica \r\n",
        "\r\n",
        "\r\n",
        "![alt text](https://endomarketing.tv/wp-content/uploads/2017/09/endomarketing-progic-comunicacao-interna-estrategica-conheca-a-importancia-da-ci-para-as-empresas.gif)"
      ]
    },
    {
      "cell_type": "code",
      "metadata": {
        "id": "othDKUlRmWFg"
      },
      "source": [
        "#Botão direito - Exibir código fonte da Página\r\n",
        "html = \"\"\" cole o HTML aqui   \"\"\""
      ],
      "execution_count": null,
      "outputs": []
    },
    {
      "cell_type": "code",
      "metadata": {
        "id": "8cQBGGxFmcwg"
      },
      "source": [
        "import re\r\n",
        "\r\n",
        "re.findall(r\">([\\w\\s()]*?)</a>\", html)"
      ],
      "execution_count": null,
      "outputs": []
    },
    {
      "cell_type": "markdown",
      "metadata": {
        "id": "PW8I1jx6wmGx"
      },
      "source": [
        "##3° Manipulação de Datas\r\n",
        "\r\n",
        "* Sumarizações Diversas (ano, mês, dia, hora, minuto)\r\n"
      ]
    },
    {
      "cell_type": "markdown",
      "metadata": {
        "id": "ezqAqcQyXzA1"
      },
      "source": [
        "![alt text](https://i.pinimg.com/originals/5f/2c/32/5f2c325f89cd51d766569db709f907db.gif) ![alt text](https://nathalyagabrielasic.files.wordpress.com/2014/11/relc3b3gio.gif)"
      ]
    },
    {
      "cell_type": "code",
      "metadata": {
        "id": "1tygvv3KtHIX"
      },
      "source": [
        "# Manipulação de Datas\r\n",
        "date = \"2018-03-14 06:08:18\"\r\n",
        "date"
      ],
      "execution_count": null,
      "outputs": []
    },
    {
      "cell_type": "code",
      "metadata": {
        "id": "xqKFOvGxtOOC"
      },
      "source": [
        "#Ano/mes/dia\r\n",
        "import re\r\n",
        "\r\n",
        "re.findall(r\"(\\d{4})-(\\d{2})-(\\d{2})\", date)"
      ],
      "execution_count": null,
      "outputs": []
    },
    {
      "cell_type": "code",
      "metadata": {
        "id": "dQE6i2tltcYo"
      },
      "source": [
        "#Ano/mes\r\n",
        "import re\r\n",
        "\r\n",
        "re.findall(r\"(\\d{4})-(\\d{2})\", date)"
      ],
      "execution_count": null,
      "outputs": []
    },
    {
      "cell_type": "code",
      "metadata": {
        "id": "lEvq6GKDtKsu"
      },
      "source": [
        "#Ano\r\n",
        "import re\r\n",
        "\r\n",
        "re.findall(r\"\\d{4}\", date)"
      ],
      "execution_count": null,
      "outputs": []
    },
    {
      "cell_type": "markdown",
      "metadata": {
        "id": "SLF6vuqmxTUL"
      },
      "source": [
        "#Fim"
      ]
    },
    {
      "cell_type": "markdown",
      "metadata": {
        "id": "_fHqFSvWe94c"
      },
      "source": [
        "## Valeu!"
      ]
    },
    {
      "cell_type": "markdown",
      "metadata": {
        "id": "_2DT4SBZRDP-"
      },
      "source": [
        "### #Links - Ciência dos Dados <a href=\"https://linktr.ee/cienciadosdados\">https://linktr.ee/cienciadosdados</a>"
      ]
    },
    {
      "cell_type": "markdown",
      "metadata": {
        "id": "ThxYRK6DfJ3f"
      },
      "source": [
        "### #YouTube - Mais Aulas como essa no YouTube <a href=\"https://www.youtube.com/watch?v=IaIc5oHd3II&t=1569s\">https://www.youtube.com/watch?v=IaIc5oHd3II&t=1569s</a>"
      ]
    },
    {
      "cell_type": "code",
      "metadata": {
        "colab": {
          "base_uri": "https://localhost:8080/",
          "height": 220
        },
        "id": "_pg8zEm-Nv6Y",
        "outputId": "2f997626-ee27-409d-8256-1b2de6c523fb"
      },
      "source": [
        "from IPython.core.display import HTML\n",
        "HTML('<iframe width=\"340\" height=\"200\" src=\"https://www.youtube.com/embed/K1y3Sf6xw_g\" frameborder=\"0\" allow=\"accelerometer; autoplay; clipboard-write; encrypted-media; gyroscope; picture-in-picture\" allowfullscreen></iframe>')"
      ],
      "execution_count": null,
      "outputs": [
        {
          "output_type": "execute_result",
          "data": {
            "text/html": [
              "<iframe width=\"340\" height=\"200\" src=\"https://www.youtube.com/embed/K1y3Sf6xw_g\" frameborder=\"0\" allow=\"accelerometer; autoplay; clipboard-write; encrypted-media; gyroscope; picture-in-picture\" allowfullscreen></iframe>"
            ],
            "text/plain": [
              "<IPython.core.display.HTML object>"
            ]
          },
          "metadata": {
            "tags": []
          },
          "execution_count": 70
        }
      ]
    }
  ]
}