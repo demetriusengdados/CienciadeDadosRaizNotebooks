{
  "nbformat": 4,
  "nbformat_minor": 0,
  "metadata": {
    "colab": {
      "name": "Crash Course Python",
      "provenance": [],
      "collapsed_sections": [
        "86DcZLWeTxVQ",
        "_EUlEtiKSg1D",
        "cfRYXVADS5Mj",
        "Y4cb6IWtS_ju",
        "QZ8uOl1OTNa5",
        "u0Fc4y3-T5h6",
        "HzQkB-HiTn78",
        "C_5tjVAVT0vQ",
        "OA_PyYbqZyjw"
      ]
    },
    "kernelspec": {
      "name": "python3",
      "display_name": "Python 3"
    }
  },
  "cells": [
    {
      "cell_type": "markdown",
      "metadata": {
        "id": "mZVCagpZvZfE"
      },
      "source": [
        "![alt text](https://encrypted-tbn0.gstatic.com/images?q=tbn%3AANd9GcTK4gQ9nhwHHaSXMHpeggWg7twwMCgb877smkRmtkmDeDoGF9Z6&usqp=CAU)"
      ]
    },
    {
      "cell_type": "markdown",
      "metadata": {
        "id": "nbPb0q01k11H"
      },
      "source": [
        "##<font color='GreeN'>Dicas e Truques de Ciência de Dados </font>\n",
        "\n",
        "### <font color='BLUE'>Baby Steps em Ciência de Dados </font>\n",
        " \n"
      ]
    },
    {
      "cell_type": "markdown",
      "metadata": {
        "id": "86DcZLWeTxVQ"
      },
      "source": [
        "#**Python Crash Course**\r\n",
        "![alt text](https://www.python.org/static/img/python-logo@2x.png)\r\n",
        "\r\n"
      ]
    },
    {
      "cell_type": "markdown",
      "metadata": {
        "id": "_EUlEtiKSg1D"
      },
      "source": [
        "##Strings"
      ]
    },
    {
      "cell_type": "code",
      "metadata": {
        "id": "ETyuxxPRNRJg"
      },
      "source": [
        "data = 'Cientista de Dados'\r\n"
      ],
      "execution_count": null,
      "outputs": []
    },
    {
      "cell_type": "code",
      "metadata": {
        "colab": {
          "base_uri": "https://localhost:8080/"
        },
        "id": "vlaQhE3UNeno",
        "outputId": "10aca0e5-a024-4f7b-fdd1-b4b017101090"
      },
      "source": [
        "print(data)"
      ],
      "execution_count": null,
      "outputs": [
        {
          "output_type": "stream",
          "text": [
            "Cientista de Dados\n"
          ],
          "name": "stdout"
        }
      ]
    },
    {
      "cell_type": "code",
      "metadata": {
        "id": "IZ3FtGmiNi-3",
        "colab": {
          "base_uri": "https://localhost:8080/"
        },
        "outputId": "2f2f8493-6c36-4312-d436-e2a4953a9cce"
      },
      "source": [
        "print(len(data))"
      ],
      "execution_count": null,
      "outputs": [
        {
          "output_type": "stream",
          "text": [
            "18\n"
          ],
          "name": "stdout"
        }
      ]
    },
    {
      "cell_type": "code",
      "metadata": {
        "colab": {
          "base_uri": "https://localhost:8080/",
          "height": 35
        },
        "id": "6uzb4bz0NntI",
        "outputId": "40311e96-b69c-429a-b0e8-ae5221c49528"
      },
      "source": [
        "data[10:]"
      ],
      "execution_count": null,
      "outputs": [
        {
          "output_type": "execute_result",
          "data": {
            "application/vnd.google.colaboratory.intrinsic+json": {
              "type": "string"
            },
            "text/plain": [
              "'de Dados'"
            ]
          },
          "metadata": {
            "tags": []
          },
          "execution_count": 17
        }
      ]
    },
    {
      "cell_type": "markdown",
      "metadata": {
        "id": "cfRYXVADS5Mj"
      },
      "source": [
        "##Números"
      ]
    },
    {
      "cell_type": "code",
      "metadata": {
        "id": "0iuw0VMKSmsu"
      },
      "source": [
        "# Numbers\r\n",
        "value = 123\r\n",
        "value\r\n",
        "type(value)"
      ],
      "execution_count": null,
      "outputs": []
    },
    {
      "cell_type": "code",
      "metadata": {
        "id": "_z4HQy4jmCFO"
      },
      "source": [
        "print(value)"
      ],
      "execution_count": null,
      "outputs": []
    },
    {
      "cell_type": "markdown",
      "metadata": {
        "id": "Y4cb6IWtS_ju"
      },
      "source": [
        "##Boleanos"
      ]
    },
    {
      "cell_type": "code",
      "metadata": {
        "id": "oouFpGLUTBBf"
      },
      "source": [
        "# Boolean\r\n",
        "a = True\r\n",
        "b = False\r\n"
      ],
      "execution_count": null,
      "outputs": []
    },
    {
      "cell_type": "code",
      "metadata": {
        "id": "lrRabgExm6n0"
      },
      "source": [
        "print(a,b)"
      ],
      "execution_count": null,
      "outputs": []
    },
    {
      "cell_type": "code",
      "metadata": {
        "id": "paS9582XTGIb",
        "colab": {
          "base_uri": "https://localhost:8080/"
        },
        "outputId": "748b6cdd-5ac4-4b33-8646-c459961d1889"
      },
      "source": [
        "# Multiple Assignment\r\n",
        "a, b, c = 1, 2, 3\r\n",
        "print(a, b,c)\r\n",
        "\r\n"
      ],
      "execution_count": null,
      "outputs": [
        {
          "output_type": "stream",
          "text": [
            "1 2 3\n"
          ],
          "name": "stdout"
        }
      ]
    },
    {
      "cell_type": "code",
      "metadata": {
        "id": "8aERpvzBTGzX",
        "colab": {
          "base_uri": "https://localhost:8080/"
        },
        "outputId": "b44c38c5-06bf-4b67-b3f9-d3acef62a542"
      },
      "source": [
        "# No value\r\n",
        "a = None\r\n",
        "print(a)"
      ],
      "execution_count": null,
      "outputs": [
        {
          "output_type": "stream",
          "text": [
            "None\n"
          ],
          "name": "stdout"
        }
      ]
    },
    {
      "cell_type": "markdown",
      "metadata": {
        "id": "QZ8uOl1OTNa5"
      },
      "source": [
        "##Flow Control\r\n",
        "If-Then-Else Condition Example"
      ]
    },
    {
      "cell_type": "code",
      "metadata": {
        "id": "0aKzkY9YTG2D"
      },
      "source": [
        "idade = 21"
      ],
      "execution_count": null,
      "outputs": []
    },
    {
      "cell_type": "code",
      "metadata": {
        "id": "4FfYt948nnlv"
      },
      "source": [
        "if idade >= 18:\r\n",
        "    print('maior de idade')\r\n",
        "else:\r\n",
        "    print('menor de idade')"
      ],
      "execution_count": null,
      "outputs": []
    },
    {
      "cell_type": "code",
      "metadata": {
        "id": "PvDps-ddPYPC",
        "colab": {
          "base_uri": "https://localhost:8080/"
        },
        "outputId": "5a334ec5-ee73-4a1b-92e3-b58b0c1bedda"
      },
      "source": [
        "idade = 39\r\n",
        "\r\n",
        "if idade < 12:\r\n",
        "    print('crianca')\r\n",
        "elif idade < 18:\r\n",
        "    print('adolescente')\r\n",
        "\r\n",
        "elif idade < 39:\r\n",
        "    print('maduro')\r\n",
        "\r\n",
        "elif idade < 60:\r\n",
        "    print('adulto')\r\n",
        "else:\r\n",
        "    print('idoso')"
      ],
      "execution_count": null,
      "outputs": [
        {
          "output_type": "stream",
          "text": [
            "adulto\n"
          ],
          "name": "stdout"
        }
      ]
    },
    {
      "cell_type": "markdown",
      "metadata": {
        "id": "sMUG7eGoTVRI"
      },
      "source": [
        "For-Loop Example"
      ]
    },
    {
      "cell_type": "code",
      "metadata": {
        "id": "-tNK1BVtTG4q"
      },
      "source": [
        "# For-Loop\r\n",
        "for i in range(10):\r\n",
        "\tprint(i)"
      ],
      "execution_count": null,
      "outputs": []
    },
    {
      "cell_type": "markdown",
      "metadata": {
        "id": "gvb_9SONTbb5"
      },
      "source": [
        "While-Loop Example"
      ]
    },
    {
      "cell_type": "code",
      "metadata": {
        "id": "9AKigGkwTG6_"
      },
      "source": [
        "# While-Loop\r\n",
        "e = 5\r\n",
        "while e <= 100:\r\n",
        "\tprint(e)\r\n",
        "\te += 10"
      ],
      "execution_count": null,
      "outputs": []
    },
    {
      "cell_type": "markdown",
      "metadata": {
        "id": "u0Fc4y3-T5h6"
      },
      "source": [
        "##Estrutura de Dados"
      ]
    },
    {
      "cell_type": "markdown",
      "metadata": {
        "id": "ENUnPu7tT8BS"
      },
      "source": [
        "Tupla"
      ]
    },
    {
      "cell_type": "code",
      "metadata": {
        "id": "R0Lw89y7T-pw",
        "colab": {
          "base_uri": "https://localhost:8080/"
        },
        "outputId": "7159f582-be11-4195-d366-594d8f8208ee"
      },
      "source": [
        "tupla =  (1, 2, 3)\r\n",
        "print(tupla)"
      ],
      "execution_count": null,
      "outputs": [
        {
          "output_type": "stream",
          "text": [
            "(1, 2, 3)\n"
          ],
          "name": "stdout"
        }
      ]
    },
    {
      "cell_type": "code",
      "metadata": {
        "colab": {
          "base_uri": "https://localhost:8080/"
        },
        "id": "CegSk68VqugX",
        "outputId": "d5437856-57fc-4b9a-d292-047597a24a7f"
      },
      "source": [
        "type(tupla)"
      ],
      "execution_count": null,
      "outputs": [
        {
          "output_type": "execute_result",
          "data": {
            "text/plain": [
              "tuple"
            ]
          },
          "metadata": {
            "tags": []
          },
          "execution_count": 53
        }
      ]
    },
    {
      "cell_type": "markdown",
      "metadata": {
        "id": "XDY6C-JpUFg3"
      },
      "source": [
        "Lista\r\n"
      ]
    },
    {
      "cell_type": "code",
      "metadata": {
        "id": "i3AWCF1TUBxw",
        "colab": {
          "base_uri": "https://localhost:8080/"
        },
        "outputId": "ed5d2fe2-102f-4f9d-ac53-ac273f2c4f64"
      },
      "source": [
        "\r\n",
        "mylist = [1, 2, 3]\r\n",
        "\r\n",
        "print(\"O índice ZERO é o número: %d\" % mylist[0])"
      ],
      "execution_count": null,
      "outputs": [
        {
          "output_type": "stream",
          "text": [
            "O índice ZERO é o número: 1\n"
          ],
          "name": "stdout"
        }
      ]
    },
    {
      "cell_type": "code",
      "metadata": {
        "colab": {
          "base_uri": "https://localhost:8080/"
        },
        "id": "82tE4j2zq0X2",
        "outputId": "58ba33ab-bb11-47cb-a636-890f02e41ab0"
      },
      "source": [
        "type(mylist)"
      ],
      "execution_count": null,
      "outputs": [
        {
          "output_type": "execute_result",
          "data": {
            "text/plain": [
              "list"
            ]
          },
          "metadata": {
            "tags": []
          },
          "execution_count": 55
        }
      ]
    },
    {
      "cell_type": "code",
      "metadata": {
        "colab": {
          "base_uri": "https://localhost:8080/"
        },
        "id": "NMe-NNc0RCgB",
        "outputId": "8afb2c8e-de16-4922-8b2e-1d4141d02625"
      },
      "source": [
        "mylist[0]"
      ],
      "execution_count": null,
      "outputs": [
        {
          "output_type": "execute_result",
          "data": {
            "text/plain": [
              "1"
            ]
          },
          "metadata": {
            "tags": []
          },
          "execution_count": 53
        }
      ]
    },
    {
      "cell_type": "code",
      "metadata": {
        "id": "9mcjqITUQu19"
      },
      "source": [
        "mylist.append(4)\r\n",
        "print(\"List Length: %d\" % len(mylist))\r\n",
        "for value in mylist:\r\n",
        "\tprint(value)\r\n"
      ],
      "execution_count": null,
      "outputs": []
    },
    {
      "cell_type": "markdown",
      "metadata": {
        "id": "yO0w8XJuUTJS"
      },
      "source": [
        "Dicionário"
      ]
    },
    {
      "cell_type": "code",
      "metadata": {
        "id": "2aKqakEZUUxh",
        "colab": {
          "base_uri": "https://localhost:8080/"
        },
        "outputId": "12cb1bc1-88f2-461a-f158-7f48da207086"
      },
      "source": [
        "mydict = {'a': 1, 'b': 2, 'c': 3}\r\n",
        "print(\"O valor da chave 'a' é igual: %d\" % mydict['a'])\r\n"
      ],
      "execution_count": null,
      "outputs": [
        {
          "output_type": "stream",
          "text": [
            "O valor da chave 'a' é igual: 1\n"
          ],
          "name": "stdout"
        }
      ]
    },
    {
      "cell_type": "code",
      "metadata": {
        "id": "XeZa1widRh1O"
      },
      "source": [
        "mydict['a'] = 11"
      ],
      "execution_count": null,
      "outputs": []
    },
    {
      "cell_type": "code",
      "metadata": {
        "colab": {
          "base_uri": "https://localhost:8080/"
        },
        "id": "1A9ihbESRTX-",
        "outputId": "06f3e2ef-5ab3-4d14-fc16-dd5585653ae0"
      },
      "source": [
        "mydict['a'] = 11\r\n",
        "print(\"A value: %d\" % mydict['a'])\r\n",
        "print(\"Keys: %s\" % mydict.keys())\r\n",
        "print(\"Values: %s\" % mydict.values())\r\n"
      ],
      "execution_count": null,
      "outputs": [
        {
          "output_type": "stream",
          "text": [
            "A value: 11\n",
            "Keys: dict_keys(['a', 'b', 'c'])\n",
            "Values: dict_values([11, 2, 3])\n"
          ],
          "name": "stdout"
        }
      ]
    },
    {
      "cell_type": "code",
      "metadata": {
        "colab": {
          "base_uri": "https://localhost:8080/"
        },
        "id": "C0u_mZ7_RV9v",
        "outputId": "1fac3802-420a-4273-872d-40d71b0dcc39"
      },
      "source": [
        "for key in mydict.keys():\r\n",
        "\tprint(mydict[key])"
      ],
      "execution_count": null,
      "outputs": [
        {
          "output_type": "stream",
          "text": [
            "11\n",
            "2\n",
            "3\n"
          ],
          "name": "stdout"
        }
      ]
    },
    {
      "cell_type": "markdown",
      "metadata": {
        "id": "HzQkB-HiTn78"
      },
      "source": [
        "##Functions"
      ]
    },
    {
      "cell_type": "code",
      "metadata": {
        "id": "dxhgNTXOTG9U"
      },
      "source": [
        "# Sum function\r\n",
        "def mysum(x, y):\r\n",
        "\treturn x + y\r\n",
        " \r\n"
      ],
      "execution_count": null,
      "outputs": []
    },
    {
      "cell_type": "code",
      "metadata": {
        "id": "_KHwuhf5sCql"
      },
      "source": [
        "def myfun (x,y):\r\n",
        "  return x+y "
      ],
      "execution_count": null,
      "outputs": []
    },
    {
      "cell_type": "code",
      "metadata": {
        "colab": {
          "base_uri": "https://localhost:8080/"
        },
        "id": "yAXm7B_tsOQw",
        "outputId": "c74459e8-1db9-4177-9710-03f385675056"
      },
      "source": [
        "print(myfun)"
      ],
      "execution_count": null,
      "outputs": [
        {
          "output_type": "stream",
          "text": [
            "<function myfun at 0x7f274b638730>\n"
          ],
          "name": "stdout"
        }
      ]
    },
    {
      "cell_type": "code",
      "metadata": {
        "id": "zRFd-i8hslrO"
      },
      "source": [
        "# Test sum function\r\n",
        "myfun(1,3)"
      ],
      "execution_count": null,
      "outputs": []
    },
    {
      "cell_type": "code",
      "metadata": {
        "id": "D45bGZkxRspb"
      },
      "source": [
        "# Sum function\r\n",
        "def myexp(x, y):\r\n",
        "\treturn x**y\r\n",
        " \r\n",
        "myexp(3,3)"
      ],
      "execution_count": null,
      "outputs": []
    },
    {
      "cell_type": "markdown",
      "metadata": {
        "id": "C_5tjVAVT0vQ"
      },
      "source": [
        "# **NumPy Crash Course**\r\n",
        "![alt text](https://miro.medium.com/max/765/0*p0FtnloWd4ogMvTQ.png)\r\n",
        "\r\n"
      ]
    },
    {
      "cell_type": "markdown",
      "metadata": {
        "id": "587NVyBKUnCO"
      },
      "source": [
        "Create Array"
      ]
    },
    {
      "cell_type": "code",
      "metadata": {
        "colab": {
          "base_uri": "https://localhost:8080/"
        },
        "id": "BuB0UkNpTHAI",
        "outputId": "95d5074f-8060-4056-f74b-32538d0695b2"
      },
      "source": [
        "# define an array\r\n",
        "import numpy\r\n",
        "mylist = [1, 2, 3]\r\n",
        "myarray = numpy.array(mylist)\r\n",
        "print(myarray)\r\n",
        "print(myarray.shape)"
      ],
      "execution_count": null,
      "outputs": [
        {
          "output_type": "stream",
          "text": [
            "[1 2 3]\n",
            "(3,)\n"
          ],
          "name": "stdout"
        }
      ]
    },
    {
      "cell_type": "markdown",
      "metadata": {
        "id": "wTx-mL-FUwNI"
      },
      "source": [
        "Acessando os dados do Array"
      ]
    },
    {
      "cell_type": "code",
      "metadata": {
        "id": "BN93bhUWTHC-"
      },
      "source": [
        "# access values\r\n",
        "import numpy\r\n",
        "mylist = [[1, 2, 3], [3, 4, 5]]\r\n",
        "myarray = numpy.array(mylist)\r\n",
        "print(myarray)\r\n",
        "print(myarray.shape)\r\n",
        "print(\"First row: %s\" % myarray[0])\r\n",
        "print(\"Last row: %s\" % myarray[-1])\r\n",
        "print(\"Qual elemento está na Posição da consulta: %s\" % myarray[0, 2])\r\n",
        "print(\"Quais elementos estão na coluna da consulta: %s\" % myarray[:, 2])"
      ],
      "execution_count": null,
      "outputs": []
    },
    {
      "cell_type": "markdown",
      "metadata": {
        "id": "v60PbZ8ZVgFq"
      },
      "source": [
        "Arithmetic"
      ]
    },
    {
      "cell_type": "code",
      "metadata": {
        "colab": {
          "base_uri": "https://localhost:8080/"
        },
        "id": "cKu9b_p-THFK",
        "outputId": "f389e781-9e7d-4df1-a149-09199aa3c39c"
      },
      "source": [
        "# arithmetic\r\n",
        "import numpy\r\n",
        "myarray1 = numpy.array([2, 2, 2])\r\n",
        "myarray2 = numpy.array([3, 3, 3])\r\n",
        "print(\"Addition: %s\" % (myarray1 + myarray2))\r\n",
        "print(\"Multiplication: %s\" % (myarray1 * myarray2))"
      ],
      "execution_count": null,
      "outputs": [
        {
          "output_type": "stream",
          "text": [
            "Addition: [5 5 5]\n",
            "Multiplication: [6 6 6]\n"
          ],
          "name": "stdout"
        }
      ]
    },
    {
      "cell_type": "markdown",
      "metadata": {
        "id": "0wXjY_T3WObu"
      },
      "source": [
        "# **Matplotlib Crash Course**\r\n",
        "![alt text](https://encrypted-tbn0.gstatic.com/images?q=tbn:ANd9GcRhMLqZjlbD_mb9HsaF8t1I2s9VI-8ZD60s1g&usqp=CAU)"
      ]
    },
    {
      "cell_type": "markdown",
      "metadata": {
        "id": "oh2DPXpIWTpq"
      },
      "source": [
        "Line Plot"
      ]
    },
    {
      "cell_type": "code",
      "metadata": {
        "colab": {
          "base_uri": "https://localhost:8080/",
          "height": 279
        },
        "id": "6vynDQlOTHHn",
        "outputId": "80c5a0f6-bca3-4734-a4af-80e6452dab22"
      },
      "source": [
        "# basic line plot\r\n",
        "import matplotlib.pyplot as plt\r\n",
        "import numpy\r\n",
        "myarray = numpy.array([1, 2, 3])\r\n",
        "plt.plot(myarray)\r\n",
        "plt.xlabel('some x axis')\r\n",
        "plt.ylabel('some y axis')\r\n",
        "plt.show()"
      ],
      "execution_count": null,
      "outputs": [
        {
          "output_type": "display_data",
          "data": {
            "image/png": "[encoded data removed]",
            "text/plain": [
              "<Figure size 432x288 with 1 Axes>"
            ]
          },
          "metadata": {
            "tags": [],
            "needs_background": "light"
          }
        }
      ]
    },
    {
      "cell_type": "markdown",
      "metadata": {
        "id": "ZDKlEulPWZiX"
      },
      "source": [
        "Scatter Plot"
      ]
    },
    {
      "cell_type": "code",
      "metadata": {
        "colab": {
          "base_uri": "https://localhost:8080/",
          "height": 279
        },
        "id": "wUTtgSb8WWpp",
        "outputId": "82fdd25c-e761-4604-ad36-04e9b3925f2e"
      },
      "source": [
        "# basic scatter plot\r\n",
        "import matplotlib.pyplot as plt\r\n",
        "import numpy\r\n",
        "x = numpy.array([1, 2, 3, 4, 8, 16 ])\r\n",
        "y = numpy.array([2, 4, 6, 8, 10, 12])\r\n",
        "plt.scatter(x,y)\r\n",
        "plt.xlabel('nome do x')\r\n",
        "plt.ylabel('nome do y')\r\n",
        "plt.show()"
      ],
      "execution_count": null,
      "outputs": [
        {
          "output_type": "display_data",
          "data": {
            "image/png": "[encoded data removed]",
            "text/plain": [
              "<Figure size 432x288 with 1 Axes>"
            ]
          },
          "metadata": {
            "tags": [],
            "needs_background": "light"
          }
        }
      ]
    },
    {
      "cell_type": "markdown",
      "metadata": {
        "id": "uFjCGIxfWji-"
      },
      "source": [
        "# **Pandas Crash Course**\r\n",
        "![alt text](https://s3.amazonaws.com/lintel-blogs-static-files/wp-content/uploads/2019/07/14165137/pandas.jpg)"
      ]
    },
    {
      "cell_type": "markdown",
      "metadata": {
        "id": "byprmnmWWn1b"
      },
      "source": [
        "**Series**: Uma série é um array unidimensional onde as linhas e colunas podem ser rotuladas."
      ]
    },
    {
      "cell_type": "code",
      "metadata": {
        "id": "yOPbNRYHWciZ"
      },
      "source": [
        "# series\r\n",
        "import numpy as np\r\n",
        "import pandas as pd\r\n",
        "myarray = np.array([1, 2, 3])\r\n",
        "rownames = ['a', 'b', 'c']\r\n",
        "myseries = pd.Series(myarray, index=rownames)\r\n",
        "print(myseries)"
      ],
      "execution_count": null,
      "outputs": []
    },
    {
      "cell_type": "code",
      "metadata": {
        "id": "484QlBu5XSJ1"
      },
      "source": [
        "print(myseries[0])\r\n",
        "print(myseries['a'])"
      ],
      "execution_count": null,
      "outputs": []
    },
    {
      "cell_type": "markdown",
      "metadata": {
        "id": "Uj8_mzt3Zrl7"
      },
      "source": [
        "**Dataframe**"
      ]
    },
    {
      "cell_type": "code",
      "metadata": {
        "id": "JmLrBUx4ZvWe"
      },
      "source": [
        "# dataframe\r\n",
        "import numpy as np\r\n",
        "import pandas as pd\r\n",
        "\r\n",
        "myarray = np.array([[1, 2, 3], [4, 5, 6]])\r\n",
        "rownames = ['a', 'b']\r\n",
        "colnames = ['one', 'two', 'three']\r\n",
        "mydataframe = pd.DataFrame(myarray, index=rownames, columns=colnames)\r\n",
        "print(mydataframe)"
      ],
      "execution_count": null,
      "outputs": []
    },
    {
      "cell_type": "markdown",
      "metadata": {
        "id": "OA_PyYbqZyjw"
      },
      "source": [
        "#**Resumão**"
      ]
    },
    {
      "cell_type": "markdown",
      "metadata": {
        "id": "E9fC-q0LZ4Gm"
      },
      "source": [
        "Você acaba de colocar o pé nesse MAR que é o **Python**. \r\n",
        "\r\n",
        "Você descobriu a sintaxe básica e o uso do Python e 3 bibliotecas Python principais usadas para inicira os trabalhos de aprendizado de máquina:\r\n",
        "\r\n",
        "* **NumPy**\r\n",
        "* **Matplotlib**\r\n",
        "* **Pandas** \r\n",
        "\r\n",
        "Agora você conhece sintaxe e informações de uso suficientes para ler e entender o código Python para aprendizado de máquina e para começar a criar seus próprios scripts.\r\n",
        "\r\n",
        "Simbóra!\r\n",
        "\r\n"
      ]
    },
    {
      "cell_type": "markdown",
      "metadata": {
        "id": "XTRc7NjBKG65"
      },
      "source": [
        "# Fim"
      ]
    },
    {
      "cell_type": "markdown",
      "metadata": {
        "id": "_fHqFSvWe94c"
      },
      "source": [
        "## Valeu!"
      ]
    },
    {
      "cell_type": "markdown",
      "metadata": {
        "id": "_2DT4SBZRDP-"
      },
      "source": [
        "### #Links - Ciência dos Dados <a href=\"https://linktr.ee/cienciadosdados\">https://linktr.ee/cienciadosdados</a>"
      ]
    },
    {
      "cell_type": "markdown",
      "metadata": {
        "id": "ThxYRK6DfJ3f"
      },
      "source": [
        "### #YouTube - Mais Aulas como essa no YouTube <a href=\"https://www.youtube.com/watch?v=IaIc5oHd3II&t=1569s\">https://www.youtube.com/watch?v=IaIc5oHd3II&t=1569s</a>"
      ]
    },
    {
      "cell_type": "code",
      "metadata": {
        "id": "_pg8zEm-Nv6Y",
        "colab": {
          "base_uri": "https://localhost:8080/",
          "height": 241
        },
        "outputId": "a9700443-244a-4579-d051-430c94c35fa9"
      },
      "source": [
        "from IPython.core.display import HTML\n",
        "HTML('<iframe width=\"380\" height=\"200\" src=\"https://www.youtube.com/embed/W9iktBS67Iw\" frameborder=\"0\" allow=\"accelerometer; autoplay; clipboard-write; encrypted-media; gyroscope; picture-in-picture\" allowfullscreen></iframe>')"
      ],
      "execution_count": null,
      "outputs": [
        {
          "output_type": "execute_result",
          "data": {
            "text/html": [
              "<iframe width=\"380\" height=\"200\" src=\"https://www.youtube.com/embed/W9iktBS67Iw\" frameborder=\"0\" allow=\"accelerometer; autoplay; clipboard-write; encrypted-media; gyroscope; picture-in-picture\" allowfullscreen></iframe>"
            ],
            "text/plain": [
              "<IPython.core.display.HTML object>"
            ]
          },
          "metadata": {
            "tags": []
          },
          "execution_count": 28
        }
      ]
    }
  ]
}