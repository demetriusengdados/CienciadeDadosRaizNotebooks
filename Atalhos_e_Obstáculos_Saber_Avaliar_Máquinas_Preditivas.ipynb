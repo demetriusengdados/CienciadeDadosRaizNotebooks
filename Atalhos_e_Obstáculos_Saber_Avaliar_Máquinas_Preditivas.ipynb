{
  "nbformat": 4,
  "nbformat_minor": 0,
  "metadata": {
    "colab": {
      "name": "Atalhos e Obstáculos - Saber Avaliar Máquinas_Preditivas.ipynb",
      "provenance": [],
      "collapsed_sections": [
        "wWEY0JpXWsqz",
        "GB2XctSi-eMF",
        "C4MD7an0AKgP",
        "PCXhvU3IAd6s",
        "OunCxu9TVeVf",
        "rVoQ9w_nBOVU",
        "gyoeTc0iE0Ni",
        "D3ZEG1iPFsMP"
      ]
    },
    "kernelspec": {
      "name": "python3",
      "display_name": "Python 3"
    }
  },
  "cells": [
    {
      "cell_type": "markdown",
      "metadata": {
        "id": "A1eaRA1fD2PW"
      },
      "source": [
        "![alt text](https://encrypted-tbn0.gstatic.com/images?q=tbn%3AANd9GcTK4gQ9nhwHHaSXMHpeggWg7twwMCgb877smkRmtkmDeDoGF9Z6&usqp=CAU)"
      ]
    },
    {
      "cell_type": "markdown",
      "metadata": {
        "id": "HoFFYsXPQUcZ"
      },
      "source": [
        "![alt text](https://cienciadosdados.com/images/2021/Atalhos_e_Obstculos.png)"
      ]
    },
    {
      "cell_type": "markdown",
      "metadata": {
        "id": "X99hrqWxU_B5"
      },
      "source": [
        "# <font color='Blue'>Atalhos</font>\r\n",
        "\r\n",
        "##Entender como as Máquinas Preditivas são avaliadas. \r\n",
        "\r\n"
      ]
    },
    {
      "cell_type": "markdown",
      "metadata": {
        "id": "fOm97g_V9Mlw"
      },
      "source": [
        "# **Anteriormente**..."
      ]
    },
    {
      "cell_type": "markdown",
      "metadata": {
        "id": "wWEY0JpXWsqz"
      },
      "source": [
        "## **Live 1** - <font color='Blue'>Atalho</font>: Saber o que faz um Cientista de Dados"
      ]
    },
    {
      "cell_type": "markdown",
      "metadata": {
        "id": "N9GCIQ6p9-dn"
      },
      "source": [
        "* Saber o que faz um Cientista de Dados\r\n",
        "\r\n",
        "    ==> Entender que **não precisa ser PhD** em todos os tópicos para ser Cientista de Dados\r\n",
        "\r\n",
        "    ==> Precisa **saber quais as habilidades** necessárias e focar nelas..."
      ]
    },
    {
      "cell_type": "markdown",
      "metadata": {
        "id": "GB2XctSi-eMF"
      },
      "source": [
        "## **Live 2** - Obstáculo: Achar que Precisa Conhecer Profundamente tudo sobre Ciência de Dados"
      ]
    },
    {
      "cell_type": "markdown",
      "metadata": {
        "id": "VdBX__lH-l05"
      },
      "source": [
        "* Achar que Precisa Conhecer Profundamente tudo sobre Ciência de Dados\r\n",
        "\r\n",
        "    ==> Entender que **não precisa ser PhD** em todos os tópicos para ser Cientista de Dados\r\n",
        "\r\n",
        "    ==> Precisa **saber quais as habilidades** necessárias e focar nelas..."
      ]
    },
    {
      "cell_type": "markdown",
      "metadata": {
        "id": "C4MD7an0AKgP"
      },
      "source": [
        "## **Live 3** - <font color='Blue'>Atalho</font>: Entender qual é o caminho a percorrer para ser um Cientista de Dados"
      ]
    },
    {
      "cell_type": "markdown",
      "metadata": {
        "id": "PCXhvU3IAd6s"
      },
      "source": [
        "==> **Entender qual é o caminho** a percorrer para ser um Cientista de Dados\r\n",
        "\r\n",
        "==> Seguir o GPS - Focar na sua ROMA\r\n",
        "\r\n",
        "### Passo 1: Buscar Skills Básicas\r\n",
        "### Passo 2: Aprender usar as Ferramentas Necessárias (somente elas)\r\n",
        "### Passo 3: Aprender a Construir Máquinas Preditivas\r\n",
        "### Passo 4: Implementar Máquinas Preditivas\r\n",
        "### Passo 5: Never Stop Learning - Seja curioso e Organizado"
      ]
    },
    {
      "cell_type": "markdown",
      "metadata": {
        "id": "5SSpkBDHAHST"
      },
      "source": [
        "![alt text](https://i.pinimg.com/originals/8e/04/80/8e0480ac5b45a68c6da54464419959ab.gif)\r\n",
        "\r\n",
        "\r\n"
      ]
    },
    {
      "cell_type": "markdown",
      "metadata": {
        "id": "oQWGQgV0BguP"
      },
      "source": [
        "https://www.mindmeister.com/1746049667"
      ]
    },
    {
      "cell_type": "markdown",
      "metadata": {
        "id": "OunCxu9TVeVf"
      },
      "source": [
        "## **Live 4** - Obstáculo: Ficar Fuçando e Seguindo todas as fontes na WEB"
      ]
    },
    {
      "cell_type": "markdown",
      "metadata": {
        "id": "Qh3hxgwlwZ67"
      },
      "source": [
        "**Obstáculo invisível**: Vc pensa que está buscando clareza, mas está se confundindo mais...\r\n",
        "\r\n",
        "===> Pense na ROMA. Mas, o foco é no Próximo Passo!"
      ]
    },
    {
      "cell_type": "markdown",
      "metadata": {
        "id": "rVoQ9w_nBOVU"
      },
      "source": [
        "## **Live 5** - <font color='Blue'>Atalho</font> Entender quais são as <font color='Blue'>Ferramentas Necessárias</font> para o Cientista de Dados.\r\n"
      ]
    },
    {
      "cell_type": "markdown",
      "metadata": {
        "id": "-ZiaxE3IV0Ys"
      },
      "source": [
        "![](https://blog.mackenzie.br/content/images/2020/09/giphy-1.gif)\r\n",
        "\r\n",
        "![](https://cio.com.br/wp-content/uploads/2019/10/ciencia-de-dados.jpg)\r\n",
        "\r\n",
        "\r\n"
      ]
    },
    {
      "cell_type": "markdown",
      "metadata": {
        "id": "jFyOe0KCpgTm"
      },
      "source": [
        "## **Live 6** - Obstáculo: Não acreditar que vai conseguir Fazer a  <font color='Blue'>Análise dos Dados.</font> "
      ]
    },
    {
      "cell_type": "markdown",
      "metadata": {
        "id": "gyoeTc0iE0Ni"
      },
      "source": [
        "## **Live 7** - <font color='Blue'>Atalho</font> : Aprender a <font color='Blue'>Pré-Processar</font> Dados."
      ]
    },
    {
      "cell_type": "markdown",
      "metadata": {
        "id": "bjsKNP0kw5ym"
      },
      "source": [
        "![](https://cdn.lowgif.com/small/6327efb5e997a590-.gif)\r\n",
        "\r\n"
      ]
    },
    {
      "cell_type": "markdown",
      "metadata": {
        "id": "D3ZEG1iPFsMP"
      },
      "source": [
        "## **Live 8** - Obstáculo: Acreditar que não consegue <font color='black'>Construir de Máquinas Preditivas</font>\r\n"
      ]
    },
    {
      "cell_type": "markdown",
      "metadata": {
        "id": "hP9f2ab0LDDY"
      },
      "source": [
        "### 1° Nossa! Esse trem é **difícil** demais....\r\n",
        "\r\n",
        "==> Para resolver isso de vez: \r\n",
        "\r\n",
        "- Ver casos práticos\r\n",
        "- Reveja\r\n",
        "- Refaça\r\n",
        "- Crie suas Próprias\r\n",
        "\r\n",
        "\r\n",
        "![](https://i.pinimg.com/originals/b3/31/6f/b3316fc13b503a31331bdf1542001171.gif) ![](https://oden.io/wp-content/uploads/2017/10/connected_factory.gif)"
      ]
    },
    {
      "cell_type": "markdown",
      "metadata": {
        "id": "b8VJ9tmQXIxQ"
      },
      "source": [
        "## **Live 9** - <font color='Blue'>Atalho</font> : Entender como <font color='Blue'>Avaliar</font> Máquinas Preditivas.\r\n",
        "\r\n",
        "==> Se vc sabe como avaliar Máquinas Preditivas vc entende atalhos para construí-las!\r\n"
      ]
    },
    {
      "cell_type": "markdown",
      "metadata": {
        "id": "xiGKVqS-oOpy"
      },
      "source": [
        "![](https://thatto.com.br/wp-content/uploads/2019/10/KPI.gif)\r\n",
        "\r\n",
        "![](https://academy.vcsis.com.br/wp-content/uploads/2014/02/melhores-plugins-03.gif)"
      ]
    },
    {
      "cell_type": "markdown",
      "metadata": {
        "id": "FjDVsaoMKg99"
      },
      "source": [
        "### Overview do Pipeline da Ciência de Dados\r\n",
        "\r\n",
        "![](https://cienciadosdados.com/images/2021/Design_sem_nome_10.png)"
      ]
    },
    {
      "cell_type": "markdown",
      "metadata": {
        "id": "-n-kai1Goobi"
      },
      "source": [
        "# **<font color='Blue'>Tipo de Problema</font>**\r\n",
        "\r\n",
        "\r\n",
        "*   As Máquinas Preditivas são Avaliadas de acordo com o tipo de Problema que vc está resolvendo. Por ex: \r\n",
        "\r\n",
        "    - Regressão\r\n",
        "\r\n",
        "    - Classificação\r\n",
        "\r\n",
        "    - Clusterização\r\n",
        "\r\n"
      ]
    },
    {
      "cell_type": "markdown",
      "metadata": {
        "id": "dJjScQ83aJmS"
      },
      "source": [
        "![](https://endomarketing.tv/wp-content/uploads/2017/08/endomarketing-progic-7-exemplos-de-gest%C3%A3o-a-vista-na-tv-corporativa-712x350.gif)\r\n",
        "\r\n",
        "\r\n",
        "\r\n",
        "\r\n"
      ]
    },
    {
      "cell_type": "markdown",
      "metadata": {
        "id": "arPBLSd2pRF4"
      },
      "source": [
        "### **Métricas de Avaliação para Problemas de <font color='Blue'>Classificação</font>**"
      ]
    },
    {
      "cell_type": "markdown",
      "metadata": {
        "id": "PTFONOj_pbpG"
      },
      "source": [
        "### **Acurácia**\r\n",
        "\r\n",
        "Esta é a métrica mais simples. É basicamente o número de acertos (positivos) divido pelo número total de exemplos. Ela deve ser usada em datasets com a mesma proporção de exemplos para cada classe, e quando as penalidades de acerto e erro para cada classe forem as mesmas.\r\n",
        "\r\n",
        "Em problemas com classes desproporcionais, ela causa uma falsa impressão de bom desempenho. Por exemplo, num dataset em que 80% dos exemplos pertençam a uma classe, só de classificar todos os exemplos naquela classe já se atinge uma precisão de 80%, mesmo que todos os exemplos da outra classe estejam classificados incorretamente.\r\n",
        "\r\n",
        "![](https://cdn.analyticsvidhya.com/wp-content/uploads/2020/04/Basic-Confusion-matrix.png)\r\n",
        "\r\n",
        "![](https://miro.medium.com/max/631/1*uo87knJFX2DGmoXQ8-ltAw.png)"
      ]
    },
    {
      "cell_type": "markdown",
      "metadata": {
        "id": "-S5i0ZHsqGp8"
      },
      "source": [
        "###  **Confusion Matrix**\r\n",
        "\r\n",
        "![](https://miro.medium.com/max/2102/1*fxiTNIgOyvAombPJx5KGeA.png)"
      ]
    },
    {
      "cell_type": "code",
      "metadata": {
        "colab": {
          "base_uri": "https://localhost:8080/",
          "height": 220
        },
        "id": "Wsm3y7WeYIUW",
        "outputId": "0a3fc899-187c-481b-a64a-e8282f2b81a0"
      },
      "source": [
        "from IPython.core.display import HTML\r\n",
        "HTML('<iframe width=\"300\" height=\"538\" src=\"https://www.youtube.com/embed/s4HlDv1AhgU?list=PLeR2Gm6UuDXqfF3xaBZQJcf63x6Pij1RB\" frameborder=\"0\" allow=\"accelerometer; autoplay; clipboard-write; encrypted-media; gyroscope; picture-in-picture\" allowfullscreen></iframe>')"
      ],
      "execution_count": 4,
      "outputs": [
        {
          "output_type": "execute_result",
          "data": {
            "text/html": [
              "<iframe width=\"300\" height=\"200\" src=\"https://www.youtube.com/embed/s4HlDv1AhgU?list=PLeR2Gm6UuDXqfF3xaBZQJcf63x6Pij1RB\" frameborder=\"0\" allow=\"accelerometer; autoplay; clipboard-write; encrypted-media; gyroscope; picture-in-picture\" allowfullscreen></iframe>"
            ],
            "text/plain": [
              "<IPython.core.display.HTML object>"
            ]
          },
          "metadata": {
            "tags": []
          },
          "execution_count": 4
        }
      ]
    },
    {
      "cell_type": "markdown",
      "metadata": {
        "id": "TbWSuZ7lplP4"
      },
      "source": [
        "### **Precision**\r\n",
        "\r\n",
        "Precision ou precisão, também conhecida como Valor Preditivo Positivo (VPP), é a métrica que traz a informação da quantidade de observações classificadas como positiva (1) que realmente são positiva. Ou seja, entre todas as observações identificadas como positivas (1), quantas foram identificadas corretamente.\r\n",
        "\r\n",
        "Por exemplo: entre os pacientes classificados como doentes, quantos foram identificados corretamente.\r\n",
        "\r\n",
        "![](https://www.flai.com.br/wp-content/uploads/2020/07/precision-1024x405.png)"
      ]
    },
    {
      "cell_type": "markdown",
      "metadata": {
        "id": "LMiLieLIpzLC"
      },
      "source": [
        "### **Recall**\r\n",
        "\r\n",
        "Recall ou Sensibilidade é a proporção dos Verdadeiros Positivos entre todas as observações que realmente são positivas no seu conjunto de dados.  Ou seja, entre todas as observações que são positivas quantas o modelo conseguiu identificar como positiva. Representa a capacidade de um modelo em prever a classe positiva.\r\n",
        "\r\n",
        "Por exemplo: dentre todos os pacientes doentes, quantos pacientes o modelo conseguiu identificar corretamente.\r\n",
        "\r\n",
        "![](https://www.flai.com.br/wp-content/uploads/2020/07/recall-768x326.png)"
      ]
    },
    {
      "cell_type": "markdown",
      "metadata": {
        "id": "ePiLnNwOp4XF"
      },
      "source": [
        "### **F1 - Score**\r\n",
        "\r\n",
        "F1-Score é a média harmônica entre o recall e a precisão (precision).  Utilizada quando temos classes desbalanceada.\r\n",
        "\r\n",
        "![](https://www.flai.com.br/wp-content/uploads/2020/07/f1-768x123.png)"
      ]
    },
    {
      "cell_type": "markdown",
      "metadata": {
        "id": "sjVf0Lg6u3qE"
      },
      "source": [
        "![](https://s3-us-west-2.amazonaws.com/fasow/26672/imagens/15937147295efe2829eafcd.gif)"
      ]
    },
    {
      "cell_type": "markdown",
      "metadata": {
        "id": "Q9ZOViAQp8fU"
      },
      "source": [
        "###**AUC_ROC**\r\n",
        "\r\n",
        "![](https://miro.medium.com/max/1028/1*tMIpJr1H84Pdb1-UxtCbCw.gif)\r\n",
        "* Componentes da Curva ROC \r\n",
        "\r\n",
        "    - Sensibilidade  - (TPR), \r\n",
        "\r\n",
        "    - FPR            - (taxa de Falso Positivo), \r\n",
        "\r\n",
        "    - Especificidade - (taxa de verdadeiro Negativo)  \r\n",
        "\r\n",
        "    - FNR            - (Taxa de Falso Negativo)"
      ]
    },
    {
      "cell_type": "code",
      "metadata": {
        "colab": {
          "base_uri": "https://localhost:8080/",
          "height": 220
        },
        "id": "RGsHigPvYI3_",
        "outputId": "5b048f13-812c-41d5-b1dd-234273a004ae"
      },
      "source": [
        "from IPython.core.display import HTML\r\n",
        "HTML('<iframe width=\"300\" height=\"200\" src=\"https://www.youtube.com/embed/5-XvpQOlesk?list=PLeR2Gm6UuDXqfF3xaBZQJcf63x6Pij1RB\" frameborder=\"0\" allow=\"accelerometer; autoplay; clipboard-write; encrypted-media; gyroscope; picture-in-picture\" allowfullscreen></iframe>')"
      ],
      "execution_count": 3,
      "outputs": [
        {
          "output_type": "execute_result",
          "data": {
            "text/html": [
              "<iframe width=\"300\" height=\"200\" src=\"https://www.youtube.com/embed/5-XvpQOlesk?list=PLeR2Gm6UuDXqfF3xaBZQJcf63x6Pij1RB\" frameborder=\"0\" allow=\"accelerometer; autoplay; clipboard-write; encrypted-media; gyroscope; picture-in-picture\" allowfullscreen></iframe>"
            ],
            "text/plain": [
              "<IPython.core.display.HTML object>"
            ]
          },
          "metadata": {
            "tags": []
          },
          "execution_count": 3
        }
      ]
    },
    {
      "cell_type": "markdown",
      "metadata": {
        "id": "3wJl47oJvAD0"
      },
      "source": [
        "![](https://cdn.analyticsvidhya.com/wp-content/uploads/2020/04/Basic-Confusion-matrix.png)"
      ]
    },
    {
      "cell_type": "markdown",
      "metadata": {
        "id": "PKNa6dpbDA1p"
      },
      "source": [
        "##TPR (taxa de verdadeiro positivo)/  Sentitividade ou   Recall"
      ]
    },
    {
      "cell_type": "markdown",
      "metadata": {
        "id": "k7XhE9d4DRoB"
      },
      "source": [
        "![alt text](https://cdn.analyticsvidhya.com/wp-content/uploads/2020/06/sensitivity.gif)"
      ]
    },
    {
      "cell_type": "markdown",
      "metadata": {
        "id": "dSE0hrK6vOCe"
      },
      "source": [
        "![](https://cdn.analyticsvidhya.com/wp-content/uploads/2020/04/Basic-Confusion-matrix.png)"
      ]
    },
    {
      "cell_type": "markdown",
      "metadata": {
        "id": "RjOEIPLODlrD"
      },
      "source": [
        "##FPR (taxa de falso positivo)"
      ]
    },
    {
      "cell_type": "markdown",
      "metadata": {
        "id": "R2FPGNxPDtsL"
      },
      "source": [
        "![alt text](https://cdn.analyticsvidhya.com/wp-content/uploads/2020/06/FPR.gif)"
      ]
    },
    {
      "cell_type": "markdown",
      "metadata": {
        "id": "xU23Sh22FJEV"
      },
      "source": [
        "### Especificidade"
      ]
    },
    {
      "cell_type": "markdown",
      "metadata": {
        "id": "dTyxgYDCFPJP"
      },
      "source": [
        "![alt text](https://cdn.analyticsvidhya.com/wp-content/uploads/2020/06/Specificity.gif)"
      ]
    },
    {
      "cell_type": "markdown",
      "metadata": {
        "id": "2g0ggb5QvmTy"
      },
      "source": [
        "### **Métricas de Avaliação para Problemas de <font color='Blue'>Regressão</font>**"
      ]
    },
    {
      "cell_type": "markdown",
      "metadata": {
        "id": "SRIy2wLzvsZS"
      },
      "source": [
        "Neste parte estão as funções mais comuns utilizadas para avaliar o desempenho de modelos de regressão. Na regressão buscamos prever um valor numérico, como, por exemplo, as vendas de uma empresa para o próximo mês. "
      ]
    },
    {
      "cell_type": "markdown",
      "metadata": {
        "id": "wwAQ8xQTxoWm"
      },
      "source": [
        "![](https://machinelearning101.readthedocs.io/en/latest/_images/figure_03.gif)"
      ]
    },
    {
      "cell_type": "markdown",
      "metadata": {
        "id": "vN74-P8yv9oV"
      },
      "source": [
        "### **Mean Squared Error - MSE**"
      ]
    },
    {
      "cell_type": "markdown",
      "metadata": {
        "id": "AJCPdinWwIDP"
      },
      "source": [
        "Talvez seja a mais utilizada, esta função calcula a **média dos erros do modelo ao quadrado**. Ou seja, diferenças menores têm menos importância, enquanto diferenças maiores recebem mais peso.\r\n",
        "\r\n"
      ]
    },
    {
      "cell_type": "markdown",
      "metadata": {
        "id": "fWRyAGkux1L6"
      },
      "source": [
        "![](https://www.cs.toronto.edu/~frossard/post/multiple_linear_regression/multiple_lreg.gif)"
      ]
    },
    {
      "cell_type": "markdown",
      "metadata": {
        "id": "Q8VQud_-wUtj"
      },
      "source": [
        "### **RMSE**\r\n",
        "\r\n",
        "O Root Mean Squared Error. Ele é simplesmente a raiz quadrada do primeiro. Neste caso, o erro volta a ter as unidades de medida originais da variável dependente. Quanto menor melhor."
      ]
    },
    {
      "cell_type": "markdown",
      "metadata": {
        "id": "BxM8E9muyFSB"
      },
      "source": [
        "![](https://raw.githubusercontent.com/isaiahnields/machine-learning-models/master/demos/results/linear_regression_train.gif)"
      ]
    },
    {
      "cell_type": "markdown",
      "metadata": {
        "id": "WcHczxrEwedy"
      },
      "source": [
        "###**Mean Absolute Error - MAE**"
      ]
    },
    {
      "cell_type": "markdown",
      "metadata": {
        "id": "d_hwLxHYwpfo"
      },
      "source": [
        "Bastante parecido com MSE, em vez de elevar a diferença entre a previsão do modelo, e o valor real, ao quadrado, ele **toma o valor absoluto**. Neste caso, em vez de atribuir um peso de acordo com a magnitude da diferença, ele atribui o mesmo peso a todas as diferenças, de maneira linear."
      ]
    },
    {
      "cell_type": "markdown",
      "metadata": {
        "id": "tFyvJRsAyx6b"
      },
      "source": [
        "![](https://miro.medium.com/max/1728/1*CjTBNFUEI_IokEOXJ00zKw.gif)"
      ]
    },
    {
      "cell_type": "markdown",
      "metadata": {
        "id": "3yVCfLCizmgj"
      },
      "source": [
        "### **Métricas de Avaliação para Problemas de <font color='Blue'>Clusterização</font>**"
      ]
    },
    {
      "cell_type": "markdown",
      "metadata": {
        "id": "2ILDbvsVzo76"
      },
      "source": [
        "### **silhouette_score**\r\n",
        "\r\n",
        "O Coeficiente Silhouette é calculado usando a distância média intra-cluster ( a) e a distância média do cluster mais próximo ( b) para cada amostra.\r\n",
        "\r\n",
        "O melhor valor é 1 e o pior valor é -1. Valores próximos a 0 indicam clusters sobrepostos. Valores negativos geralmente indicam que uma amostra foi atribuída ao cluster errado, pois um cluster diferente é mais semelhante."
      ]
    },
    {
      "cell_type": "markdown",
      "metadata": {
        "id": "hsD6CJ9n2Fhd"
      },
      "source": [
        "![](https://scikit-learn.org/stable/_images/sphx_glr_plot_affinity_propagation_001.png)"
      ]
    },
    {
      "cell_type": "code",
      "metadata": {
        "colab": {
          "base_uri": "https://localhost:8080/",
          "height": 221
        },
        "id": "NDQ5TYkN1or_",
        "outputId": "a8d1f98a-857d-4c98-92b1-dea4936ffd25"
      },
      "source": [
        "from IPython.core.display import HTML\r\n",
        "HTML('<iframe width=\"300\" height=\"200\" src=\"https://www.youtube.com/embed/PL7ehge24Ak\" frameborder=\"0\" allow=\"accelerometer; autoplay; clipboard-write; encrypted-media; gyroscope; picture-in-picture\" allowfullscreen></iframe>')"
      ],
      "execution_count": 6,
      "outputs": [
        {
          "output_type": "execute_result",
          "data": {
            "text/html": [
              "<iframe width=\"300\" height=\"200\" src=\"https://www.youtube.com/embed/PL7ehge24Ak\" frameborder=\"0\" allow=\"accelerometer; autoplay; clipboard-write; encrypted-media; gyroscope; picture-in-picture\" allowfullscreen></iframe>"
            ],
            "text/plain": [
              "<IPython.core.display.HTML object>"
            ]
          },
          "metadata": {
            "tags": []
          },
          "execution_count": 6
        }
      ]
    },
    {
      "cell_type": "markdown",
      "metadata": {
        "id": "xWpkAf11w3Vs"
      },
      "source": [
        "### **Métricas Personalisadas**"
      ]
    },
    {
      "cell_type": "markdown",
      "metadata": {
        "id": "UmzJR_Dgw60n"
      },
      "source": [
        "Em alguns casos, o ideal é usar uma métrica que tenha um significado específico para a tarefa em questão. \r\n",
        "\r\n",
        "Por exemplo, na segmentação de anúncios, **a taxa de cliques**; num sistema para comprar e vender ações, verificar o **retorno médio**. \r\n",
        "\r\n",
        "**==> Observação Importante**:\r\n",
        "\r\n",
        "As métricas acima são importantes e podem ser utilizadas de maneira geral, mas se houver uma alternativa melhor, mais adequada ao contexto, ela deve ser utilizada.\r\n",
        "\r\n"
      ]
    },
    {
      "cell_type": "markdown",
      "metadata": {
        "id": "9gVJ-DH8zBRF"
      },
      "source": [
        "![](https://storage.googleapis.com/gweb-uniblog-publish-prod/original_images/2019-07-31.gif)"
      ]
    },
    {
      "cell_type": "markdown",
      "metadata": {
        "id": "9tV7VjRqWyxM"
      },
      "source": [
        "#FIM!\r\n"
      ]
    },
    {
      "cell_type": "code",
      "metadata": {
        "colab": {
          "base_uri": "https://localhost:8080/",
          "height": 320
        },
        "id": "wyiem91BwSpq",
        "outputId": "48d10bb3-a9a2-4ae5-ab0d-148cb46bb066"
      },
      "source": [
        "from IPython.core.display import HTML\r\n",
        "HTML('<iframe width=\"500\" height=\"300\" src=\"https://www.youtube.com/embed/VTO0v3X1H1c\" frameborder=\"0\" allow=\"accelerometer; autoplay; clipboard-write; encrypted-media; gyroscope; picture-in-picture\" allowfullscreen></iframe>')"
      ],
      "execution_count": null,
      "outputs": [
        {
          "output_type": "execute_result",
          "data": {
            "text/html": [
              "<iframe width=\"500\" height=\"300\" src=\"https://www.youtube.com/embed/VTO0v3X1H1c\" frameborder=\"0\" allow=\"accelerometer; autoplay; clipboard-write; encrypted-media; gyroscope; picture-in-picture\" allowfullscreen></iframe>"
            ],
            "text/plain": [
              "<IPython.core.display.HTML object>"
            ]
          },
          "metadata": {
            "tags": []
          },
          "execution_count": 12
        }
      ]
    },
    {
      "cell_type": "markdown",
      "metadata": {
        "id": "ZtqQ16OFmDNb"
      },
      "source": [
        "#SIMBÓRA e OBRIGADO!!\r\n",
        "\r\n",
        "\r\n",
        "\r\n"
      ]
    }
  ]
}