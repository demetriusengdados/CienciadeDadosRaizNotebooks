{
  "nbformat": 4,
  "nbformat_minor": 0,
  "metadata": {
    "colab": {
      "name": "Fintech Escondida em Aplicativos de Aluguel de Bikes.ipynb",
      "provenance": [],
      "collapsed_sections": []
    },
    "kernelspec": {
      "name": "python3",
      "display_name": "Python 3"
    }
  },
  "cells": [
    {
      "cell_type": "markdown",
      "metadata": {
        "id": "A1eaRA1fD2PW"
      },
      "source": [
        "![alt text](https://encrypted-tbn0.gstatic.com/images?q=tbn%3AANd9GcTK4gQ9nhwHHaSXMHpeggWg7twwMCgb877smkRmtkmDeDoGF9Z6&usqp=CAU)"
      ]
    },
    {
      "cell_type": "markdown",
      "metadata": {
        "id": "xpmZHxI0D2PX"
      },
      "source": [
        "# <font color='PURPLE'>Ciência dos Dados na Prática</font>\n",
        "\n",
        "# <font color='GREY'> Uma **Fintech** Disfarçada</font>\n"
      ]
    },
    {
      "cell_type": "markdown",
      "metadata": {
        "id": "e1cKdtvmaw0L"
      },
      "source": [
        "![](https://thumbs.gfycat.com/EachAgedBlackbird-small.gif)\r\n",
        "![](https://s3-us-west-2.amazonaws.com/medici-prod/root/Medici/public/uploads/custom1_fintech-a-new-frontier-for-smartphone-manufacturers.gif?1607010785)"
      ]
    },
    {
      "cell_type": "markdown",
      "metadata": {
        "id": "JZIecOwAZIyK"
      },
      "source": [
        "#1° Problema de Negócio"
      ]
    },
    {
      "cell_type": "markdown",
      "metadata": {
        "id": "bSnbz-cGV68S"
      },
      "source": [
        "Precisamos **Prever a demanda de aluguel de bicicletas em cada estação** do programa de compartilhamento de bicicletas, da Capital Share, em Washington, DC com base em padrões históricos de uso em relação ao clima, tempo e outros dados.\r\n",
        "\r\n",
        "\r\n",
        "\r\n",
        "\r\n",
        "##### <font color='blue'> **Capital Bikeshare** </font>\r\n",
        "![](https://d21xlh2maitm24.cloudfront.net/wdc/CaBi-how-it-works-hero2.jpg?mtime=20161114171736)\r\n",
        "\r\n",
        "https://www.capitalbikeshare.com/system-data\r\n",
        "\r\n",
        "## **Como funciona esse Serviço**\r\n",
        "Usando esses sistemas de compartilhamento de bicicletas, as pessoas alugam uma bicicleta em um local e a devolvem em um local diferente ou no mesmo local conforme a necessidade.\r\n",
        "\r\n",
        " As pessoas podem alugar uma bicicleta por meio de assinatura (principalmente usuários regulares) ou sob demanda (principalmente usuários casuais). Este processo é controlado por uma rede de quiosques automatizados espalhados pela cidade.\r\n",
        "\r\n",
        " "
      ]
    },
    {
      "cell_type": "markdown",
      "metadata": {
        "id": "ghDTj6bjRvWJ"
      },
      "source": [
        "##**Benefícios para os Clientes**\r\n",
        "\r\n",
        "* Nove em cada dez disseram que aderiram à Capital Bikeshare para se **locomover com mais facilidade** e rapidamente.\r\n",
        "* 56% dos entrevistado escolheu bikeshare porque era uma **maneira mais rápida** ou fácil de chegar ao seu destino\r\n",
        "* Os entrevistados relataram uma **economia média de U$ 631 por  ano** em custos de transporte pessoal como resultado do uso de bicicletas compartilhadas.\r\n"
      ]
    },
    {
      "cell_type": "markdown",
      "metadata": {
        "id": "5mUOgtAnRgUj"
      },
      "source": [
        "Capital Bikeshare\r\n",
        "![](https://d21xlh2maitm24.cloudfront.net/wdc/CaBi-how-it-works-hero2.jpg?mtime=20161114171736)\r\n",
        "\r\n",
        "https://www.capitalbikeshare.com/system-data"
      ]
    },
    {
      "cell_type": "markdown",
      "metadata": {
        "id": "AAtZWWbct2AX"
      },
      "source": [
        "![](https://cienciadosdados.com/images/2021/Fintech/tempo.png)\r\n",
        "![](https://cienciadosdados.com/images/2021/Fintech/money.png)\r\n",
        "![](https://cienciadosdados.com/images/2021/Fintech/fun.png)\r\n",
        "![](https://cienciadosdados.com/images/2021/Fintech/fit.png)\r\n",
        "![](https://cienciadosdados.com/images/2021/Fintech/forest.png)\r\n"
      ]
    },
    {
      "cell_type": "markdown",
      "metadata": {
        "id": "7ofzhXdEUIRS"
      },
      "source": [
        "# Clube de vantagens\r\n",
        "\r\n",
        "https://www.capitalbikeshare.com/how-it-works/perks\r\n",
        "\r\n",
        "![](https://cienciadosdados.com/images/2021/Fintech/club.png)\r\n",
        "![](https://cienciadosdados.com/images/2021/Fintech/clubzip.png)\r\n",
        "![](https://cienciadosdados.com/images/2021/Fintech/club_hausera.png)"
      ]
    },
    {
      "cell_type": "markdown",
      "metadata": {
        "id": "EEOjTi0owv-l"
      },
      "source": [
        "## **Onde a Fintech está \"Escondida\"**?"
      ]
    },
    {
      "cell_type": "markdown",
      "metadata": {
        "id": "HEAY1GJ_J7Z_"
      },
      "source": [
        "##O Business verdadeiro são os \"**DADOS**\"\r\n",
        "![](https://media.giphy.com/media/9A3txOMywgh87PCf5o/giphy.gif)\r\n",
        "\r\n",
        "Por meio do aplicativo bikeshare, a empresa obtém, de forma TOTALMENTE ÍNTEGRA, seus dados sobre:\r\n",
        "\r\n",
        "1° **localização** (conhece sua rotina, seu trajeto);\r\n",
        "\r\n",
        "2° **transações** **financeiras** (sabe qual é a bandeira do seu cartão, seu rating/pelo tipo do cartao - não é qq um que usa um infinite);\r\n",
        "\r\n",
        "3° **Google** ou **Facebook**(por meio do google vc encontra seus clientes de forma direta);\r\n",
        "\r\n",
        "4° **Clube de vantagens** (parceiros - ao usar 10 vc ganha x pontos para comprar na loja XyZ);\r\n",
        "\r\n",
        "5° Angariar novos **Clientes**;\r\n",
        "\r\n",
        "6° **Recorrencia** (planos mensais, anuais);\r\n",
        "\r\n",
        "7° **Programa de Parcerias para Oferecer** conta corrente, investimentos, seguro, (em realtime).\r\n",
        "\r\n",
        "\r\n",
        "\r\n",
        "\r\n",
        "\r\n",
        "\r\n"
      ]
    },
    {
      "cell_type": "markdown",
      "metadata": {
        "id": "8gcPhBPIxdMv"
      },
      "source": [
        "**Observação:**\r\n",
        "\r\n",
        "Ao contrário de outros serviços de transporte, como ônibus ou metrô, a duração da viagem, posição de partida e chegada é explicitamente registrada nesses sistemas.\r\n",
        "\r\n",
        "Este recurso transforma o sistema de compartilhamento de bicicletas em uma rede de **sensores virtual** que pode ser usada para **detectar a mobilidade na cidade.** \r\n",
        "\r\n",
        "Portanto, espera-se que **a maioria dos eventos importantes na cidade possam ser detectados** por meio do monitoramento desses dados.\r\n"
      ]
    },
    {
      "cell_type": "markdown",
      "metadata": {
        "id": "m5cN2-KOzJZH"
      },
      "source": [
        "# 2° Análise Exploratória dos Dados"
      ]
    },
    {
      "cell_type": "markdown",
      "metadata": {
        "id": "iEnT6odZWFFn"
      },
      "source": [
        "#Sacada\r\n",
        "Antes de explorar os dados para entender a relação entre as variáveis, recomendo que você se concentre primeiro na geração de hipóteses. Bem, isso pode parecer contra-intuitivo para resolver um problema de ciência de dados, mas se há algo que aprendi ao longo dos anos, é isso. **Antes de explorar os dados, você deve passar algum tempo pensando sobre o problema do negócio, obtendo o conhecimento do domínio e pode estar ganhando experiência em primeira mão do problema**.\r\n",
        "\r\n",
        "## Como isso ajuda a resolver essa parada? \r\n",
        "Essa prática geralmente ajuda a construir o rol de variáveis para a máquina preditiva que porventura **não estejam nos disponíveis no conjunto de dados** (como faremos nesse Projeto). \r\n",
        "\r\n",
        "Nesta fase, espera-se que possua um pensamento estruturado, ou seja, um processo de pensamento que leva em consideração todos os aspectos possíveis de um problema específico.\r\n",
        "\r\n",
        "### Aqui estão **algumas das hipóteses** que eu pensei que poderiam influenciar a demanda de bicicletas:\r\n",
        "\r\n",
        "* **Tendência dos Horários:** deve haver alta demanda durante os horários de espediente tradicional. O início da manhã e o final da noite podem ter tendências diferentes e baixa demanda durante as 22h00 às 4h00.\r\n",
        "* **Tendência diária**: os  usuários registrados exigem mais bicicletas durante a semana do que no fim de semana ou feriado.\r\n",
        "* **Chuva**: A demanda por bicicletas será menor em um dia chuvoso em comparação com um dia ensolarado. Da mesma forma, maior umidade fará com que a demanda diminua e vice-versa.\r\n",
        "* **Temperatura**: A temperatura pode ter uma correlação positiva dependendo do local.\r\n",
        "* **Poluição**: Se o nível de poluição em uma cidade começar a aumentar, as pessoas podem começar a usar a bicicleta (pode ser influenciada por políticas governamentais / da empresa ou aumento da conscientização).\r\n",
        "* **Tempo**:  A demanda total deve ter uma contribuição maior de usuários registrados em comparação com os casuais porque a base de usuários registrados aumentaria com o tempo.\r\n",
        "***Tráfego**:  Ele  pode ser positivamente correlacionada com a demanda Bike. O tráfego intenso pode forçar as pessoas a usarem a bicicleta em comparação com outro meio de transporte rodoviário, como carro, táxi, etc."
      ]
    },
    {
      "cell_type": "markdown",
      "metadata": {
        "id": "SOwYi6_fzRk_"
      },
      "source": [
        "#3° Pré-Processamento dos Dados"
      ]
    },
    {
      "cell_type": "code",
      "metadata": {
        "id": "4YKpqx0vAyjG"
      },
      "source": [
        "### Importação de Bibliotecas\r\n",
        "import os\r\n",
        "import pandas as pd\r\n",
        "import numpy as np\r\n",
        "import seaborn as sns\r\n",
        "import matplotlib.pyplot as plt \r\n",
        "from sklearn.model_selection import train_test_split\r\n",
        "from sklearn.linear_model import LinearRegression\r\n",
        "from sklearn.tree import DecisionTreeRegressor\r\n",
        "from sklearn.metrics import mean_squared_error"
      ],
      "execution_count": 140,
      "outputs": []
    },
    {
      "cell_type": "markdown",
      "metadata": {
        "id": "2QY4O-xdUl1X"
      },
      "source": [
        "## Fonde de Dados - UCI\r\n",
        "http://archive.ics.uci.edu/ml/datasets/Bike+Sharing+Dataset"
      ]
    },
    {
      "cell_type": "code",
      "metadata": {
        "id": "uKtu6ht1BChh"
      },
      "source": [
        "### Conectar diretamente os dados na NUVEM do Github\r\n",
        "\r\n",
        "df_station = pd.read_csv('https://raw.githubusercontent.com/vidhi-am/tds_articles/master/AV_blogathon/Data_preparation_FeatureEngg/station_data.csv')\r\n",
        "df_trip = pd.read_csv('https://raw.githubusercontent.com/datacodebr/tds_articles/eb2066870dad7f2708f43cab1072982fe77c4ebf/AV_blogathon/Data_preparation_FeatureEngg/trip_data.csv')\r\n",
        "df_weather = pd.read_csv('https://raw.githubusercontent.com/vidhi-am/tds_articles/master/AV_blogathon/Data_preparation_FeatureEngg/weather_data.csv')"
      ],
      "execution_count": 141,
      "outputs": []
    },
    {
      "cell_type": "code",
      "metadata": {
        "id": "usnLwY2fA8PJ"
      },
      "source": [
        "#Visualisar a base de dados\r\n",
        "df_station"
      ],
      "execution_count": null,
      "outputs": []
    },
    {
      "cell_type": "code",
      "metadata": {
        "id": "da5QX3fVBIuz"
      },
      "source": [
        "#Visualisar a base de dados\r\n",
        "df_trip"
      ],
      "execution_count": null,
      "outputs": []
    },
    {
      "cell_type": "code",
      "metadata": {
        "id": "cZx9ilUHBVUy"
      },
      "source": [
        "#Visualisar a base de dados\r\n",
        "df_weather"
      ],
      "execution_count": null,
      "outputs": []
    },
    {
      "cell_type": "markdown",
      "metadata": {
        "id": "ILkMQZqCBBxK"
      },
      "source": [
        "### Análisando os dados da Estação"
      ]
    },
    {
      "cell_type": "code",
      "metadata": {
        "id": "BUQAUm1LBIGW"
      },
      "source": [
        "df_station.head()"
      ],
      "execution_count": null,
      "outputs": []
    },
    {
      "cell_type": "code",
      "metadata": {
        "id": "wFi3AqAwBLFe"
      },
      "source": [
        "\r\n",
        "df_station.shape"
      ],
      "execution_count": null,
      "outputs": []
    },
    {
      "cell_type": "code",
      "metadata": {
        "id": "j4eBXcTNBNGJ",
        "colab": {
          "base_uri": "https://localhost:8080/",
          "height": 402
        },
        "outputId": "8af8982d-d224-49c3-97dc-7ea07e6b28d0"
      },
      "source": [
        "\r\n",
        "### Vamos arredondar os dados de LAT e LONG pois vamos usá-los num JOIN para buscar o ZIP (codigo postal)\r\n",
        "df_station['Lat'] = np.round(df_station['Lat'], 1)\r\n",
        "df_station['Long'] = np.round(df_station['Long'], 1)\r\n",
        "df_station"
      ],
      "execution_count": 142,
      "outputs": [
        {
          "output_type": "execute_result",
          "data": {
            "text/html": [
              "<div>\n",
              "<style scoped>\n",
              "    .dataframe tbody tr th:only-of-type {\n",
              "        vertical-align: middle;\n",
              "    }\n",
              "\n",
              "    .dataframe tbody tr th {\n",
              "        vertical-align: top;\n",
              "    }\n",
              "\n",
              "    .dataframe thead th {\n",
              "        text-align: right;\n",
              "    }\n",
              "</style>\n",
              "<table border=\"1\" class=\"dataframe\">\n",
              "  <thead>\n",
              "    <tr style=\"text-align: right;\">\n",
              "      <th></th>\n",
              "      <th>Id</th>\n",
              "      <th>Name</th>\n",
              "      <th>Lat</th>\n",
              "      <th>Long</th>\n",
              "      <th>Dock Count</th>\n",
              "      <th>City</th>\n",
              "    </tr>\n",
              "  </thead>\n",
              "  <tbody>\n",
              "    <tr>\n",
              "      <th>0</th>\n",
              "      <td>2</td>\n",
              "      <td>San Jose Diridon Caltrain Station</td>\n",
              "      <td>37.3</td>\n",
              "      <td>-121.9</td>\n",
              "      <td>27</td>\n",
              "      <td>San Jose</td>\n",
              "    </tr>\n",
              "    <tr>\n",
              "      <th>1</th>\n",
              "      <td>3</td>\n",
              "      <td>San Jose Civic Center</td>\n",
              "      <td>37.3</td>\n",
              "      <td>-121.9</td>\n",
              "      <td>15</td>\n",
              "      <td>San Jose</td>\n",
              "    </tr>\n",
              "    <tr>\n",
              "      <th>2</th>\n",
              "      <td>4</td>\n",
              "      <td>Santa Clara at Almaden</td>\n",
              "      <td>37.3</td>\n",
              "      <td>-121.9</td>\n",
              "      <td>11</td>\n",
              "      <td>San Jose</td>\n",
              "    </tr>\n",
              "    <tr>\n",
              "      <th>3</th>\n",
              "      <td>5</td>\n",
              "      <td>Adobe on Almaden</td>\n",
              "      <td>37.3</td>\n",
              "      <td>-121.9</td>\n",
              "      <td>19</td>\n",
              "      <td>San Jose</td>\n",
              "    </tr>\n",
              "    <tr>\n",
              "      <th>4</th>\n",
              "      <td>6</td>\n",
              "      <td>San Pedro Square</td>\n",
              "      <td>37.3</td>\n",
              "      <td>-121.9</td>\n",
              "      <td>15</td>\n",
              "      <td>San Jose</td>\n",
              "    </tr>\n",
              "    <tr>\n",
              "      <th>...</th>\n",
              "      <td>...</td>\n",
              "      <td>...</td>\n",
              "      <td>...</td>\n",
              "      <td>...</td>\n",
              "      <td>...</td>\n",
              "      <td>...</td>\n",
              "    </tr>\n",
              "    <tr>\n",
              "      <th>71</th>\n",
              "      <td>77</td>\n",
              "      <td>Market at Sansome</td>\n",
              "      <td>37.8</td>\n",
              "      <td>-122.4</td>\n",
              "      <td>27</td>\n",
              "      <td>San Francisco</td>\n",
              "    </tr>\n",
              "    <tr>\n",
              "      <th>72</th>\n",
              "      <td>80</td>\n",
              "      <td>Santa Clara County Civic Center</td>\n",
              "      <td>37.4</td>\n",
              "      <td>-121.9</td>\n",
              "      <td>15</td>\n",
              "      <td>San Jose</td>\n",
              "    </tr>\n",
              "    <tr>\n",
              "      <th>73</th>\n",
              "      <td>82</td>\n",
              "      <td>Broadway St at Battery St</td>\n",
              "      <td>37.8</td>\n",
              "      <td>-122.4</td>\n",
              "      <td>15</td>\n",
              "      <td>San Francisco</td>\n",
              "    </tr>\n",
              "    <tr>\n",
              "      <th>74</th>\n",
              "      <td>83</td>\n",
              "      <td>Mezes Park</td>\n",
              "      <td>37.5</td>\n",
              "      <td>-122.2</td>\n",
              "      <td>15</td>\n",
              "      <td>Redwood City</td>\n",
              "    </tr>\n",
              "    <tr>\n",
              "      <th>75</th>\n",
              "      <td>84</td>\n",
              "      <td>Ryland Park</td>\n",
              "      <td>37.3</td>\n",
              "      <td>-121.9</td>\n",
              "      <td>15</td>\n",
              "      <td>San Jose</td>\n",
              "    </tr>\n",
              "  </tbody>\n",
              "</table>\n",
              "<p>76 rows × 6 columns</p>\n",
              "</div>"
            ],
            "text/plain": [
              "    Id                               Name  ...  Dock Count           City\n",
              "0    2  San Jose Diridon Caltrain Station  ...          27       San Jose\n",
              "1    3              San Jose Civic Center  ...          15       San Jose\n",
              "2    4             Santa Clara at Almaden  ...          11       San Jose\n",
              "3    5                   Adobe on Almaden  ...          19       San Jose\n",
              "4    6                   San Pedro Square  ...          15       San Jose\n",
              "..  ..                                ...  ...         ...            ...\n",
              "71  77                  Market at Sansome  ...          27  San Francisco\n",
              "72  80    Santa Clara County Civic Center  ...          15       San Jose\n",
              "73  82          Broadway St at Battery St  ...          15  San Francisco\n",
              "74  83                         Mezes Park  ...          15   Redwood City\n",
              "75  84                        Ryland Park  ...          15       San Jose\n",
              "\n",
              "[76 rows x 6 columns]"
            ]
          },
          "metadata": {
            "tags": []
          },
          "execution_count": 142
        }
      ]
    },
    {
      "cell_type": "code",
      "metadata": {
        "id": "-zaQnLMQBNyi"
      },
      "source": [
        "### Temos 71 estações de aluguel de bikes no total \r\n",
        "df_station.nunique()"
      ],
      "execution_count": null,
      "outputs": []
    },
    {
      "cell_type": "code",
      "metadata": {
        "id": "38AbzMidBQhk"
      },
      "source": [
        "\r\n",
        "### 5 cidades diferentes\r\n",
        "df_station.City.unique()"
      ],
      "execution_count": null,
      "outputs": []
    },
    {
      "cell_type": "markdown",
      "metadata": {
        "id": "fmQ9Z7mOBUUc"
      },
      "source": [
        "### Analisando dados da Viagem (TRIP)"
      ]
    },
    {
      "cell_type": "code",
      "metadata": {
        "id": "3DqTRnqVBVSj"
      },
      "source": [
        "df_trip.head()"
      ],
      "execution_count": null,
      "outputs": []
    },
    {
      "cell_type": "code",
      "metadata": {
        "id": "2NHDiDdNBZqR",
        "colab": {
          "base_uri": "https://localhost:8080/"
        },
        "outputId": "c6f6fc12-68ed-4756-e25e-097b65807756"
      },
      "source": [
        "### Analisando os domínios das variáveis da tabela TRIP\r\n",
        "df_trip.nunique()"
      ],
      "execution_count": 136,
      "outputs": [
        {
          "output_type": "execute_result",
          "data": {
            "text/plain": [
              "Trip ID            354152\n",
              "Start Date         181944\n",
              "Start Station          76\n",
              "End Date           180406\n",
              "End Station            76\n",
              "Subscriber Type         2\n",
              "Start hour           7942\n",
              "End hour             7935\n",
              "dtype: int64"
            ]
          },
          "metadata": {
            "tags": []
          },
          "execution_count": 136
        }
      ]
    },
    {
      "cell_type": "markdown",
      "metadata": {
        "id": "HvZlZ0HKBb4T"
      },
      "source": [
        "## Construindo a variável Target. \r\n",
        "\r\n",
        "Vamos criar a **\"Net_Rate\"**, que é exatamente a Taxa líquida: (viagens terminadas - viagens iniciadas) na estação, por uma determinada hora.\r\n",
        "\r\n",
        "Ex: Se numa determinada **estação** determinada **hora** finalizam 4 viagens e também se iniciam 3 viagens, nosso target(a **Net rate**) é de 1 bike.\r\n",
        "\r\n",
        "![](https://cienciadosdados.com/images/2021/Fintech/bike.png)"
      ]
    },
    {
      "cell_type": "code",
      "metadata": {
        "id": "sEJCFSFuBci3",
        "colab": {
          "base_uri": "https://localhost:8080/",
          "height": 402
        },
        "outputId": "8d95c267-b6c0-4d15-b24e-809def2da183"
      },
      "source": [
        "#Criando a Variável Hora de início da viagem\r\n",
        "df_trip['Start hour'] = df_trip['Start Date'].apply(lambda x: str(x).split(\":\")[0])\r\n",
        "df_trip"
      ],
      "execution_count": 143,
      "outputs": [
        {
          "output_type": "execute_result",
          "data": {
            "text/html": [
              "<div>\n",
              "<style scoped>\n",
              "    .dataframe tbody tr th:only-of-type {\n",
              "        vertical-align: middle;\n",
              "    }\n",
              "\n",
              "    .dataframe tbody tr th {\n",
              "        vertical-align: top;\n",
              "    }\n",
              "\n",
              "    .dataframe thead th {\n",
              "        text-align: right;\n",
              "    }\n",
              "</style>\n",
              "<table border=\"1\" class=\"dataframe\">\n",
              "  <thead>\n",
              "    <tr style=\"text-align: right;\">\n",
              "      <th></th>\n",
              "      <th>Trip ID</th>\n",
              "      <th>Start Date</th>\n",
              "      <th>Start Station</th>\n",
              "      <th>End Date</th>\n",
              "      <th>End Station</th>\n",
              "      <th>Subscriber Type</th>\n",
              "      <th>Start hour</th>\n",
              "    </tr>\n",
              "  </thead>\n",
              "  <tbody>\n",
              "    <tr>\n",
              "      <th>0</th>\n",
              "      <td>913460</td>\n",
              "      <td>31/08/2015 23:26</td>\n",
              "      <td>50</td>\n",
              "      <td>31/08/2015 23:39</td>\n",
              "      <td>70</td>\n",
              "      <td>Subscriber</td>\n",
              "      <td>31/08/2015 23</td>\n",
              "    </tr>\n",
              "    <tr>\n",
              "      <th>1</th>\n",
              "      <td>913459</td>\n",
              "      <td>31/08/2015 23:11</td>\n",
              "      <td>31</td>\n",
              "      <td>31/08/2015 23:28</td>\n",
              "      <td>27</td>\n",
              "      <td>Subscriber</td>\n",
              "      <td>31/08/2015 23</td>\n",
              "    </tr>\n",
              "    <tr>\n",
              "      <th>2</th>\n",
              "      <td>913455</td>\n",
              "      <td>31/08/2015 23:13</td>\n",
              "      <td>47</td>\n",
              "      <td>31/08/2015 23:18</td>\n",
              "      <td>64</td>\n",
              "      <td>Subscriber</td>\n",
              "      <td>31/08/2015 23</td>\n",
              "    </tr>\n",
              "    <tr>\n",
              "      <th>3</th>\n",
              "      <td>913454</td>\n",
              "      <td>31/08/2015 23:10</td>\n",
              "      <td>10</td>\n",
              "      <td>31/08/2015 23:17</td>\n",
              "      <td>8</td>\n",
              "      <td>Subscriber</td>\n",
              "      <td>31/08/2015 23</td>\n",
              "    </tr>\n",
              "    <tr>\n",
              "      <th>4</th>\n",
              "      <td>913453</td>\n",
              "      <td>31/08/2015 23:09</td>\n",
              "      <td>51</td>\n",
              "      <td>31/08/2015 23:22</td>\n",
              "      <td>60</td>\n",
              "      <td>Customer</td>\n",
              "      <td>31/08/2015 23</td>\n",
              "    </tr>\n",
              "    <tr>\n",
              "      <th>...</th>\n",
              "      <td>...</td>\n",
              "      <td>...</td>\n",
              "      <td>...</td>\n",
              "      <td>...</td>\n",
              "      <td>...</td>\n",
              "      <td>...</td>\n",
              "      <td>...</td>\n",
              "    </tr>\n",
              "    <tr>\n",
              "      <th>354147</th>\n",
              "      <td>432951</td>\n",
              "      <td>01/09/2014 04:21</td>\n",
              "      <td>39</td>\n",
              "      <td>01/09/2014 04:32</td>\n",
              "      <td>65</td>\n",
              "      <td>Subscriber</td>\n",
              "      <td>01/09/2014 04</td>\n",
              "    </tr>\n",
              "    <tr>\n",
              "      <th>354148</th>\n",
              "      <td>432950</td>\n",
              "      <td>01/09/2014 03:16</td>\n",
              "      <td>50</td>\n",
              "      <td>01/09/2014 05:08</td>\n",
              "      <td>70</td>\n",
              "      <td>Customer</td>\n",
              "      <td>01/09/2014 03</td>\n",
              "    </tr>\n",
              "    <tr>\n",
              "      <th>354149</th>\n",
              "      <td>432949</td>\n",
              "      <td>01/09/2014 00:05</td>\n",
              "      <td>66</td>\n",
              "      <td>01/09/2014 00:14</td>\n",
              "      <td>57</td>\n",
              "      <td>Customer</td>\n",
              "      <td>01/09/2014 00</td>\n",
              "    </tr>\n",
              "    <tr>\n",
              "      <th>354150</th>\n",
              "      <td>432948</td>\n",
              "      <td>01/09/2014 00:05</td>\n",
              "      <td>66</td>\n",
              "      <td>01/09/2014 00:15</td>\n",
              "      <td>57</td>\n",
              "      <td>Customer</td>\n",
              "      <td>01/09/2014 00</td>\n",
              "    </tr>\n",
              "    <tr>\n",
              "      <th>354151</th>\n",
              "      <td>432947</td>\n",
              "      <td>01/09/2014 00:05</td>\n",
              "      <td>66</td>\n",
              "      <td>01/09/2014 00:15</td>\n",
              "      <td>57</td>\n",
              "      <td>Customer</td>\n",
              "      <td>01/09/2014 00</td>\n",
              "    </tr>\n",
              "  </tbody>\n",
              "</table>\n",
              "<p>354152 rows × 7 columns</p>\n",
              "</div>"
            ],
            "text/plain": [
              "        Trip ID        Start Date  ...  Subscriber Type     Start hour\n",
              "0        913460  31/08/2015 23:26  ...       Subscriber  31/08/2015 23\n",
              "1        913459  31/08/2015 23:11  ...       Subscriber  31/08/2015 23\n",
              "2        913455  31/08/2015 23:13  ...       Subscriber  31/08/2015 23\n",
              "3        913454  31/08/2015 23:10  ...       Subscriber  31/08/2015 23\n",
              "4        913453  31/08/2015 23:09  ...         Customer  31/08/2015 23\n",
              "...         ...               ...  ...              ...            ...\n",
              "354147   432951  01/09/2014 04:21  ...       Subscriber  01/09/2014 04\n",
              "354148   432950  01/09/2014 03:16  ...         Customer  01/09/2014 03\n",
              "354149   432949  01/09/2014 00:05  ...         Customer  01/09/2014 00\n",
              "354150   432948  01/09/2014 00:05  ...         Customer  01/09/2014 00\n",
              "354151   432947  01/09/2014 00:05  ...         Customer  01/09/2014 00\n",
              "\n",
              "[354152 rows x 7 columns]"
            ]
          },
          "metadata": {
            "tags": []
          },
          "execution_count": 143
        }
      ]
    },
    {
      "cell_type": "code",
      "metadata": {
        "colab": {
          "base_uri": "https://localhost:8080/",
          "height": 402
        },
        "id": "sZeLFgNiCBlj",
        "outputId": "6a419b30-e047-4f4b-96d5-86d6be732624"
      },
      "source": [
        "#Criando a Variável Hora de Fim de viagem\r\n",
        "df_trip['End hour'] = df_trip['End Date'].apply(lambda x: str(x).split(\":\")[0])\r\n",
        "df_trip"
      ],
      "execution_count": 144,
      "outputs": [
        {
          "output_type": "execute_result",
          "data": {
            "text/html": [
              "<div>\n",
              "<style scoped>\n",
              "    .dataframe tbody tr th:only-of-type {\n",
              "        vertical-align: middle;\n",
              "    }\n",
              "\n",
              "    .dataframe tbody tr th {\n",
              "        vertical-align: top;\n",
              "    }\n",
              "\n",
              "    .dataframe thead th {\n",
              "        text-align: right;\n",
              "    }\n",
              "</style>\n",
              "<table border=\"1\" class=\"dataframe\">\n",
              "  <thead>\n",
              "    <tr style=\"text-align: right;\">\n",
              "      <th></th>\n",
              "      <th>Trip ID</th>\n",
              "      <th>Start Date</th>\n",
              "      <th>Start Station</th>\n",
              "      <th>End Date</th>\n",
              "      <th>End Station</th>\n",
              "      <th>Subscriber Type</th>\n",
              "      <th>Start hour</th>\n",
              "      <th>End hour</th>\n",
              "    </tr>\n",
              "  </thead>\n",
              "  <tbody>\n",
              "    <tr>\n",
              "      <th>0</th>\n",
              "      <td>913460</td>\n",
              "      <td>31/08/2015 23:26</td>\n",
              "      <td>50</td>\n",
              "      <td>31/08/2015 23:39</td>\n",
              "      <td>70</td>\n",
              "      <td>Subscriber</td>\n",
              "      <td>31/08/2015 23</td>\n",
              "      <td>31/08/2015 23</td>\n",
              "    </tr>\n",
              "    <tr>\n",
              "      <th>1</th>\n",
              "      <td>913459</td>\n",
              "      <td>31/08/2015 23:11</td>\n",
              "      <td>31</td>\n",
              "      <td>31/08/2015 23:28</td>\n",
              "      <td>27</td>\n",
              "      <td>Subscriber</td>\n",
              "      <td>31/08/2015 23</td>\n",
              "      <td>31/08/2015 23</td>\n",
              "    </tr>\n",
              "    <tr>\n",
              "      <th>2</th>\n",
              "      <td>913455</td>\n",
              "      <td>31/08/2015 23:13</td>\n",
              "      <td>47</td>\n",
              "      <td>31/08/2015 23:18</td>\n",
              "      <td>64</td>\n",
              "      <td>Subscriber</td>\n",
              "      <td>31/08/2015 23</td>\n",
              "      <td>31/08/2015 23</td>\n",
              "    </tr>\n",
              "    <tr>\n",
              "      <th>3</th>\n",
              "      <td>913454</td>\n",
              "      <td>31/08/2015 23:10</td>\n",
              "      <td>10</td>\n",
              "      <td>31/08/2015 23:17</td>\n",
              "      <td>8</td>\n",
              "      <td>Subscriber</td>\n",
              "      <td>31/08/2015 23</td>\n",
              "      <td>31/08/2015 23</td>\n",
              "    </tr>\n",
              "    <tr>\n",
              "      <th>4</th>\n",
              "      <td>913453</td>\n",
              "      <td>31/08/2015 23:09</td>\n",
              "      <td>51</td>\n",
              "      <td>31/08/2015 23:22</td>\n",
              "      <td>60</td>\n",
              "      <td>Customer</td>\n",
              "      <td>31/08/2015 23</td>\n",
              "      <td>31/08/2015 23</td>\n",
              "    </tr>\n",
              "    <tr>\n",
              "      <th>...</th>\n",
              "      <td>...</td>\n",
              "      <td>...</td>\n",
              "      <td>...</td>\n",
              "      <td>...</td>\n",
              "      <td>...</td>\n",
              "      <td>...</td>\n",
              "      <td>...</td>\n",
              "      <td>...</td>\n",
              "    </tr>\n",
              "    <tr>\n",
              "      <th>354147</th>\n",
              "      <td>432951</td>\n",
              "      <td>01/09/2014 04:21</td>\n",
              "      <td>39</td>\n",
              "      <td>01/09/2014 04:32</td>\n",
              "      <td>65</td>\n",
              "      <td>Subscriber</td>\n",
              "      <td>01/09/2014 04</td>\n",
              "      <td>01/09/2014 04</td>\n",
              "    </tr>\n",
              "    <tr>\n",
              "      <th>354148</th>\n",
              "      <td>432950</td>\n",
              "      <td>01/09/2014 03:16</td>\n",
              "      <td>50</td>\n",
              "      <td>01/09/2014 05:08</td>\n",
              "      <td>70</td>\n",
              "      <td>Customer</td>\n",
              "      <td>01/09/2014 03</td>\n",
              "      <td>01/09/2014 05</td>\n",
              "    </tr>\n",
              "    <tr>\n",
              "      <th>354149</th>\n",
              "      <td>432949</td>\n",
              "      <td>01/09/2014 00:05</td>\n",
              "      <td>66</td>\n",
              "      <td>01/09/2014 00:14</td>\n",
              "      <td>57</td>\n",
              "      <td>Customer</td>\n",
              "      <td>01/09/2014 00</td>\n",
              "      <td>01/09/2014 00</td>\n",
              "    </tr>\n",
              "    <tr>\n",
              "      <th>354150</th>\n",
              "      <td>432948</td>\n",
              "      <td>01/09/2014 00:05</td>\n",
              "      <td>66</td>\n",
              "      <td>01/09/2014 00:15</td>\n",
              "      <td>57</td>\n",
              "      <td>Customer</td>\n",
              "      <td>01/09/2014 00</td>\n",
              "      <td>01/09/2014 00</td>\n",
              "    </tr>\n",
              "    <tr>\n",
              "      <th>354151</th>\n",
              "      <td>432947</td>\n",
              "      <td>01/09/2014 00:05</td>\n",
              "      <td>66</td>\n",
              "      <td>01/09/2014 00:15</td>\n",
              "      <td>57</td>\n",
              "      <td>Customer</td>\n",
              "      <td>01/09/2014 00</td>\n",
              "      <td>01/09/2014 00</td>\n",
              "    </tr>\n",
              "  </tbody>\n",
              "</table>\n",
              "<p>354152 rows × 8 columns</p>\n",
              "</div>"
            ],
            "text/plain": [
              "        Trip ID        Start Date  ...     Start hour       End hour\n",
              "0        913460  31/08/2015 23:26  ...  31/08/2015 23  31/08/2015 23\n",
              "1        913459  31/08/2015 23:11  ...  31/08/2015 23  31/08/2015 23\n",
              "2        913455  31/08/2015 23:13  ...  31/08/2015 23  31/08/2015 23\n",
              "3        913454  31/08/2015 23:10  ...  31/08/2015 23  31/08/2015 23\n",
              "4        913453  31/08/2015 23:09  ...  31/08/2015 23  31/08/2015 23\n",
              "...         ...               ...  ...            ...            ...\n",
              "354147   432951  01/09/2014 04:21  ...  01/09/2014 04  01/09/2014 04\n",
              "354148   432950  01/09/2014 03:16  ...  01/09/2014 03  01/09/2014 05\n",
              "354149   432949  01/09/2014 00:05  ...  01/09/2014 00  01/09/2014 00\n",
              "354150   432948  01/09/2014 00:05  ...  01/09/2014 00  01/09/2014 00\n",
              "354151   432947  01/09/2014 00:05  ...  01/09/2014 00  01/09/2014 00\n",
              "\n",
              "[354152 rows x 8 columns]"
            ]
          },
          "metadata": {
            "tags": []
          },
          "execution_count": 144
        }
      ]
    },
    {
      "cell_type": "code",
      "metadata": {
        "id": "GmhZjtlmBgD9",
        "colab": {
          "base_uri": "https://localhost:8080/",
          "height": 402
        },
        "outputId": "f906c695-b4d4-4c1f-9ad0-09cb286d866e"
      },
      "source": [
        "#Agrupando por Hora e Estação os valores de Início de Viagem\r\n",
        "df_start_count = df_trip.groupby(['Start hour', 'Start Station']).count().reset_index()[['Start hour', 'Start Station', 'Trip ID']]\r\n",
        "df_start_count"
      ],
      "execution_count": 145,
      "outputs": [
        {
          "output_type": "execute_result",
          "data": {
            "text/html": [
              "<div>\n",
              "<style scoped>\n",
              "    .dataframe tbody tr th:only-of-type {\n",
              "        vertical-align: middle;\n",
              "    }\n",
              "\n",
              "    .dataframe tbody tr th {\n",
              "        vertical-align: top;\n",
              "    }\n",
              "\n",
              "    .dataframe thead th {\n",
              "        text-align: right;\n",
              "    }\n",
              "</style>\n",
              "<table border=\"1\" class=\"dataframe\">\n",
              "  <thead>\n",
              "    <tr style=\"text-align: right;\">\n",
              "      <th></th>\n",
              "      <th>Start hour</th>\n",
              "      <th>Start Station</th>\n",
              "      <th>Trip ID</th>\n",
              "    </tr>\n",
              "  </thead>\n",
              "  <tbody>\n",
              "    <tr>\n",
              "      <th>0</th>\n",
              "      <td>01/01/2015 00</td>\n",
              "      <td>42</td>\n",
              "      <td>4</td>\n",
              "    </tr>\n",
              "    <tr>\n",
              "      <th>1</th>\n",
              "      <td>01/01/2015 00</td>\n",
              "      <td>45</td>\n",
              "      <td>1</td>\n",
              "    </tr>\n",
              "    <tr>\n",
              "      <th>2</th>\n",
              "      <td>01/01/2015 00</td>\n",
              "      <td>61</td>\n",
              "      <td>2</td>\n",
              "    </tr>\n",
              "    <tr>\n",
              "      <th>3</th>\n",
              "      <td>01/01/2015 00</td>\n",
              "      <td>62</td>\n",
              "      <td>1</td>\n",
              "    </tr>\n",
              "    <tr>\n",
              "      <th>4</th>\n",
              "      <td>01/01/2015 00</td>\n",
              "      <td>75</td>\n",
              "      <td>2</td>\n",
              "    </tr>\n",
              "    <tr>\n",
              "      <th>...</th>\n",
              "      <td>...</td>\n",
              "      <td>...</td>\n",
              "      <td>...</td>\n",
              "    </tr>\n",
              "    <tr>\n",
              "      <th>142510</th>\n",
              "      <td>31/12/2014 23</td>\n",
              "      <td>39</td>\n",
              "      <td>1</td>\n",
              "    </tr>\n",
              "    <tr>\n",
              "      <th>142511</th>\n",
              "      <td>31/12/2014 23</td>\n",
              "      <td>46</td>\n",
              "      <td>2</td>\n",
              "    </tr>\n",
              "    <tr>\n",
              "      <th>142512</th>\n",
              "      <td>31/12/2014 23</td>\n",
              "      <td>54</td>\n",
              "      <td>1</td>\n",
              "    </tr>\n",
              "    <tr>\n",
              "      <th>142513</th>\n",
              "      <td>31/12/2014 23</td>\n",
              "      <td>66</td>\n",
              "      <td>2</td>\n",
              "    </tr>\n",
              "    <tr>\n",
              "      <th>142514</th>\n",
              "      <td>31/12/2014 23</td>\n",
              "      <td>73</td>\n",
              "      <td>1</td>\n",
              "    </tr>\n",
              "  </tbody>\n",
              "</table>\n",
              "<p>142515 rows × 3 columns</p>\n",
              "</div>"
            ],
            "text/plain": [
              "           Start hour  Start Station  Trip ID\n",
              "0       01/01/2015 00             42        4\n",
              "1       01/01/2015 00             45        1\n",
              "2       01/01/2015 00             61        2\n",
              "3       01/01/2015 00             62        1\n",
              "4       01/01/2015 00             75        2\n",
              "...               ...            ...      ...\n",
              "142510  31/12/2014 23             39        1\n",
              "142511  31/12/2014 23             46        2\n",
              "142512  31/12/2014 23             54        1\n",
              "142513  31/12/2014 23             66        2\n",
              "142514  31/12/2014 23             73        1\n",
              "\n",
              "[142515 rows x 3 columns]"
            ]
          },
          "metadata": {
            "tags": []
          },
          "execution_count": 145
        }
      ]
    },
    {
      "cell_type": "code",
      "metadata": {
        "colab": {
          "base_uri": "https://localhost:8080/",
          "height": 402
        },
        "id": "ZMXxas9TCaYW",
        "outputId": "2808701a-1e46-473f-a933-4af8f973422f"
      },
      "source": [
        "#Agrupando por Hora e Estação os valores de FIM de Viagem\r\n",
        "df_end_count = df_trip.groupby(['End hour', 'End Station']).count().reset_index()[['End hour', 'End Station', 'Trip ID']]\r\n",
        "df_end_count"
      ],
      "execution_count": 146,
      "outputs": [
        {
          "output_type": "execute_result",
          "data": {
            "text/html": [
              "<div>\n",
              "<style scoped>\n",
              "    .dataframe tbody tr th:only-of-type {\n",
              "        vertical-align: middle;\n",
              "    }\n",
              "\n",
              "    .dataframe tbody tr th {\n",
              "        vertical-align: top;\n",
              "    }\n",
              "\n",
              "    .dataframe thead th {\n",
              "        text-align: right;\n",
              "    }\n",
              "</style>\n",
              "<table border=\"1\" class=\"dataframe\">\n",
              "  <thead>\n",
              "    <tr style=\"text-align: right;\">\n",
              "      <th></th>\n",
              "      <th>End hour</th>\n",
              "      <th>End Station</th>\n",
              "      <th>Trip ID</th>\n",
              "    </tr>\n",
              "  </thead>\n",
              "  <tbody>\n",
              "    <tr>\n",
              "      <th>0</th>\n",
              "      <td>01/01/2015 00</td>\n",
              "      <td>47</td>\n",
              "      <td>1</td>\n",
              "    </tr>\n",
              "    <tr>\n",
              "      <th>1</th>\n",
              "      <td>01/01/2015 00</td>\n",
              "      <td>54</td>\n",
              "      <td>3</td>\n",
              "    </tr>\n",
              "    <tr>\n",
              "      <th>2</th>\n",
              "      <td>01/01/2015 00</td>\n",
              "      <td>64</td>\n",
              "      <td>1</td>\n",
              "    </tr>\n",
              "    <tr>\n",
              "      <th>3</th>\n",
              "      <td>01/01/2015 00</td>\n",
              "      <td>77</td>\n",
              "      <td>1</td>\n",
              "    </tr>\n",
              "    <tr>\n",
              "      <th>4</th>\n",
              "      <td>01/01/2015 01</td>\n",
              "      <td>56</td>\n",
              "      <td>2</td>\n",
              "    </tr>\n",
              "    <tr>\n",
              "      <th>...</th>\n",
              "      <td>...</td>\n",
              "      <td>...</td>\n",
              "      <td>...</td>\n",
              "    </tr>\n",
              "    <tr>\n",
              "      <th>138660</th>\n",
              "      <td>31/12/2014 23</td>\n",
              "      <td>48</td>\n",
              "      <td>2</td>\n",
              "    </tr>\n",
              "    <tr>\n",
              "      <th>138661</th>\n",
              "      <td>31/12/2014 23</td>\n",
              "      <td>63</td>\n",
              "      <td>2</td>\n",
              "    </tr>\n",
              "    <tr>\n",
              "      <th>138662</th>\n",
              "      <td>31/12/2014 23</td>\n",
              "      <td>68</td>\n",
              "      <td>1</td>\n",
              "    </tr>\n",
              "    <tr>\n",
              "      <th>138663</th>\n",
              "      <td>31/12/2014 23</td>\n",
              "      <td>70</td>\n",
              "      <td>1</td>\n",
              "    </tr>\n",
              "    <tr>\n",
              "      <th>138664</th>\n",
              "      <td>31/12/2014 23</td>\n",
              "      <td>74</td>\n",
              "      <td>2</td>\n",
              "    </tr>\n",
              "  </tbody>\n",
              "</table>\n",
              "<p>138665 rows × 3 columns</p>\n",
              "</div>"
            ],
            "text/plain": [
              "             End hour  End Station  Trip ID\n",
              "0       01/01/2015 00           47        1\n",
              "1       01/01/2015 00           54        3\n",
              "2       01/01/2015 00           64        1\n",
              "3       01/01/2015 00           77        1\n",
              "4       01/01/2015 01           56        2\n",
              "...               ...          ...      ...\n",
              "138660  31/12/2014 23           48        2\n",
              "138661  31/12/2014 23           63        2\n",
              "138662  31/12/2014 23           68        1\n",
              "138663  31/12/2014 23           70        1\n",
              "138664  31/12/2014 23           74        2\n",
              "\n",
              "[138665 rows x 3 columns]"
            ]
          },
          "metadata": {
            "tags": []
          },
          "execution_count": 146
        }
      ]
    },
    {
      "cell_type": "code",
      "metadata": {
        "id": "OYfYD93YBiWU",
        "colab": {
          "base_uri": "https://localhost:8080/",
          "height": 402
        },
        "outputId": "63be916e-1434-446c-ac4b-c3ce2c6e8158"
      },
      "source": [
        "#Renomeando as Colunas para fazer o MERGE ou JOIN - tabela de finalizações na estação\r\n",
        "df_end_count.columns = ['hour', 'station', 'trip']\r\n",
        "df_end_count"
      ],
      "execution_count": 147,
      "outputs": [
        {
          "output_type": "execute_result",
          "data": {
            "text/html": [
              "<div>\n",
              "<style scoped>\n",
              "    .dataframe tbody tr th:only-of-type {\n",
              "        vertical-align: middle;\n",
              "    }\n",
              "\n",
              "    .dataframe tbody tr th {\n",
              "        vertical-align: top;\n",
              "    }\n",
              "\n",
              "    .dataframe thead th {\n",
              "        text-align: right;\n",
              "    }\n",
              "</style>\n",
              "<table border=\"1\" class=\"dataframe\">\n",
              "  <thead>\n",
              "    <tr style=\"text-align: right;\">\n",
              "      <th></th>\n",
              "      <th>hour</th>\n",
              "      <th>station</th>\n",
              "      <th>trip</th>\n",
              "    </tr>\n",
              "  </thead>\n",
              "  <tbody>\n",
              "    <tr>\n",
              "      <th>0</th>\n",
              "      <td>01/01/2015 00</td>\n",
              "      <td>47</td>\n",
              "      <td>1</td>\n",
              "    </tr>\n",
              "    <tr>\n",
              "      <th>1</th>\n",
              "      <td>01/01/2015 00</td>\n",
              "      <td>54</td>\n",
              "      <td>3</td>\n",
              "    </tr>\n",
              "    <tr>\n",
              "      <th>2</th>\n",
              "      <td>01/01/2015 00</td>\n",
              "      <td>64</td>\n",
              "      <td>1</td>\n",
              "    </tr>\n",
              "    <tr>\n",
              "      <th>3</th>\n",
              "      <td>01/01/2015 00</td>\n",
              "      <td>77</td>\n",
              "      <td>1</td>\n",
              "    </tr>\n",
              "    <tr>\n",
              "      <th>4</th>\n",
              "      <td>01/01/2015 01</td>\n",
              "      <td>56</td>\n",
              "      <td>2</td>\n",
              "    </tr>\n",
              "    <tr>\n",
              "      <th>...</th>\n",
              "      <td>...</td>\n",
              "      <td>...</td>\n",
              "      <td>...</td>\n",
              "    </tr>\n",
              "    <tr>\n",
              "      <th>138660</th>\n",
              "      <td>31/12/2014 23</td>\n",
              "      <td>48</td>\n",
              "      <td>2</td>\n",
              "    </tr>\n",
              "    <tr>\n",
              "      <th>138661</th>\n",
              "      <td>31/12/2014 23</td>\n",
              "      <td>63</td>\n",
              "      <td>2</td>\n",
              "    </tr>\n",
              "    <tr>\n",
              "      <th>138662</th>\n",
              "      <td>31/12/2014 23</td>\n",
              "      <td>68</td>\n",
              "      <td>1</td>\n",
              "    </tr>\n",
              "    <tr>\n",
              "      <th>138663</th>\n",
              "      <td>31/12/2014 23</td>\n",
              "      <td>70</td>\n",
              "      <td>1</td>\n",
              "    </tr>\n",
              "    <tr>\n",
              "      <th>138664</th>\n",
              "      <td>31/12/2014 23</td>\n",
              "      <td>74</td>\n",
              "      <td>2</td>\n",
              "    </tr>\n",
              "  </tbody>\n",
              "</table>\n",
              "<p>138665 rows × 3 columns</p>\n",
              "</div>"
            ],
            "text/plain": [
              "                 hour  station  trip\n",
              "0       01/01/2015 00       47     1\n",
              "1       01/01/2015 00       54     3\n",
              "2       01/01/2015 00       64     1\n",
              "3       01/01/2015 00       77     1\n",
              "4       01/01/2015 01       56     2\n",
              "...               ...      ...   ...\n",
              "138660  31/12/2014 23       48     2\n",
              "138661  31/12/2014 23       63     2\n",
              "138662  31/12/2014 23       68     1\n",
              "138663  31/12/2014 23       70     1\n",
              "138664  31/12/2014 23       74     2\n",
              "\n",
              "[138665 rows x 3 columns]"
            ]
          },
          "metadata": {
            "tags": []
          },
          "execution_count": 147
        }
      ]
    },
    {
      "cell_type": "code",
      "metadata": {
        "colab": {
          "base_uri": "https://localhost:8080/",
          "height": 402
        },
        "id": "BL_yzzrsC017",
        "outputId": "a57634d0-0e05-479e-ef9b-6c96d81fc6ef"
      },
      "source": [
        "#Renomeando as Colunas para fazer o MERGE ou JOIN - tabela de inicio de viagem na estação\r\n",
        "\r\n",
        "df_start_count.columns = ['hour', 'station', 'trip']\r\n",
        "df_start_count"
      ],
      "execution_count": 148,
      "outputs": [
        {
          "output_type": "execute_result",
          "data": {
            "text/html": [
              "<div>\n",
              "<style scoped>\n",
              "    .dataframe tbody tr th:only-of-type {\n",
              "        vertical-align: middle;\n",
              "    }\n",
              "\n",
              "    .dataframe tbody tr th {\n",
              "        vertical-align: top;\n",
              "    }\n",
              "\n",
              "    .dataframe thead th {\n",
              "        text-align: right;\n",
              "    }\n",
              "</style>\n",
              "<table border=\"1\" class=\"dataframe\">\n",
              "  <thead>\n",
              "    <tr style=\"text-align: right;\">\n",
              "      <th></th>\n",
              "      <th>hour</th>\n",
              "      <th>station</th>\n",
              "      <th>trip</th>\n",
              "    </tr>\n",
              "  </thead>\n",
              "  <tbody>\n",
              "    <tr>\n",
              "      <th>0</th>\n",
              "      <td>01/01/2015 00</td>\n",
              "      <td>42</td>\n",
              "      <td>4</td>\n",
              "    </tr>\n",
              "    <tr>\n",
              "      <th>1</th>\n",
              "      <td>01/01/2015 00</td>\n",
              "      <td>45</td>\n",
              "      <td>1</td>\n",
              "    </tr>\n",
              "    <tr>\n",
              "      <th>2</th>\n",
              "      <td>01/01/2015 00</td>\n",
              "      <td>61</td>\n",
              "      <td>2</td>\n",
              "    </tr>\n",
              "    <tr>\n",
              "      <th>3</th>\n",
              "      <td>01/01/2015 00</td>\n",
              "      <td>62</td>\n",
              "      <td>1</td>\n",
              "    </tr>\n",
              "    <tr>\n",
              "      <th>4</th>\n",
              "      <td>01/01/2015 00</td>\n",
              "      <td>75</td>\n",
              "      <td>2</td>\n",
              "    </tr>\n",
              "    <tr>\n",
              "      <th>...</th>\n",
              "      <td>...</td>\n",
              "      <td>...</td>\n",
              "      <td>...</td>\n",
              "    </tr>\n",
              "    <tr>\n",
              "      <th>142510</th>\n",
              "      <td>31/12/2014 23</td>\n",
              "      <td>39</td>\n",
              "      <td>1</td>\n",
              "    </tr>\n",
              "    <tr>\n",
              "      <th>142511</th>\n",
              "      <td>31/12/2014 23</td>\n",
              "      <td>46</td>\n",
              "      <td>2</td>\n",
              "    </tr>\n",
              "    <tr>\n",
              "      <th>142512</th>\n",
              "      <td>31/12/2014 23</td>\n",
              "      <td>54</td>\n",
              "      <td>1</td>\n",
              "    </tr>\n",
              "    <tr>\n",
              "      <th>142513</th>\n",
              "      <td>31/12/2014 23</td>\n",
              "      <td>66</td>\n",
              "      <td>2</td>\n",
              "    </tr>\n",
              "    <tr>\n",
              "      <th>142514</th>\n",
              "      <td>31/12/2014 23</td>\n",
              "      <td>73</td>\n",
              "      <td>1</td>\n",
              "    </tr>\n",
              "  </tbody>\n",
              "</table>\n",
              "<p>142515 rows × 3 columns</p>\n",
              "</div>"
            ],
            "text/plain": [
              "                 hour  station  trip\n",
              "0       01/01/2015 00       42     4\n",
              "1       01/01/2015 00       45     1\n",
              "2       01/01/2015 00       61     2\n",
              "3       01/01/2015 00       62     1\n",
              "4       01/01/2015 00       75     2\n",
              "...               ...      ...   ...\n",
              "142510  31/12/2014 23       39     1\n",
              "142511  31/12/2014 23       46     2\n",
              "142512  31/12/2014 23       54     1\n",
              "142513  31/12/2014 23       66     2\n",
              "142514  31/12/2014 23       73     1\n",
              "\n",
              "[142515 rows x 3 columns]"
            ]
          },
          "metadata": {
            "tags": []
          },
          "execution_count": 148
        }
      ]
    },
    {
      "cell_type": "code",
      "metadata": {
        "id": "ReTZpHPQBkZp",
        "colab": {
          "base_uri": "https://localhost:8080/",
          "height": 402
        },
        "outputId": "4a757993-51b2-41ba-97e5-4f0da7482f94"
      },
      "source": [
        "#Juntando as duas tabelas (MERGE ou JOIN) - inicio e finalizações\r\n",
        "df_delta = pd.merge(df_end_count, df_start_count, on = ['hour', 'station'])\r\n",
        "df_delta"
      ],
      "execution_count": 150,
      "outputs": [
        {
          "output_type": "execute_result",
          "data": {
            "text/html": [
              "<div>\n",
              "<style scoped>\n",
              "    .dataframe tbody tr th:only-of-type {\n",
              "        vertical-align: middle;\n",
              "    }\n",
              "\n",
              "    .dataframe tbody tr th {\n",
              "        vertical-align: top;\n",
              "    }\n",
              "\n",
              "    .dataframe thead th {\n",
              "        text-align: right;\n",
              "    }\n",
              "</style>\n",
              "<table border=\"1\" class=\"dataframe\">\n",
              "  <thead>\n",
              "    <tr style=\"text-align: right;\">\n",
              "      <th></th>\n",
              "      <th>hour</th>\n",
              "      <th>station</th>\n",
              "      <th>trip_x</th>\n",
              "      <th>trip_y</th>\n",
              "    </tr>\n",
              "  </thead>\n",
              "  <tbody>\n",
              "    <tr>\n",
              "      <th>0</th>\n",
              "      <td>01/01/2015 01</td>\n",
              "      <td>66</td>\n",
              "      <td>4</td>\n",
              "      <td>1</td>\n",
              "    </tr>\n",
              "    <tr>\n",
              "      <th>1</th>\n",
              "      <td>01/01/2015 11</td>\n",
              "      <td>50</td>\n",
              "      <td>3</td>\n",
              "      <td>1</td>\n",
              "    </tr>\n",
              "    <tr>\n",
              "      <th>2</th>\n",
              "      <td>01/01/2015 11</td>\n",
              "      <td>68</td>\n",
              "      <td>2</td>\n",
              "      <td>2</td>\n",
              "    </tr>\n",
              "    <tr>\n",
              "      <th>3</th>\n",
              "      <td>01/01/2015 11</td>\n",
              "      <td>76</td>\n",
              "      <td>2</td>\n",
              "      <td>4</td>\n",
              "    </tr>\n",
              "    <tr>\n",
              "      <th>4</th>\n",
              "      <td>01/01/2015 12</td>\n",
              "      <td>39</td>\n",
              "      <td>2</td>\n",
              "      <td>2</td>\n",
              "    </tr>\n",
              "    <tr>\n",
              "      <th>...</th>\n",
              "      <td>...</td>\n",
              "      <td>...</td>\n",
              "      <td>...</td>\n",
              "      <td>...</td>\n",
              "    </tr>\n",
              "    <tr>\n",
              "      <th>83019</th>\n",
              "      <td>31/12/2014 18</td>\n",
              "      <td>67</td>\n",
              "      <td>1</td>\n",
              "      <td>2</td>\n",
              "    </tr>\n",
              "    <tr>\n",
              "      <th>83020</th>\n",
              "      <td>31/12/2014 18</td>\n",
              "      <td>70</td>\n",
              "      <td>1</td>\n",
              "      <td>1</td>\n",
              "    </tr>\n",
              "    <tr>\n",
              "      <th>83021</th>\n",
              "      <td>31/12/2014 18</td>\n",
              "      <td>82</td>\n",
              "      <td>1</td>\n",
              "      <td>1</td>\n",
              "    </tr>\n",
              "    <tr>\n",
              "      <th>83022</th>\n",
              "      <td>31/12/2014 19</td>\n",
              "      <td>60</td>\n",
              "      <td>2</td>\n",
              "      <td>2</td>\n",
              "    </tr>\n",
              "    <tr>\n",
              "      <th>83023</th>\n",
              "      <td>31/12/2014 22</td>\n",
              "      <td>7</td>\n",
              "      <td>1</td>\n",
              "      <td>1</td>\n",
              "    </tr>\n",
              "  </tbody>\n",
              "</table>\n",
              "<p>83024 rows × 4 columns</p>\n",
              "</div>"
            ],
            "text/plain": [
              "                hour  station  trip_x  trip_y\n",
              "0      01/01/2015 01       66       4       1\n",
              "1      01/01/2015 11       50       3       1\n",
              "2      01/01/2015 11       68       2       2\n",
              "3      01/01/2015 11       76       2       4\n",
              "4      01/01/2015 12       39       2       2\n",
              "...              ...      ...     ...     ...\n",
              "83019  31/12/2014 18       67       1       2\n",
              "83020  31/12/2014 18       70       1       1\n",
              "83021  31/12/2014 18       82       1       1\n",
              "83022  31/12/2014 19       60       2       2\n",
              "83023  31/12/2014 22        7       1       1\n",
              "\n",
              "[83024 rows x 4 columns]"
            ]
          },
          "metadata": {
            "tags": []
          },
          "execution_count": 150
        }
      ]
    },
    {
      "cell_type": "markdown",
      "metadata": {
        "id": "J6A4AzW0E8VG"
      },
      "source": [
        "### Criando o Target: Net Rate "
      ]
    },
    {
      "cell_type": "code",
      "metadata": {
        "colab": {
          "base_uri": "https://localhost:8080/",
          "height": 402
        },
        "id": "wIK_uJiWDYT4",
        "outputId": "54a90bfb-37d3-4b08-f26a-7d01eb49780b"
      },
      "source": [
        "#Net_Rate = aluguel de bikes por hora \r\n",
        "df_delta['net_rate'] = df_delta['trip_x'] - df_delta['trip_y'] \r\n",
        "df_delta"
      ],
      "execution_count": 151,
      "outputs": [
        {
          "output_type": "execute_result",
          "data": {
            "text/html": [
              "<div>\n",
              "<style scoped>\n",
              "    .dataframe tbody tr th:only-of-type {\n",
              "        vertical-align: middle;\n",
              "    }\n",
              "\n",
              "    .dataframe tbody tr th {\n",
              "        vertical-align: top;\n",
              "    }\n",
              "\n",
              "    .dataframe thead th {\n",
              "        text-align: right;\n",
              "    }\n",
              "</style>\n",
              "<table border=\"1\" class=\"dataframe\">\n",
              "  <thead>\n",
              "    <tr style=\"text-align: right;\">\n",
              "      <th></th>\n",
              "      <th>hour</th>\n",
              "      <th>station</th>\n",
              "      <th>trip_x</th>\n",
              "      <th>trip_y</th>\n",
              "      <th>net_rate</th>\n",
              "    </tr>\n",
              "  </thead>\n",
              "  <tbody>\n",
              "    <tr>\n",
              "      <th>0</th>\n",
              "      <td>01/01/2015 01</td>\n",
              "      <td>66</td>\n",
              "      <td>4</td>\n",
              "      <td>1</td>\n",
              "      <td>3</td>\n",
              "    </tr>\n",
              "    <tr>\n",
              "      <th>1</th>\n",
              "      <td>01/01/2015 11</td>\n",
              "      <td>50</td>\n",
              "      <td>3</td>\n",
              "      <td>1</td>\n",
              "      <td>2</td>\n",
              "    </tr>\n",
              "    <tr>\n",
              "      <th>2</th>\n",
              "      <td>01/01/2015 11</td>\n",
              "      <td>68</td>\n",
              "      <td>2</td>\n",
              "      <td>2</td>\n",
              "      <td>0</td>\n",
              "    </tr>\n",
              "    <tr>\n",
              "      <th>3</th>\n",
              "      <td>01/01/2015 11</td>\n",
              "      <td>76</td>\n",
              "      <td>2</td>\n",
              "      <td>4</td>\n",
              "      <td>-2</td>\n",
              "    </tr>\n",
              "    <tr>\n",
              "      <th>4</th>\n",
              "      <td>01/01/2015 12</td>\n",
              "      <td>39</td>\n",
              "      <td>2</td>\n",
              "      <td>2</td>\n",
              "      <td>0</td>\n",
              "    </tr>\n",
              "    <tr>\n",
              "      <th>...</th>\n",
              "      <td>...</td>\n",
              "      <td>...</td>\n",
              "      <td>...</td>\n",
              "      <td>...</td>\n",
              "      <td>...</td>\n",
              "    </tr>\n",
              "    <tr>\n",
              "      <th>83019</th>\n",
              "      <td>31/12/2014 18</td>\n",
              "      <td>67</td>\n",
              "      <td>1</td>\n",
              "      <td>2</td>\n",
              "      <td>-1</td>\n",
              "    </tr>\n",
              "    <tr>\n",
              "      <th>83020</th>\n",
              "      <td>31/12/2014 18</td>\n",
              "      <td>70</td>\n",
              "      <td>1</td>\n",
              "      <td>1</td>\n",
              "      <td>0</td>\n",
              "    </tr>\n",
              "    <tr>\n",
              "      <th>83021</th>\n",
              "      <td>31/12/2014 18</td>\n",
              "      <td>82</td>\n",
              "      <td>1</td>\n",
              "      <td>1</td>\n",
              "      <td>0</td>\n",
              "    </tr>\n",
              "    <tr>\n",
              "      <th>83022</th>\n",
              "      <td>31/12/2014 19</td>\n",
              "      <td>60</td>\n",
              "      <td>2</td>\n",
              "      <td>2</td>\n",
              "      <td>0</td>\n",
              "    </tr>\n",
              "    <tr>\n",
              "      <th>83023</th>\n",
              "      <td>31/12/2014 22</td>\n",
              "      <td>7</td>\n",
              "      <td>1</td>\n",
              "      <td>1</td>\n",
              "      <td>0</td>\n",
              "    </tr>\n",
              "  </tbody>\n",
              "</table>\n",
              "<p>83024 rows × 5 columns</p>\n",
              "</div>"
            ],
            "text/plain": [
              "                hour  station  trip_x  trip_y  net_rate\n",
              "0      01/01/2015 01       66       4       1         3\n",
              "1      01/01/2015 11       50       3       1         2\n",
              "2      01/01/2015 11       68       2       2         0\n",
              "3      01/01/2015 11       76       2       4        -2\n",
              "4      01/01/2015 12       39       2       2         0\n",
              "...              ...      ...     ...     ...       ...\n",
              "83019  31/12/2014 18       67       1       2        -1\n",
              "83020  31/12/2014 18       70       1       1         0\n",
              "83021  31/12/2014 18       82       1       1         0\n",
              "83022  31/12/2014 19       60       2       2         0\n",
              "83023  31/12/2014 22        7       1       1         0\n",
              "\n",
              "[83024 rows x 5 columns]"
            ]
          },
          "metadata": {
            "tags": []
          },
          "execution_count": 151
        }
      ]
    },
    {
      "cell_type": "code",
      "metadata": {
        "id": "5JwIElwgBmlI",
        "colab": {
          "base_uri": "https://localhost:8080/",
          "height": 402
        },
        "outputId": "09870f0e-20ff-4d8b-85f8-d8d4483dc8fc"
      },
      "source": [
        "### Detalhando as informações da data para buscar variáveis referenteso ao clima\r\n",
        "df_delta['hour'] = pd.to_datetime(df_delta['hour'])\r\n",
        "df_delta"
      ],
      "execution_count": 152,
      "outputs": [
        {
          "output_type": "execute_result",
          "data": {
            "text/html": [
              "<div>\n",
              "<style scoped>\n",
              "    .dataframe tbody tr th:only-of-type {\n",
              "        vertical-align: middle;\n",
              "    }\n",
              "\n",
              "    .dataframe tbody tr th {\n",
              "        vertical-align: top;\n",
              "    }\n",
              "\n",
              "    .dataframe thead th {\n",
              "        text-align: right;\n",
              "    }\n",
              "</style>\n",
              "<table border=\"1\" class=\"dataframe\">\n",
              "  <thead>\n",
              "    <tr style=\"text-align: right;\">\n",
              "      <th></th>\n",
              "      <th>hour</th>\n",
              "      <th>station</th>\n",
              "      <th>trip_x</th>\n",
              "      <th>trip_y</th>\n",
              "      <th>net_rate</th>\n",
              "    </tr>\n",
              "  </thead>\n",
              "  <tbody>\n",
              "    <tr>\n",
              "      <th>0</th>\n",
              "      <td>2015-01-01 01:00:00</td>\n",
              "      <td>66</td>\n",
              "      <td>4</td>\n",
              "      <td>1</td>\n",
              "      <td>3</td>\n",
              "    </tr>\n",
              "    <tr>\n",
              "      <th>1</th>\n",
              "      <td>2015-01-01 11:00:00</td>\n",
              "      <td>50</td>\n",
              "      <td>3</td>\n",
              "      <td>1</td>\n",
              "      <td>2</td>\n",
              "    </tr>\n",
              "    <tr>\n",
              "      <th>2</th>\n",
              "      <td>2015-01-01 11:00:00</td>\n",
              "      <td>68</td>\n",
              "      <td>2</td>\n",
              "      <td>2</td>\n",
              "      <td>0</td>\n",
              "    </tr>\n",
              "    <tr>\n",
              "      <th>3</th>\n",
              "      <td>2015-01-01 11:00:00</td>\n",
              "      <td>76</td>\n",
              "      <td>2</td>\n",
              "      <td>4</td>\n",
              "      <td>-2</td>\n",
              "    </tr>\n",
              "    <tr>\n",
              "      <th>4</th>\n",
              "      <td>2015-01-01 12:00:00</td>\n",
              "      <td>39</td>\n",
              "      <td>2</td>\n",
              "      <td>2</td>\n",
              "      <td>0</td>\n",
              "    </tr>\n",
              "    <tr>\n",
              "      <th>...</th>\n",
              "      <td>...</td>\n",
              "      <td>...</td>\n",
              "      <td>...</td>\n",
              "      <td>...</td>\n",
              "      <td>...</td>\n",
              "    </tr>\n",
              "    <tr>\n",
              "      <th>83019</th>\n",
              "      <td>2014-12-31 18:00:00</td>\n",
              "      <td>67</td>\n",
              "      <td>1</td>\n",
              "      <td>2</td>\n",
              "      <td>-1</td>\n",
              "    </tr>\n",
              "    <tr>\n",
              "      <th>83020</th>\n",
              "      <td>2014-12-31 18:00:00</td>\n",
              "      <td>70</td>\n",
              "      <td>1</td>\n",
              "      <td>1</td>\n",
              "      <td>0</td>\n",
              "    </tr>\n",
              "    <tr>\n",
              "      <th>83021</th>\n",
              "      <td>2014-12-31 18:00:00</td>\n",
              "      <td>82</td>\n",
              "      <td>1</td>\n",
              "      <td>1</td>\n",
              "      <td>0</td>\n",
              "    </tr>\n",
              "    <tr>\n",
              "      <th>83022</th>\n",
              "      <td>2014-12-31 19:00:00</td>\n",
              "      <td>60</td>\n",
              "      <td>2</td>\n",
              "      <td>2</td>\n",
              "      <td>0</td>\n",
              "    </tr>\n",
              "    <tr>\n",
              "      <th>83023</th>\n",
              "      <td>2014-12-31 22:00:00</td>\n",
              "      <td>7</td>\n",
              "      <td>1</td>\n",
              "      <td>1</td>\n",
              "      <td>0</td>\n",
              "    </tr>\n",
              "  </tbody>\n",
              "</table>\n",
              "<p>83024 rows × 5 columns</p>\n",
              "</div>"
            ],
            "text/plain": [
              "                     hour  station  trip_x  trip_y  net_rate\n",
              "0     2015-01-01 01:00:00       66       4       1         3\n",
              "1     2015-01-01 11:00:00       50       3       1         2\n",
              "2     2015-01-01 11:00:00       68       2       2         0\n",
              "3     2015-01-01 11:00:00       76       2       4        -2\n",
              "4     2015-01-01 12:00:00       39       2       2         0\n",
              "...                   ...      ...     ...     ...       ...\n",
              "83019 2014-12-31 18:00:00       67       1       2        -1\n",
              "83020 2014-12-31 18:00:00       70       1       1         0\n",
              "83021 2014-12-31 18:00:00       82       1       1         0\n",
              "83022 2014-12-31 19:00:00       60       2       2         0\n",
              "83023 2014-12-31 22:00:00        7       1       1         0\n",
              "\n",
              "[83024 rows x 5 columns]"
            ]
          },
          "metadata": {
            "tags": []
          },
          "execution_count": 152
        }
      ]
    },
    {
      "cell_type": "code",
      "metadata": {
        "colab": {
          "base_uri": "https://localhost:8080/",
          "height": 402
        },
        "id": "LzSwGoWSDqEy",
        "outputId": "2cd90cb3-ba6b-4ffb-959e-4d6d1484ed7b"
      },
      "source": [
        "# Cria uma coluna de data separada do timestamp\r\n",
        "df_delta['date']  = (df_delta['hour']).apply(lambda x: x.date())\r\n",
        "df_delta\r\n"
      ],
      "execution_count": 153,
      "outputs": [
        {
          "output_type": "execute_result",
          "data": {
            "text/html": [
              "<div>\n",
              "<style scoped>\n",
              "    .dataframe tbody tr th:only-of-type {\n",
              "        vertical-align: middle;\n",
              "    }\n",
              "\n",
              "    .dataframe tbody tr th {\n",
              "        vertical-align: top;\n",
              "    }\n",
              "\n",
              "    .dataframe thead th {\n",
              "        text-align: right;\n",
              "    }\n",
              "</style>\n",
              "<table border=\"1\" class=\"dataframe\">\n",
              "  <thead>\n",
              "    <tr style=\"text-align: right;\">\n",
              "      <th></th>\n",
              "      <th>hour</th>\n",
              "      <th>station</th>\n",
              "      <th>trip_x</th>\n",
              "      <th>trip_y</th>\n",
              "      <th>net_rate</th>\n",
              "      <th>date</th>\n",
              "    </tr>\n",
              "  </thead>\n",
              "  <tbody>\n",
              "    <tr>\n",
              "      <th>0</th>\n",
              "      <td>2015-01-01 01:00:00</td>\n",
              "      <td>66</td>\n",
              "      <td>4</td>\n",
              "      <td>1</td>\n",
              "      <td>3</td>\n",
              "      <td>2015-01-01</td>\n",
              "    </tr>\n",
              "    <tr>\n",
              "      <th>1</th>\n",
              "      <td>2015-01-01 11:00:00</td>\n",
              "      <td>50</td>\n",
              "      <td>3</td>\n",
              "      <td>1</td>\n",
              "      <td>2</td>\n",
              "      <td>2015-01-01</td>\n",
              "    </tr>\n",
              "    <tr>\n",
              "      <th>2</th>\n",
              "      <td>2015-01-01 11:00:00</td>\n",
              "      <td>68</td>\n",
              "      <td>2</td>\n",
              "      <td>2</td>\n",
              "      <td>0</td>\n",
              "      <td>2015-01-01</td>\n",
              "    </tr>\n",
              "    <tr>\n",
              "      <th>3</th>\n",
              "      <td>2015-01-01 11:00:00</td>\n",
              "      <td>76</td>\n",
              "      <td>2</td>\n",
              "      <td>4</td>\n",
              "      <td>-2</td>\n",
              "      <td>2015-01-01</td>\n",
              "    </tr>\n",
              "    <tr>\n",
              "      <th>4</th>\n",
              "      <td>2015-01-01 12:00:00</td>\n",
              "      <td>39</td>\n",
              "      <td>2</td>\n",
              "      <td>2</td>\n",
              "      <td>0</td>\n",
              "      <td>2015-01-01</td>\n",
              "    </tr>\n",
              "    <tr>\n",
              "      <th>...</th>\n",
              "      <td>...</td>\n",
              "      <td>...</td>\n",
              "      <td>...</td>\n",
              "      <td>...</td>\n",
              "      <td>...</td>\n",
              "      <td>...</td>\n",
              "    </tr>\n",
              "    <tr>\n",
              "      <th>83019</th>\n",
              "      <td>2014-12-31 18:00:00</td>\n",
              "      <td>67</td>\n",
              "      <td>1</td>\n",
              "      <td>2</td>\n",
              "      <td>-1</td>\n",
              "      <td>2014-12-31</td>\n",
              "    </tr>\n",
              "    <tr>\n",
              "      <th>83020</th>\n",
              "      <td>2014-12-31 18:00:00</td>\n",
              "      <td>70</td>\n",
              "      <td>1</td>\n",
              "      <td>1</td>\n",
              "      <td>0</td>\n",
              "      <td>2014-12-31</td>\n",
              "    </tr>\n",
              "    <tr>\n",
              "      <th>83021</th>\n",
              "      <td>2014-12-31 18:00:00</td>\n",
              "      <td>82</td>\n",
              "      <td>1</td>\n",
              "      <td>1</td>\n",
              "      <td>0</td>\n",
              "      <td>2014-12-31</td>\n",
              "    </tr>\n",
              "    <tr>\n",
              "      <th>83022</th>\n",
              "      <td>2014-12-31 19:00:00</td>\n",
              "      <td>60</td>\n",
              "      <td>2</td>\n",
              "      <td>2</td>\n",
              "      <td>0</td>\n",
              "      <td>2014-12-31</td>\n",
              "    </tr>\n",
              "    <tr>\n",
              "      <th>83023</th>\n",
              "      <td>2014-12-31 22:00:00</td>\n",
              "      <td>7</td>\n",
              "      <td>1</td>\n",
              "      <td>1</td>\n",
              "      <td>0</td>\n",
              "      <td>2014-12-31</td>\n",
              "    </tr>\n",
              "  </tbody>\n",
              "</table>\n",
              "<p>83024 rows × 6 columns</p>\n",
              "</div>"
            ],
            "text/plain": [
              "                     hour  station  trip_x  trip_y  net_rate        date\n",
              "0     2015-01-01 01:00:00       66       4       1         3  2015-01-01\n",
              "1     2015-01-01 11:00:00       50       3       1         2  2015-01-01\n",
              "2     2015-01-01 11:00:00       68       2       2         0  2015-01-01\n",
              "3     2015-01-01 11:00:00       76       2       4        -2  2015-01-01\n",
              "4     2015-01-01 12:00:00       39       2       2         0  2015-01-01\n",
              "...                   ...      ...     ...     ...       ...         ...\n",
              "83019 2014-12-31 18:00:00       67       1       2        -1  2014-12-31\n",
              "83020 2014-12-31 18:00:00       70       1       1         0  2014-12-31\n",
              "83021 2014-12-31 18:00:00       82       1       1         0  2014-12-31\n",
              "83022 2014-12-31 19:00:00       60       2       2         0  2014-12-31\n",
              "83023 2014-12-31 22:00:00        7       1       1         0  2014-12-31\n",
              "\n",
              "[83024 rows x 6 columns]"
            ]
          },
          "metadata": {
            "tags": []
          },
          "execution_count": 153
        }
      ]
    },
    {
      "cell_type": "code",
      "metadata": {
        "id": "mQv13hKRD0f1"
      },
      "source": [
        "### Left Join entre as tabelas \"net rate\" e station\r\n",
        "df_station_netrate = df_delta.merge(df_station, left_on = 'station', right_on = 'Id', how = 'left')"
      ],
      "execution_count": 154,
      "outputs": []
    },
    {
      "cell_type": "code",
      "metadata": {
        "id": "FFhKzRIEBobr"
      },
      "source": [
        "df_station_netrate.head()"
      ],
      "execution_count": null,
      "outputs": []
    },
    {
      "cell_type": "markdown",
      "metadata": {
        "id": "PNoxYEUiBrsG"
      },
      "source": [
        "### Analisando dados do Clima (Weather)"
      ]
    },
    {
      "cell_type": "code",
      "metadata": {
        "id": "dXTumOM6BsF3"
      },
      "source": [
        "df_weather.head()"
      ],
      "execution_count": null,
      "outputs": []
    },
    {
      "cell_type": "code",
      "metadata": {
        "id": "50mxyYdEBt_C",
        "colab": {
          "base_uri": "https://localhost:8080/"
        },
        "outputId": "a2215313-3f3d-4275-e4dc-228d4d18c788"
      },
      "source": [
        "### Check columns: we have statistical features i.e. min, max and min of key weather attributes like: Temp, pressure, humidity etc\r\n",
        "df_weather.columns"
      ],
      "execution_count": 157,
      "outputs": [
        {
          "output_type": "execute_result",
          "data": {
            "text/plain": [
              "Index(['Date', 'Max TemperatureF', 'Mean TemperatureF', 'Min TemperatureF',\n",
              "       'Max Dew PointF', 'MeanDew PointF', 'Min DewpointF', 'Max Humidity',\n",
              "       'Mean Humidity', 'Min Humidity', 'Max Sea Level PressureIn',\n",
              "       'Mean Sea Level PressureIn', 'Min Sea Level PressureIn',\n",
              "       'Max VisibilityMiles', 'Mean VisibilityMiles', 'Min VisibilityMiles',\n",
              "       'Max Wind SpeedMPH', 'Mean Wind SpeedMPH', 'Max Gust SpeedMPH',\n",
              "       'PrecipitationIn', 'CloudCover', 'Events', 'WindDirDegrees', 'Zip'],\n",
              "      dtype='object')"
            ]
          },
          "metadata": {
            "tags": []
          },
          "execution_count": 157
        }
      ]
    },
    {
      "cell_type": "code",
      "metadata": {
        "id": "AhcL2Qi-Bww9",
        "colab": {
          "base_uri": "https://localhost:8080/",
          "height": 698
        },
        "outputId": "1b08ed74-c3b5-4a5c-dd3f-d2d799a3265a"
      },
      "source": [
        "\r\n",
        "### Lets check summary stats for weather features\r\n",
        "df_weather.describe().T"
      ],
      "execution_count": 159,
      "outputs": [
        {
          "output_type": "execute_result",
          "data": {
            "text/html": [
              "<div>\n",
              "<style scoped>\n",
              "    .dataframe tbody tr th:only-of-type {\n",
              "        vertical-align: middle;\n",
              "    }\n",
              "\n",
              "    .dataframe tbody tr th {\n",
              "        vertical-align: top;\n",
              "    }\n",
              "\n",
              "    .dataframe thead th {\n",
              "        text-align: right;\n",
              "    }\n",
              "</style>\n",
              "<table border=\"1\" class=\"dataframe\">\n",
              "  <thead>\n",
              "    <tr style=\"text-align: right;\">\n",
              "      <th></th>\n",
              "      <th>count</th>\n",
              "      <th>mean</th>\n",
              "      <th>std</th>\n",
              "      <th>min</th>\n",
              "      <th>25%</th>\n",
              "      <th>50%</th>\n",
              "      <th>75%</th>\n",
              "      <th>max</th>\n",
              "    </tr>\n",
              "  </thead>\n",
              "  <tbody>\n",
              "    <tr>\n",
              "      <th>Max TemperatureF</th>\n",
              "      <td>1821.0</td>\n",
              "      <td>70.637013</td>\n",
              "      <td>8.260028</td>\n",
              "      <td>50.00</td>\n",
              "      <td>64.00</td>\n",
              "      <td>70.00</td>\n",
              "      <td>76.00</td>\n",
              "      <td>102.00</td>\n",
              "    </tr>\n",
              "    <tr>\n",
              "      <th>Mean TemperatureF</th>\n",
              "      <td>1821.0</td>\n",
              "      <td>61.837452</td>\n",
              "      <td>6.893216</td>\n",
              "      <td>41.00</td>\n",
              "      <td>57.00</td>\n",
              "      <td>61.00</td>\n",
              "      <td>67.00</td>\n",
              "      <td>82.00</td>\n",
              "    </tr>\n",
              "    <tr>\n",
              "      <th>Min TemperatureF</th>\n",
              "      <td>1821.0</td>\n",
              "      <td>52.733663</td>\n",
              "      <td>7.037803</td>\n",
              "      <td>30.00</td>\n",
              "      <td>48.00</td>\n",
              "      <td>53.00</td>\n",
              "      <td>58.00</td>\n",
              "      <td>75.00</td>\n",
              "    </tr>\n",
              "    <tr>\n",
              "      <th>Max Dew PointF</th>\n",
              "      <td>1775.0</td>\n",
              "      <td>54.460845</td>\n",
              "      <td>6.330125</td>\n",
              "      <td>20.00</td>\n",
              "      <td>50.00</td>\n",
              "      <td>55.00</td>\n",
              "      <td>59.00</td>\n",
              "      <td>68.00</td>\n",
              "    </tr>\n",
              "    <tr>\n",
              "      <th>MeanDew PointF</th>\n",
              "      <td>1775.0</td>\n",
              "      <td>50.397183</td>\n",
              "      <td>7.101097</td>\n",
              "      <td>13.00</td>\n",
              "      <td>47.00</td>\n",
              "      <td>51.00</td>\n",
              "      <td>56.00</td>\n",
              "      <td>64.00</td>\n",
              "    </tr>\n",
              "    <tr>\n",
              "      <th>Min DewpointF</th>\n",
              "      <td>1775.0</td>\n",
              "      <td>46.135775</td>\n",
              "      <td>8.548960</td>\n",
              "      <td>4.00</td>\n",
              "      <td>41.00</td>\n",
              "      <td>48.00</td>\n",
              "      <td>53.00</td>\n",
              "      <td>63.00</td>\n",
              "    </tr>\n",
              "    <tr>\n",
              "      <th>Max Humidity</th>\n",
              "      <td>1775.0</td>\n",
              "      <td>87.505915</td>\n",
              "      <td>8.537459</td>\n",
              "      <td>25.00</td>\n",
              "      <td>83.00</td>\n",
              "      <td>88.00</td>\n",
              "      <td>93.00</td>\n",
              "      <td>100.00</td>\n",
              "    </tr>\n",
              "    <tr>\n",
              "      <th>Mean Humidity</th>\n",
              "      <td>1775.0</td>\n",
              "      <td>69.282817</td>\n",
              "      <td>10.408295</td>\n",
              "      <td>25.00</td>\n",
              "      <td>64.00</td>\n",
              "      <td>70.00</td>\n",
              "      <td>75.00</td>\n",
              "      <td>96.00</td>\n",
              "    </tr>\n",
              "    <tr>\n",
              "      <th>Min Humidity</th>\n",
              "      <td>1775.0</td>\n",
              "      <td>48.769014</td>\n",
              "      <td>14.274316</td>\n",
              "      <td>4.00</td>\n",
              "      <td>40.00</td>\n",
              "      <td>50.00</td>\n",
              "      <td>57.00</td>\n",
              "      <td>86.00</td>\n",
              "    </tr>\n",
              "    <tr>\n",
              "      <th>Max Sea Level PressureIn</th>\n",
              "      <td>1824.0</td>\n",
              "      <td>30.070641</td>\n",
              "      <td>0.135416</td>\n",
              "      <td>29.67</td>\n",
              "      <td>29.97</td>\n",
              "      <td>30.05</td>\n",
              "      <td>30.17</td>\n",
              "      <td>30.48</td>\n",
              "    </tr>\n",
              "    <tr>\n",
              "      <th>Mean Sea Level PressureIn</th>\n",
              "      <td>1824.0</td>\n",
              "      <td>30.017144</td>\n",
              "      <td>0.131222</td>\n",
              "      <td>29.63</td>\n",
              "      <td>29.92</td>\n",
              "      <td>30.00</td>\n",
              "      <td>30.11</td>\n",
              "      <td>30.41</td>\n",
              "    </tr>\n",
              "    <tr>\n",
              "      <th>Min Sea Level PressureIn</th>\n",
              "      <td>1824.0</td>\n",
              "      <td>29.962659</td>\n",
              "      <td>0.132534</td>\n",
              "      <td>29.34</td>\n",
              "      <td>29.87</td>\n",
              "      <td>29.95</td>\n",
              "      <td>30.05</td>\n",
              "      <td>30.36</td>\n",
              "    </tr>\n",
              "    <tr>\n",
              "      <th>Max VisibilityMiles</th>\n",
              "      <td>1820.0</td>\n",
              "      <td>10.475275</td>\n",
              "      <td>2.083719</td>\n",
              "      <td>5.00</td>\n",
              "      <td>10.00</td>\n",
              "      <td>10.00</td>\n",
              "      <td>10.00</td>\n",
              "      <td>20.00</td>\n",
              "    </tr>\n",
              "    <tr>\n",
              "      <th>Mean VisibilityMiles</th>\n",
              "      <td>1820.0</td>\n",
              "      <td>9.636813</td>\n",
              "      <td>1.433697</td>\n",
              "      <td>4.00</td>\n",
              "      <td>10.00</td>\n",
              "      <td>10.00</td>\n",
              "      <td>10.00</td>\n",
              "      <td>20.00</td>\n",
              "    </tr>\n",
              "    <tr>\n",
              "      <th>Min VisibilityMiles</th>\n",
              "      <td>1820.0</td>\n",
              "      <td>7.948901</td>\n",
              "      <td>2.993878</td>\n",
              "      <td>0.00</td>\n",
              "      <td>6.00</td>\n",
              "      <td>10.00</td>\n",
              "      <td>10.00</td>\n",
              "      <td>20.00</td>\n",
              "    </tr>\n",
              "    <tr>\n",
              "      <th>Max Wind SpeedMPH</th>\n",
              "      <td>1824.0</td>\n",
              "      <td>16.347588</td>\n",
              "      <td>8.592296</td>\n",
              "      <td>4.00</td>\n",
              "      <td>12.00</td>\n",
              "      <td>16.00</td>\n",
              "      <td>20.00</td>\n",
              "      <td>128.00</td>\n",
              "    </tr>\n",
              "    <tr>\n",
              "      <th>Mean Wind SpeedMPH</th>\n",
              "      <td>1824.0</td>\n",
              "      <td>6.150219</td>\n",
              "      <td>3.238621</td>\n",
              "      <td>0.00</td>\n",
              "      <td>4.00</td>\n",
              "      <td>6.00</td>\n",
              "      <td>8.00</td>\n",
              "      <td>23.00</td>\n",
              "    </tr>\n",
              "    <tr>\n",
              "      <th>Max Gust SpeedMPH</th>\n",
              "      <td>1284.0</td>\n",
              "      <td>21.690810</td>\n",
              "      <td>6.052399</td>\n",
              "      <td>7.00</td>\n",
              "      <td>18.00</td>\n",
              "      <td>22.00</td>\n",
              "      <td>25.00</td>\n",
              "      <td>62.00</td>\n",
              "    </tr>\n",
              "    <tr>\n",
              "      <th>PrecipitationIn</th>\n",
              "      <td>1824.0</td>\n",
              "      <td>0.025032</td>\n",
              "      <td>0.177212</td>\n",
              "      <td>0.00</td>\n",
              "      <td>0.00</td>\n",
              "      <td>0.00</td>\n",
              "      <td>0.00</td>\n",
              "      <td>3.36</td>\n",
              "    </tr>\n",
              "    <tr>\n",
              "      <th>CloudCover</th>\n",
              "      <td>1824.0</td>\n",
              "      <td>3.110746</td>\n",
              "      <td>2.297131</td>\n",
              "      <td>0.00</td>\n",
              "      <td>1.00</td>\n",
              "      <td>3.00</td>\n",
              "      <td>5.00</td>\n",
              "      <td>8.00</td>\n",
              "    </tr>\n",
              "    <tr>\n",
              "      <th>WindDirDegrees</th>\n",
              "      <td>1824.0</td>\n",
              "      <td>260.584430</td>\n",
              "      <td>95.985517</td>\n",
              "      <td>0.00</td>\n",
              "      <td>242.00</td>\n",
              "      <td>295.00</td>\n",
              "      <td>328.00</td>\n",
              "      <td>360.00</td>\n",
              "    </tr>\n",
              "    <tr>\n",
              "      <th>Zip</th>\n",
              "      <td>1825.0</td>\n",
              "      <td>94325.000000</td>\n",
              "      <td>404.670892</td>\n",
              "      <td>94041.00</td>\n",
              "      <td>94063.00</td>\n",
              "      <td>94107.00</td>\n",
              "      <td>94301.00</td>\n",
              "      <td>95113.00</td>\n",
              "    </tr>\n",
              "  </tbody>\n",
              "</table>\n",
              "</div>"
            ],
            "text/plain": [
              "                            count          mean  ...       75%       max\n",
              "Max TemperatureF           1821.0     70.637013  ...     76.00    102.00\n",
              "Mean TemperatureF          1821.0     61.837452  ...     67.00     82.00\n",
              "Min TemperatureF           1821.0     52.733663  ...     58.00     75.00\n",
              "Max Dew PointF             1775.0     54.460845  ...     59.00     68.00\n",
              "MeanDew PointF             1775.0     50.397183  ...     56.00     64.00\n",
              "Min DewpointF              1775.0     46.135775  ...     53.00     63.00\n",
              "Max Humidity               1775.0     87.505915  ...     93.00    100.00\n",
              "Mean Humidity              1775.0     69.282817  ...     75.00     96.00\n",
              "Min Humidity               1775.0     48.769014  ...     57.00     86.00\n",
              "Max Sea Level PressureIn   1824.0     30.070641  ...     30.17     30.48\n",
              "Mean Sea Level PressureIn  1824.0     30.017144  ...     30.11     30.41\n",
              "Min Sea Level PressureIn   1824.0     29.962659  ...     30.05     30.36\n",
              "Max VisibilityMiles        1820.0     10.475275  ...     10.00     20.00\n",
              "Mean VisibilityMiles       1820.0      9.636813  ...     10.00     20.00\n",
              "Min VisibilityMiles        1820.0      7.948901  ...     10.00     20.00\n",
              "Max Wind SpeedMPH          1824.0     16.347588  ...     20.00    128.00\n",
              "Mean Wind SpeedMPH         1824.0      6.150219  ...      8.00     23.00\n",
              "Max Gust SpeedMPH          1284.0     21.690810  ...     25.00     62.00\n",
              "PrecipitationIn            1824.0      0.025032  ...      0.00      3.36\n",
              "CloudCover                 1824.0      3.110746  ...      5.00      8.00\n",
              "WindDirDegrees             1824.0    260.584430  ...    328.00    360.00\n",
              "Zip                        1825.0  94325.000000  ...  94301.00  95113.00\n",
              "\n",
              "[22 rows x 8 columns]"
            ]
          },
          "metadata": {
            "tags": []
          },
          "execution_count": 159
        }
      ]
    },
    {
      "cell_type": "code",
      "metadata": {
        "id": "iHbYMQdHByqA",
        "colab": {
          "base_uri": "https://localhost:8080/"
        },
        "outputId": "9800d9ce-f352-4c40-aad7-f7566aedf91a"
      },
      "source": [
        "#Dimensões da tabela\r\n",
        "df_weather.shape"
      ],
      "execution_count": 160,
      "outputs": [
        {
          "output_type": "execute_result",
          "data": {
            "text/plain": [
              "(1825, 24)"
            ]
          },
          "metadata": {
            "tags": []
          },
          "execution_count": 160
        }
      ]
    },
    {
      "cell_type": "code",
      "metadata": {
        "id": "_A_-r7pkB0l7"
      },
      "source": [
        "### Verifica Missings nos campos (Eventos tem muito missing)\r\n",
        "df_weather.isnull().sum()"
      ],
      "execution_count": null,
      "outputs": []
    },
    {
      "cell_type": "code",
      "metadata": {
        "id": "BNHJd-MaB3BK",
        "colab": {
          "base_uri": "https://localhost:8080/"
        },
        "outputId": "e73c4482-7ecc-40ec-ac67-cf4223707c5f"
      },
      "source": [
        "### Lets check more on this feature: Events\r\n",
        "df_weather['Events'].unique()"
      ],
      "execution_count": 166,
      "outputs": [
        {
          "output_type": "execute_result",
          "data": {
            "text/plain": [
              "array([nan, 'Rain', 'Fog', 'Fog-Rain', 'Rain-Thunderstorm'], dtype=object)"
            ]
          },
          "metadata": {
            "tags": []
          },
          "execution_count": 166
        }
      ]
    },
    {
      "cell_type": "code",
      "metadata": {
        "id": "apDux9UuB5i9",
        "colab": {
          "base_uri": "https://localhost:8080/"
        },
        "outputId": "0eebdc47-b8f0-48c0-a6d8-61d738864b7c"
      },
      "source": [
        "### only a few events captured under Rain, Fog and Fog-Rain have weather details\r\n",
        "df_weather['Events'].value_counts()"
      ],
      "execution_count": 167,
      "outputs": [
        {
          "output_type": "execute_result",
          "data": {
            "text/plain": [
              "Rain                 195\n",
              "Fog                   73\n",
              "Fog-Rain              16\n",
              "Rain-Thunderstorm      3\n",
              "Name: Events, dtype: int64"
            ]
          },
          "metadata": {
            "tags": []
          },
          "execution_count": 167
        }
      ]
    },
    {
      "cell_type": "markdown",
      "metadata": {
        "id": "CLIrRJ8bB_xw"
      },
      "source": [
        "### Precisamos de Dados externos de lat e long para fazer o Join e usar código postal ZIP para mesclar o df_weather com  a tabela de variáveis das estações \"df_station\""
      ]
    },
    {
      "cell_type": "code",
      "metadata": {
        "id": "QwnhowtjJrkE"
      },
      "source": [
        "df_weather.describe().T"
      ],
      "execution_count": null,
      "outputs": []
    },
    {
      "cell_type": "code",
      "metadata": {
        "colab": {
          "base_uri": "https://localhost:8080/",
          "height": 166
        },
        "id": "FhGd1Q--KAda",
        "outputId": "8bfff71a-3924-4c39-e108-2fbb38cf8cba"
      },
      "source": [
        "df_station.describe().T"
      ],
      "execution_count": 171,
      "outputs": [
        {
          "output_type": "execute_result",
          "data": {
            "text/html": [
              "<div>\n",
              "<style scoped>\n",
              "    .dataframe tbody tr th:only-of-type {\n",
              "        vertical-align: middle;\n",
              "    }\n",
              "\n",
              "    .dataframe tbody tr th {\n",
              "        vertical-align: top;\n",
              "    }\n",
              "\n",
              "    .dataframe thead th {\n",
              "        text-align: right;\n",
              "    }\n",
              "</style>\n",
              "<table border=\"1\" class=\"dataframe\">\n",
              "  <thead>\n",
              "    <tr style=\"text-align: right;\">\n",
              "      <th></th>\n",
              "      <th>count</th>\n",
              "      <th>mean</th>\n",
              "      <th>std</th>\n",
              "      <th>min</th>\n",
              "      <th>25%</th>\n",
              "      <th>50%</th>\n",
              "      <th>75%</th>\n",
              "      <th>max</th>\n",
              "    </tr>\n",
              "  </thead>\n",
              "  <tbody>\n",
              "    <tr>\n",
              "      <th>Id</th>\n",
              "      <td>76.0</td>\n",
              "      <td>46.513158</td>\n",
              "      <td>26.142427</td>\n",
              "      <td>2.0</td>\n",
              "      <td>25.75</td>\n",
              "      <td>47.5</td>\n",
              "      <td>68.25</td>\n",
              "      <td>90.0</td>\n",
              "    </tr>\n",
              "    <tr>\n",
              "      <th>Lat</th>\n",
              "      <td>76.0</td>\n",
              "      <td>37.597368</td>\n",
              "      <td>0.216625</td>\n",
              "      <td>37.3</td>\n",
              "      <td>37.40</td>\n",
              "      <td>37.8</td>\n",
              "      <td>37.80</td>\n",
              "      <td>37.8</td>\n",
              "    </tr>\n",
              "    <tr>\n",
              "      <th>Long</th>\n",
              "      <td>76.0</td>\n",
              "      <td>-122.227632</td>\n",
              "      <td>0.201063</td>\n",
              "      <td>-122.4</td>\n",
              "      <td>-122.40</td>\n",
              "      <td>-122.4</td>\n",
              "      <td>-122.10</td>\n",
              "      <td>-121.9</td>\n",
              "    </tr>\n",
              "    <tr>\n",
              "      <th>Dock Count</th>\n",
              "      <td>76.0</td>\n",
              "      <td>17.815789</td>\n",
              "      <td>4.015671</td>\n",
              "      <td>11.0</td>\n",
              "      <td>15.00</td>\n",
              "      <td>15.0</td>\n",
              "      <td>19.00</td>\n",
              "      <td>27.0</td>\n",
              "    </tr>\n",
              "  </tbody>\n",
              "</table>\n",
              "</div>"
            ],
            "text/plain": [
              "            count        mean        std    min     25%    50%     75%    max\n",
              "Id           76.0   46.513158  26.142427    2.0   25.75   47.5   68.25   90.0\n",
              "Lat          76.0   37.597368   0.216625   37.3   37.40   37.8   37.80   37.8\n",
              "Long         76.0 -122.227632   0.201063 -122.4 -122.40 -122.4 -122.10 -121.9\n",
              "Dock Count   76.0   17.815789   4.015671   11.0   15.00   15.0   19.00   27.0"
            ]
          },
          "metadata": {
            "tags": []
          },
          "execution_count": 171
        }
      ]
    },
    {
      "cell_type": "markdown",
      "metadata": {
        "id": "8zkn9t4fKhRZ"
      },
      "source": [
        "### Buscamos dataset Público com informações de Lat e Long e ZIP\r\n",
        "https://public.opendatasoft.com/explore/dataset/us-zip-code-latitude-and-longitude/export/"
      ]
    },
    {
      "cell_type": "code",
      "metadata": {
        "id": "5_TTu9L4CBB3"
      },
      "source": [
        "### Fetching data from the website: https://public.opendatasoft.com/explore/dataset/us-zip-code-latitude-and-longitude/export/\r\n",
        "#-longitude.csv')\r\n",
        "zip_to_latlong = pd.read_csv('https://raw.githubusercontent.com/vidhi-am/tds_articles/master/AV_blogathon/Data_preparation_FeatureEngg/us-zip-code-latitude-and-longitude.csv', sep=';')\r\n",
        "zip_to_latlong"
      ],
      "execution_count": null,
      "outputs": []
    },
    {
      "cell_type": "code",
      "metadata": {
        "id": "1-pZhO4qCDKa"
      },
      "source": [
        "### For all relevant cities prsent in out df_station data, get lat long information with corresponding zip \r\n",
        "zip_to_latlong = zip_to_latlong[zip_to_latlong.City.isin(df_station.City.unique())]\r\n",
        "\r\n",
        "### Filtrando somente as colunas que vamos usar\r\n",
        "zip_to_latlong = zip_to_latlong[['Zip', 'Latitude', 'Longitude']]\r\n"
      ],
      "execution_count": null,
      "outputs": []
    },
    {
      "cell_type": "code",
      "metadata": {
        "id": "9k_K5-3eCFMB",
        "colab": {
          "base_uri": "https://localhost:8080/",
          "height": 195
        },
        "outputId": "83ba5091-062b-4103-aef8-3faa259d5a31"
      },
      "source": [
        "#View na tabela\r\n",
        "zip_to_latlong.head()"
      ],
      "execution_count": 175,
      "outputs": [
        {
          "output_type": "execute_result",
          "data": {
            "text/html": [
              "<div>\n",
              "<style scoped>\n",
              "    .dataframe tbody tr th:only-of-type {\n",
              "        vertical-align: middle;\n",
              "    }\n",
              "\n",
              "    .dataframe tbody tr th {\n",
              "        vertical-align: top;\n",
              "    }\n",
              "\n",
              "    .dataframe thead th {\n",
              "        text-align: right;\n",
              "    }\n",
              "</style>\n",
              "<table border=\"1\" class=\"dataframe\">\n",
              "  <thead>\n",
              "    <tr style=\"text-align: right;\">\n",
              "      <th></th>\n",
              "      <th>Zip</th>\n",
              "      <th>Latitude</th>\n",
              "      <th>Longitude</th>\n",
              "    </tr>\n",
              "  </thead>\n",
              "  <tbody>\n",
              "    <tr>\n",
              "      <th>88</th>\n",
              "      <td>94156</td>\n",
              "      <td>37.784827</td>\n",
              "      <td>-122.727802</td>\n",
              "    </tr>\n",
              "    <tr>\n",
              "      <th>523</th>\n",
              "      <td>95159</td>\n",
              "      <td>37.189396</td>\n",
              "      <td>-121.705327</td>\n",
              "    </tr>\n",
              "    <tr>\n",
              "      <th>774</th>\n",
              "      <td>94303</td>\n",
              "      <td>37.449888</td>\n",
              "      <td>-122.127490</td>\n",
              "    </tr>\n",
              "    <tr>\n",
              "      <th>1427</th>\n",
              "      <td>94142</td>\n",
              "      <td>37.784827</td>\n",
              "      <td>-122.727802</td>\n",
              "    </tr>\n",
              "    <tr>\n",
              "      <th>1706</th>\n",
              "      <td>94122</td>\n",
              "      <td>37.758380</td>\n",
              "      <td>-122.484780</td>\n",
              "    </tr>\n",
              "  </tbody>\n",
              "</table>\n",
              "</div>"
            ],
            "text/plain": [
              "        Zip   Latitude   Longitude\n",
              "88    94156  37.784827 -122.727802\n",
              "523   95159  37.189396 -121.705327\n",
              "774   94303  37.449888 -122.127490\n",
              "1427  94142  37.784827 -122.727802\n",
              "1706  94122  37.758380 -122.484780"
            ]
          },
          "metadata": {
            "tags": []
          },
          "execution_count": 175
        }
      ]
    },
    {
      "cell_type": "code",
      "metadata": {
        "id": "ckmgDpaDCHDs"
      },
      "source": [
        "### Agora sim, juntamos (Merging) os dados de clima com os dados externos para juntar aos dados da estação e da viagem no nível de data\r\n",
        "df_weather_latlong = df_weather.merge(zip_to_latlong, on = 'Zip', how = 'left')\r\n",
        "df_weather_latlong"
      ],
      "execution_count": null,
      "outputs": []
    },
    {
      "cell_type": "code",
      "metadata": {
        "id": "K5iazTzFCJaP"
      },
      "source": [
        "### Arredondando para fazer o Merging\r\n",
        "df_weather_latlong['Latitude'] = np.round(df_weather_latlong['Latitude'], 1)\r\n",
        "df_weather_latlong"
      ],
      "execution_count": null,
      "outputs": []
    },
    {
      "cell_type": "code",
      "metadata": {
        "id": "up_gSbwyEtdl"
      },
      "source": [
        "df_weather_latlong['Longitude'] = np.round(df_weather_latlong['Longitude'], 1)\r\n",
        "df_weather_latlong"
      ],
      "execution_count": null,
      "outputs": []
    },
    {
      "cell_type": "code",
      "metadata": {
        "id": "ZjCGzC6ZCL0r"
      },
      "source": [
        "df_weather_latlong.head()"
      ],
      "execution_count": null,
      "outputs": []
    },
    {
      "cell_type": "code",
      "metadata": {
        "id": "MXVwgJioCwYf"
      },
      "source": [
        "df_weather_latlong.info()"
      ],
      "execution_count": null,
      "outputs": []
    },
    {
      "cell_type": "code",
      "metadata": {
        "id": "PJWHHWymCyOJ"
      },
      "source": [
        "df_station.shape"
      ],
      "execution_count": null,
      "outputs": []
    },
    {
      "cell_type": "markdown",
      "metadata": {
        "id": "T9C1HcY5C0Qm"
      },
      "source": [
        "Date type correction for appropriate merge"
      ]
    },
    {
      "cell_type": "code",
      "metadata": {
        "id": "RVgsFTujC20I",
        "colab": {
          "base_uri": "https://localhost:8080/",
          "height": 623
        },
        "outputId": "db85c075-cb0c-4dc2-dc04-dc0de4bdc30f"
      },
      "source": [
        "df_weather_latlong['Date']  = pd.to_datetime(df_weather_latlong['Date'])\r\n",
        "df_weather_latlong\r\n"
      ],
      "execution_count": 187,
      "outputs": [
        {
          "output_type": "execute_result",
          "data": {
            "text/html": [
              "<div>\n",
              "<style scoped>\n",
              "    .dataframe tbody tr th:only-of-type {\n",
              "        vertical-align: middle;\n",
              "    }\n",
              "\n",
              "    .dataframe tbody tr th {\n",
              "        vertical-align: top;\n",
              "    }\n",
              "\n",
              "    .dataframe thead th {\n",
              "        text-align: right;\n",
              "    }\n",
              "</style>\n",
              "<table border=\"1\" class=\"dataframe\">\n",
              "  <thead>\n",
              "    <tr style=\"text-align: right;\">\n",
              "      <th></th>\n",
              "      <th>Date</th>\n",
              "      <th>Max TemperatureF</th>\n",
              "      <th>Mean TemperatureF</th>\n",
              "      <th>Min TemperatureF</th>\n",
              "      <th>Max Dew PointF</th>\n",
              "      <th>MeanDew PointF</th>\n",
              "      <th>Min DewpointF</th>\n",
              "      <th>Max Humidity</th>\n",
              "      <th>Mean Humidity</th>\n",
              "      <th>Min Humidity</th>\n",
              "      <th>Max Sea Level PressureIn</th>\n",
              "      <th>Mean Sea Level PressureIn</th>\n",
              "      <th>Min Sea Level PressureIn</th>\n",
              "      <th>Max VisibilityMiles</th>\n",
              "      <th>Mean VisibilityMiles</th>\n",
              "      <th>Min VisibilityMiles</th>\n",
              "      <th>Max Wind SpeedMPH</th>\n",
              "      <th>Mean Wind SpeedMPH</th>\n",
              "      <th>Max Gust SpeedMPH</th>\n",
              "      <th>PrecipitationIn</th>\n",
              "      <th>CloudCover</th>\n",
              "      <th>Events</th>\n",
              "      <th>WindDirDegrees</th>\n",
              "      <th>Zip</th>\n",
              "      <th>Latitude</th>\n",
              "      <th>Longitude</th>\n",
              "    </tr>\n",
              "  </thead>\n",
              "  <tbody>\n",
              "    <tr>\n",
              "      <th>0</th>\n",
              "      <td>2014-01-09</td>\n",
              "      <td>83.0</td>\n",
              "      <td>70.0</td>\n",
              "      <td>57.0</td>\n",
              "      <td>58.0</td>\n",
              "      <td>56.0</td>\n",
              "      <td>52.0</td>\n",
              "      <td>86.0</td>\n",
              "      <td>64.0</td>\n",
              "      <td>42.0</td>\n",
              "      <td>29.86</td>\n",
              "      <td>29.82</td>\n",
              "      <td>29.76</td>\n",
              "      <td>10.0</td>\n",
              "      <td>10.0</td>\n",
              "      <td>8.0</td>\n",
              "      <td>16.0</td>\n",
              "      <td>7.0</td>\n",
              "      <td>20.0</td>\n",
              "      <td>0.0</td>\n",
              "      <td>0.0</td>\n",
              "      <td>NaN</td>\n",
              "      <td>290.0</td>\n",
              "      <td>94107</td>\n",
              "      <td>37.8</td>\n",
              "      <td>-122.4</td>\n",
              "    </tr>\n",
              "    <tr>\n",
              "      <th>1</th>\n",
              "      <td>2014-02-09</td>\n",
              "      <td>72.0</td>\n",
              "      <td>66.0</td>\n",
              "      <td>60.0</td>\n",
              "      <td>58.0</td>\n",
              "      <td>57.0</td>\n",
              "      <td>55.0</td>\n",
              "      <td>84.0</td>\n",
              "      <td>73.0</td>\n",
              "      <td>61.0</td>\n",
              "      <td>29.87</td>\n",
              "      <td>29.82</td>\n",
              "      <td>29.79</td>\n",
              "      <td>10.0</td>\n",
              "      <td>10.0</td>\n",
              "      <td>7.0</td>\n",
              "      <td>21.0</td>\n",
              "      <td>8.0</td>\n",
              "      <td>NaN</td>\n",
              "      <td>0.0</td>\n",
              "      <td>5.0</td>\n",
              "      <td>NaN</td>\n",
              "      <td>290.0</td>\n",
              "      <td>94107</td>\n",
              "      <td>37.8</td>\n",
              "      <td>-122.4</td>\n",
              "    </tr>\n",
              "    <tr>\n",
              "      <th>2</th>\n",
              "      <td>2014-03-09</td>\n",
              "      <td>76.0</td>\n",
              "      <td>69.0</td>\n",
              "      <td>61.0</td>\n",
              "      <td>57.0</td>\n",
              "      <td>56.0</td>\n",
              "      <td>55.0</td>\n",
              "      <td>84.0</td>\n",
              "      <td>69.0</td>\n",
              "      <td>53.0</td>\n",
              "      <td>29.81</td>\n",
              "      <td>29.76</td>\n",
              "      <td>29.72</td>\n",
              "      <td>10.0</td>\n",
              "      <td>10.0</td>\n",
              "      <td>10.0</td>\n",
              "      <td>21.0</td>\n",
              "      <td>8.0</td>\n",
              "      <td>24.0</td>\n",
              "      <td>0.0</td>\n",
              "      <td>4.0</td>\n",
              "      <td>NaN</td>\n",
              "      <td>276.0</td>\n",
              "      <td>94107</td>\n",
              "      <td>37.8</td>\n",
              "      <td>-122.4</td>\n",
              "    </tr>\n",
              "    <tr>\n",
              "      <th>3</th>\n",
              "      <td>2014-04-09</td>\n",
              "      <td>74.0</td>\n",
              "      <td>68.0</td>\n",
              "      <td>61.0</td>\n",
              "      <td>57.0</td>\n",
              "      <td>57.0</td>\n",
              "      <td>56.0</td>\n",
              "      <td>84.0</td>\n",
              "      <td>71.0</td>\n",
              "      <td>57.0</td>\n",
              "      <td>29.81</td>\n",
              "      <td>29.76</td>\n",
              "      <td>29.72</td>\n",
              "      <td>10.0</td>\n",
              "      <td>10.0</td>\n",
              "      <td>8.0</td>\n",
              "      <td>22.0</td>\n",
              "      <td>8.0</td>\n",
              "      <td>25.0</td>\n",
              "      <td>0.0</td>\n",
              "      <td>5.0</td>\n",
              "      <td>NaN</td>\n",
              "      <td>301.0</td>\n",
              "      <td>94107</td>\n",
              "      <td>37.8</td>\n",
              "      <td>-122.4</td>\n",
              "    </tr>\n",
              "    <tr>\n",
              "      <th>4</th>\n",
              "      <td>2014-05-09</td>\n",
              "      <td>72.0</td>\n",
              "      <td>66.0</td>\n",
              "      <td>60.0</td>\n",
              "      <td>57.0</td>\n",
              "      <td>56.0</td>\n",
              "      <td>54.0</td>\n",
              "      <td>84.0</td>\n",
              "      <td>71.0</td>\n",
              "      <td>57.0</td>\n",
              "      <td>29.92</td>\n",
              "      <td>29.87</td>\n",
              "      <td>29.81</td>\n",
              "      <td>10.0</td>\n",
              "      <td>9.0</td>\n",
              "      <td>7.0</td>\n",
              "      <td>18.0</td>\n",
              "      <td>8.0</td>\n",
              "      <td>32.0</td>\n",
              "      <td>0.0</td>\n",
              "      <td>4.0</td>\n",
              "      <td>NaN</td>\n",
              "      <td>309.0</td>\n",
              "      <td>94107</td>\n",
              "      <td>37.8</td>\n",
              "      <td>-122.4</td>\n",
              "    </tr>\n",
              "    <tr>\n",
              "      <th>...</th>\n",
              "      <td>...</td>\n",
              "      <td>...</td>\n",
              "      <td>...</td>\n",
              "      <td>...</td>\n",
              "      <td>...</td>\n",
              "      <td>...</td>\n",
              "      <td>...</td>\n",
              "      <td>...</td>\n",
              "      <td>...</td>\n",
              "      <td>...</td>\n",
              "      <td>...</td>\n",
              "      <td>...</td>\n",
              "      <td>...</td>\n",
              "      <td>...</td>\n",
              "      <td>...</td>\n",
              "      <td>...</td>\n",
              "      <td>...</td>\n",
              "      <td>...</td>\n",
              "      <td>...</td>\n",
              "      <td>...</td>\n",
              "      <td>...</td>\n",
              "      <td>...</td>\n",
              "      <td>...</td>\n",
              "      <td>...</td>\n",
              "      <td>...</td>\n",
              "      <td>...</td>\n",
              "    </tr>\n",
              "    <tr>\n",
              "      <th>1820</th>\n",
              "      <td>2015-08-27</td>\n",
              "      <td>92.0</td>\n",
              "      <td>78.0</td>\n",
              "      <td>63.0</td>\n",
              "      <td>57.0</td>\n",
              "      <td>51.0</td>\n",
              "      <td>40.0</td>\n",
              "      <td>78.0</td>\n",
              "      <td>48.0</td>\n",
              "      <td>18.0</td>\n",
              "      <td>30.05</td>\n",
              "      <td>30.01</td>\n",
              "      <td>29.96</td>\n",
              "      <td>10.0</td>\n",
              "      <td>10.0</td>\n",
              "      <td>10.0</td>\n",
              "      <td>23.0</td>\n",
              "      <td>6.0</td>\n",
              "      <td>29.0</td>\n",
              "      <td>0.0</td>\n",
              "      <td>3.0</td>\n",
              "      <td>NaN</td>\n",
              "      <td>313.0</td>\n",
              "      <td>95113</td>\n",
              "      <td>37.3</td>\n",
              "      <td>-121.9</td>\n",
              "    </tr>\n",
              "    <tr>\n",
              "      <th>1821</th>\n",
              "      <td>2015-08-28</td>\n",
              "      <td>95.0</td>\n",
              "      <td>80.0</td>\n",
              "      <td>64.0</td>\n",
              "      <td>64.0</td>\n",
              "      <td>56.0</td>\n",
              "      <td>52.0</td>\n",
              "      <td>93.0</td>\n",
              "      <td>60.0</td>\n",
              "      <td>26.0</td>\n",
              "      <td>29.96</td>\n",
              "      <td>29.89</td>\n",
              "      <td>29.83</td>\n",
              "      <td>10.0</td>\n",
              "      <td>10.0</td>\n",
              "      <td>10.0</td>\n",
              "      <td>25.0</td>\n",
              "      <td>7.0</td>\n",
              "      <td>30.0</td>\n",
              "      <td>0.0</td>\n",
              "      <td>3.0</td>\n",
              "      <td>NaN</td>\n",
              "      <td>307.0</td>\n",
              "      <td>95113</td>\n",
              "      <td>37.3</td>\n",
              "      <td>-121.9</td>\n",
              "    </tr>\n",
              "    <tr>\n",
              "      <th>1822</th>\n",
              "      <td>2015-08-29</td>\n",
              "      <td>80.0</td>\n",
              "      <td>72.0</td>\n",
              "      <td>64.0</td>\n",
              "      <td>65.0</td>\n",
              "      <td>62.0</td>\n",
              "      <td>54.0</td>\n",
              "      <td>93.0</td>\n",
              "      <td>70.0</td>\n",
              "      <td>47.0</td>\n",
              "      <td>30.01</td>\n",
              "      <td>29.96</td>\n",
              "      <td>29.92</td>\n",
              "      <td>10.0</td>\n",
              "      <td>10.0</td>\n",
              "      <td>10.0</td>\n",
              "      <td>21.0</td>\n",
              "      <td>9.0</td>\n",
              "      <td>26.0</td>\n",
              "      <td>0.0</td>\n",
              "      <td>4.0</td>\n",
              "      <td>NaN</td>\n",
              "      <td>312.0</td>\n",
              "      <td>95113</td>\n",
              "      <td>37.3</td>\n",
              "      <td>-121.9</td>\n",
              "    </tr>\n",
              "    <tr>\n",
              "      <th>1823</th>\n",
              "      <td>2015-08-30</td>\n",
              "      <td>78.0</td>\n",
              "      <td>70.0</td>\n",
              "      <td>62.0</td>\n",
              "      <td>60.0</td>\n",
              "      <td>57.0</td>\n",
              "      <td>53.0</td>\n",
              "      <td>84.0</td>\n",
              "      <td>64.0</td>\n",
              "      <td>43.0</td>\n",
              "      <td>30.06</td>\n",
              "      <td>30.01</td>\n",
              "      <td>29.95</td>\n",
              "      <td>10.0</td>\n",
              "      <td>10.0</td>\n",
              "      <td>10.0</td>\n",
              "      <td>22.0</td>\n",
              "      <td>10.0</td>\n",
              "      <td>29.0</td>\n",
              "      <td>0.0</td>\n",
              "      <td>3.0</td>\n",
              "      <td>NaN</td>\n",
              "      <td>291.0</td>\n",
              "      <td>95113</td>\n",
              "      <td>37.3</td>\n",
              "      <td>-121.9</td>\n",
              "    </tr>\n",
              "    <tr>\n",
              "      <th>1824</th>\n",
              "      <td>2015-08-31</td>\n",
              "      <td>85.0</td>\n",
              "      <td>72.0</td>\n",
              "      <td>59.0</td>\n",
              "      <td>59.0</td>\n",
              "      <td>55.0</td>\n",
              "      <td>51.0</td>\n",
              "      <td>84.0</td>\n",
              "      <td>58.0</td>\n",
              "      <td>32.0</td>\n",
              "      <td>29.95</td>\n",
              "      <td>29.90</td>\n",
              "      <td>29.85</td>\n",
              "      <td>10.0</td>\n",
              "      <td>10.0</td>\n",
              "      <td>10.0</td>\n",
              "      <td>20.0</td>\n",
              "      <td>6.0</td>\n",
              "      <td>24.0</td>\n",
              "      <td>0.0</td>\n",
              "      <td>1.0</td>\n",
              "      <td>NaN</td>\n",
              "      <td>308.0</td>\n",
              "      <td>95113</td>\n",
              "      <td>37.3</td>\n",
              "      <td>-121.9</td>\n",
              "    </tr>\n",
              "  </tbody>\n",
              "</table>\n",
              "<p>1825 rows × 26 columns</p>\n",
              "</div>"
            ],
            "text/plain": [
              "           Date  Max TemperatureF  ...  Latitude  Longitude\n",
              "0    2014-01-09              83.0  ...      37.8     -122.4\n",
              "1    2014-02-09              72.0  ...      37.8     -122.4\n",
              "2    2014-03-09              76.0  ...      37.8     -122.4\n",
              "3    2014-04-09              74.0  ...      37.8     -122.4\n",
              "4    2014-05-09              72.0  ...      37.8     -122.4\n",
              "...         ...               ...  ...       ...        ...\n",
              "1820 2015-08-27              92.0  ...      37.3     -121.9\n",
              "1821 2015-08-28              95.0  ...      37.3     -121.9\n",
              "1822 2015-08-29              80.0  ...      37.3     -121.9\n",
              "1823 2015-08-30              78.0  ...      37.3     -121.9\n",
              "1824 2015-08-31              85.0  ...      37.3     -121.9\n",
              "\n",
              "[1825 rows x 26 columns]"
            ]
          },
          "metadata": {
            "tags": []
          },
          "execution_count": 187
        }
      ]
    },
    {
      "cell_type": "code",
      "metadata": {
        "colab": {
          "base_uri": "https://localhost:8080/",
          "height": 402
        },
        "id": "PUwjWl_3FAbS",
        "outputId": "19c35cd2-f00d-4626-a93a-babb8832a82a"
      },
      "source": [
        "df_station_netrate['date'] = pd.to_datetime(df_station_netrate['date'])\r\n",
        "df_station_netrate"
      ],
      "execution_count": 188,
      "outputs": [
        {
          "output_type": "execute_result",
          "data": {
            "text/html": [
              "<div>\n",
              "<style scoped>\n",
              "    .dataframe tbody tr th:only-of-type {\n",
              "        vertical-align: middle;\n",
              "    }\n",
              "\n",
              "    .dataframe tbody tr th {\n",
              "        vertical-align: top;\n",
              "    }\n",
              "\n",
              "    .dataframe thead th {\n",
              "        text-align: right;\n",
              "    }\n",
              "</style>\n",
              "<table border=\"1\" class=\"dataframe\">\n",
              "  <thead>\n",
              "    <tr style=\"text-align: right;\">\n",
              "      <th></th>\n",
              "      <th>hour</th>\n",
              "      <th>station</th>\n",
              "      <th>trip_x</th>\n",
              "      <th>trip_y</th>\n",
              "      <th>net_rate</th>\n",
              "      <th>date</th>\n",
              "      <th>Id</th>\n",
              "      <th>Name</th>\n",
              "      <th>Lat</th>\n",
              "      <th>Long</th>\n",
              "      <th>Dock Count</th>\n",
              "      <th>City</th>\n",
              "    </tr>\n",
              "  </thead>\n",
              "  <tbody>\n",
              "    <tr>\n",
              "      <th>0</th>\n",
              "      <td>2015-01-01 01:00:00</td>\n",
              "      <td>66</td>\n",
              "      <td>4</td>\n",
              "      <td>1</td>\n",
              "      <td>3</td>\n",
              "      <td>2015-01-01</td>\n",
              "      <td>66</td>\n",
              "      <td>South Van Ness at Market</td>\n",
              "      <td>37.8</td>\n",
              "      <td>-122.4</td>\n",
              "      <td>19</td>\n",
              "      <td>San Francisco</td>\n",
              "    </tr>\n",
              "    <tr>\n",
              "      <th>1</th>\n",
              "      <td>2015-01-01 11:00:00</td>\n",
              "      <td>50</td>\n",
              "      <td>3</td>\n",
              "      <td>1</td>\n",
              "      <td>2</td>\n",
              "      <td>2015-01-01</td>\n",
              "      <td>50</td>\n",
              "      <td>Harry Bridges Plaza (Ferry Building)</td>\n",
              "      <td>37.8</td>\n",
              "      <td>-122.4</td>\n",
              "      <td>23</td>\n",
              "      <td>San Francisco</td>\n",
              "    </tr>\n",
              "    <tr>\n",
              "      <th>2</th>\n",
              "      <td>2015-01-01 11:00:00</td>\n",
              "      <td>68</td>\n",
              "      <td>2</td>\n",
              "      <td>2</td>\n",
              "      <td>0</td>\n",
              "      <td>2015-01-01</td>\n",
              "      <td>68</td>\n",
              "      <td>Yerba Buena Center of the Arts (3rd @ Howard)</td>\n",
              "      <td>37.8</td>\n",
              "      <td>-122.4</td>\n",
              "      <td>19</td>\n",
              "      <td>San Francisco</td>\n",
              "    </tr>\n",
              "    <tr>\n",
              "      <th>3</th>\n",
              "      <td>2015-01-01 11:00:00</td>\n",
              "      <td>76</td>\n",
              "      <td>2</td>\n",
              "      <td>4</td>\n",
              "      <td>-2</td>\n",
              "      <td>2015-01-01</td>\n",
              "      <td>76</td>\n",
              "      <td>Market at 4th</td>\n",
              "      <td>37.8</td>\n",
              "      <td>-122.4</td>\n",
              "      <td>19</td>\n",
              "      <td>San Francisco</td>\n",
              "    </tr>\n",
              "    <tr>\n",
              "      <th>4</th>\n",
              "      <td>2015-01-01 12:00:00</td>\n",
              "      <td>39</td>\n",
              "      <td>2</td>\n",
              "      <td>2</td>\n",
              "      <td>0</td>\n",
              "      <td>2015-01-01</td>\n",
              "      <td>39</td>\n",
              "      <td>Powell Street BART</td>\n",
              "      <td>37.8</td>\n",
              "      <td>-122.4</td>\n",
              "      <td>19</td>\n",
              "      <td>San Francisco</td>\n",
              "    </tr>\n",
              "    <tr>\n",
              "      <th>...</th>\n",
              "      <td>...</td>\n",
              "      <td>...</td>\n",
              "      <td>...</td>\n",
              "      <td>...</td>\n",
              "      <td>...</td>\n",
              "      <td>...</td>\n",
              "      <td>...</td>\n",
              "      <td>...</td>\n",
              "      <td>...</td>\n",
              "      <td>...</td>\n",
              "      <td>...</td>\n",
              "      <td>...</td>\n",
              "    </tr>\n",
              "    <tr>\n",
              "      <th>83019</th>\n",
              "      <td>2014-12-31 18:00:00</td>\n",
              "      <td>67</td>\n",
              "      <td>1</td>\n",
              "      <td>2</td>\n",
              "      <td>-1</td>\n",
              "      <td>2014-12-31</td>\n",
              "      <td>67</td>\n",
              "      <td>Market at 10th</td>\n",
              "      <td>37.8</td>\n",
              "      <td>-122.4</td>\n",
              "      <td>27</td>\n",
              "      <td>San Francisco</td>\n",
              "    </tr>\n",
              "    <tr>\n",
              "      <th>83020</th>\n",
              "      <td>2014-12-31 18:00:00</td>\n",
              "      <td>70</td>\n",
              "      <td>1</td>\n",
              "      <td>1</td>\n",
              "      <td>0</td>\n",
              "      <td>2014-12-31</td>\n",
              "      <td>70</td>\n",
              "      <td>San Francisco Caltrain (Townsend at 4th)</td>\n",
              "      <td>37.8</td>\n",
              "      <td>-122.4</td>\n",
              "      <td>19</td>\n",
              "      <td>San Francisco</td>\n",
              "    </tr>\n",
              "    <tr>\n",
              "      <th>83021</th>\n",
              "      <td>2014-12-31 18:00:00</td>\n",
              "      <td>82</td>\n",
              "      <td>1</td>\n",
              "      <td>1</td>\n",
              "      <td>0</td>\n",
              "      <td>2014-12-31</td>\n",
              "      <td>82</td>\n",
              "      <td>Broadway St at Battery St</td>\n",
              "      <td>37.8</td>\n",
              "      <td>-122.4</td>\n",
              "      <td>15</td>\n",
              "      <td>San Francisco</td>\n",
              "    </tr>\n",
              "    <tr>\n",
              "      <th>83022</th>\n",
              "      <td>2014-12-31 19:00:00</td>\n",
              "      <td>60</td>\n",
              "      <td>2</td>\n",
              "      <td>2</td>\n",
              "      <td>0</td>\n",
              "      <td>2014-12-31</td>\n",
              "      <td>60</td>\n",
              "      <td>Embarcadero at Sansome</td>\n",
              "      <td>37.8</td>\n",
              "      <td>-122.4</td>\n",
              "      <td>15</td>\n",
              "      <td>San Francisco</td>\n",
              "    </tr>\n",
              "    <tr>\n",
              "      <th>83023</th>\n",
              "      <td>2014-12-31 22:00:00</td>\n",
              "      <td>7</td>\n",
              "      <td>1</td>\n",
              "      <td>1</td>\n",
              "      <td>0</td>\n",
              "      <td>2014-12-31</td>\n",
              "      <td>7</td>\n",
              "      <td>Paseo de San Antonio</td>\n",
              "      <td>37.3</td>\n",
              "      <td>-121.9</td>\n",
              "      <td>15</td>\n",
              "      <td>San Jose</td>\n",
              "    </tr>\n",
              "  </tbody>\n",
              "</table>\n",
              "<p>83024 rows × 12 columns</p>\n",
              "</div>"
            ],
            "text/plain": [
              "                     hour  station  trip_x  ...   Long  Dock Count           City\n",
              "0     2015-01-01 01:00:00       66       4  ... -122.4          19  San Francisco\n",
              "1     2015-01-01 11:00:00       50       3  ... -122.4          23  San Francisco\n",
              "2     2015-01-01 11:00:00       68       2  ... -122.4          19  San Francisco\n",
              "3     2015-01-01 11:00:00       76       2  ... -122.4          19  San Francisco\n",
              "4     2015-01-01 12:00:00       39       2  ... -122.4          19  San Francisco\n",
              "...                   ...      ...     ...  ...    ...         ...            ...\n",
              "83019 2014-12-31 18:00:00       67       1  ... -122.4          27  San Francisco\n",
              "83020 2014-12-31 18:00:00       70       1  ... -122.4          19  San Francisco\n",
              "83021 2014-12-31 18:00:00       82       1  ... -122.4          15  San Francisco\n",
              "83022 2014-12-31 19:00:00       60       2  ... -122.4          15  San Francisco\n",
              "83023 2014-12-31 22:00:00        7       1  ... -121.9          15       San Jose\n",
              "\n",
              "[83024 rows x 12 columns]"
            ]
          },
          "metadata": {
            "tags": []
          },
          "execution_count": 188
        }
      ]
    },
    {
      "cell_type": "markdown",
      "metadata": {
        "id": "MbwHXrEIC5AF"
      },
      "source": [
        "Merging df_weather_latlong with station data"
      ]
    },
    {
      "cell_type": "code",
      "metadata": {
        "id": "zKxO2e6fC5kG",
        "colab": {
          "base_uri": "https://localhost:8080/",
          "height": 534
        },
        "outputId": "1ba4c4f9-3352-4234-dd7c-556d0b35ff0a"
      },
      "source": [
        "df_station_weather = pd.merge(df_station_netrate, df_weather_latlong, left_on = ['Lat', 'Long', 'date'], right_on = ['Latitude', \r\n",
        "                                                                        'Longitude', 'Date'])\r\n",
        "df_station_weather.head()"
      ],
      "execution_count": 189,
      "outputs": [
        {
          "output_type": "execute_result",
          "data": {
            "text/html": [
              "<div>\n",
              "<style scoped>\n",
              "    .dataframe tbody tr th:only-of-type {\n",
              "        vertical-align: middle;\n",
              "    }\n",
              "\n",
              "    .dataframe tbody tr th {\n",
              "        vertical-align: top;\n",
              "    }\n",
              "\n",
              "    .dataframe thead th {\n",
              "        text-align: right;\n",
              "    }\n",
              "</style>\n",
              "<table border=\"1\" class=\"dataframe\">\n",
              "  <thead>\n",
              "    <tr style=\"text-align: right;\">\n",
              "      <th></th>\n",
              "      <th>hour</th>\n",
              "      <th>station</th>\n",
              "      <th>trip_x</th>\n",
              "      <th>trip_y</th>\n",
              "      <th>net_rate</th>\n",
              "      <th>date</th>\n",
              "      <th>Id</th>\n",
              "      <th>Name</th>\n",
              "      <th>Lat</th>\n",
              "      <th>Long</th>\n",
              "      <th>Dock Count</th>\n",
              "      <th>City</th>\n",
              "      <th>Date</th>\n",
              "      <th>Max TemperatureF</th>\n",
              "      <th>Mean TemperatureF</th>\n",
              "      <th>Min TemperatureF</th>\n",
              "      <th>Max Dew PointF</th>\n",
              "      <th>MeanDew PointF</th>\n",
              "      <th>Min DewpointF</th>\n",
              "      <th>Max Humidity</th>\n",
              "      <th>Mean Humidity</th>\n",
              "      <th>Min Humidity</th>\n",
              "      <th>Max Sea Level PressureIn</th>\n",
              "      <th>Mean Sea Level PressureIn</th>\n",
              "      <th>Min Sea Level PressureIn</th>\n",
              "      <th>Max VisibilityMiles</th>\n",
              "      <th>Mean VisibilityMiles</th>\n",
              "      <th>Min VisibilityMiles</th>\n",
              "      <th>Max Wind SpeedMPH</th>\n",
              "      <th>Mean Wind SpeedMPH</th>\n",
              "      <th>Max Gust SpeedMPH</th>\n",
              "      <th>PrecipitationIn</th>\n",
              "      <th>CloudCover</th>\n",
              "      <th>Events</th>\n",
              "      <th>WindDirDegrees</th>\n",
              "      <th>Zip</th>\n",
              "      <th>Latitude</th>\n",
              "      <th>Longitude</th>\n",
              "    </tr>\n",
              "  </thead>\n",
              "  <tbody>\n",
              "    <tr>\n",
              "      <th>0</th>\n",
              "      <td>2015-01-01 01:00:00</td>\n",
              "      <td>66</td>\n",
              "      <td>4</td>\n",
              "      <td>1</td>\n",
              "      <td>3</td>\n",
              "      <td>2015-01-01</td>\n",
              "      <td>66</td>\n",
              "      <td>South Van Ness at Market</td>\n",
              "      <td>37.8</td>\n",
              "      <td>-122.4</td>\n",
              "      <td>19</td>\n",
              "      <td>San Francisco</td>\n",
              "      <td>2015-01-01</td>\n",
              "      <td>56.0</td>\n",
              "      <td>47.0</td>\n",
              "      <td>38.0</td>\n",
              "      <td>27.0</td>\n",
              "      <td>20.0</td>\n",
              "      <td>14.0</td>\n",
              "      <td>54.0</td>\n",
              "      <td>37.0</td>\n",
              "      <td>20.0</td>\n",
              "      <td>30.18</td>\n",
              "      <td>30.13</td>\n",
              "      <td>30.07</td>\n",
              "      <td>10.0</td>\n",
              "      <td>10.0</td>\n",
              "      <td>10.0</td>\n",
              "      <td>23.0</td>\n",
              "      <td>8.0</td>\n",
              "      <td>28.0</td>\n",
              "      <td>0.0</td>\n",
              "      <td>1.0</td>\n",
              "      <td>NaN</td>\n",
              "      <td>40.0</td>\n",
              "      <td>94107</td>\n",
              "      <td>37.8</td>\n",
              "      <td>-122.4</td>\n",
              "    </tr>\n",
              "    <tr>\n",
              "      <th>1</th>\n",
              "      <td>2015-01-01 11:00:00</td>\n",
              "      <td>50</td>\n",
              "      <td>3</td>\n",
              "      <td>1</td>\n",
              "      <td>2</td>\n",
              "      <td>2015-01-01</td>\n",
              "      <td>50</td>\n",
              "      <td>Harry Bridges Plaza (Ferry Building)</td>\n",
              "      <td>37.8</td>\n",
              "      <td>-122.4</td>\n",
              "      <td>23</td>\n",
              "      <td>San Francisco</td>\n",
              "      <td>2015-01-01</td>\n",
              "      <td>56.0</td>\n",
              "      <td>47.0</td>\n",
              "      <td>38.0</td>\n",
              "      <td>27.0</td>\n",
              "      <td>20.0</td>\n",
              "      <td>14.0</td>\n",
              "      <td>54.0</td>\n",
              "      <td>37.0</td>\n",
              "      <td>20.0</td>\n",
              "      <td>30.18</td>\n",
              "      <td>30.13</td>\n",
              "      <td>30.07</td>\n",
              "      <td>10.0</td>\n",
              "      <td>10.0</td>\n",
              "      <td>10.0</td>\n",
              "      <td>23.0</td>\n",
              "      <td>8.0</td>\n",
              "      <td>28.0</td>\n",
              "      <td>0.0</td>\n",
              "      <td>1.0</td>\n",
              "      <td>NaN</td>\n",
              "      <td>40.0</td>\n",
              "      <td>94107</td>\n",
              "      <td>37.8</td>\n",
              "      <td>-122.4</td>\n",
              "    </tr>\n",
              "    <tr>\n",
              "      <th>2</th>\n",
              "      <td>2015-01-01 11:00:00</td>\n",
              "      <td>68</td>\n",
              "      <td>2</td>\n",
              "      <td>2</td>\n",
              "      <td>0</td>\n",
              "      <td>2015-01-01</td>\n",
              "      <td>68</td>\n",
              "      <td>Yerba Buena Center of the Arts (3rd @ Howard)</td>\n",
              "      <td>37.8</td>\n",
              "      <td>-122.4</td>\n",
              "      <td>19</td>\n",
              "      <td>San Francisco</td>\n",
              "      <td>2015-01-01</td>\n",
              "      <td>56.0</td>\n",
              "      <td>47.0</td>\n",
              "      <td>38.0</td>\n",
              "      <td>27.0</td>\n",
              "      <td>20.0</td>\n",
              "      <td>14.0</td>\n",
              "      <td>54.0</td>\n",
              "      <td>37.0</td>\n",
              "      <td>20.0</td>\n",
              "      <td>30.18</td>\n",
              "      <td>30.13</td>\n",
              "      <td>30.07</td>\n",
              "      <td>10.0</td>\n",
              "      <td>10.0</td>\n",
              "      <td>10.0</td>\n",
              "      <td>23.0</td>\n",
              "      <td>8.0</td>\n",
              "      <td>28.0</td>\n",
              "      <td>0.0</td>\n",
              "      <td>1.0</td>\n",
              "      <td>NaN</td>\n",
              "      <td>40.0</td>\n",
              "      <td>94107</td>\n",
              "      <td>37.8</td>\n",
              "      <td>-122.4</td>\n",
              "    </tr>\n",
              "    <tr>\n",
              "      <th>3</th>\n",
              "      <td>2015-01-01 11:00:00</td>\n",
              "      <td>76</td>\n",
              "      <td>2</td>\n",
              "      <td>4</td>\n",
              "      <td>-2</td>\n",
              "      <td>2015-01-01</td>\n",
              "      <td>76</td>\n",
              "      <td>Market at 4th</td>\n",
              "      <td>37.8</td>\n",
              "      <td>-122.4</td>\n",
              "      <td>19</td>\n",
              "      <td>San Francisco</td>\n",
              "      <td>2015-01-01</td>\n",
              "      <td>56.0</td>\n",
              "      <td>47.0</td>\n",
              "      <td>38.0</td>\n",
              "      <td>27.0</td>\n",
              "      <td>20.0</td>\n",
              "      <td>14.0</td>\n",
              "      <td>54.0</td>\n",
              "      <td>37.0</td>\n",
              "      <td>20.0</td>\n",
              "      <td>30.18</td>\n",
              "      <td>30.13</td>\n",
              "      <td>30.07</td>\n",
              "      <td>10.0</td>\n",
              "      <td>10.0</td>\n",
              "      <td>10.0</td>\n",
              "      <td>23.0</td>\n",
              "      <td>8.0</td>\n",
              "      <td>28.0</td>\n",
              "      <td>0.0</td>\n",
              "      <td>1.0</td>\n",
              "      <td>NaN</td>\n",
              "      <td>40.0</td>\n",
              "      <td>94107</td>\n",
              "      <td>37.8</td>\n",
              "      <td>-122.4</td>\n",
              "    </tr>\n",
              "    <tr>\n",
              "      <th>4</th>\n",
              "      <td>2015-01-01 12:00:00</td>\n",
              "      <td>39</td>\n",
              "      <td>2</td>\n",
              "      <td>2</td>\n",
              "      <td>0</td>\n",
              "      <td>2015-01-01</td>\n",
              "      <td>39</td>\n",
              "      <td>Powell Street BART</td>\n",
              "      <td>37.8</td>\n",
              "      <td>-122.4</td>\n",
              "      <td>19</td>\n",
              "      <td>San Francisco</td>\n",
              "      <td>2015-01-01</td>\n",
              "      <td>56.0</td>\n",
              "      <td>47.0</td>\n",
              "      <td>38.0</td>\n",
              "      <td>27.0</td>\n",
              "      <td>20.0</td>\n",
              "      <td>14.0</td>\n",
              "      <td>54.0</td>\n",
              "      <td>37.0</td>\n",
              "      <td>20.0</td>\n",
              "      <td>30.18</td>\n",
              "      <td>30.13</td>\n",
              "      <td>30.07</td>\n",
              "      <td>10.0</td>\n",
              "      <td>10.0</td>\n",
              "      <td>10.0</td>\n",
              "      <td>23.0</td>\n",
              "      <td>8.0</td>\n",
              "      <td>28.0</td>\n",
              "      <td>0.0</td>\n",
              "      <td>1.0</td>\n",
              "      <td>NaN</td>\n",
              "      <td>40.0</td>\n",
              "      <td>94107</td>\n",
              "      <td>37.8</td>\n",
              "      <td>-122.4</td>\n",
              "    </tr>\n",
              "  </tbody>\n",
              "</table>\n",
              "</div>"
            ],
            "text/plain": [
              "                 hour  station  trip_x  ...    Zip  Latitude Longitude\n",
              "0 2015-01-01 01:00:00       66       4  ...  94107      37.8    -122.4\n",
              "1 2015-01-01 11:00:00       50       3  ...  94107      37.8    -122.4\n",
              "2 2015-01-01 11:00:00       68       2  ...  94107      37.8    -122.4\n",
              "3 2015-01-01 11:00:00       76       2  ...  94107      37.8    -122.4\n",
              "4 2015-01-01 12:00:00       39       2  ...  94107      37.8    -122.4\n",
              "\n",
              "[5 rows x 38 columns]"
            ]
          },
          "metadata": {
            "tags": []
          },
          "execution_count": 189
        }
      ]
    },
    {
      "cell_type": "code",
      "metadata": {
        "id": "diiFnIPEC8H_"
      },
      "source": [
        "# Criar o Campo \"hora do dia\"\r\n",
        "df_station_weather['hour_of_day'] = df_station_weather['hour'].apply(lambda x: int(str(x).split(' ')[-1].split(':')[0]))"
      ],
      "execution_count": 190,
      "outputs": []
    },
    {
      "cell_type": "code",
      "metadata": {
        "id": "XpZkj-4AC98L"
      },
      "source": [
        "df_station_weather"
      ],
      "execution_count": null,
      "outputs": []
    },
    {
      "cell_type": "code",
      "metadata": {
        "id": "eVKvqWR1C_oO"
      },
      "source": [
        "# Criando mais campos : Semana do ano, dia do mês, mês do ano e dia da semana\r\n",
        "### to capture Week day vs weekend usage variation\r\n",
        "df_station_weather['week_of_year'] = df_station_weather['Date'].dt.week\r\n",
        "df_station_weather['day_of_month'] = df_station_weather['Date'].apply(lambda x: str(x).split('-')[-1].split(' ')[0])\r\n",
        "df_station_weather['month_of_year'] = df_station_weather['Date'].dt.month\r\n",
        "df_station_weather['day_of_week'] = df_station_weather['Date'].dt.dayofweek"
      ],
      "execution_count": null,
      "outputs": []
    },
    {
      "cell_type": "code",
      "metadata": {
        "id": "wAxuEfVIFi-m"
      },
      "source": [
        "df_station_weather.head()"
      ],
      "execution_count": null,
      "outputs": []
    },
    {
      "cell_type": "code",
      "metadata": {
        "id": "bVcwv-5DDDGo"
      },
      "source": [
        "cols_to_remove = ['hour', 'trip_x', 'trip_y', 'date', 'Lat', 'Long', 'station', 'Zip', 'Id', 'Name', 'City', 'Date', 'Events']\r\n",
        "\r\n",
        "df_final = df_station_weather.drop(columns=cols_to_remove)\r\n",
        "df_final"
      ],
      "execution_count": null,
      "outputs": []
    },
    {
      "cell_type": "code",
      "metadata": {
        "id": "6R7wmqdYDEZC",
        "colab": {
          "base_uri": "https://localhost:8080/",
          "height": 249
        },
        "outputId": "5ada48da-679c-4dc6-b828-fc8580159626"
      },
      "source": [
        "df_final.head()"
      ],
      "execution_count": 195,
      "outputs": [
        {
          "output_type": "execute_result",
          "data": {
            "text/html": [
              "<div>\n",
              "<style scoped>\n",
              "    .dataframe tbody tr th:only-of-type {\n",
              "        vertical-align: middle;\n",
              "    }\n",
              "\n",
              "    .dataframe tbody tr th {\n",
              "        vertical-align: top;\n",
              "    }\n",
              "\n",
              "    .dataframe thead th {\n",
              "        text-align: right;\n",
              "    }\n",
              "</style>\n",
              "<table border=\"1\" class=\"dataframe\">\n",
              "  <thead>\n",
              "    <tr style=\"text-align: right;\">\n",
              "      <th></th>\n",
              "      <th>net_rate</th>\n",
              "      <th>Dock Count</th>\n",
              "      <th>Max TemperatureF</th>\n",
              "      <th>Mean TemperatureF</th>\n",
              "      <th>Min TemperatureF</th>\n",
              "      <th>Max Dew PointF</th>\n",
              "      <th>MeanDew PointF</th>\n",
              "      <th>Min DewpointF</th>\n",
              "      <th>Max Humidity</th>\n",
              "      <th>Mean Humidity</th>\n",
              "      <th>Min Humidity</th>\n",
              "      <th>Max Sea Level PressureIn</th>\n",
              "      <th>Mean Sea Level PressureIn</th>\n",
              "      <th>Min Sea Level PressureIn</th>\n",
              "      <th>Max VisibilityMiles</th>\n",
              "      <th>Mean VisibilityMiles</th>\n",
              "      <th>Min VisibilityMiles</th>\n",
              "      <th>Max Wind SpeedMPH</th>\n",
              "      <th>Mean Wind SpeedMPH</th>\n",
              "      <th>Max Gust SpeedMPH</th>\n",
              "      <th>PrecipitationIn</th>\n",
              "      <th>CloudCover</th>\n",
              "      <th>WindDirDegrees</th>\n",
              "      <th>Latitude</th>\n",
              "      <th>Longitude</th>\n",
              "      <th>hour_of_day</th>\n",
              "      <th>week_of_year</th>\n",
              "      <th>day_of_month</th>\n",
              "      <th>month_of_year</th>\n",
              "      <th>day_of_week</th>\n",
              "    </tr>\n",
              "  </thead>\n",
              "  <tbody>\n",
              "    <tr>\n",
              "      <th>0</th>\n",
              "      <td>3</td>\n",
              "      <td>19</td>\n",
              "      <td>56.0</td>\n",
              "      <td>47.0</td>\n",
              "      <td>38.0</td>\n",
              "      <td>27.0</td>\n",
              "      <td>20.0</td>\n",
              "      <td>14.0</td>\n",
              "      <td>54.0</td>\n",
              "      <td>37.0</td>\n",
              "      <td>20.0</td>\n",
              "      <td>30.18</td>\n",
              "      <td>30.13</td>\n",
              "      <td>30.07</td>\n",
              "      <td>10.0</td>\n",
              "      <td>10.0</td>\n",
              "      <td>10.0</td>\n",
              "      <td>23.0</td>\n",
              "      <td>8.0</td>\n",
              "      <td>28.0</td>\n",
              "      <td>0.0</td>\n",
              "      <td>1.0</td>\n",
              "      <td>40.0</td>\n",
              "      <td>37.8</td>\n",
              "      <td>-122.4</td>\n",
              "      <td>1</td>\n",
              "      <td>1</td>\n",
              "      <td>01</td>\n",
              "      <td>1</td>\n",
              "      <td>3</td>\n",
              "    </tr>\n",
              "    <tr>\n",
              "      <th>1</th>\n",
              "      <td>2</td>\n",
              "      <td>23</td>\n",
              "      <td>56.0</td>\n",
              "      <td>47.0</td>\n",
              "      <td>38.0</td>\n",
              "      <td>27.0</td>\n",
              "      <td>20.0</td>\n",
              "      <td>14.0</td>\n",
              "      <td>54.0</td>\n",
              "      <td>37.0</td>\n",
              "      <td>20.0</td>\n",
              "      <td>30.18</td>\n",
              "      <td>30.13</td>\n",
              "      <td>30.07</td>\n",
              "      <td>10.0</td>\n",
              "      <td>10.0</td>\n",
              "      <td>10.0</td>\n",
              "      <td>23.0</td>\n",
              "      <td>8.0</td>\n",
              "      <td>28.0</td>\n",
              "      <td>0.0</td>\n",
              "      <td>1.0</td>\n",
              "      <td>40.0</td>\n",
              "      <td>37.8</td>\n",
              "      <td>-122.4</td>\n",
              "      <td>11</td>\n",
              "      <td>1</td>\n",
              "      <td>01</td>\n",
              "      <td>1</td>\n",
              "      <td>3</td>\n",
              "    </tr>\n",
              "    <tr>\n",
              "      <th>2</th>\n",
              "      <td>0</td>\n",
              "      <td>19</td>\n",
              "      <td>56.0</td>\n",
              "      <td>47.0</td>\n",
              "      <td>38.0</td>\n",
              "      <td>27.0</td>\n",
              "      <td>20.0</td>\n",
              "      <td>14.0</td>\n",
              "      <td>54.0</td>\n",
              "      <td>37.0</td>\n",
              "      <td>20.0</td>\n",
              "      <td>30.18</td>\n",
              "      <td>30.13</td>\n",
              "      <td>30.07</td>\n",
              "      <td>10.0</td>\n",
              "      <td>10.0</td>\n",
              "      <td>10.0</td>\n",
              "      <td>23.0</td>\n",
              "      <td>8.0</td>\n",
              "      <td>28.0</td>\n",
              "      <td>0.0</td>\n",
              "      <td>1.0</td>\n",
              "      <td>40.0</td>\n",
              "      <td>37.8</td>\n",
              "      <td>-122.4</td>\n",
              "      <td>11</td>\n",
              "      <td>1</td>\n",
              "      <td>01</td>\n",
              "      <td>1</td>\n",
              "      <td>3</td>\n",
              "    </tr>\n",
              "    <tr>\n",
              "      <th>3</th>\n",
              "      <td>-2</td>\n",
              "      <td>19</td>\n",
              "      <td>56.0</td>\n",
              "      <td>47.0</td>\n",
              "      <td>38.0</td>\n",
              "      <td>27.0</td>\n",
              "      <td>20.0</td>\n",
              "      <td>14.0</td>\n",
              "      <td>54.0</td>\n",
              "      <td>37.0</td>\n",
              "      <td>20.0</td>\n",
              "      <td>30.18</td>\n",
              "      <td>30.13</td>\n",
              "      <td>30.07</td>\n",
              "      <td>10.0</td>\n",
              "      <td>10.0</td>\n",
              "      <td>10.0</td>\n",
              "      <td>23.0</td>\n",
              "      <td>8.0</td>\n",
              "      <td>28.0</td>\n",
              "      <td>0.0</td>\n",
              "      <td>1.0</td>\n",
              "      <td>40.0</td>\n",
              "      <td>37.8</td>\n",
              "      <td>-122.4</td>\n",
              "      <td>11</td>\n",
              "      <td>1</td>\n",
              "      <td>01</td>\n",
              "      <td>1</td>\n",
              "      <td>3</td>\n",
              "    </tr>\n",
              "    <tr>\n",
              "      <th>4</th>\n",
              "      <td>0</td>\n",
              "      <td>19</td>\n",
              "      <td>56.0</td>\n",
              "      <td>47.0</td>\n",
              "      <td>38.0</td>\n",
              "      <td>27.0</td>\n",
              "      <td>20.0</td>\n",
              "      <td>14.0</td>\n",
              "      <td>54.0</td>\n",
              "      <td>37.0</td>\n",
              "      <td>20.0</td>\n",
              "      <td>30.18</td>\n",
              "      <td>30.13</td>\n",
              "      <td>30.07</td>\n",
              "      <td>10.0</td>\n",
              "      <td>10.0</td>\n",
              "      <td>10.0</td>\n",
              "      <td>23.0</td>\n",
              "      <td>8.0</td>\n",
              "      <td>28.0</td>\n",
              "      <td>0.0</td>\n",
              "      <td>1.0</td>\n",
              "      <td>40.0</td>\n",
              "      <td>37.8</td>\n",
              "      <td>-122.4</td>\n",
              "      <td>12</td>\n",
              "      <td>1</td>\n",
              "      <td>01</td>\n",
              "      <td>1</td>\n",
              "      <td>3</td>\n",
              "    </tr>\n",
              "  </tbody>\n",
              "</table>\n",
              "</div>"
            ],
            "text/plain": [
              "   net_rate  Dock Count  ...  month_of_year  day_of_week\n",
              "0         3          19  ...              1            3\n",
              "1         2          23  ...              1            3\n",
              "2         0          19  ...              1            3\n",
              "3        -2          19  ...              1            3\n",
              "4         0          19  ...              1            3\n",
              "\n",
              "[5 rows x 30 columns]"
            ]
          },
          "metadata": {
            "tags": []
          },
          "execution_count": 195
        }
      ]
    },
    {
      "cell_type": "code",
      "metadata": {
        "id": "26GnSp-YMxC8"
      },
      "source": [
        "df_final.info()"
      ],
      "execution_count": null,
      "outputs": []
    },
    {
      "cell_type": "code",
      "metadata": {
        "id": "QkO-fAHcDGLV"
      },
      "source": [
        "df_corr = df_final.corr()\r\n",
        "df_corr"
      ],
      "execution_count": null,
      "outputs": []
    },
    {
      "cell_type": "code",
      "metadata": {
        "id": "VgBLRhZTN7TI"
      },
      "source": [
        "import seaborn as sns\r\n",
        "ax = sns.heatmap(df_corr)"
      ],
      "execution_count": null,
      "outputs": []
    },
    {
      "cell_type": "code",
      "metadata": {
        "id": "7melTrPdDIJM"
      },
      "source": [
        "df_final.columns"
      ],
      "execution_count": null,
      "outputs": []
    },
    {
      "cell_type": "code",
      "metadata": {
        "id": "Ohm6b29nDKvQ"
      },
      "source": [
        "### Os atributos mínimo e máximo foram removidos devido à alta correlação com o atributo 'Média'\r\n",
        "df_final = df_final[[k for k in df_final.columns if ('Max' not in k) and ('Min' not in k)]]"
      ],
      "execution_count": 201,
      "outputs": []
    },
    {
      "cell_type": "code",
      "metadata": {
        "id": "GFVti-gcGKDt"
      },
      "source": [
        "df_final"
      ],
      "execution_count": null,
      "outputs": []
    },
    {
      "cell_type": "code",
      "metadata": {
        "id": "9gI4PBv_OTkA"
      },
      "source": [
        "df_corr = df_final.corr()\r\n",
        "df_corr\r\n",
        "ax = sns.heatmap(df_corr)"
      ],
      "execution_count": null,
      "outputs": []
    },
    {
      "cell_type": "markdown",
      "metadata": {
        "id": "ooLK-ienDOEh"
      },
      "source": [
        "Exploratory data analysis\r\n",
        "Net rate is highly impacted by extreme temp"
      ]
    },
    {
      "cell_type": "code",
      "metadata": {
        "id": "6xif1E4HDOcj"
      },
      "source": [
        "plt.scatter(x = df_final['Mean TemperatureF'], y = df_final['net_rate'])"
      ],
      "execution_count": null,
      "outputs": []
    },
    {
      "cell_type": "code",
      "metadata": {
        "id": "Bs4zbsECDSXy"
      },
      "source": [
        "plt.scatter(x = df_final['Mean Wind SpeedMPH'], y = df_final['net_rate'])"
      ],
      "execution_count": null,
      "outputs": []
    },
    {
      "cell_type": "code",
      "metadata": {
        "id": "hl1JHz70DUI_"
      },
      "source": [
        "\r\n",
        "plt.scatter(df_final['day_of_week'], df_final['net_rate'])"
      ],
      "execution_count": null,
      "outputs": []
    },
    {
      "cell_type": "markdown",
      "metadata": {
        "id": "v9QEE13xDYHI"
      },
      "source": [
        "We observe net rate to be lower around night time from midnight to 5 AM"
      ]
    },
    {
      "cell_type": "code",
      "metadata": {
        "id": "wR7kuX3jDYcX",
        "colab": {
          "base_uri": "https://localhost:8080/",
          "height": 282
        },
        "outputId": "14ae533f-79c1-4105-e612-bbdcf3400b88"
      },
      "source": [
        "plt.scatter(np.sort(df_final['hour_of_day']), df_final['net_rate'])"
      ],
      "execution_count": 208,
      "outputs": [
        {
          "output_type": "execute_result",
          "data": {
            "text/plain": [
              "<matplotlib.collections.PathCollection at 0x7fedb5cb1780>"
            ]
          },
          "metadata": {
            "tags": []
          },
          "execution_count": 208
        },
        {
          "output_type": "display_data",
          "data": {
            "image/png": "[encoded data removed]",
            "text/plain": [
              "<Figure size 432x288 with 1 Axes>"
            ]
          },
          "metadata": {
            "tags": [],
            "needs_background": "light"
          }
        }
      ]
    },
    {
      "cell_type": "markdown",
      "metadata": {
        "id": "CwD0y7aZDfRm"
      },
      "source": [
        "Net rate distribution"
      ]
    },
    {
      "cell_type": "code",
      "metadata": {
        "id": "Faqj9hXIDhDL",
        "colab": {
          "base_uri": "https://localhost:8080/",
          "height": 567
        },
        "outputId": "b97e6509-010d-4825-e2af-6033cbb09187"
      },
      "source": [
        "\r\n",
        "plt.hist(df_final['net_rate'], bins = 50)"
      ],
      "execution_count": 212,
      "outputs": [
        {
          "output_type": "execute_result",
          "data": {
            "text/plain": [
              "(array([1.0000e+00, 3.0000e+00, 5.0000e+00, 6.0000e+00, 1.1000e+01,\n",
              "        1.1000e+01, 1.7000e+01, 7.0000e+00, 2.8000e+01, 5.3000e+01,\n",
              "        8.0000e+01, 4.2000e+01, 1.0300e+02, 1.6100e+02, 2.3200e+02,\n",
              "        1.8000e+02, 6.6800e+02, 1.4920e+03, 3.8600e+03, 3.7460e+03,\n",
              "        1.8786e+04, 3.6068e+04, 1.0271e+04, 2.1470e+03, 2.3130e+03,\n",
              "        1.0790e+03, 2.7100e+02, 3.6800e+02, 2.2000e+02, 1.6000e+02,\n",
              "        7.0000e+01, 8.6000e+01, 7.0000e+01, 7.3000e+01, 4.9000e+01,\n",
              "        6.4000e+01, 4.6000e+01, 4.0000e+01, 1.4000e+01, 2.6000e+01,\n",
              "        1.0000e+01, 1.4000e+01, 6.0000e+00, 6.0000e+00, 4.0000e+00,\n",
              "        6.0000e+00, 2.0000e+00, 0.0000e+00, 2.0000e+00, 2.0000e+00]),\n",
              " array([-37.  , -35.26, -33.52, -31.78, -30.04, -28.3 , -26.56, -24.82,\n",
              "        -23.08, -21.34, -19.6 , -17.86, -16.12, -14.38, -12.64, -10.9 ,\n",
              "         -9.16,  -7.42,  -5.68,  -3.94,  -2.2 ,  -0.46,   1.28,   3.02,\n",
              "          4.76,   6.5 ,   8.24,   9.98,  11.72,  13.46,  15.2 ,  16.94,\n",
              "         18.68,  20.42,  22.16,  23.9 ,  25.64,  27.38,  29.12,  30.86,\n",
              "         32.6 ,  34.34,  36.08,  37.82,  39.56,  41.3 ,  43.04,  44.78,\n",
              "         46.52,  48.26,  50.  ]),\n",
              " <a list of 50 Patch objects>)"
            ]
          },
          "metadata": {
            "tags": []
          },
          "execution_count": 212
        },
        {
          "output_type": "display_data",
          "data": {
            "image/png": "[encoded data removed]",
            "text/plain": [
              "<Figure size 432x288 with 1 Axes>"
            ]
          },
          "metadata": {
            "tags": [],
            "needs_background": "light"
          }
        }
      ]
    },
    {
      "cell_type": "markdown",
      "metadata": {
        "id": "1BQpXwUSDkwc"
      },
      "source": [
        "### Separando os dados de Treino e Teste"
      ]
    },
    {
      "cell_type": "code",
      "metadata": {
        "id": "Uld5fxSGDlVA"
      },
      "source": [
        "#Arredondando o campo\r\n",
        "df_final['day_of_month'] = df_final['day_of_month'].apply(lambda x: int(x))\r\n",
        "df_final"
      ],
      "execution_count": null,
      "outputs": []
    },
    {
      "cell_type": "code",
      "metadata": {
        "id": "WCP8hibrTKsD"
      },
      "source": [
        "### Train and test split with 30% test size\r\n",
        "y = df_final['net_rate']\r\n",
        "X = df_final.drop(columns='net_rate')\r\n",
        "\r\n",
        "X_train, X_test, y_train, y_test = train_test_split(X, y, test_size = 0.3, random_state = 4)"
      ],
      "execution_count": 218,
      "outputs": []
    },
    {
      "cell_type": "code",
      "metadata": {
        "id": "0iopWHc7DyjG"
      },
      "source": [
        "X_train.head()"
      ],
      "execution_count": null,
      "outputs": []
    },
    {
      "cell_type": "code",
      "metadata": {
        "id": "zEA75SUWD2dB"
      },
      "source": [
        "X_train.describe().T"
      ],
      "execution_count": null,
      "outputs": []
    },
    {
      "cell_type": "code",
      "metadata": {
        "id": "ZMosDRptD6y5"
      },
      "source": [
        "#limpeza final\r\n",
        "X_train.fillna(0, inplace=True)\r\n",
        "X_test.fillna(0, inplace=True)"
      ],
      "execution_count": null,
      "outputs": []
    },
    {
      "cell_type": "markdown",
      "metadata": {
        "id": "4j3Pvz4tze7-"
      },
      "source": [
        "#4° Máquina Preditiva - Baseline"
      ]
    },
    {
      "cell_type": "markdown",
      "metadata": {
        "id": "vaGI8JNEaBBX"
      },
      "source": [
        "### **Regressão linear**"
      ]
    },
    {
      "cell_type": "code",
      "metadata": {
        "id": "BYktet-fD9NK"
      },
      "source": [
        "### Máquina Preditiva com Regressão Linear - Treina e Faz novas Previsões\r\n",
        "reg_obj = LinearRegression().fit(X_train, y_train)\r\n",
        "y_train_pred = reg_obj.predict(X_train)\r\n",
        "y_test_pred = reg_obj.predict(X_test)"
      ],
      "execution_count": 222,
      "outputs": []
    },
    {
      "cell_type": "markdown",
      "metadata": {
        "id": "7v2QYaD3z0OY"
      },
      "source": [
        "#5° Avaliação da Máquina Preditiva - Baseline"
      ]
    },
    {
      "cell_type": "markdown",
      "metadata": {
        "id": "i_QwLO-MTt0D"
      },
      "source": [
        "##RMSE - Métrica de Avaliação: Quanto menor melhor...."
      ]
    },
    {
      "cell_type": "code",
      "metadata": {
        "id": "HymJ-kmcEBDx",
        "colab": {
          "base_uri": "https://localhost:8080/"
        },
        "outputId": "65c92a0d-81b9-47c6-aa56-1322280dc408"
      },
      "source": [
        "#Valor do RMSE dados de treino\r\n",
        "np.sqrt(mean_squared_error(y_train, y_train_pred))"
      ],
      "execution_count": 223,
      "outputs": [
        {
          "output_type": "execute_result",
          "data": {
            "text/plain": [
              "3.765563611537702"
            ]
          },
          "metadata": {
            "tags": []
          },
          "execution_count": 223
        }
      ]
    },
    {
      "cell_type": "code",
      "metadata": {
        "id": "6rLjem3KEHYO"
      },
      "source": [
        "#Valor do RMSE dados de teste\r\n",
        "np.sqrt(mean_squared_error(y_test, y_test_pred))"
      ],
      "execution_count": null,
      "outputs": []
    },
    {
      "cell_type": "markdown",
      "metadata": {
        "id": "osToQji5ZvgM"
      },
      "source": [
        "## Máquina Preditiva Modelo Final"
      ]
    },
    {
      "cell_type": "markdown",
      "metadata": {
        "id": "zHu8_ZGhZ-ry"
      },
      "source": [
        "### **Decision Tree**"
      ]
    },
    {
      "cell_type": "code",
      "metadata": {
        "id": "AYQTw2vsEM-k"
      },
      "source": [
        "reg_DT = DecisionTreeRegressor(random_state=4).fit(X_train, y_train)\r\n",
        "\r\n",
        "y_train_pred_DT = reg_DT.predict(X_train)\r\n",
        "y_test_pred_DT = reg_DT.predict(X_test)\r\n",
        "\r\n",
        "np.sqrt(mean_squared_error(y_train, y_train_pred_DT)), np.sqrt(mean_squared_error(y_test, y_test_pred_DT))"
      ],
      "execution_count": null,
      "outputs": []
    },
    {
      "cell_type": "code",
      "metadata": {
        "id": "scX5-ch9EPgz"
      },
      "source": [
        "### pruning the decision tree by setting max_depth = 3\r\n",
        "reg_DT = DecisionTreeRegressor(max_depth = 3, random_state=7).fit(X_train, y_train)\r\n",
        "\r\n",
        "y_train_pred_DT = reg_DT.predict(X_train)\r\n",
        "y_test_pred_DT = reg_DT.predict(X_test)\r\n",
        "\r\n",
        "np.sqrt(mean_squared_error(y_train, y_train_pred_DT)), np.sqrt(mean_squared_error(y_test, y_test_pred_DT))"
      ],
      "execution_count": null,
      "outputs": []
    },
    {
      "cell_type": "markdown",
      "metadata": {
        "id": "NjMWsJkW39Fq"
      },
      "source": [
        "# **Resumão**\r\n",
        "\r\n",
        "* Nesta aula, tentei dar uma ideia intuitiva Sobre Como as Fintechs nascem.\r\n",
        "* Importância da Geração de Hipóteses\r\n",
        "* Utilização de Fontes Dados externas\r\n",
        "* Engenharia de Atributos (criação de Variáveis)\r\n",
        "\r\n",
        "No entanto, te encorajo a desafiar os resultados que conseguimos aqui. Teste outras máquinas Preditivas com outros algoritmos. \r\n",
        "\r\n",
        "![](https://thumbs.gfycat.com/GentleDisloyalEider-max-1mb.gif)\r\n",
        "\r\n",
        "\r\n",
        "Simbóra!"
      ]
    },
    {
      "cell_type": "markdown",
      "metadata": {
        "id": "SLF6vuqmxTUL"
      },
      "source": [
        "#Fim"
      ]
    },
    {
      "cell_type": "markdown",
      "metadata": {
        "id": "_fHqFSvWe94c"
      },
      "source": [
        "## Valeu!"
      ]
    },
    {
      "cell_type": "markdown",
      "metadata": {
        "id": "_2DT4SBZRDP-"
      },
      "source": [
        "### #Links - Ciência dos Dados <a href=\"https://linktr.ee/cienciadosdados\">https://linktr.ee/cienciadosdados</a>"
      ]
    },
    {
      "cell_type": "markdown",
      "metadata": {
        "id": "IyZkBNsXam7I"
      },
      "source": [
        "Fonte: https://github.com/vidhi-am/tds_articles/blob/master/AV_blogathon/Data_preparation_FeatureEngg/Data_preparation.ipynb"
      ]
    },
    {
      "cell_type": "markdown",
      "metadata": {
        "id": "ThxYRK6DfJ3f"
      },
      "source": [
        "### #YouTube - Mais Aulas como essa no YouTube <a href=\"https://www.youtube.com/watch?v=IaIc5oHd3II&t=1569s\">https://www.youtube.com/watch?v=IaIc5oHd3II&t=1569s</a>"
      ]
    },
    {
      "cell_type": "code",
      "metadata": {
        "colab": {
          "base_uri": "https://localhost:8080/",
          "height": 220
        },
        "id": "_pg8zEm-Nv6Y",
        "outputId": "745ed11e-1c0f-4d8e-c62f-dd4d1ff737c1"
      },
      "source": [
        "from IPython.core.display import HTML\n",
        "HTML('<<iframe width=\"380\" height=\"200\" src=\"https://www.youtube.com/embed/FI3RlY9AaVs\" frameborder=\"0\" allow=\"accelerometer; autoplay; clipboard-write; encrypted-media; gyroscope; picture-in-picture\" allowfullscreen></iframe>')"
      ],
      "execution_count": null,
      "outputs": [
        {
          "output_type": "execute_result",
          "data": {
            "text/html": [
              "<<iframe width=\"380\" height=\"200\" src=\"https://www.youtube.com/embed/FI3RlY9AaVs\" frameborder=\"0\" allow=\"accelerometer; autoplay; clipboard-write; encrypted-media; gyroscope; picture-in-picture\" allowfullscreen></iframe>"
            ],
            "text/plain": [
              "<IPython.core.display.HTML object>"
            ]
          },
          "metadata": {
            "tags": []
          },
          "execution_count": 90
        }
      ]
    }
  ]
}