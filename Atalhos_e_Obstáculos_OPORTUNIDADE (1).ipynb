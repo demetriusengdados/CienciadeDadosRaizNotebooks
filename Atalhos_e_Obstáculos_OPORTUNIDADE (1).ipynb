{
  "nbformat": 4,
  "nbformat_minor": 0,
  "metadata": {
    "colab": {
      "name": "Atalhos e Obstáculos - OPORTUNIDADE.ipynb",
      "provenance": [],
      "collapsed_sections": [
        "wWEY0JpXWsqz",
        "GB2XctSi-eMF",
        "C4MD7an0AKgP",
        "PCXhvU3IAd6s",
        "OunCxu9TVeVf",
        "rVoQ9w_nBOVU",
        "gyoeTc0iE0Ni",
        "D3ZEG1iPFsMP"
      ]
    },
    "kernelspec": {
      "name": "python3",
      "display_name": "Python 3"
    }
  },
  "cells": [
    {
      "cell_type": "markdown",
      "metadata": {
        "id": "A1eaRA1fD2PW"
      },
      "source": [
        "![alt text](https://encrypted-tbn0.gstatic.com/images?q=tbn%3AANd9GcTK4gQ9nhwHHaSXMHpeggWg7twwMCgb877smkRmtkmDeDoGF9Z6&usqp=CAU)"
      ]
    },
    {
      "cell_type": "markdown",
      "metadata": {
        "id": "HoFFYsXPQUcZ"
      },
      "source": [
        "![alt text](https://cienciadosdados.com/images/2021/Atalhos_e_Obstculos.png)"
      ]
    },
    {
      "cell_type": "markdown",
      "metadata": {
        "id": "X99hrqWxU_B5"
      },
      "source": [
        "# <font color='Blue'>Atalho</font>\r\n",
        "\r\n",
        "##Oportunidade no <font color='Blue'>Mercado de Trabalho</font> para Ciência de Dados em franca expansão. \r\n",
        "\r\n",
        "![](https://cienciadosdados.com/images/2021/trends.png)\r\n",
        "\r\n",
        "\r\n",
        "https://trends.google.com.br/trends/explore?date=2014-01-01%202021-01-22&geo=BR&q=machine%20learning,data%20science\r\n",
        "\r\n",
        "\r\n"
      ]
    },
    {
      "cell_type": "markdown",
      "metadata": {
        "id": "fOm97g_V9Mlw"
      },
      "source": [
        "# **Anteriormente**..."
      ]
    },
    {
      "cell_type": "markdown",
      "metadata": {
        "id": "wWEY0JpXWsqz"
      },
      "source": [
        "## **Live 1** - <font color='Blue'>Atalho</font>: Saber o que faz um Cientista de Dados"
      ]
    },
    {
      "cell_type": "markdown",
      "metadata": {
        "id": "N9GCIQ6p9-dn"
      },
      "source": [
        "* Saber o que faz um Cientista de Dados\r\n",
        "\r\n",
        "    ==> Entender que **não precisa ser PhD** em todos os tópicos para ser Cientista de Dados\r\n",
        "\r\n",
        "    ==> Precisa **saber quais as habilidades** necessárias e focar nelas..."
      ]
    },
    {
      "cell_type": "markdown",
      "metadata": {
        "id": "GB2XctSi-eMF"
      },
      "source": [
        "## **Live 2** - Obstáculo: Achar que Precisa Conhecer Profundamente tudo sobre Ciência de Dados"
      ]
    },
    {
      "cell_type": "markdown",
      "metadata": {
        "id": "VdBX__lH-l05"
      },
      "source": [
        "* Achar que Precisa Conhecer Profundamente tudo sobre Ciência de Dados\r\n",
        "\r\n",
        "    ==> Entender que **não precisa ser PhD** em todos os tópicos para ser Cientista de Dados\r\n",
        "\r\n",
        "    ==> Precisa **saber quais as habilidades** necessárias e focar nelas..."
      ]
    },
    {
      "cell_type": "markdown",
      "metadata": {
        "id": "C4MD7an0AKgP"
      },
      "source": [
        "## **Live 3** - <font color='Blue'>Atalho</font>: Entender qual é o caminho a percorrer para ser um Cientista de Dados"
      ]
    },
    {
      "cell_type": "markdown",
      "metadata": {
        "id": "PCXhvU3IAd6s"
      },
      "source": [
        "==> **Entender qual é o caminho** a percorrer para ser um Cientista de Dados\r\n",
        "\r\n",
        "==> Seguir o GPS - Focar na sua ROMA\r\n",
        "\r\n",
        "### Passo 1: Buscar Skills Básicas\r\n",
        "### Passo 2: Aprender usar as Ferramentas Necessárias (somente elas)\r\n",
        "### Passo 3: Aprender a Construir Máquinas Preditivas\r\n",
        "### Passo 4: Implementar Máquinas Preditivas\r\n",
        "### Passo 5: Never Stop Learning - Seja curioso e Organizado"
      ]
    },
    {
      "cell_type": "markdown",
      "metadata": {
        "id": "5SSpkBDHAHST"
      },
      "source": [
        "![alt text](https://i.pinimg.com/originals/8e/04/80/8e0480ac5b45a68c6da54464419959ab.gif)\r\n",
        "\r\n",
        "\r\n"
      ]
    },
    {
      "cell_type": "markdown",
      "metadata": {
        "id": "oQWGQgV0BguP"
      },
      "source": [
        "https://www.mindmeister.com/1746049667"
      ]
    },
    {
      "cell_type": "markdown",
      "metadata": {
        "id": "OunCxu9TVeVf"
      },
      "source": [
        "## **Live 4** - Obstáculo: Ficar Fuçando e Seguindo todas as fontes na WEB"
      ]
    },
    {
      "cell_type": "markdown",
      "metadata": {
        "id": "Qh3hxgwlwZ67"
      },
      "source": [
        "**Obstáculo invisível**: Vc pensa que está buscando clareza, mas está se confundindo mais...\r\n",
        "\r\n",
        "===> Pense na ROMA. Mas, o foco é no Próximo Passo!"
      ]
    },
    {
      "cell_type": "markdown",
      "metadata": {
        "id": "rVoQ9w_nBOVU"
      },
      "source": [
        "## **Live 5** - <font color='Blue'>Atalho</font> Entender quais são as <font color='Blue'>Ferramentas Necessárias</font> para o Cientista de Dados.\r\n"
      ]
    },
    {
      "cell_type": "markdown",
      "metadata": {
        "id": "-ZiaxE3IV0Ys"
      },
      "source": [
        "![](https://blog.mackenzie.br/content/images/2020/09/giphy-1.gif)\r\n",
        "\r\n",
        "![](https://cio.com.br/wp-content/uploads/2019/10/ciencia-de-dados.jpg)\r\n",
        "\r\n",
        "\r\n"
      ]
    },
    {
      "cell_type": "markdown",
      "metadata": {
        "id": "jFyOe0KCpgTm"
      },
      "source": [
        "## **Live 6** - Obstáculo: Não acreditar que vai conseguir Fazer a  <font color='Blue'>Análise dos Dados.</font> "
      ]
    },
    {
      "cell_type": "markdown",
      "metadata": {
        "id": "gyoeTc0iE0Ni"
      },
      "source": [
        "## **Live 7** - <font color='Blue'>Atalho</font> : Aprender a <font color='Blue'>Pré-Processar</font> Dados."
      ]
    },
    {
      "cell_type": "markdown",
      "metadata": {
        "id": "bjsKNP0kw5ym"
      },
      "source": [
        "![](https://cdn.lowgif.com/small/6327efb5e997a590-.gif)\r\n",
        "\r\n"
      ]
    },
    {
      "cell_type": "markdown",
      "metadata": {
        "id": "D3ZEG1iPFsMP"
      },
      "source": [
        "# **Live 8** - Obstáculo: Acreditar que não consegue <font color='blue'>Construir de Máquinas Preditivas</font>\r\n"
      ]
    },
    {
      "cell_type": "markdown",
      "metadata": {
        "id": "9WtT35ob1eXg"
      },
      "source": [
        "\r\n",
        "![](https://i.pinimg.com/originals/b3/31/6f/b3316fc13b503a31331bdf1542001171.gif) ![](https://oden.io/wp-content/uploads/2017/10/connected_factory.gif)"
      ]
    },
    {
      "cell_type": "markdown",
      "metadata": {
        "id": "QCWynyNY1jMP"
      },
      "source": [
        ""
      ]
    },
    {
      "cell_type": "markdown",
      "metadata": {
        "id": "f7zbbRLw1lcb"
      },
      "source": [
        "# **Live 9** - <font color='Blue'>Atalho</font>: Aprender a Avaliar <font color='blue'> Máquinas Preditivas</font>"
      ]
    },
    {
      "cell_type": "markdown",
      "metadata": {
        "id": "xMESWIMv2Dog"
      },
      "source": [
        "![](https://i.imgur.com/tR3IwBK.gif)"
      ]
    },
    {
      "cell_type": "markdown",
      "metadata": {
        "id": "wuxpDInR2CMz"
      },
      "source": [
        "# <font color='Blue'>Atalho</font>\r\n",
        "\r\n",
        "##Oportunidade no <font color='Blue'>Mercado de Trabalho</font> para Ciência de Dados em franca expansão. \r\n",
        "\r\n",
        "![](https://cienciadosdados.com/images/2021/trends.png)\r\n",
        "\r\n",
        "\r\n",
        "https://trends.google.com.br/trends/explore?date=2014-01-01%202021-01-22&geo=BR&q=machine%20learning,data%20science\r\n",
        "\r\n",
        "\r\n"
      ]
    },
    {
      "cell_type": "markdown",
      "metadata": {
        "id": "lrqQEMLTe7P8"
      },
      "source": [
        "![](https://cienciadosdados.com/images/2021/glass.png)"
      ]
    },
    {
      "cell_type": "markdown",
      "metadata": {
        "id": "RtPmGBT-dnD5"
      },
      "source": [
        "https://www.glassdoor.com.br/Sal%C3%A1rios/data-scientist-sal%C3%A1rio-SRCH_KO0,14_SDAS.htm?clickSource=searchBtn"
      ]
    },
    {
      "cell_type": "markdown",
      "metadata": {
        "id": "Ddz8nGPS1EM9"
      },
      "source": [
        "![](https://cienciadosdados.com/images/2021/salrio.png)"
      ]
    },
    {
      "cell_type": "markdown",
      "metadata": {
        "id": "DZUukf42gI8f"
      },
      "source": [
        "![](https://64.media.tumblr.com/4cec058409ed57d78f2b23d9a7fd3352/ef94049418a5b4f6-b9/s500x750/e8ab2749a7def61eea17c5b0a638ab6ba48e898a.gifv)"
      ]
    },
    {
      "cell_type": "markdown",
      "metadata": {
        "id": "cTbAk086gLtt"
      },
      "source": [
        "# Abertas Muitas <font color='Blue'>Vagas de Emprego</font> em Aberto\r\n",
        "\r\n",
        "https://www.glassdoor.com.br/Vaga/data-scientist-vagas-SRCH_KO0,14.htm"
      ]
    },
    {
      "cell_type": "markdown",
      "metadata": {
        "id": "WpMtg8Qag2Vk"
      },
      "source": [
        "![](https://cienciadosdados.com/images/2021/junior.png)\r\n",
        "\r\n",
        "![](https://cdn.mensagenscomamor.com/content/images/m000505707.gif?v=1)"
      ]
    },
    {
      "cell_type": "markdown",
      "metadata": {
        "id": "1sGyBQJ7jELm"
      },
      "source": [
        "![](https://cienciadosdados.com/images/2021/job1.png)"
      ]
    },
    {
      "cell_type": "markdown",
      "metadata": {
        "id": "0RXCj5SOjjka"
      },
      "source": [
        "![](https://cienciadosdados.com/images/2021/job2.png)\r\n",
        "\r\n",
        "https://www.glassdoor.com.br/Vaga/data-scientist-vagas-SRCH_KO0,14.htm\r\n",
        "\r\n"
      ]
    },
    {
      "cell_type": "markdown",
      "metadata": {
        "id": "NfHvPNVnkO-N"
      },
      "source": [
        "![](https://cienciadosdados.com/images/2021/job3.png)"
      ]
    },
    {
      "cell_type": "markdown",
      "metadata": {
        "id": "cGEQroGglJUk"
      },
      "source": [
        "![](https://cienciadosdados.com/images/2021/job4.png)"
      ]
    },
    {
      "cell_type": "markdown",
      "metadata": {
        "id": "7c-SkSHtlwT0"
      },
      "source": [
        "![](https://cienciadosdados.com/images/2021/job5.png)"
      ]
    },
    {
      "cell_type": "markdown",
      "metadata": {
        "id": "2hXOLv76mdW8"
      },
      "source": [
        "![](https://cienciadosdados.com/images/2021/job6.png)\r\n",
        "\r\n",
        "https://www.glassdoor.com.br/Vaga/data-scientist-vagas-SRCH_KO0,14_IP2.htm"
      ]
    },
    {
      "cell_type": "markdown",
      "metadata": {
        "id": "wKo_SO0vm9CZ"
      },
      "source": [
        "![](https://cienciadosdados.com/images/2021/job7.png)"
      ]
    },
    {
      "cell_type": "markdown",
      "metadata": {
        "id": "JUhLqSxj2t6F"
      },
      "source": [
        "# Se eu quiser tocar <font color='Blue'>meus próprios Projetos</font> ?"
      ]
    },
    {
      "cell_type": "markdown",
      "metadata": {
        "id": "vHLXBAAR3J1U"
      },
      "source": [
        "![](https://www.greenliff.swiss/sites/default/files/2020-09/dave-at-homeoffice.gif)"
      ]
    },
    {
      "cell_type": "markdown",
      "metadata": {
        "id": "qAlapLtF3N_e"
      },
      "source": [
        "![](https://blog.umbler.com/wp-content/uploads/2017/03/5c01923bb0cae_giphy.gif)"
      ]
    },
    {
      "cell_type": "markdown",
      "metadata": {
        "id": "qbgjee4U3Rr-"
      },
      "source": [
        "![](https://www.greenliff.swiss/sites/default/files/2020-10/stuart-at-homeoffice.gif)"
      ]
    },
    {
      "cell_type": "markdown",
      "metadata": {
        "id": "dSPnsDds3bZS"
      },
      "source": [
        "![](https://assets.codementor.io/codementor.jpg)"
      ]
    },
    {
      "cell_type": "markdown",
      "metadata": {
        "id": "USyEgXAX3bcY"
      },
      "source": [
        "https://www.codementor.io/u/dashboard"
      ]
    },
    {
      "cell_type": "markdown",
      "metadata": {
        "id": "yzSuqVfU3bfO"
      },
      "source": [
        "![](https://cienciadosdados.com/images/2021/codementor.png)"
      ]
    },
    {
      "cell_type": "markdown",
      "metadata": {
        "id": "yqhCc8QZ3bhI"
      },
      "source": [
        "![](https://play-lh.googleusercontent.com/ydg8b8XxyPr_Mv2PwDP7YoR9FTPMGbeK3uaugUc8caTBc5UrD1-RnlY9KDSEIw0Sl74)"
      ]
    },
    {
      "cell_type": "markdown",
      "metadata": {
        "id": "RkvH2xOm44Bg"
      },
      "source": [
        "https://www.99freelas.com.br/dashboard\r\n"
      ]
    },
    {
      "cell_type": "markdown",
      "metadata": {
        "id": "mdqHe-CT44EP"
      },
      "source": [
        "![](https://cienciadosdados.com/images/2021/99.png)"
      ]
    },
    {
      "cell_type": "markdown",
      "metadata": {
        "id": "n8YJF0MF44G2"
      },
      "source": [
        "![](https://hellofuture.orange.com/app/uploads/2018/01/Intro-HELLO-FUTURE-1920x1080_v2.gif)"
      ]
    },
    {
      "cell_type": "markdown",
      "metadata": {
        "id": "_9Ztg22b44Ii"
      },
      "source": [
        "# .... e agora, com Vocês ela.....a\r\n",
        "![](https://cienciadosdados.com/images/2021/Maratona_Cientista_de_Dados_na_Prtica.jpg)"
      ]
    },
    {
      "cell_type": "markdown",
      "metadata": {
        "id": "ZffGdxik44KA"
      },
      "source": [
        "![](https://cienciadosdados.com/images/2021/maratona.png)"
      ]
    },
    {
      "cell_type": "markdown",
      "metadata": {
        "id": "UicEaOQD-2D7"
      },
      "source": [
        "# Fique atento aos E-mails\r\n",
        "\r\n",
        "![](https://cienciadosdados.com/images/2021/gmail.png)"
      ]
    },
    {
      "cell_type": "markdown",
      "metadata": {
        "id": "mi3LryMx3aAv"
      },
      "source": [
        "#FIM"
      ]
    },
    {
      "cell_type": "markdown",
      "metadata": {
        "id": "uSbNHmc__kRO"
      },
      "source": [
        "#Link Redes Sociais\r\n",
        "\r\n",
        "https://linktr.ee/cienciadosdados"
      ]
    },
    {
      "cell_type": "code",
      "metadata": {
        "colab": {
          "base_uri": "https://localhost:8080/",
          "height": 340
        },
        "id": "wyiem91BwSpq",
        "outputId": "398341f9-3060-4ddd-f1e1-b7728e923767"
      },
      "source": [
        "from IPython.core.display import HTML\r\n",
        "HTML('<iframe width=\"580\" height=\"320\" src=\"https://www.youtube.com/embed/VcW7-CBhssY\" frameborder=\"0\" allow=\"accelerometer; autoplay; clipboard-write; encrypted-media; gyroscope; picture-in-picture\" allowfullscreen></iframe>')"
      ],
      "execution_count": null,
      "outputs": [
        {
          "output_type": "execute_result",
          "data": {
            "text/html": [
              "<iframe width=\"580\" height=\"320\" src=\"https://www.youtube.com/embed/VcW7-CBhssY\" frameborder=\"0\" allow=\"accelerometer; autoplay; clipboard-write; encrypted-media; gyroscope; picture-in-picture\" allowfullscreen></iframe>"
            ],
            "text/plain": [
              "<IPython.core.display.HTML object>"
            ]
          },
          "metadata": {
            "tags": []
          },
          "execution_count": 1
        }
      ]
    },
    {
      "cell_type": "markdown",
      "metadata": {
        "id": "ZtqQ16OFmDNb"
      },
      "source": [
        "#SIMBÓRA!\r\n",
        "# É só o Começo...\r\n",
        "\r\n",
        "\r\n",
        "\r\n"
      ]
    }
  ]
}