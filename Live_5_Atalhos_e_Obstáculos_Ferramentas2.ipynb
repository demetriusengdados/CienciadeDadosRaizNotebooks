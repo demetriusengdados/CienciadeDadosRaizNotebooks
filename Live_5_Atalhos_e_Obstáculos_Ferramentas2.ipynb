{
  "nbformat": 4,
  "nbformat_minor": 0,
  "metadata": {
    "colab": {
      "name": "Live 5 - Atalhos e Obstáculos - Ferramentas2.ipynb",
      "provenance": [],
      "collapsed_sections": []
    },
    "kernelspec": {
      "name": "python3",
      "display_name": "Python 3"
    }
  },
  "cells": [
    {
      "cell_type": "markdown",
      "metadata": {
        "id": "A1eaRA1fD2PW"
      },
      "source": [
        "![alt text](https://encrypted-tbn0.gstatic.com/images?q=tbn%3AANd9GcTK4gQ9nhwHHaSXMHpeggWg7twwMCgb877smkRmtkmDeDoGF9Z6&usqp=CAU)"
      ]
    },
    {
      "cell_type": "markdown",
      "metadata": {
        "id": "9xtrXghHknMy"
      },
      "source": [
        "![](https://cienciadosdados.com/images/banners/Tema_Lives.png)"
      ]
    },
    {
      "cell_type": "markdown",
      "metadata": {
        "id": "X99hrqWxU_B5"
      },
      "source": [
        "# <font color='Blue'>ATALHO</font>\r\n",
        "\r\n",
        "Entender quais são as Ferramentas **Necessárias** para o Cientista de Dados\r\n"
      ]
    },
    {
      "cell_type": "markdown",
      "metadata": {
        "id": "fOm97g_V9Mlw"
      },
      "source": [
        "# **Anteriormente**..."
      ]
    },
    {
      "cell_type": "markdown",
      "metadata": {
        "id": "wWEY0JpXWsqz"
      },
      "source": [
        "## **Live 1** - Atalho  "
      ]
    },
    {
      "cell_type": "markdown",
      "metadata": {
        "id": "N9GCIQ6p9-dn"
      },
      "source": [
        "* Saber o que faz um Cientista de Dados\r\n",
        "\r\n",
        "    ==> Entender que **não precisa ser PhD** em todos os tópicos para ser Cientista de Dados\r\n",
        "\r\n",
        "    ==> Precisa **saber quais as habilidades** necessárias e focar nelas..."
      ]
    },
    {
      "cell_type": "markdown",
      "metadata": {
        "id": "HaIH_6SunZeG"
      },
      "source": [
        "![](https://images.squarespace-cdn.com/content/v1/5e9201221b86b3147a38bbdd/1589892974256-KVPDK829C59J8R91YYS9/ke17ZwdGBToddI8pDm48kLl76CqolYQpYCK1tQUkpCVZw-zPPgdn4jUwVcJE1ZvWQUxwkmyExglNqGp0IvTJZUJFbgE-7XRK3dMEBRBhUpxXoQh_9VAg9h_FDbQl-gatG1qE4FrxjCn45o0ShPsjmkibZG1fWkY2cdl18ub3bkk/02-Eye-Open-Scan-1+%281%29.gif)"
      ]
    },
    {
      "cell_type": "markdown",
      "metadata": {
        "id": "GB2XctSi-eMF"
      },
      "source": [
        "## **Live 2** - Obstáculo  "
      ]
    },
    {
      "cell_type": "markdown",
      "metadata": {
        "id": "VdBX__lH-l05"
      },
      "source": [
        "* Achar que Precisa Conhecer Profundamente tudo sobre Ciência de Dados\r\n",
        "\r\n",
        "    ==> Entender que **não precisa ser PhD** em todos os tópicos para ser Cientista de Dados\r\n",
        "\r\n",
        " "
      ]
    },
    {
      "cell_type": "markdown",
      "metadata": {
        "id": "hf2LKAHHoAbY"
      },
      "source": [
        "![](https://i.pinimg.com/originals/52/cd/b8/52cdb8a7af0fcc6ee530af86722f0b88.gif)"
      ]
    },
    {
      "cell_type": "markdown",
      "metadata": {
        "id": "C4MD7an0AKgP"
      },
      "source": [
        "## **Live 3** - Atalho"
      ]
    },
    {
      "cell_type": "markdown",
      "metadata": {
        "id": "PCXhvU3IAd6s"
      },
      "source": [
        "==> **Entender qual é o caminho** a percorrer para ser um Cientista de Dados\r\n",
        "\r\n",
        "==> Seguir o GPS - Focar na sua ROMA\r\n",
        "\r\n",
        "### Passo 1: Buscar Skills Básicas\r\n",
        "### Passo 2: Aprender usar as Ferramentas Necessárias (somente elas)\r\n",
        "### Passo 3: Aprender a Construir Máquinas Preditivas\r\n",
        "### Passo 4: Implementar Máquinas Preditivas\r\n",
        "### Passo 5: Never Stop Learning - Seja curioso e Organizado"
      ]
    },
    {
      "cell_type": "markdown",
      "metadata": {
        "id": "HjM32_qjoq9R"
      },
      "source": [
        "![](https://qph.fs.quoracdn.net/main-qimg-b5bf84fce73223587f95c2934ecfb2fd)\r\n"
      ]
    },
    {
      "cell_type": "markdown",
      "metadata": {
        "id": "OunCxu9TVeVf"
      },
      "source": [
        "## **Live 4** - Obstáculo: Ficar Fuçando e Seguindo todas as fontes na WEB"
      ]
    },
    {
      "cell_type": "markdown",
      "metadata": {
        "id": "Qh3hxgwlwZ67"
      },
      "source": [
        "**Obstáculo invisível**: Vc pensa que está buscando clareza, mas está se confundindo mais...\r\n",
        "\r\n",
        "===> Pense na ROMA. Mas, o foco é no Próximo Passo!"
      ]
    },
    {
      "cell_type": "markdown",
      "metadata": {
        "id": "WRORPqRcD2SZ"
      },
      "source": [
        "![](https://krify.co/wp-content/uploads/2018/09/Navigation.gif)"
      ]
    },
    {
      "cell_type": "markdown",
      "metadata": {
        "id": "rVoQ9w_nBOVU"
      },
      "source": [
        "## **Live 5** - Atalho: Entender quais são as <font color='Blue'>**Ferramentas** **Necessárias**</font> para o Cientista de Dados.\r\n"
      ]
    },
    {
      "cell_type": "markdown",
      "metadata": {
        "id": "-ZiaxE3IV0Ys"
      },
      "source": [
        "![](https://blog.mackenzie.br/content/images/2020/09/giphy-1.gif)\r\n",
        "\r\n",
        "![](https://cio.com.br/wp-content/uploads/2019/10/ciencia-de-dados.jpg)\r\n",
        "\r\n",
        "\r\n"
      ]
    },
    {
      "cell_type": "markdown",
      "metadata": {
        "id": "GVoq5iKHaP_4"
      },
      "source": [
        "# Quando falam de Ferramentas **é isso que vc pensa....**"
      ]
    },
    {
      "cell_type": "markdown",
      "metadata": {
        "id": "Iy1zLlpCZeTW"
      },
      "source": [
        "![](https://i2.wp.com/datascienceacademy.com.br/blog/wp-content/uploads/2017/08/ferramentas.png?resize=1024%2C418)"
      ]
    },
    {
      "cell_type": "markdown",
      "metadata": {
        "id": "qxVYF0H0aXz2"
      },
      "source": [
        "# ....mas a **realidade** é assim.\r\n",
        "\r\n",
        "![](https://cienciadosdados.com/images/2021/Design_sem_nome_3.png)"
      ]
    },
    {
      "cell_type": "markdown",
      "metadata": {
        "id": "VtNS_gQYdFsf"
      },
      "source": [
        "![](https://i.gifer.com/7LIp.gif)"
      ]
    },
    {
      "cell_type": "markdown",
      "metadata": {
        "id": "-6Z7IDvOYwa9"
      },
      "source": [
        "#**1° Programação** \r\n",
        "\r\n",
        "![](https://medicinasa.com.br/wp-content/uploads/2019/05/google-artificial-intelligence.gif)"
      ]
    },
    {
      "cell_type": "markdown",
      "metadata": {
        "id": "xhkAda0ow2ng"
      },
      "source": [
        "![](https://i2.wp.com/www.cienciaedados.com/wp-content/uploads/2015/12/Por-que-Cientistas-de-Dados-escolhem-Python.jpg?fit=680%2C459)"
      ]
    },
    {
      "cell_type": "markdown",
      "metadata": {
        "id": "38yMJ30CxCnV"
      },
      "source": [
        "## O que são IDE's e o que Python tem a ver com elas?"
      ]
    },
    {
      "cell_type": "markdown",
      "metadata": {
        "id": "s8oex9KgxecS"
      },
      "source": [
        "**Ambiente de desenvolvimento integrado - IDE**, do inglês Integrated Development Environment ou Ambiente de Desenvolvimento Integrado, é um programa de computador que reúne características e ferramentas de apoio ao desenvolvimento de software com o objetivo de agilizar este processo."
      ]
    },
    {
      "cell_type": "markdown",
      "metadata": {
        "id": "5iRkxPJKxrLW"
      },
      "source": [
        "## Então pode existir mais de uma IDE, Eduardo?\r\n",
        "\r\n",
        "===> Yes"
      ]
    },
    {
      "cell_type": "markdown",
      "metadata": {
        "id": "5-nW9O60xych"
      },
      "source": [
        "![](https://static.javatpoint.com/python/images/python-ides.png)\r\n",
        "\r\n",
        "![](https://res.cloudinary.com/dyd911kmh/image/upload/f_auto,q_auto:best/v1561996940/ide1_ol5h4k.png)"
      ]
    },
    {
      "cell_type": "markdown",
      "metadata": {
        "id": "o2M09M-zydvq"
      },
      "source": [
        "## Qual é a melhor para que está iniciando?\r\n",
        "\r\n",
        "==> ![](https://miro.medium.com/max/502/1*9Q1rcr_peQdnGMwOYDBFhw.png)"
      ]
    },
    {
      "cell_type": "markdown",
      "metadata": {
        "id": "M7vNHEbpy3On"
      },
      "source": [
        "#**2° Bancos de Dados**"
      ]
    },
    {
      "cell_type": "markdown",
      "metadata": {
        "id": "cLQXs-Xby8ej"
      },
      "source": [
        "## Existem muitos bancos de dados \r\n",
        "\r\n",
        "![](https://k2partnering.com/wp-content/uploads/2015/11/DB-engines-ranking-web.jpg)"
      ]
    },
    {
      "cell_type": "markdown",
      "metadata": {
        "id": "Ee5qG4BE0Nmg"
      },
      "source": [
        "##Ranking:\r\n",
        "https://db-engines.com/en/ranking"
      ]
    },
    {
      "cell_type": "markdown",
      "metadata": {
        "id": "bLLgoyky0Twx"
      },
      "source": [
        "## Eduardo socorro! Vou precisar aprender esses bancos de dados todos aí?\r\n",
        "\r\n",
        "===> Claro que não! Vou te dar uma sacada: O que importa é a **Conexão** com o banco de dado não o BD em si.\r\n"
      ]
    },
    {
      "cell_type": "markdown",
      "metadata": {
        "id": "dhCCL3dv0uGb"
      },
      "source": [
        "###**Conexão com BD**\r\n",
        "![](https://i.stack.imgur.com/lLrrJ.jpg)"
      ]
    },
    {
      "cell_type": "markdown",
      "metadata": {
        "id": "ch0_sSFF05Mt"
      },
      "source": [
        "## Python se conecta com **99% dos Bancos de Dados**, além é claro, do maior BD da nossa era:\r\n",
        "## A Internet"
      ]
    },
    {
      "cell_type": "markdown",
      "metadata": {
        "id": "Dwl2euUF1P8p"
      },
      "source": [
        "### Ex:  No Programa Cientista de Dados na Prática vc aprende a se conectar com banco de dados. Mas, o foco é na conexão com os tipos de dados. "
      ]
    },
    {
      "cell_type": "markdown",
      "metadata": {
        "id": "uBGVnMwK1pTT"
      },
      "source": [
        "#**3° Análise Exploratória, Processamento dos Dados e Máquinas Preditivas**\r\n",
        "\r\n",
        "![](https://i.gifer.com/7LIp.gif)\r\n",
        "\r\n",
        "\r\n",
        "==> ![](https://miro.medium.com/max/502/1*9Q1rcr_peQdnGMwOYDBFhw.png)"
      ]
    },
    {
      "cell_type": "markdown",
      "metadata": {
        "id": "4SMTWvWT2yKA"
      },
      "source": [
        "#**4° Visualização de Dados**\r\n",
        "\r\n",
        "##Ferramentas de Criação de Gráficos e Dashboards\r\n",
        "\r\n",
        "![](https://cienciadosdados.com/images/2021/dataviz.png)"
      ]
    },
    {
      "cell_type": "markdown",
      "metadata": {
        "id": "_swBc3E25IMM"
      },
      "source": [
        "## Eduardo, já entendi....não são todas elas...Quais a gente vai usar?\r\n",
        "\r\n",
        "\r\n",
        "![](https://cienciadosdados.com/images/2021/__https___miromediumcom_max_502_1_9Q1rcr_peQdnGMwOYDBFhwpng.png)"
      ]
    },
    {
      "cell_type": "markdown",
      "metadata": {
        "id": "6xOubf6j7a8c"
      },
      "source": [
        "#**5° Implementação das Máquinas Preditivas**"
      ]
    },
    {
      "cell_type": "markdown",
      "metadata": {
        "id": "-EY9OlSZ7f06"
      },
      "source": [
        "![](https://res.cloudinary.com/practicaldev/image/fetch/s--CscwXrE7--/c_imagga_scale,f_auto,fl_progressive,h_900,q_auto,w_1600/https://thepracticaldev.s3.amazonaws.com/i/amvksm9vw5qg3xnmx5zd.png)\r\n",
        "\r\n"
      ]
    },
    {
      "cell_type": "markdown",
      "metadata": {
        "id": "z4ieZKVR8hZ5"
      },
      "source": [
        "## Usaremos:\r\n",
        "\r\n",
        "![](https://res-3.cloudinary.com/crunchbase-production/image/upload/c_lpad,h_256,w_256,f_auto,q_auto:eco/mjnw24k71dpqmcqg6mno) ![](https://miro.medium.com/max/438/1*0G5zu7CnXdMT9pGbYUTQLQ.png)"
      ]
    },
    {
      "cell_type": "markdown",
      "metadata": {
        "id": "89z_1VzADO0N"
      },
      "source": [
        "##**Resumão** \r\n",
        "\r\n",
        "* Programação \r\n",
        "      Python\r\n",
        "![](https://i.gifer.com/7LIp.gif)\r\n",
        "* Bancos de dados\r\n",
        "      Conexões Python\r\n",
        "![](https://img.myloview.com.br/posters/linhas-de-conexao-de-dados-400-35149968.jpg)\r\n",
        "* Visualização dos dados\r\n",
        "      Nativas Python\r\n",
        "![](https://www.doutoriot.com.br/wp-content/uploads/2020/08/dashboard-o-que-e.jpeg)\r\n",
        "* Framework de Criação e Implementação de Máquinas Preditivas\r\n",
        "      Python\r\n",
        "![](https://cdn.hackersandslackers.com/2020/02/flask-intro.jpg)\r\n"
      ]
    },
    {
      "cell_type": "markdown",
      "metadata": {
        "id": "bq-8hvoP-aK6"
      },
      "source": [
        "#Fim"
      ]
    },
    {
      "cell_type": "markdown",
      "metadata": {
        "id": "3hVgX0LVqXpQ"
      },
      "source": [
        "# Clique e Faça sua [Inscrição](http://bit.ly/3qraYPe) na Maratona Cientista de Dados na Prática 3.0\r\n",
        "\r\n",
        "![](https://cienciadosdados.com/images/thumbs/seta-laranja.png) \r\n",
        "\r\n"
      ]
    },
    {
      "cell_type": "markdown",
      "metadata": {
        "id": "Rb8ReVePtXFL"
      },
      "source": [
        "# Links das Redes Sociais Ciência dos Dados\r\n",
        "\r\n",
        "# [LinkTree](https://linktr.ee/cienciadosdados)"
      ]
    },
    {
      "cell_type": "code",
      "metadata": {
        "colab": {
          "base_uri": "https://localhost:8080/",
          "height": 400
        },
        "id": "mK-Qv-7Etkbw",
        "outputId": "b7fa561e-9d8a-4d3d-8c71-d7aa6e29fb48"
      },
      "source": [
        "from IPython.core.display import HTML\r\n",
        "HTML('<iframe width=\"720\" height=\"380\" src=\"https://www.youtube.com/embed/O8SZGlSFnwo\" frameborder=\"0\" allow=\"accelerometer; autoplay; clipboard-write; encrypted-media; gyroscope; picture-in-picture\" allowfullscreen></iframe>')"
      ],
      "execution_count": 7,
      "outputs": [
        {
          "output_type": "execute_result",
          "data": {
            "text/html": [
              "<iframe width=\"720\" height=\"380\" src=\"https://www.youtube.com/embed/O8SZGlSFnwo\" frameborder=\"0\" allow=\"accelerometer; autoplay; clipboard-write; encrypted-media; gyroscope; picture-in-picture\" allowfullscreen></iframe>"
            ],
            "text/plain": [
              "<IPython.core.display.HTML object>"
            ]
          },
          "metadata": {
            "tags": []
          },
          "execution_count": 7
        }
      ]
    },
    {
      "cell_type": "markdown",
      "metadata": {
        "id": "ZtqQ16OFmDNb"
      },
      "source": [
        "#SIMBÓRA e OBRIGADO!!\r\n",
        "\r\n",
        "\r\n",
        "\r\n"
      ]
    }
  ]
}