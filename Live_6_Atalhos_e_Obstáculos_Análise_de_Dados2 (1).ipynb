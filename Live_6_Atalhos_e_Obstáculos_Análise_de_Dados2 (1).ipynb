{
  "nbformat": 4,
  "nbformat_minor": 0,
  "metadata": {
    "colab": {
      "name": "Live 6 - Atalhos e Obstáculos - Análise_de_Dados2.ipynb",
      "provenance": [],
      "collapsed_sections": []
    },
    "kernelspec": {
      "name": "python3",
      "display_name": "Python 3"
    }
  },
  "cells": [
    {
      "cell_type": "markdown",
      "metadata": {
        "id": "A1eaRA1fD2PW"
      },
      "source": [
        "![alt text](https://encrypted-tbn0.gstatic.com/images?q=tbn%3AANd9GcTK4gQ9nhwHHaSXMHpeggWg7twwMCgb877smkRmtkmDeDoGF9Z6&usqp=CAU)"
      ]
    },
    {
      "cell_type": "markdown",
      "metadata": {
        "id": "9xtrXghHknMy"
      },
      "source": [
        "![](https://cienciadosdados.com/images/banners/Tema_Lives.png)"
      ]
    },
    {
      "cell_type": "markdown",
      "metadata": {
        "id": "fOm97g_V9Mlw"
      },
      "source": [
        "# **Anteriormente**..."
      ]
    },
    {
      "cell_type": "markdown",
      "metadata": {
        "id": "78WugGG1m2_m"
      },
      "source": [
        "## **Live 1** - Atalho  "
      ]
    },
    {
      "cell_type": "markdown",
      "metadata": {
        "id": "lDKlYCIkm2_n"
      },
      "source": [
        "* Saber o que faz um Cientista de Dados\r\n",
        "\r\n",
        "    ==> Entender que **não precisa ser PhD** em todos os tópicos para ser Cientista de Dados\r\n",
        "\r\n",
        "    ==> Precisa **saber quais as habilidades** necessárias e focar nelas..."
      ]
    },
    {
      "cell_type": "markdown",
      "metadata": {
        "id": "HaIH_6SunZeG"
      },
      "source": [
        "![](https://images.squarespace-cdn.com/content/v1/5e9201221b86b3147a38bbdd/1589892974256-KVPDK829C59J8R91YYS9/ke17ZwdGBToddI8pDm48kLl76CqolYQpYCK1tQUkpCVZw-zPPgdn4jUwVcJE1ZvWQUxwkmyExglNqGp0IvTJZUJFbgE-7XRK3dMEBRBhUpxXoQh_9VAg9h_FDbQl-gatG1qE4FrxjCn45o0ShPsjmkibZG1fWkY2cdl18ub3bkk/02-Eye-Open-Scan-1+%281%29.gif)"
      ]
    },
    {
      "cell_type": "markdown",
      "metadata": {
        "id": "22iTUvRzm2_y"
      },
      "source": [
        "## **Live 2** - Obstáculo  "
      ]
    },
    {
      "cell_type": "markdown",
      "metadata": {
        "id": "LJVjJQ2wm2_y"
      },
      "source": [
        "* Achar que Precisa Conhecer Profundamente tudo sobre Ciência de Dados\r\n",
        "\r\n",
        "    ==> Entender que **não precisa ser PhD** em todos os tópicos para ser Cientista de Dados\r\n",
        "\r\n",
        " "
      ]
    },
    {
      "cell_type": "markdown",
      "metadata": {
        "id": "hf2LKAHHoAbY"
      },
      "source": [
        "![](https://i.pinimg.com/originals/52/cd/b8/52cdb8a7af0fcc6ee530af86722f0b88.gif)"
      ]
    },
    {
      "cell_type": "markdown",
      "metadata": {
        "id": "Xn3XtFUnm2_z"
      },
      "source": [
        "## **Live 3** - Atalho"
      ]
    },
    {
      "cell_type": "markdown",
      "metadata": {
        "id": "fFAf2rn0m2_z"
      },
      "source": [
        "==> **Entender qual é o caminho** a percorrer para ser um Cientista de Dados\r\n",
        "\r\n",
        "==> Seguir o GPS - Focar na sua ROMA\r\n",
        "\r\n",
        "### Passo 1: Buscar Skills Básicas\r\n",
        "### Passo 2: Aprender usar as Ferramentas Necessárias (somente elas)\r\n",
        "### Passo 3: Aprender a Construir Máquinas Preditivas\r\n",
        "### Passo 4: Implementar Máquinas Preditivas\r\n",
        "### Passo 5: Never Stop Learning - Seja curioso e Organizado"
      ]
    },
    {
      "cell_type": "markdown",
      "metadata": {
        "id": "HjM32_qjoq9R"
      },
      "source": [
        "![](https://qph.fs.quoracdn.net/main-qimg-b5bf84fce73223587f95c2934ecfb2fd)\r\n"
      ]
    },
    {
      "cell_type": "markdown",
      "metadata": {
        "id": "nrSO7CxBm2_0"
      },
      "source": [
        "## **Live 4** - Obstáculo: Ficar Fuçando e Seguindo todas as fontes na WEB"
      ]
    },
    {
      "cell_type": "markdown",
      "metadata": {
        "id": "gHzTvdnQm2_0"
      },
      "source": [
        "**Obstáculo invisível**: Vc pensa que está buscando clareza, mas está se confundindo mais...\r\n",
        "\r\n",
        "===> Pense na ROMA. Mas, o foco é no Próximo Passo!"
      ]
    },
    {
      "cell_type": "markdown",
      "metadata": {
        "id": "WRORPqRcD2SZ"
      },
      "source": [
        "![](https://krify.co/wp-content/uploads/2018/09/Navigation.gif)"
      ]
    },
    {
      "cell_type": "markdown",
      "metadata": {
        "id": "d4i5AIHwm2_0"
      },
      "source": [
        "## **Live 5** - Atalho: Entender quais são as <font color='Blue'>**Ferramentas** **Necessárias**</font> para o Cientista de Dados.\r\n"
      ]
    },
    {
      "cell_type": "markdown",
      "metadata": {
        "id": "S08Fmmkvm2_1"
      },
      "source": [
        "![](https://blog.mackenzie.br/content/images/2020/09/giphy-1.gif)\r\n",
        "\r\n",
        "![](https://cio.com.br/wp-content/uploads/2019/10/ciencia-de-dados.jpg)\r\n",
        "\r\n",
        "\r\n"
      ]
    },
    {
      "cell_type": "markdown",
      "metadata": {
        "id": "jFyOe0KCpgTm"
      },
      "source": [
        "## **Live 6** - Obstáculo: Não acreditar que vai conseguir Fazer a  <font color='Blue'>Análise dos Dados.</font> "
      ]
    },
    {
      "cell_type": "markdown",
      "metadata": {
        "id": "PYJ6CdlTL8h5"
      },
      "source": [
        "![](https://blog.hcltechsw.com/wp-content/uploads/2020/06/iot_1.gif)"
      ]
    },
    {
      "cell_type": "markdown",
      "metadata": {
        "id": "YIpa3X2KMBxQ"
      },
      "source": [
        "# Hoje em dia temos muitas facilidades. São muitos pacotes que nos auxiliam.\r\n",
        "\r\n",
        "* Conexão com Bancos de Dados\r\n",
        "* EDA\r\n",
        "* Processamento automatizado (catboost)\r\n",
        "* Pandas\r\n",
        "* Streamlit"
      ]
    },
    {
      "cell_type": "markdown",
      "metadata": {
        "id": "vHkB7m4JNGLV"
      },
      "source": [
        "## Vamos fazer um caso Prático Juntos? \r\n",
        "* Funcionalidades Aplicadas a Mais de 90% dos casos de Análise exploratória dos Dados"
      ]
    },
    {
      "cell_type": "code",
      "metadata": {
        "id": "gb1rdZ0BXOBr"
      },
      "source": [
        "# Importação dos Dados com Pacote Pandas\n",
        "import pandas as pd\n"
      ],
      "execution_count": 14,
      "outputs": []
    },
    {
      "cell_type": "markdown",
      "metadata": {
        "id": "_ST7P8uxWfTL"
      },
      "source": [
        "Importando o Dataset"
      ]
    },
    {
      "cell_type": "code",
      "metadata": {
        "id": "m2-c3zhxVlk6"
      },
      "source": [
        "df = pd.read_csv('/content/bank-full.csv', delimiter=';')\r\n"
      ],
      "execution_count": 17,
      "outputs": []
    },
    {
      "cell_type": "code",
      "metadata": {
        "id": "ABP62fhlWtNr"
      },
      "source": [
        "df."
      ],
      "execution_count": null,
      "outputs": []
    },
    {
      "cell_type": "code",
      "metadata": {
        "id": "Dlm93ab5QWqF",
        "colab": {
          "base_uri": "https://localhost:8080/"
        },
        "outputId": "3044fa61-c621-4e3d-b7d8-42f3295b9ffa"
      },
      "source": [
        "# Informações do Dataset\r\n",
        "df.info()"
      ],
      "execution_count": 23,
      "outputs": [
        {
          "output_type": "stream",
          "text": [
            "<class 'pandas.core.frame.DataFrame'>\n",
            "RangeIndex: 45211 entries, 0 to 45210\n",
            "Data columns (total 17 columns):\n",
            " #   Column     Non-Null Count  Dtype \n",
            "---  ------     --------------  ----- \n",
            " 0   age        45211 non-null  int64 \n",
            " 1   job        45211 non-null  object\n",
            " 2   marital    45211 non-null  object\n",
            " 3   education  45211 non-null  object\n",
            " 4   default    45211 non-null  object\n",
            " 5   balance    45211 non-null  int64 \n",
            " 6   housing    45211 non-null  object\n",
            " 7   loan       45211 non-null  object\n",
            " 8   contact    45211 non-null  object\n",
            " 9   day        45211 non-null  int64 \n",
            " 10  month      45211 non-null  object\n",
            " 11  duration   45211 non-null  int64 \n",
            " 12  campaign   45211 non-null  int64 \n",
            " 13  pdays      45211 non-null  int64 \n",
            " 14  previous   45211 non-null  int64 \n",
            " 15  poutcome   45211 non-null  object\n",
            " 16  y          45211 non-null  object\n",
            "dtypes: int64(7), object(10)\n",
            "memory usage: 5.9+ MB\n"
          ],
          "name": "stdout"
        }
      ]
    },
    {
      "cell_type": "code",
      "metadata": {
        "id": "MzWjYy66YdfR"
      },
      "source": [
        "# Conhecendo o dataset\n",
        "df.head()"
      ],
      "execution_count": null,
      "outputs": []
    },
    {
      "cell_type": "code",
      "metadata": {
        "id": "xruolGrf6u-a",
        "colab": {
          "base_uri": "https://localhost:8080/"
        },
        "outputId": "5b0d5e99-d575-48fb-ce87-fea0c7e013d0"
      },
      "source": [
        "# Dimensões do dataset\r\n",
        "df.shape"
      ],
      "execution_count": 21,
      "outputs": [
        {
          "output_type": "execute_result",
          "data": {
            "text/plain": [
              "(45211, 17)"
            ]
          },
          "metadata": {
            "tags": []
          },
          "execution_count": 21
        }
      ]
    },
    {
      "cell_type": "code",
      "metadata": {
        "id": "4NtKb1bBZwRD"
      },
      "source": [
        "# Estatísticas Variáveis Contínuas\n",
        "df.describe()"
      ],
      "execution_count": null,
      "outputs": []
    },
    {
      "cell_type": "code",
      "metadata": {
        "id": "NboQQ-qGQMYj",
        "colab": {
          "base_uri": "https://localhost:8080/"
        },
        "outputId": "731c67eb-685d-46ab-b439-25b7ff7da699"
      },
      "source": [
        "# Frequência das Variáveis\r\n",
        "df.education.value_counts()"
      ],
      "execution_count": 24,
      "outputs": [
        {
          "output_type": "execute_result",
          "data": {
            "text/plain": [
              "secondary    23202\n",
              "tertiary     13301\n",
              "primary       6851\n",
              "unknown       1857\n",
              "Name: education, dtype: int64"
            ]
          },
          "metadata": {
            "tags": []
          },
          "execution_count": 24
        }
      ]
    },
    {
      "cell_type": "code",
      "metadata": {
        "id": "NLpMgQZFRRVA",
        "colab": {
          "base_uri": "https://localhost:8080/",
          "height": 279
        },
        "outputId": "0f40c371-f0db-4bb4-b356-bdeb16f07b5a"
      },
      "source": [
        "#Pacote Gráfico SEABORN\r\n",
        "%matplotlib inline\r\n",
        "import seaborn as sns\r\n",
        "graf = sns.countplot(data=df, x = 'education', hue = 'y')"
      ],
      "execution_count": 25,
      "outputs": [
        {
          "output_type": "display_data",
          "data": {
            "image/png": "[encoded data removed]",
            "text/plain": [
              "<Figure size 432x288 with 1 Axes>"
            ]
          },
          "metadata": {
            "tags": [],
            "needs_background": "light"
          }
        }
      ]
    },
    {
      "cell_type": "code",
      "metadata": {
        "id": "8VPVIhOuR1sP",
        "colab": {
          "base_uri": "https://localhost:8080/",
          "height": 352
        },
        "outputId": "3b4ee6ef-835c-4d88-ed98-971f9c715a49"
      },
      "source": [
        "# Gráfico de Barras analisando variável categórica\r\n",
        "df.y.value_counts()\r\n",
        "sns.countplot(df['y'])"
      ],
      "execution_count": 26,
      "outputs": [
        {
          "output_type": "stream",
          "text": [
            "/usr/local/lib/python3.7/dist-packages/seaborn/_decorators.py:43: FutureWarning: Pass the following variable as a keyword arg: x. From version 0.12, the only valid positional argument will be `data`, and passing other arguments without an explicit keyword will result in an error or misinterpretation.\n",
            "  FutureWarning\n"
          ],
          "name": "stderr"
        },
        {
          "output_type": "execute_result",
          "data": {
            "text/plain": [
              "<matplotlib.axes._subplots.AxesSubplot at 0x7ff27e7a03d0>"
            ]
          },
          "metadata": {
            "tags": []
          },
          "execution_count": 26
        },
        {
          "output_type": "display_data",
          "data": {
            "image/png": "[encoded data removed]",
            "text/plain": [
              "<Figure size 432x288 with 1 Axes>"
            ]
          },
          "metadata": {
            "tags": [],
            "needs_background": "light"
          }
        }
      ]
    },
    {
      "cell_type": "code",
      "metadata": {
        "id": "JoVg22s8Taau",
        "colab": {
          "base_uri": "https://localhost:8080/",
          "height": 296
        },
        "outputId": "6cd461e2-584b-4b18-b09e-3b09553230a8"
      },
      "source": [
        "#Gráfico de Barras para Analisar Variáveis Contínuas\r\n",
        "sns.boxplot(x=df[\"age\"])"
      ],
      "execution_count": 27,
      "outputs": [
        {
          "output_type": "execute_result",
          "data": {
            "text/plain": [
              "<matplotlib.axes._subplots.AxesSubplot at 0x7ff27f7ee5d0>"
            ]
          },
          "metadata": {
            "tags": []
          },
          "execution_count": 27
        },
        {
          "output_type": "display_data",
          "data": {
            "image/png": "[encoded data removed]",
            "text/plain": [
              "<Figure size 432x288 with 1 Axes>"
            ]
          },
          "metadata": {
            "tags": [],
            "needs_background": "light"
          }
        }
      ]
    },
    {
      "cell_type": "markdown",
      "metadata": {
        "id": "TMCqCp2hUhm5"
      },
      "source": [
        "# Case de Sucesso"
      ]
    },
    {
      "cell_type": "markdown",
      "metadata": {
        "id": "C8G6Ca-MUak_"
      },
      "source": [
        "![](https://i.gifer.com/1Egv.gif)"
      ]
    },
    {
      "cell_type": "markdown",
      "metadata": {
        "id": "I9vllYdQWYBE"
      },
      "source": [
        "## **Alunos que estão Voando** em seus Projetos Pessoais depois que começaram o\r\n",
        "\r\n",
        "### Programa Cientista de Dados na Prática\r\n",
        "![](https://cienciadosdados.com/images/Prova/prova.jpg)"
      ]
    },
    {
      "cell_type": "markdown",
      "metadata": {
        "id": "tjk1wxriXjJR"
      },
      "source": [
        "#Jeito Errado de Encarar essa Primeira Etapa:\r\n",
        "\r\n",
        "==> Ficar Travado sem Praticar.\r\n",
        "\r\n",
        "![](https://thumbs.gfycat.com/FrightenedAngelicGopher-small.gif)\r\n",
        "\r\n"
      ]
    },
    {
      "cell_type": "code",
      "metadata": {
        "colab": {
          "base_uri": "https://localhost:8080/",
          "height": 220
        },
        "id": "6sy0b3rSZzSl",
        "outputId": "92025b9e-3d69-4a99-f5ad-95ff34f57b78"
      },
      "source": [
        "from IPython.core.display import HTML\r\n",
        "HTML('<iframe width=\"380\" height=\"200\" src=\"https://www.youtube.com/embed/iJWUynPVAIE?list=PLeR2Gm6UuDXqfF3xaBZQJcf63x6Pij1RB\" frameborder=\"0\" allow=\"accelerometer; autoplay; clipboard-write; encrypted-media; gyroscope; picture-in-picture\" allowfullscreen></iframe>')"
      ],
      "execution_count": null,
      "outputs": [
        {
          "output_type": "execute_result",
          "data": {
            "text/html": [
              "<iframe width=\"380\" height=\"200\" src=\"https://www.youtube.com/embed/iJWUynPVAIE?list=PLeR2Gm6UuDXqfF3xaBZQJcf63x6Pij1RB\" frameborder=\"0\" allow=\"accelerometer; autoplay; clipboard-write; encrypted-media; gyroscope; picture-in-picture\" allowfullscreen></iframe>"
            ],
            "text/plain": [
              "<IPython.core.display.HTML object>"
            ]
          },
          "metadata": {
            "tags": []
          },
          "execution_count": 56
        }
      ]
    },
    {
      "cell_type": "markdown",
      "metadata": {
        "id": "uxmBvSVZYHAC"
      },
      "source": [
        "# Refazer Algum Projeto do Canal Ciência dos Dados na Prática\r\n",
        "\r\n",
        "==> Babysteps, Tartaruguinha!"
      ]
    },
    {
      "cell_type": "code",
      "metadata": {
        "colab": {
          "base_uri": "https://localhost:8080/",
          "height": 221
        },
        "id": "QYi_VlN-adLj",
        "outputId": "757d6412-c7cc-4d86-df21-e29e0aa560b4"
      },
      "source": [
        "from IPython.core.display import HTML\r\n",
        "HTML('<iframe width=\"380\" height=\"200\" src=\"https://www.youtube.com/embed/8WOkgNG6Ykk\" frameborder=\"0\" allow=\"accelerometer; autoplay; clipboard-write; encrypted-media; gyroscope; picture-in-picture\" allowfullscreen></iframe>')"
      ],
      "execution_count": null,
      "outputs": [
        {
          "output_type": "execute_result",
          "data": {
            "text/html": [
              "<iframe width=\"380\" height=\"200\" src=\"https://www.youtube.com/embed/8WOkgNG6Ykk\" frameborder=\"0\" allow=\"accelerometer; autoplay; clipboard-write; encrypted-media; gyroscope; picture-in-picture\" allowfullscreen></iframe>"
            ],
            "text/plain": [
              "<IPython.core.display.HTML object>"
            ]
          },
          "metadata": {
            "tags": []
          },
          "execution_count": 2
        }
      ]
    },
    {
      "cell_type": "markdown",
      "metadata": {
        "id": "bq-8hvoP-aK6"
      },
      "source": [
        "#Fim"
      ]
    },
    {
      "cell_type": "markdown",
      "metadata": {
        "id": "3hVgX0LVqXpQ"
      },
      "source": [
        "# Clique e Faça sua [Inscrição](http://bit.ly/3qraYPe) na Maratona Cientista de Dados na Prática 3.0\r\n",
        "\r\n",
        "![](https://cienciadosdados.com/images/thumbs/seta-laranja.png) \r\n",
        "\r\n"
      ]
    },
    {
      "cell_type": "markdown",
      "metadata": {
        "id": "Rb8ReVePtXFL"
      },
      "source": [
        "# Links das Redes Sociais Ciência dos Dados\r\n",
        "\r\n",
        "# [LinkTree](https://linktr.ee/cienciadosdados)"
      ]
    },
    {
      "cell_type": "code",
      "metadata": {
        "colab": {
          "base_uri": "https://localhost:8080/",
          "height": 221
        },
        "id": "mK-Qv-7Etkbw",
        "outputId": "05b503ab-1942-46d7-bff9-7393e4d2b01d"
      },
      "source": [
        "from IPython.core.display import HTML\r\n",
        "HTML('<iframe width=\"380\" height=\"200\" src=\"https://www.youtube.com/embed/O8SZGlSFnwo\" frameborder=\"0\" allow=\"accelerometer; autoplay; clipboard-write; encrypted-media; gyroscope; picture-in-picture\" allowfullscreen></iframe>')"
      ],
      "execution_count": 13,
      "outputs": [
        {
          "output_type": "execute_result",
          "data": {
            "text/html": [
              "<iframe width=\"380\" height=\"200\" src=\"https://www.youtube.com/embed/O8SZGlSFnwo\" frameborder=\"0\" allow=\"accelerometer; autoplay; clipboard-write; encrypted-media; gyroscope; picture-in-picture\" allowfullscreen></iframe>"
            ],
            "text/plain": [
              "<IPython.core.display.HTML object>"
            ]
          },
          "metadata": {
            "tags": []
          },
          "execution_count": 13
        }
      ]
    },
    {
      "cell_type": "markdown",
      "metadata": {
        "id": "9DEkytzQnPB7"
      },
      "source": [
        "#SIMBÓRA e OBRIGADO!!\r\n",
        "\r\n",
        "\r\n",
        "\r\n"
      ]
    }
  ]
}