{
  "nbformat": 4,
  "nbformat_minor": 0,
  "metadata": {
    "colab": {
      "name": "Live 4 - Atalhos_e_Obstáculos_ROMA2.ipynb",
      "provenance": [],
      "collapsed_sections": []
    },
    "kernelspec": {
      "name": "python3",
      "display_name": "Python 3"
    }
  },
  "cells": [
    {
      "cell_type": "markdown",
      "metadata": {
        "id": "A1eaRA1fD2PW"
      },
      "source": [
        "![alt text](https://encrypted-tbn0.gstatic.com/images?q=tbn%3AANd9GcTK4gQ9nhwHHaSXMHpeggWg7twwMCgb877smkRmtkmDeDoGF9Z6&usqp=CAU)"
      ]
    },
    {
      "cell_type": "markdown",
      "metadata": {
        "id": "9xtrXghHknMy"
      },
      "source": [
        "![](https://cienciadosdados.com/images/banners/Tema_Lives.png)"
      ]
    },
    {
      "cell_type": "markdown",
      "metadata": {
        "id": "X99hrqWxU_B5"
      },
      "source": [
        "# <font color='RED'>OBSTÁCULO</font>\r\n",
        "\r\n",
        "**1°** O que é esse Obstáculo:\r\n",
        "\r\n",
        "Não ter Foco e ficar fazendo **TODOS** **os cursos que encontra na WEB**\" \r\n",
        "\r\n",
        "\"Confusão não gera resultado\""
      ]
    },
    {
      "cell_type": "markdown",
      "metadata": {
        "id": "BkrGg9VdVVrU"
      },
      "source": [
        "![alt text](https://miro.medium.com/max/1280/1*afwHTqMji4HhaXOEslyadQ.gif) \r\n",
        "\r\n",
        "\r\n",
        "\r\n"
      ]
    },
    {
      "cell_type": "markdown",
      "metadata": {
        "id": "fOm97g_V9Mlw"
      },
      "source": [
        "# **Anteriormente**..."
      ]
    },
    {
      "cell_type": "markdown",
      "metadata": {
        "id": "wWEY0JpXWsqz"
      },
      "source": [
        "## **Live 1** - Oportunidade"
      ]
    },
    {
      "cell_type": "markdown",
      "metadata": {
        "id": "N9GCIQ6p9-dn"
      },
      "source": [
        "* Saber o que faz um Cientista de Dados\r\n",
        "\r\n",
        "    ==> Quais as habilidades a serem alcançadas\r\n",
        "    "
      ]
    },
    {
      "cell_type": "markdown",
      "metadata": {
        "id": "GB2XctSi-eMF"
      },
      "source": [
        "## **Live 2** - Obstáculo  "
      ]
    },
    {
      "cell_type": "markdown",
      "metadata": {
        "id": "VdBX__lH-l05"
      },
      "source": [
        "* Achar que Precisa Conhecer Profundamente tudo sobre Ciência de Dados\r\n",
        "\r\n",
        "    ==> Entender que **não precisa ser PhD** em todos os tópicos para ser Cientista de Dados\r\n",
        "\r\n",
        "   "
      ]
    },
    {
      "cell_type": "markdown",
      "metadata": {
        "id": "C4MD7an0AKgP"
      },
      "source": [
        "## **Live 3** - Oportunidade\r\n"
      ]
    },
    {
      "cell_type": "markdown",
      "metadata": {
        "id": "PCXhvU3IAd6s"
      },
      "source": [
        "==> **Entender qual é o caminho** a percorrer para ser um Cientista de Dados\r\n",
        "\r\n",
        "==> Seguir o GPS \r\n",
        "\r\n",
        "### Passo 1: Buscar Skills Básicas\r\n",
        "### Passo 2: Aprender usar as Ferramentas Necessárias (somente elas)\r\n",
        "### Passo 3: Aprender a Construir Máquinas Preditivas\r\n",
        "### Passo 4: Implementar Máquinas Preditivas\r\n",
        "### Passo 5: Never Stop Learning - Seja curioso e Organizado"
      ]
    },
    {
      "cell_type": "markdown",
      "metadata": {
        "id": "5SSpkBDHAHST"
      },
      "source": [
        "![alt text](https://i.pinimg.com/originals/8e/04/80/8e0480ac5b45a68c6da54464419959ab.gif)\r\n",
        "\r\n",
        "\r\n"
      ]
    },
    {
      "cell_type": "markdown",
      "metadata": {
        "id": "oQWGQgV0BguP"
      },
      "source": [
        "https://www.mindmeister.com/1746049667"
      ]
    },
    {
      "cell_type": "markdown",
      "metadata": {
        "id": "rVoQ9w_nBOVU"
      },
      "source": [
        "## **Live 4** \r\n",
        "### <font color='RED'>OBSTÁCULO</font>: Ficar Fuçando e Seguindo todas as fontes na WEB"
      ]
    },
    {
      "cell_type": "markdown",
      "metadata": {
        "id": "Qh3hxgwlwZ67"
      },
      "source": [
        "**Obstáculo invisível**: Vc pensa que está buscando clareza, mas está se confundindo mais..."
      ]
    },
    {
      "cell_type": "markdown",
      "metadata": {
        "id": "E5QvzUXBvvXF"
      },
      "source": [
        "![](https://i.makeagif.com/media/4-15-2017/vgxvh9.gif)"
      ]
    },
    {
      "cell_type": "markdown",
      "metadata": {
        "id": "E8O-BQapxLzS"
      },
      "source": [
        "![](https://thumbs.gfycat.com/CookedSparseFlickertailsquirrel-small.gif)\r\n",
        "\r\n"
      ]
    },
    {
      "cell_type": "markdown",
      "metadata": {
        "id": "aKb0W_3EzwWq"
      },
      "source": [
        "#1° O que é esse obstáculo?\r\n",
        "\r\n",
        "==> Tentar seguir todas metodologias que encontra pela Frente...\r\n",
        "\r\n",
        "==> Quando brother segue 10 pessoas diferentes para tentar alcançar a ROMA dele. O cara fica louco pq cada um tem um método\r\n",
        "\r\n",
        "![](https://media2.giphy.com/media/grNDsG4bMJRsI/giphy.gif)"
      ]
    },
    {
      "cell_type": "markdown",
      "metadata": {
        "id": "KMuTi5kt0BsQ"
      },
      "source": [
        "==> Cada Professor, cada Mentor, cada Escola tem um método de ensino. Por mais que o conteúdo seja o mesmo."
      ]
    },
    {
      "cell_type": "markdown",
      "metadata": {
        "id": "Cn3qWWSb0OAQ"
      },
      "source": [
        "#2° O que não é esse obstáculo?\r\n"
      ]
    },
    {
      "cell_type": "markdown",
      "metadata": {
        "id": "jHg552Mr0RvC"
      },
      "source": [
        "==> A **pesquisa direcionada** num tema específico é **válida**. \r\n",
        "\r\n",
        "==> Por exemplo vc quer saber tudo sobre LabelEncoder. Certamente o cara vai aprender bem esse tema se ele ver varias pessoas explicando a mesma coisa. O que é diferente de ficar seguindo varios métodos...."
      ]
    },
    {
      "cell_type": "markdown",
      "metadata": {
        "id": "qM2DWEAy3v_G"
      },
      "source": [
        "#3° Qual a forma de evitar esse obstáculo?\r\n"
      ]
    },
    {
      "cell_type": "markdown",
      "metadata": {
        "id": "HrAhNNna01fe"
      },
      "source": [
        "==> A forma de superar esse obstáculo que te afasta do seu objetivo (ROMA): \r\n",
        "\r\n",
        "Escolhendo 1 método e seguindo o passo a passo até alcançar o resultado\r\n",
        "\r\n"
      ]
    },
    {
      "cell_type": "code",
      "metadata": {
        "colab": {
          "base_uri": "https://localhost:8080/",
          "height": 349
        },
        "id": "kFi47_4cgjHG",
        "outputId": "5c756d80-7e96-4cf9-bff2-ea212c1799f3"
      },
      "source": [
        "from IPython.core.display import HTML\r\n",
        "HTML('<iframe width=\"580\" height=\"328\" src=\"https://www.youtube.com/embed/BjQdetKXbiE\" frameborder=\"0\" allow=\"accelerometer; autoplay; clipboard-write; encrypted-media; gyroscope; picture-in-picture\" allowfullscreen></iframe>')"
      ],
      "execution_count": null,
      "outputs": [
        {
          "output_type": "execute_result",
          "data": {
            "text/html": [
              "<iframe width=\"580\" height=\"328\" src=\"https://www.youtube.com/embed/BjQdetKXbiE\" frameborder=\"0\" allow=\"accelerometer; autoplay; clipboard-write; encrypted-media; gyroscope; picture-in-picture\" allowfullscreen></iframe>"
            ],
            "text/plain": [
              "<IPython.core.display.HTML object>"
            ]
          },
          "metadata": {
            "tags": []
          },
          "execution_count": 2
        }
      ]
    },
    {
      "cell_type": "markdown",
      "metadata": {
        "id": "pHX2-7sy2dP1"
      },
      "source": [
        "==> Na grande maioria dos casos, com algumas exceções, o resultado é alcançado com mais facilidade quando vc tem um PERSONAL Trainner. Ir na academia somente tem um resultado inferior..."
      ]
    },
    {
      "cell_type": "markdown",
      "metadata": {
        "id": "h2j59iZ73k35"
      },
      "source": [
        "#4° SNA - Sistema de Navegação Ativa: Co-Piloto\r\n"
      ]
    },
    {
      "cell_type": "markdown",
      "metadata": {
        "id": "ThgKU4MS7cOf"
      },
      "source": [
        "Uma das melhores formas de fazer os alunos conseguirem alcançar os resultados é ficando do lado deles, pegando na mão mesmo, mostrando onde deve clicar, mas sem deixar de instigar a tentar resolver sozinho.\r\n"
      ]
    },
    {
      "cell_type": "markdown",
      "metadata": {
        "id": "3qkWRviS74S_"
      },
      "source": [
        "https://docs.google.com/spreadsheets/d/1dajN-Az0VAF1Xenvung3ibuKxy_Ir8suaA-HPLeS86M/edit?usp=sharing"
      ]
    },
    {
      "cell_type": "markdown",
      "metadata": {
        "id": "VJc_dh_j-rU5"
      },
      "source": [
        "![](https://cienciadosdados.com/images/2021/Fintech/marta.png)\r\n",
        "\r\n"
      ]
    },
    {
      "cell_type": "markdown",
      "metadata": {
        "id": "bhjLoiyw78QD"
      },
      "source": [
        "#5° O que vc pensa quando Escuta esse conselho: "
      ]
    },
    {
      "cell_type": "markdown",
      "metadata": {
        "id": "YONYBpRc8HCP"
      },
      "source": [
        "Aí o cara escuta isso né, e pensa: **Com alguem pegando mão é fácil né? Eu repondo: Sim!** Assim não só é mais fácil mas o jeito mais eficaz! Alguem te guiando te pegando pela mao . Isso que eu faço com minha galera no Programa. Eu faço no programa mentorias online, as vezes em grupo, as vezes 1 a 1….(porque eu acompanho a evolução dos alunos diariamente pelo software….)\r\n",
        "\r\n"
      ]
    },
    {
      "cell_type": "markdown",
      "metadata": {
        "id": "WRORPqRcD2SZ"
      },
      "source": [
        "![](https://krify.co/wp-content/uploads/2018/09/Navigation.gif)"
      ]
    },
    {
      "cell_type": "markdown",
      "metadata": {
        "id": "wzhFr9KhC-Kd"
      },
      "source": [
        "#6° Aí o jeito errado de resolver essa parada: \r\n",
        "\r\n",
        "O brother começa o programa, no mês seguinte já entrou em outro programa, depois entrou numa graduação…...aí  misturou as metodologias.....e desistiu se perdeu ficou pelo caminho. "
      ]
    },
    {
      "cell_type": "markdown",
      "metadata": {
        "id": "KzH3vqWCGFLE"
      },
      "source": [
        "![](https://2.bp.blogspot.com/-JPSNKTQ_ImA/T_KfqiylQGI/AAAAAAAAFj0/_5hv-nCI1Hc/s1600/vai-e-volta-de-politicos-areialciadadehospitaleira-jardieloliveira2012.gif)\r\n",
        "\r\n",
        "==> Tem que ter Foco"
      ]
    },
    {
      "cell_type": "markdown",
      "metadata": {
        "id": "8JNnlPJKDCd2"
      },
      "source": [
        "#7° O jeito certo é focar se comprometer e focar no próximo passo \r\n",
        "\r\n",
        "![](https://www.regrasdenatacao.com.br/wp-content/uploads/2012/04/swim_ready_for_start_57143551.jpg)"
      ]
    },
    {
      "cell_type": "markdown",
      "metadata": {
        "id": "mh_KDML5GSCr"
      },
      "source": [
        "**Pense no seu objetivo. Mas foque no próximo passo**: \r\n",
        "* Salário do Cientista de Dados, \r\n",
        "* Reconhecimento pela implementação de um projeto seu na empresa.....\r\n",
        "* Ser disputado \r\n",
        "* Tem que mensurar para não se frustrar \r\n",
        "\r\n",
        "      Ex: Quero chegar no ponto onde eu saiba construir 1 máquina preditiva sozinho. \r\n",
        "\r\n",
        "* Felicidade é realidade menos expectativa.....se sua expectativa está alta demais, você pode se frustrar......tem que medir. \r\n",
        "\r\n",
        "      Isso faz parte do processo evolutivo da jornada, pra saber como vc está evoluindo onde vc está travado….(SNA)\r\n"
      ]
    },
    {
      "cell_type": "markdown",
      "metadata": {
        "id": "JgxdJShnDIXe"
      },
      "source": [
        "#8° Um pequeno **PRIMEIRO** passo p vc superar esse obstáculo:\r\n",
        "\r\n",
        "==>  Parar de seguir esse bando de conteúdo que pode te confundir. Dá unfollow mesmo ....é temporário.....se dê esse tempo...aproveita e faz um limpa pq tem uma pancada de porcaria que a gente acaba seguindo como notícia ruim, coisas que não estão no seu alcance resolver.....Foca no que você tem controle....\r\n",
        "Vc vai se surpreender como vai sobrar dia no seu TEMPO....\r\n"
      ]
    },
    {
      "cell_type": "markdown",
      "metadata": {
        "id": "UpWJ3J-eVqa6"
      },
      "source": [
        "![](https://code2care.org/pages/python-hello-world-program-code-snippet/images/Python%20Hello%20World%20Example%20GIF.gif)\r\n",
        "\r\n",
        "![](https://media.tenor.com/images/a92f098956c88a17200b10e5141a40f3/tenor.gif)"
      ]
    },
    {
      "cell_type": "markdown",
      "metadata": {
        "id": "89z_1VzADO0N"
      },
      "source": [
        "##**Resumão** para superar esse Obstáculo:\r\n",
        "\r\n",
        "1° Escolhe 1 **método**\r\n",
        "\r\n",
        "2° Siga o Método **sem fugir da rota.**\r\n",
        "\r\n",
        "3° Pense na sua ROMA (onde vc quer chegar) foque no **Próximo Passo**\r\n",
        "\r\n",
        "4° **Mensure** sua evolução\r\n",
        "\r\n",
        "5° Limpe seu **TEMPO** (sua vida)\r\n"
      ]
    },
    {
      "cell_type": "markdown",
      "metadata": {
        "id": "qmll27eQxkCW"
      },
      "source": [
        "![](https://printlegal.com.br/wp-content/uploads/2019/11/VioletHalfGrayling-size_restricted.gif)\r\n"
      ]
    },
    {
      "cell_type": "markdown",
      "metadata": {
        "id": "bq-8hvoP-aK6"
      },
      "source": [
        "#Fim"
      ]
    },
    {
      "cell_type": "markdown",
      "metadata": {
        "id": "3hVgX0LVqXpQ"
      },
      "source": [
        "# Clique e Faça sua [Inscrição](http://bit.ly/3qraYPe) na Maratona Cientista de Dados na Prática 3.0\r\n",
        "\r\n",
        "![](https://cienciadosdados.com/images/thumbs/seta-laranja.png) \r\n",
        "\r\n"
      ]
    },
    {
      "cell_type": "markdown",
      "metadata": {
        "id": "Rb8ReVePtXFL"
      },
      "source": [
        "# Links das Redes Sociais Ciência dos Dados\r\n",
        "\r\n",
        "# [LinkTree](https://linktr.ee/cienciadosdados)"
      ]
    },
    {
      "cell_type": "code",
      "metadata": {
        "colab": {
          "base_uri": "https://localhost:8080/",
          "height": 222
        },
        "id": "mK-Qv-7Etkbw",
        "outputId": "3bcec807-f65f-4b2c-bbee-3f8abb3da01c"
      },
      "source": [
        "from IPython.core.display import HTML\r\n",
        "HTML('<iframe width=\"380\" height=\"202\" src=\"https://www.youtube.com/embed/O8SZGlSFnwo\" frameborder=\"0\" allow=\"accelerometer; autoplay; clipboard-write; encrypted-media; gyroscope; picture-in-picture\" allowfullscreen></iframe>')"
      ],
      "execution_count": null,
      "outputs": [
        {
          "output_type": "execute_result",
          "data": {
            "text/html": [
              "<iframe width=\"380\" height=\"202\" src=\"https://www.youtube.com/embed/O8SZGlSFnwo\" frameborder=\"0\" allow=\"accelerometer; autoplay; clipboard-write; encrypted-media; gyroscope; picture-in-picture\" allowfullscreen></iframe>"
            ],
            "text/plain": [
              "<IPython.core.display.HTML object>"
            ]
          },
          "metadata": {
            "tags": []
          },
          "execution_count": 2
        }
      ]
    },
    {
      "cell_type": "markdown",
      "metadata": {
        "id": "ZtqQ16OFmDNb"
      },
      "source": [
        "#SIMBÓRA e OBRIGADO!!\r\n",
        "\r\n",
        "\r\n",
        "\r\n"
      ]
    }
  ]
}