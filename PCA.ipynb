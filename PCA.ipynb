{
  "nbformat": 4,
  "nbformat_minor": 0,
  "metadata": {
    "colab": {
      "name": "PCA.ipynb",
      "provenance": [],
      "collapsed_sections": []
    },
    "kernelspec": {
      "name": "python3",
      "display_name": "Python 3"
    }
  },
  "cells": [
    {
      "cell_type": "markdown",
      "metadata": {
        "id": "mZVCagpZvZfE"
      },
      "source": [
        "![alt text](https://encrypted-tbn0.gstatic.com/images?q=tbn%3AANd9GcTK4gQ9nhwHHaSXMHpeggWg7twwMCgb877smkRmtkmDeDoGF9Z6&usqp=CAU)"
      ]
    },
    {
      "cell_type": "markdown",
      "metadata": {
        "id": "nbPb0q01k11H"
      },
      "source": [
        "##<font color='GreeN'>Dicas e Truques de Ciência de Dados </font>\n",
        "\n",
        "### <font color='BLUE'>PCA - Redução de Dimensionalidade </font>\n",
        " \n"
      ]
    },
    {
      "cell_type": "code",
      "metadata": {
        "colab": {
          "base_uri": "https://localhost:8080/",
          "height": 38
        },
        "id": "Ocsnsz73QG-Y",
        "outputId": "0ec52473-68b0-4ec5-e6cc-6fb1f79858e5"
      },
      "source": [
        "#Python é foda\n",
        "%%html\n",
        "<marquee style='width: 60%; color: Purple;'><b>Simbóra Cientista de Dados!</b></marquee>"
      ],
      "execution_count": null,
      "outputs": [
        {
          "output_type": "display_data",
          "data": {
            "text/html": [
              "<marquee style='width: 60%; color: Purple;'><b>Simbóra Cientista de Dados!</b></marquee>"
            ],
            "text/plain": [
              "<IPython.core.display.HTML object>"
            ]
          },
          "metadata": {
            "tags": []
          }
        }
      ]
    },
    {
      "cell_type": "markdown",
      "metadata": {
        "id": "hdbCnpDJjWQX"
      },
      "source": [
        "![alt text](https://blog.tenthplanet.in/wp-content/uploads/2019/01/pca-768x305.png)"
      ]
    },
    {
      "cell_type": "markdown",
      "metadata": {
        "id": "FyyLp53dRVT4"
      },
      "source": [
        "#Análise de Componentes Principais (PCA)"
      ]
    },
    {
      "cell_type": "markdown",
      "metadata": {
        "id": "knEVqmfvUuuw"
      },
      "source": [
        "A análise de componentes principais (PCA) é uma técnica usada para identificação de um número menor de variáveis ​​não correlacionadas conhecidas como componentes principais de um conjunto maior de dados. \n",
        "\n",
        "A técnica é amplamente usada para enfatizar a variação e capturar padrões fortes em um conjunto de dados. A análise de componentes principais é considerada um método estatístico útil e usado em campos como compressão de imagens, reconhecimento facial, neurociência e computação gráfica."
      ]
    },
    {
      "cell_type": "markdown",
      "metadata": {
        "id": "DAsF9cLxS7HC"
      },
      "source": [
        "#O que é análise de componentes principais?"
      ]
    },
    {
      "cell_type": "markdown",
      "metadata": {
        "id": "4TxilgOeTCYs"
      },
      "source": [
        "É um método de obtenção de variáveis ​​importantes (na forma de componentes) a partir de um grande conjunto de variáveis ​​disponíveis em um conjunto de dados."
      ]
    },
    {
      "cell_type": "markdown",
      "metadata": {
        "id": "5jX2-0H8TDbD"
      },
      "source": [
        "# Como PCA faz essa parada?"
      ]
    },
    {
      "cell_type": "markdown",
      "metadata": {
        "id": "A4mLhNX9THfR"
      },
      "source": [
        "Ele extrai um conjunto de recursos de baixa dimensão (componentes principais), fazendo uma projeção de dimensões irrelevantes de um conjunto de dados de alta dimensão (muitas variáveis) com o objetivo de capturar o máximo de informações possível. \n",
        "\n",
        "Com menos variáveis ​​obtidas e, ao mesmo tempo, minimizando a perda de informações, a visualização também se torna muito mais significativa. \n",
        "\n",
        "O PCA é mais útil ao lidar com dados tridimensionais ou superiores, ouseja 3 ou mais variáveis."
      ]
    },
    {
      "cell_type": "markdown",
      "metadata": {
        "id": "QuqcYu0uTS8h"
      },
      "source": [
        "##Requisitos Prévios:\n",
        "Variáveis devem ser numéricas e ter dados padronizados.\n",
        "Os componentes principais são fornecidos com a versão normalizada dos preditores originais. Isso ocorre porque os preditores originais podem ter escalas diferentes. \n",
        "\n",
        "###Por exemplo: \n",
        "\n",
        "Imagine um conjunto de dados com unidades de medida de variáveis ​​como galões, quilômetros, anos-luz, etc. É certo que a escala de variâncias nessas variáveis ​​será grande.\n",
        "\n",
        "Executar PCA em variáveis ​​não normalizadas levará a carregamentos insanamente grandes para variáveis ​​com alta variância. \n",
        "\n",
        "\n",
        "---\n",
        "\n"
      ]
    },
    {
      "cell_type": "markdown",
      "metadata": {
        "id": "oyCa2UFKVJmt"
      },
      "source": [
        "A necessidade de redução da dimensionalidade:\n",
        "* Dimensões grandes são difíceis de treinar, precisam de mais poder computacional e tempo.\n",
        "* A visualização não é possível com dados dimensionais muito grandes.\n",
        "* Carregar dados dimensionais muito altos pode ser um problema com espaço de armazenamento limitado na memória.\n",
        "* Ele pode ser usado para reduzir a dimensão dos recursos, potencialmente levando a um melhor desempenho para o algoritmo de aprendizagem, removendo recursos redundantes, obsoletos e altamente correlacionados."
      ]
    },
    {
      "cell_type": "markdown",
      "metadata": {
        "id": "fFNkuuYaSiE9"
      },
      "source": [
        "## Imagina aí:\n",
        "\n",
        "\n",
        "Imagine isso - você está trabalhando em um projeto de ciência de dados em grande escala . O que acontece quando o conjunto de dados fornecido tem muitas variáveis? Aqui estão algumas situações possíveis que você pode encontrar:\n",
        "\n",
        "1. Você descobre que a maioria das variáveis ​​são correlacionadas na análise.\n",
        "\n",
        "2. Você perde a paciência e decide executar um modelo com todos os dados. Isso retorna uma precisão pobre e você se sente péssimo.\n",
        "\n",
        "3. Você fica indeciso sobre o que fazer\n",
        "\n",
        "4. Você começa a pensar em algum método estratégico para encontrar algumas variáveis ​​importantes"
      ]
    },
    {
      "cell_type": "markdown",
      "metadata": {
        "id": "tmYF2MKZSyvu"
      },
      "source": [
        "O nosso querido PCA, análise de componentes principais (PCA) ajudam a superar essas dificuldades."
      ]
    },
    {
      "cell_type": "markdown",
      "metadata": {
        "id": "e9IlLh5YRcST"
      },
      "source": [
        "PCA é uma técnica que nos ajuda a extrair um novo conjunto de variáveis ​​de um grande conjunto de variáveis ​​existente. Essas variáveis ​​recém-extraídas são chamadas de Componentes Principais.\n"
      ]
    },
    {
      "cell_type": "markdown",
      "metadata": {
        "id": "DyiLqStLRqDZ"
      },
      "source": [
        "* Um componente principal é uma combinação linear das variáveis ​​originais\n",
        "* Os componentes principais são extraídos de tal forma que o primeiro componente principal explica a variação máxima no conjunto de dados\n",
        "* O segundo componente principal tenta explicar a variação restante no conjunto de dados e não está correlacionado com o primeiro componente principal\n",
        "* O terceiro componente principal tenta explicar a variação que não é explicada pelos dois primeiros componentes principais e assim por diante"
      ]
    },
    {
      "cell_type": "markdown",
      "metadata": {
        "id": "TCH0EZtqSBK8"
      },
      "source": [
        "Cada dimensão adicional que adicionamos à técnica PCA captura cada vez menos a variação do modelo. O primeiro componente é o mais importante, seguido pelo segundo, depois o terceiro e assim por diante."
      ]
    },
    {
      "cell_type": "markdown",
      "metadata": {
        "id": "9gy3HpXASbtW"
      },
      "source": [
        "Por meio do PCA, vc consegue extraiar os fatores mais importantes dos dados."
      ]
    },
    {
      "cell_type": "markdown",
      "metadata": {
        "id": "Vs8nSAeFT3Zd"
      },
      "source": [
        "###O 1° componente principal:\n",
        "é uma combinação linear de variáveis ​​preditoras originais que captura a variância máxima no conjunto de dados. Ele determina a direção da maior variabilidade nos dados. Quanto maior a variabilidade capturada no primeiro componente, maior a informação capturada pelo componente. Nenhum outro componente pode ter variabilidade maior do que o primeiro componente principal."
      ]
    },
    {
      "cell_type": "markdown",
      "metadata": {
        "id": "lPG9cXnnWBrk"
      },
      "source": [
        "###O 2° componente principal \n",
        "também é uma combinação linear de preditores originais que captura a variação restante no conjunto de dados e não está correlacionada com Z¹. Em outras palavras, a correlação entre o primeiro e o segundo componente deve ser zero"
      ]
    },
    {
      "cell_type": "markdown",
      "metadata": {
        "id": "Sh4fF01bWNdz"
      },
      "source": [
        "![alt text](https://www.analyticsvidhya.com/wp-content/uploads/2016/03/2-1-e1458494877196.png)"
      ]
    },
    {
      "cell_type": "markdown",
      "metadata": {
        "id": "LsWmoTb3T3cZ"
      },
      "source": [
        "Na imagem acima, as retas perpendiculares são os componentes principais. Todos os componentes principais subsequentes seguem um conceito semelhante, ou seja, eles capturam a variação restante sem serem correlacionados com o componente anterior."
      ]
    },
    {
      "cell_type": "markdown",
      "metadata": {
        "id": "dh38STHeju2K"
      },
      "source": [
        "# Exemplo de utilização do PCA"
      ]
    },
    {
      "cell_type": "markdown",
      "metadata": {
        "id": "x9uROs0Hnqqo"
      },
      "source": [
        "# 1° Problema de Negócio \n",
        "Precisamos reduzir a dimensionalidade dos dados"
      ]
    },
    {
      "cell_type": "code",
      "metadata": {
        "id": "MvKehRezjvJz"
      },
      "source": [
        "#Importa Bibliotecas\n",
        "import numpy as np\n",
        "from sklearn.decomposition import PCA\n"
      ],
      "execution_count": 1,
      "outputs": []
    },
    {
      "cell_type": "markdown",
      "metadata": {
        "id": "D-RjMgdvnxww"
      },
      "source": [
        "# 2° Análise exploratória dos Dados"
      ]
    },
    {
      "cell_type": "code",
      "metadata": {
        "id": "MugidCVdlFKU"
      },
      "source": [
        "# Importa o Dataset IRIS \n",
        "from sklearn.datasets import load_iris\n",
        "data = load_iris()\n"
      ],
      "execution_count": 2,
      "outputs": []
    },
    {
      "cell_type": "code",
      "metadata": {
        "id": "qR4K_we4fi2P"
      },
      "source": [
        "data.data"
      ],
      "execution_count": null,
      "outputs": []
    },
    {
      "cell_type": "markdown",
      "metadata": {
        "id": "jtk5K9ZVn_7b"
      },
      "source": [
        "# 3° Pré-Processamento dos Dados"
      ]
    },
    {
      "cell_type": "code",
      "metadata": {
        "id": "Hfza-qNQn37k"
      },
      "source": [
        "# Cria o Array e faz a preparação das Variáveis de Entrada X\n",
        "X = data.data\n",
        "X"
      ],
      "execution_count": null,
      "outputs": []
    },
    {
      "cell_type": "markdown",
      "metadata": {
        "id": "nEd3NGj7oEPk"
      },
      "source": [
        "# 4° Cria a Máquina de Redução de Dimensionalidade"
      ]
    },
    {
      "cell_type": "code",
      "metadata": {
        "id": "MR8hncthk1t4",
        "colab": {
          "base_uri": "https://localhost:8080/"
        },
        "outputId": "4ba043ad-8118-4a6e-f326-9a583f50d1fb"
      },
      "source": [
        "# Cria a Máquina Preditiva de Redução de Dimensionalidade\n",
        "pca = PCA(n_components=2)\n",
        "pca.fit(X)\n"
      ],
      "execution_count": 5,
      "outputs": [
        {
          "output_type": "execute_result",
          "data": {
            "text/plain": [
              "PCA(copy=True, iterated_power='auto', n_components=2, random_state=None,\n",
              "    svd_solver='auto', tol=0.0, whiten=False)"
            ]
          },
          "metadata": {
            "tags": []
          },
          "execution_count": 5
        }
      ]
    },
    {
      "cell_type": "markdown",
      "metadata": {
        "id": "tATGXgYZoJ9F"
      },
      "source": [
        "# 5° Avalia a Máquina de Redução de Dimensionalidade"
      ]
    },
    {
      "cell_type": "code",
      "metadata": {
        "id": "VR96fkQ-njUN",
        "colab": {
          "base_uri": "https://localhost:8080/"
        },
        "outputId": "e0265036-7ea8-4cde-b49f-41540f6253ee"
      },
      "source": [
        "# Avalia o Resultado da Máquina\n",
        "print(pca.explained_variance_ratio_)\n",
        "print(pca.singular_values_)"
      ],
      "execution_count": 6,
      "outputs": [
        {
          "output_type": "stream",
          "text": [
            "[0.92461872 0.05306648]\n",
            "[25.09996044  6.01314738]\n"
          ],
          "name": "stdout"
        }
      ]
    },
    {
      "cell_type": "markdown",
      "metadata": {
        "id": "bgF6GifWVd9r"
      },
      "source": [
        "# **Resumão**\n",
        "\n",
        "* A análise de componentes principais é amplamente usada em muitas áreas, como:\n",
        "Pesquisa de mercado, Ciências sociais, Indústrias onde grandes conjuntos de dados são usados. \n",
        "\n",
        "* O PCA é usado para superar a redundância de recursos em um conjunto de dados.\n",
        "Esses recursos são de baixa dimensão por natureza.\n",
        "\n",
        "* Esses recursos também conhecidos como componentes são resultantes da combinação linear normalizada das variáveis ​​preditoras originais.\n",
        "\n",
        "* Esses componentes visam capturar o máximo de informações possível com alta variância explicada.\n",
        "\n",
        "* O primeiro componente tem a maior variância, seguido pelo segundo, terceiro e assim por diante.\n",
        "\n",
        "* Os componentes devem ser não correlacionados (lembra da direção ortogonal? Perpendicular). Veja acima.\n",
        "\n",
        "* A normalização dos dados torna-se extremamente importante quando os preditores são medidos em unidades diferentes.\n",
        "\n",
        "* O PCA funciona melhor em conjuntos de dados com 3 ou mais dimensões. Porque, com dimensões mais altas, fica cada vez mais difícil fazer interpretações da nuvem de dados resultante.\n",
        "\n",
        "* O PCA é aplicado em um conjunto de dados com variáveis ​​numéricas.\n",
        "\n",
        "* O PCA é uma ferramenta que ajuda a produzir melhores visualizações de dados de alta dimensão.\n",
        " \n",
        " \n",
        " ### **É isso...**\n",
        " \n",
        " Sem me aprofundar na matemática, tentei explicar de forma simples com os conceitos mais importantes necessários para usar essa técnica. \n",
        " \n",
        " É simples, mas precisa de atenção especial ao decidir o número de componentes. Na prática, devemos nos esforçar para reter apenas os primeiros k componentes.\n",
        "\n",
        "A ideia por trás do PCA é construir alguns componentes principais que explicam satisfatoriamente a maior parte da variabilidade dos dados, bem como a relação com a variável resposta."
      ]
    },
    {
      "cell_type": "markdown",
      "metadata": {
        "id": "XTRc7NjBKG65"
      },
      "source": [
        "# Fim"
      ]
    },
    {
      "cell_type": "markdown",
      "metadata": {
        "id": "_fHqFSvWe94c"
      },
      "source": [
        "## Valeu!"
      ]
    },
    {
      "cell_type": "markdown",
      "metadata": {
        "id": "_2DT4SBZRDP-"
      },
      "source": [
        "### #Links - Ciência dos Dados <a href=\"https://linktr.ee/cienciadosdados\">https://linktr.ee/cienciadosdados</a>"
      ]
    },
    {
      "cell_type": "markdown",
      "metadata": {
        "id": "ThxYRK6DfJ3f"
      },
      "source": [
        "### #YouTube - Mais Aulas como essa no YouTube <a href=\"https://www.youtube.com/watch?v=IaIc5oHd3II&t=1569s\">https://www.youtube.com/watch?v=IaIc5oHd3II&t=1569s</a>"
      ]
    },
    {
      "cell_type": "code",
      "metadata": {
        "id": "_pg8zEm-Nv6Y",
        "colab": {
          "base_uri": "https://localhost:8080/",
          "height": 241
        },
        "outputId": "a9700443-244a-4579-d051-430c94c35fa9"
      },
      "source": [
        "from IPython.core.display import HTML\n",
        "HTML('<iframe width=\"380\" height=\"200\" src=\"https://www.youtube.com/embed/W9iktBS67Iw\" frameborder=\"0\" allow=\"accelerometer; autoplay; clipboard-write; encrypted-media; gyroscope; picture-in-picture\" allowfullscreen></iframe>')"
      ],
      "execution_count": null,
      "outputs": [
        {
          "output_type": "execute_result",
          "data": {
            "text/html": [
              "<iframe width=\"380\" height=\"200\" src=\"https://www.youtube.com/embed/W9iktBS67Iw\" frameborder=\"0\" allow=\"accelerometer; autoplay; clipboard-write; encrypted-media; gyroscope; picture-in-picture\" allowfullscreen></iframe>"
            ],
            "text/plain": [
              "<IPython.core.display.HTML object>"
            ]
          },
          "metadata": {
            "tags": []
          },
          "execution_count": 28
        }
      ]
    }
  ]
}