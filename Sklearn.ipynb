{
  "nbformat": 4,
  "nbformat_minor": 0,
  "metadata": {
    "colab": {
      "name": "Sklearn.ipynb",
      "provenance": [],
      "collapsed_sections": []
    },
    "kernelspec": {
      "name": "python3",
      "display_name": "Python 3"
    }
  },
  "cells": [
    {
      "cell_type": "markdown",
      "metadata": {
        "id": "A1eaRA1fD2PW"
      },
      "source": [
        "![alt text](https://encrypted-tbn0.gstatic.com/images?q=tbn%3AANd9GcTK4gQ9nhwHHaSXMHpeggWg7twwMCgb877smkRmtkmDeDoGF9Z6&usqp=CAU)"
      ]
    },
    {
      "cell_type": "markdown",
      "metadata": {
        "id": "xpmZHxI0D2PX"
      },
      "source": [
        "# <font color='Green'>Dicas e Truques de Ciência de Dados</font>\n",
        "\n",
        "# <font color='Grey'> Sklearn - Como utilizar a Biblioteca Mãe de Machine Learning </font>\n"
      ]
    },
    {
      "cell_type": "markdown",
      "metadata": {
        "id": "JMuuNf4CrYF4"
      },
      "source": [
        "![alt text](https://encrypted-tbn0.gstatic.com/images?q=tbn:ANd9GcScyb7td4RUVqVxBVPspAxr7wKAiOynKx7kMg&usqp=CAU)\r\n",
        "\r\n",
        "\r\n",
        "https://scikit-learn.org/stable/"
      ]
    },
    {
      "cell_type": "code",
      "metadata": {
        "id": "AmRlChliob4u"
      },
      "source": [
        "from sklearn.datasets import make_hastie_10_2\r\n",
        "from sklearn.tree import DecisionTreeClassifier \r\n",
        "from sklearn.ensemble import RandomForestClassifier\r\n",
        "X, y = make_hastie_10_2(random_state=0)\r\n",
        "X_train, X_test = X[:2000], X[2000:]\r\n",
        "y_train, y_test = y[:2000], y[2000:]\r\n",
        "\r\n",
        "clf = DecisionTreeClassifier( max_depth=1, random_state=0).fit(X_train, y_train)\r\n",
        "#clf = RandomForestClassifier(n_estimators=100, max_depth=1, random_state=0).fit(X_train, y_train)\r\n",
        "\r\n",
        "\r\n",
        "clf.score(X_test, y_test)\r\n"
      ],
      "execution_count": null,
      "outputs": []
    },
    {
      "cell_type": "code",
      "metadata": {
        "id": "3MqH5MWl-pOR"
      },
      "source": [
        "from sklearn.datasets import make_hastie_10_2\r\n",
        "from sklearn.ensemble import GradientBoostingClassifier\r\n"
      ],
      "execution_count": null,
      "outputs": []
    },
    {
      "cell_type": "code",
      "metadata": {
        "id": "tPDl_TwD-z2v"
      },
      "source": [
        "\r\n",
        "X, y = make_hastie_10_2(random_state=0)\r\n",
        "X_train, X_test = X[:2000], X[2000:]\r\n",
        "y_train, y_test = y[:2000], y[2000:]\r\n",
        "\r\n"
      ],
      "execution_count": null,
      "outputs": []
    },
    {
      "cell_type": "code",
      "metadata": {
        "id": "Wmf0gHp8_BoO"
      },
      "source": [
        "clf = GradientBoostingClassifier(n_estimators=100, learning_rate=1.0, max_depth=1, random_state=0).fit(X_train, y_train)\r\n",
        "clf.score(X_test, y_test)\r\n"
      ],
      "execution_count": null,
      "outputs": []
    },
    {
      "cell_type": "markdown",
      "metadata": {
        "id": "SLF6vuqmxTUL"
      },
      "source": [
        "#Fim"
      ]
    },
    {
      "cell_type": "markdown",
      "metadata": {
        "id": "_fHqFSvWe94c"
      },
      "source": [
        "## Valeu!"
      ]
    },
    {
      "cell_type": "markdown",
      "metadata": {
        "id": "_2DT4SBZRDP-"
      },
      "source": [
        "### #Links - Ciência dos Dados <a href=\"https://linktr.ee/cienciadosdados\">https://linktr.ee/cienciadosdados</a>"
      ]
    },
    {
      "cell_type": "markdown",
      "metadata": {
        "id": "ThxYRK6DfJ3f"
      },
      "source": [
        "### #YouTube - Mais Aulas como essa no YouTube <a href=\"https://www.youtube.com/watch?v=IaIc5oHd3II&t=1569s\">https://www.youtube.com/watch?v=IaIc5oHd3II&t=1569s</a>"
      ]
    },
    {
      "cell_type": "code",
      "metadata": {
        "colab": {
          "base_uri": "https://localhost:8080/",
          "height": 220
        },
        "id": "_pg8zEm-Nv6Y",
        "outputId": "2f997626-ee27-409d-8256-1b2de6c523fb"
      },
      "source": [
        "from IPython.core.display import HTML\n",
        "HTML('<iframe width=\"340\" height=\"200\" src=\"https://www.youtube.com/embed/K1y3Sf6xw_g\" frameborder=\"0\" allow=\"accelerometer; autoplay; clipboard-write; encrypted-media; gyroscope; picture-in-picture\" allowfullscreen></iframe>')"
      ],
      "execution_count": null,
      "outputs": [
        {
          "output_type": "execute_result",
          "data": {
            "text/html": [
              "<iframe width=\"340\" height=\"200\" src=\"https://www.youtube.com/embed/K1y3Sf6xw_g\" frameborder=\"0\" allow=\"accelerometer; autoplay; clipboard-write; encrypted-media; gyroscope; picture-in-picture\" allowfullscreen></iframe>"
            ],
            "text/plain": [
              "<IPython.core.display.HTML object>"
            ]
          },
          "metadata": {
            "tags": []
          },
          "execution_count": 70
        }
      ]
    }
  ]
}