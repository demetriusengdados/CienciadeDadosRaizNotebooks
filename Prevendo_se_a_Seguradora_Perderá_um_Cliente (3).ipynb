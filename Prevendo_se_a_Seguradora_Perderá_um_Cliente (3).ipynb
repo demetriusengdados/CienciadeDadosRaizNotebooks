{
  "nbformat": 4,
  "nbformat_minor": 0,
  "metadata": {
    "colab": {
      "name": "Prevendo se a Seguradora Perderá um Cliente.ipynb",
      "provenance": [],
      "collapsed_sections": []
    },
    "kernelspec": {
      "name": "python3",
      "display_name": "Python 3"
    }
  },
  "cells": [
    {
      "cell_type": "markdown",
      "metadata": {
        "id": "A1eaRA1fD2PW"
      },
      "source": [
        "![alt text](https://encrypted-tbn0.gstatic.com/images?q=tbn%3AANd9GcTK4gQ9nhwHHaSXMHpeggWg7twwMCgb877smkRmtkmDeDoGF9Z6&usqp=CAU)"
      ]
    },
    {
      "cell_type": "markdown",
      "metadata": {
        "id": "xpmZHxI0D2PX"
      },
      "source": [
        "# <font color='PURPLE'>Ciência dos Dados na Prática</font>\n",
        "\n",
        "# <font color='GREY'> Prevendo Evasão de clientes das Seguradoras </font>\n"
      ]
    },
    {
      "cell_type": "markdown",
      "metadata": {
        "id": "ust1KsN0FyWM"
      },
      "source": [
        "![](https://www.engagebay.com/blog/wp-content/uploads/2019/02/6-Personalization-Customer-Retention-Strategies.gif)"
      ]
    },
    {
      "cell_type": "markdown",
      "metadata": {
        "id": "0qkk7th3U66c"
      },
      "source": [
        "As seguradoras em todo o mundo operam em um ambiente muito **competitivo**\r\n",
        "\r\n",
        "![](https://i.pinimg.com/originals/66/c3/04/66c3045029cd252090676d2c397ec02d.gif)"
      ]
    },
    {
      "cell_type": "markdown",
      "metadata": {
        "id": "xMpfk5rmVBan"
      },
      "source": [
        "Com vários aspectos de dados coletados de milhões de clientes, é extremamente difícil analisar e **entender o motivo da decisão** de um cliente de mudar para um provedor de seguros diferente. "
      ]
    },
    {
      "cell_type": "markdown",
      "metadata": {
        "id": "g9qoyd8eZI15"
      },
      "source": [
        "![](https://webengage.com/blog/wp-content/uploads/sites/4/2019/08/Untitled-1.gif)"
      ]
    },
    {
      "cell_type": "markdown",
      "metadata": {
        "id": "M1H8XRpVVNM5"
      },
      "source": [
        "Para uma indústria em que a aquisição e retenção de clientes são igualmente importantes, e a primeira sendo um processo mais caro, **as seguradoras contam com OS DADOS para entender o comportamento do cliente e aumentar a retenção**. \r\n",
        "\r\n",
        "![](https://media0.giphy.com/media/sRFEa8lbeC7zbcIZZR/giphy.gif)"
      ]
    },
    {
      "cell_type": "markdown",
      "metadata": {
        "id": "1yliWdcVVU0H"
      },
      "source": [
        "Assim, **saber se um cliente possivelmente quer cancelar o seguro** de antemão dá às seguradoras a oportunidade de **criar estratégias para evitar** que isso realmente aconteça. \r\n",
        "\r\n",
        "![](https://thumbs.gfycat.com/InsignificantFlakyCoati-size_restricted.gif)"
      ]
    },
    {
      "cell_type": "markdown",
      "metadata": {
        "id": "MO_zOCKXrTVR"
      },
      "source": [
        "#1° Problema de Negócio\r\n"
      ]
    },
    {
      "cell_type": "markdown",
      "metadata": {
        "id": "N24X6MOWVtWO"
      },
      "source": [
        "Seu objetivo como cientista de dados é construir um modelo de aprendizado de máquina, uma Máquina Preditiva, que possa **prever se a seguradora perderá um cliente ou não**. Você recebe 16 variáveis anônimas (feature_0 a feature 15) que influenciam a rotatividade de clientes no setor de seguros.\r\n"
      ]
    },
    {
      "cell_type": "code",
      "metadata": {
        "id": "rvD7dy6xWhzl"
      },
      "source": [
        "# Mapeamento de Pacotes\r\n",
        "import pandas as pd\r\n",
        "import seaborn as sns\r\n",
        "import lightgbm as lgb\r\n",
        "from sklearn.metrics import f1_score, accuracy_score\r\n",
        "from sklearn.model_selection import train_test_split"
      ],
      "execution_count": 24,
      "outputs": []
    },
    {
      "cell_type": "code",
      "metadata": {
        "colab": {
          "base_uri": "https://localhost:8080/"
        },
        "id": "8U2ShhHOCBn0",
        "outputId": "02a501a2-131c-49ad-f5c9-d221518d415e"
      },
      "source": [
        "#Verificar versões dos pacotes e desabilitar warnings\r\n",
        "!pip install -q -U watermark\r\n",
        "%reload_ext watermark\r\n",
        "%watermark -a \"Ciência dos Dados\" --iversions\r\n",
        "\r\n",
        "# Versão da Linguagem Python\r\n",
        "from platform import python_version\r\n",
        "print('Versão da Linguagem Python Usada Neste script:', python_version())\r\n",
        "\r\n",
        "#Alertas\r\n",
        "import warnings\r\n",
        "import sys\r\n",
        "warnings.simplefilter(action='ignore', category=FutureWarning)\r\n",
        "warnings.filterwarnings(\"ignore\", category=FutureWarning)\r\n",
        "if not sys.warnoptions:\r\n",
        "    warnings.simplefilter(\"ignore\")\r\n",
        "\r\n"
      ],
      "execution_count": 2,
      "outputs": [
        {
          "output_type": "stream",
          "text": [
            "Author: Ciência dos Dados\n",
            "\n",
            "IPython : 5.5.0\n",
            "pandas  : 1.1.5\n",
            "seaborn : 0.11.1\n",
            "lightgbm: 2.2.3\n",
            "\n",
            "Versão da Linguagem Python Usada Neste script: 3.7.10\n"
          ],
          "name": "stdout"
        }
      ]
    },
    {
      "cell_type": "markdown",
      "metadata": {
        "id": "fWc99c0im3FN"
      },
      "source": [
        "#2° Análise Exploratória dos Dados\r\n"
      ]
    },
    {
      "cell_type": "markdown",
      "metadata": {
        "id": "cTvbMtEiHJux"
      },
      "source": [
        "###Fonte de Dados:\r\n",
        "https://www.machinehack.com/hackathons/insurance_churn_prediction_weekend_hackathon_2/leaderboard\r\n",
        "\r\n",
        "![](https://cienciadosdados.com/images/2021/MH.png)"
      ]
    },
    {
      "cell_type": "code",
      "metadata": {
        "id": "v6NOfYSkXlIc"
      },
      "source": [
        "#Importando os Dados\r\n",
        "df_train = pd.read_csv('Train.csv')"
      ],
      "execution_count": 3,
      "outputs": []
    },
    {
      "cell_type": "code",
      "metadata": {
        "id": "9hwzE1oO7shE"
      },
      "source": [
        "#Visualizando as 5 primeiras linhas\r\n",
        "df_train.head(5)"
      ],
      "execution_count": null,
      "outputs": []
    },
    {
      "cell_type": "code",
      "metadata": {
        "id": "5UD3XSU97s0w",
        "colab": {
          "base_uri": "https://localhost:8080/"
        },
        "outputId": "81a06e65-4dfc-47a9-e560-b839fa600e11"
      },
      "source": [
        "#Contagem de Domínios Distintos\r\n",
        "df_train.nunique()"
      ],
      "execution_count": 5,
      "outputs": [
        {
          "output_type": "execute_result",
          "data": {
            "text/plain": [
              "feature_0       77\n",
              "feature_1     6434\n",
              "feature_2       31\n",
              "feature_3     1482\n",
              "feature_4       47\n",
              "feature_5      517\n",
              "feature_6       36\n",
              "feature_7       12\n",
              "feature_8        3\n",
              "feature_9        4\n",
              "feature_10       2\n",
              "feature_11       2\n",
              "feature_12       2\n",
              "feature_13       3\n",
              "feature_14      12\n",
              "feature_15       4\n",
              "labels           2\n",
              "dtype: int64"
            ]
          },
          "metadata": {
            "tags": []
          },
          "execution_count": 5
        }
      ]
    },
    {
      "cell_type": "code",
      "metadata": {
        "id": "PGuAAARZ7syE",
        "colab": {
          "base_uri": "https://localhost:8080/"
        },
        "outputId": "b0073318-d4b7-44e4-b56f-cf15c1e84895"
      },
      "source": [
        "#Verifica Valores Nulos\r\n",
        "df_train.isna().sum()"
      ],
      "execution_count": 7,
      "outputs": [
        {
          "output_type": "execute_result",
          "data": {
            "text/plain": [
              "feature_0     0\n",
              "feature_1     0\n",
              "feature_2     0\n",
              "feature_3     0\n",
              "feature_4     0\n",
              "feature_5     0\n",
              "feature_6     0\n",
              "feature_7     0\n",
              "feature_8     0\n",
              "feature_9     0\n",
              "feature_10    0\n",
              "feature_11    0\n",
              "feature_12    0\n",
              "feature_13    0\n",
              "feature_14    0\n",
              "feature_15    0\n",
              "labels        0\n",
              "dtype: int64"
            ]
          },
          "metadata": {
            "tags": []
          },
          "execution_count": 7
        }
      ]
    },
    {
      "cell_type": "code",
      "metadata": {
        "colab": {
          "base_uri": "https://localhost:8080/"
        },
        "id": "ZAj1PhVrBRqG",
        "outputId": "fd53fa09-309a-43f6-8ac8-c92e01150969"
      },
      "source": [
        "#Verifica Registros Duplicados\r\n",
        "df_train.duplicated().sum()"
      ],
      "execution_count": 8,
      "outputs": [
        {
          "output_type": "execute_result",
          "data": {
            "text/plain": [
              "0"
            ]
          },
          "metadata": {
            "tags": []
          },
          "execution_count": 8
        }
      ]
    },
    {
      "cell_type": "code",
      "metadata": {
        "colab": {
          "base_uri": "https://localhost:8080/",
          "height": 316
        },
        "id": "EFZxhKPFcdew",
        "outputId": "1f07fc7d-eaaa-429f-8e2f-fcc22c9f622e"
      },
      "source": [
        "#Estatística Descritiva dos Campos\r\n",
        "df_train.describe()"
      ],
      "execution_count": 9,
      "outputs": [
        {
          "output_type": "execute_result",
          "data": {
            "text/html": [
              "<div>\n",
              "<style scoped>\n",
              "    .dataframe tbody tr th:only-of-type {\n",
              "        vertical-align: middle;\n",
              "    }\n",
              "\n",
              "    .dataframe tbody tr th {\n",
              "        vertical-align: top;\n",
              "    }\n",
              "\n",
              "    .dataframe thead th {\n",
              "        text-align: right;\n",
              "    }\n",
              "</style>\n",
              "<table border=\"1\" class=\"dataframe\">\n",
              "  <thead>\n",
              "    <tr style=\"text-align: right;\">\n",
              "      <th></th>\n",
              "      <th>feature_0</th>\n",
              "      <th>feature_1</th>\n",
              "      <th>feature_2</th>\n",
              "      <th>feature_3</th>\n",
              "      <th>feature_4</th>\n",
              "      <th>feature_5</th>\n",
              "      <th>feature_6</th>\n",
              "      <th>feature_7</th>\n",
              "      <th>feature_8</th>\n",
              "      <th>feature_9</th>\n",
              "      <th>feature_10</th>\n",
              "      <th>feature_11</th>\n",
              "      <th>feature_12</th>\n",
              "      <th>feature_13</th>\n",
              "      <th>feature_14</th>\n",
              "      <th>feature_15</th>\n",
              "      <th>labels</th>\n",
              "    </tr>\n",
              "  </thead>\n",
              "  <tbody>\n",
              "    <tr>\n",
              "      <th>count</th>\n",
              "      <td>33908.000000</td>\n",
              "      <td>33908.000000</td>\n",
              "      <td>33908.000000</td>\n",
              "      <td>33908.000000</td>\n",
              "      <td>33908.000000</td>\n",
              "      <td>33908.000000</td>\n",
              "      <td>33908.000000</td>\n",
              "      <td>33908.000000</td>\n",
              "      <td>33908.000000</td>\n",
              "      <td>33908.000000</td>\n",
              "      <td>33908.000000</td>\n",
              "      <td>33908.000000</td>\n",
              "      <td>33908.000000</td>\n",
              "      <td>33908.000000</td>\n",
              "      <td>33908.000000</td>\n",
              "      <td>33908.000000</td>\n",
              "      <td>33908.000000</td>\n",
              "    </tr>\n",
              "    <tr>\n",
              "      <th>mean</th>\n",
              "      <td>-0.004158</td>\n",
              "      <td>0.002584</td>\n",
              "      <td>-0.000213</td>\n",
              "      <td>-0.000053</td>\n",
              "      <td>-0.000298</td>\n",
              "      <td>-0.004652</td>\n",
              "      <td>-0.007498</td>\n",
              "      <td>4.336381</td>\n",
              "      <td>1.171051</td>\n",
              "      <td>1.225345</td>\n",
              "      <td>0.018137</td>\n",
              "      <td>0.555503</td>\n",
              "      <td>0.159667</td>\n",
              "      <td>0.639407</td>\n",
              "      <td>5.520497</td>\n",
              "      <td>2.562375</td>\n",
              "      <td>0.116993</td>\n",
              "    </tr>\n",
              "    <tr>\n",
              "      <th>std</th>\n",
              "      <td>0.999776</td>\n",
              "      <td>1.014268</td>\n",
              "      <td>1.000872</td>\n",
              "      <td>1.002512</td>\n",
              "      <td>1.003724</td>\n",
              "      <td>0.993984</td>\n",
              "      <td>0.802696</td>\n",
              "      <td>3.273376</td>\n",
              "      <td>0.606730</td>\n",
              "      <td>0.749104</td>\n",
              "      <td>0.133450</td>\n",
              "      <td>0.496917</td>\n",
              "      <td>0.366303</td>\n",
              "      <td>0.897627</td>\n",
              "      <td>3.003241</td>\n",
              "      <td>0.987148</td>\n",
              "      <td>0.321417</td>\n",
              "    </tr>\n",
              "    <tr>\n",
              "      <th>min</th>\n",
              "      <td>-2.159994</td>\n",
              "      <td>-3.081149</td>\n",
              "      <td>-1.779108</td>\n",
              "      <td>-1.002478</td>\n",
              "      <td>-0.569351</td>\n",
              "      <td>-0.411453</td>\n",
              "      <td>-0.251940</td>\n",
              "      <td>0.000000</td>\n",
              "      <td>0.000000</td>\n",
              "      <td>0.000000</td>\n",
              "      <td>0.000000</td>\n",
              "      <td>0.000000</td>\n",
              "      <td>0.000000</td>\n",
              "      <td>0.000000</td>\n",
              "      <td>0.000000</td>\n",
              "      <td>0.000000</td>\n",
              "      <td>0.000000</td>\n",
              "    </tr>\n",
              "    <tr>\n",
              "      <th>25%</th>\n",
              "      <td>-0.747384</td>\n",
              "      <td>-0.422787</td>\n",
              "      <td>-0.938003</td>\n",
              "      <td>-0.602517</td>\n",
              "      <td>-0.569351</td>\n",
              "      <td>-0.411453</td>\n",
              "      <td>-0.251940</td>\n",
              "      <td>1.000000</td>\n",
              "      <td>1.000000</td>\n",
              "      <td>1.000000</td>\n",
              "      <td>0.000000</td>\n",
              "      <td>0.000000</td>\n",
              "      <td>0.000000</td>\n",
              "      <td>0.000000</td>\n",
              "      <td>3.000000</td>\n",
              "      <td>3.000000</td>\n",
              "      <td>0.000000</td>\n",
              "    </tr>\n",
              "    <tr>\n",
              "      <th>50%</th>\n",
              "      <td>-0.182341</td>\n",
              "      <td>-0.297324</td>\n",
              "      <td>0.023260</td>\n",
              "      <td>-0.303517</td>\n",
              "      <td>-0.246560</td>\n",
              "      <td>-0.411453</td>\n",
              "      <td>-0.251940</td>\n",
              "      <td>4.000000</td>\n",
              "      <td>1.000000</td>\n",
              "      <td>1.000000</td>\n",
              "      <td>0.000000</td>\n",
              "      <td>1.000000</td>\n",
              "      <td>0.000000</td>\n",
              "      <td>0.000000</td>\n",
              "      <td>6.000000</td>\n",
              "      <td>3.000000</td>\n",
              "      <td>0.000000</td>\n",
              "    </tr>\n",
              "    <tr>\n",
              "      <th>75%</th>\n",
              "      <td>0.665225</td>\n",
              "      <td>0.022901</td>\n",
              "      <td>0.624050</td>\n",
              "      <td>0.236237</td>\n",
              "      <td>0.076230</td>\n",
              "      <td>-0.411453</td>\n",
              "      <td>-0.251940</td>\n",
              "      <td>7.000000</td>\n",
              "      <td>2.000000</td>\n",
              "      <td>2.000000</td>\n",
              "      <td>0.000000</td>\n",
              "      <td>1.000000</td>\n",
              "      <td>0.000000</td>\n",
              "      <td>2.000000</td>\n",
              "      <td>8.000000</td>\n",
              "      <td>3.000000</td>\n",
              "      <td>0.000000</td>\n",
              "    </tr>\n",
              "    <tr>\n",
              "      <th>max</th>\n",
              "      <td>5.091402</td>\n",
              "      <td>33.094776</td>\n",
              "      <td>1.825628</td>\n",
              "      <td>18.094700</td>\n",
              "      <td>19.443647</td>\n",
              "      <td>8.127648</td>\n",
              "      <td>23.625644</td>\n",
              "      <td>11.000000</td>\n",
              "      <td>2.000000</td>\n",
              "      <td>3.000000</td>\n",
              "      <td>1.000000</td>\n",
              "      <td>1.000000</td>\n",
              "      <td>1.000000</td>\n",
              "      <td>2.000000</td>\n",
              "      <td>11.000000</td>\n",
              "      <td>3.000000</td>\n",
              "      <td>1.000000</td>\n",
              "    </tr>\n",
              "  </tbody>\n",
              "</table>\n",
              "</div>"
            ],
            "text/plain": [
              "          feature_0     feature_1  ...    feature_15        labels\n",
              "count  33908.000000  33908.000000  ...  33908.000000  33908.000000\n",
              "mean      -0.004158      0.002584  ...      2.562375      0.116993\n",
              "std        0.999776      1.014268  ...      0.987148      0.321417\n",
              "min       -2.159994     -3.081149  ...      0.000000      0.000000\n",
              "25%       -0.747384     -0.422787  ...      3.000000      0.000000\n",
              "50%       -0.182341     -0.297324  ...      3.000000      0.000000\n",
              "75%        0.665225      0.022901  ...      3.000000      0.000000\n",
              "max        5.091402     33.094776  ...      3.000000      1.000000\n",
              "\n",
              "[8 rows x 17 columns]"
            ]
          },
          "metadata": {
            "tags": []
          },
          "execution_count": 9
        }
      ]
    },
    {
      "cell_type": "code",
      "metadata": {
        "colab": {
          "base_uri": "https://localhost:8080/",
          "height": 296
        },
        "id": "1_f6YCCRXoOC",
        "outputId": "e507f1a3-b2d2-4c47-8066-54dd023475c2"
      },
      "source": [
        "#Estatística da Label (target.....Y.....Variável dependente.....caraca é nome demais p mesma coisa)\r\n",
        "df_train['labels'].value_counts(normalize=True)\r\n",
        "sns.countplot(df_train['labels'])"
      ],
      "execution_count": 10,
      "outputs": [
        {
          "output_type": "execute_result",
          "data": {
            "text/plain": [
              "<matplotlib.axes._subplots.AxesSubplot at 0x7f7abccd2710>"
            ]
          },
          "metadata": {
            "tags": []
          },
          "execution_count": 10
        },
        {
          "output_type": "display_data",
          "data": {
            "image/png": "[encoded data removed]",
            "text/plain": [
              "<Figure size 432x288 with 1 Axes>"
            ]
          },
          "metadata": {
            "tags": [],
            "needs_background": "light"
          }
        }
      ]
    },
    {
      "cell_type": "code",
      "metadata": {
        "colab": {
          "base_uri": "https://localhost:8080/",
          "height": 297
        },
        "id": "2RskYzfO-Svz",
        "outputId": "d7f879cf-1f8c-4845-e8ba-863f077c16fe"
      },
      "source": [
        "#Estatística dos Campos\r\n",
        "df_train['feature_2'].value_counts()\r\n",
        "sns.boxplot(df_train['feature_2'])"
      ],
      "execution_count": 11,
      "outputs": [
        {
          "output_type": "execute_result",
          "data": {
            "text/plain": [
              "<matplotlib.axes._subplots.AxesSubplot at 0x7f7abc20e2d0>"
            ]
          },
          "metadata": {
            "tags": []
          },
          "execution_count": 11
        },
        {
          "output_type": "display_data",
          "data": {
            "image/png": "[encoded data removed]",
            "text/plain": [
              "<Figure size 432x288 with 1 Axes>"
            ]
          },
          "metadata": {
            "tags": [],
            "needs_background": "light"
          }
        }
      ]
    },
    {
      "cell_type": "code",
      "metadata": {
        "colab": {
          "base_uri": "https://localhost:8080/",
          "height": 297
        },
        "id": "7s6eS7HW-S4K",
        "outputId": "ee7c9684-11b7-431b-a3c5-475c276660af"
      },
      "source": [
        "#Estatística dos Campos\r\n",
        "df_train['feature_3'].value_counts()\r\n",
        "sns.histplot(df_train['feature_3'], bins=50)"
      ],
      "execution_count": 12,
      "outputs": [
        {
          "output_type": "execute_result",
          "data": {
            "text/plain": [
              "<matplotlib.axes._subplots.AxesSubplot at 0x7f7abbd47cd0>"
            ]
          },
          "metadata": {
            "tags": []
          },
          "execution_count": 12
        },
        {
          "output_type": "display_data",
          "data": {
            "image/png": "[encoded data removed]",
            "text/plain": [
              "<Figure size 432x288 with 1 Axes>"
            ]
          },
          "metadata": {
            "tags": [],
            "needs_background": "light"
          }
        }
      ]
    },
    {
      "cell_type": "code",
      "metadata": {
        "colab": {
          "base_uri": "https://localhost:8080/",
          "height": 297
        },
        "id": "YjNEVQJh-S6g",
        "outputId": "440ecb93-e011-48b6-89c4-ef9d16ff1d48"
      },
      "source": [
        "#Estatística dos Campos\r\n",
        "df_train['feature_5'].value_counts()\r\n",
        "sns.histplot(df_train['feature_5'], bins=50)"
      ],
      "execution_count": 13,
      "outputs": [
        {
          "output_type": "execute_result",
          "data": {
            "text/plain": [
              "<matplotlib.axes._subplots.AxesSubplot at 0x7f7abbd87710>"
            ]
          },
          "metadata": {
            "tags": []
          },
          "execution_count": 13
        },
        {
          "output_type": "display_data",
          "data": {
            "image/png": "[encoded data removed]",
            "text/plain": [
              "<Figure size 432x288 with 1 Axes>"
            ]
          },
          "metadata": {
            "tags": [],
            "needs_background": "light"
          }
        }
      ]
    },
    {
      "cell_type": "code",
      "metadata": {
        "colab": {
          "base_uri": "https://localhost:8080/",
          "height": 297
        },
        "id": "j66jJjok-S-B",
        "outputId": "94a12f42-0950-4195-f524-037bd8fbbb5b"
      },
      "source": [
        "#Estatística dos Campos\r\n",
        "df_train['feature_11'].value_counts()\r\n",
        "sns.countplot(df_train['feature_11'])"
      ],
      "execution_count": 14,
      "outputs": [
        {
          "output_type": "execute_result",
          "data": {
            "text/plain": [
              "<matplotlib.axes._subplots.AxesSubplot at 0x7f7abbd4b190>"
            ]
          },
          "metadata": {
            "tags": []
          },
          "execution_count": 14
        },
        {
          "output_type": "display_data",
          "data": {
            "image/png": "[encoded data removed]",
            "text/plain": [
              "<Figure size 432x288 with 1 Axes>"
            ]
          },
          "metadata": {
            "tags": [],
            "needs_background": "light"
          }
        }
      ]
    },
    {
      "cell_type": "code",
      "metadata": {
        "colab": {
          "base_uri": "https://localhost:8080/",
          "height": 297
        },
        "id": "vkv44_f6AEEM",
        "outputId": "4f83fe8a-dd2f-4e6a-9fb0-9fc09a6cda67"
      },
      "source": [
        "#Estatística dos Campos\r\n",
        "df_train['feature_13'].value_counts()\r\n",
        "sns.countplot(df_train['feature_13'])"
      ],
      "execution_count": 15,
      "outputs": [
        {
          "output_type": "execute_result",
          "data": {
            "text/plain": [
              "<matplotlib.axes._subplots.AxesSubplot at 0x7f7abc2270d0>"
            ]
          },
          "metadata": {
            "tags": []
          },
          "execution_count": 15
        },
        {
          "output_type": "display_data",
          "data": {
            "image/png": "[encoded data removed]",
            "text/plain": [
              "<Figure size 432x288 with 1 Axes>"
            ]
          },
          "metadata": {
            "tags": [],
            "needs_background": "light"
          }
        }
      ]
    },
    {
      "cell_type": "code",
      "metadata": {
        "colab": {
          "base_uri": "https://localhost:8080/",
          "height": 297
        },
        "id": "xNDhx-iWAEG5",
        "outputId": "99b185dc-895a-4e7a-97b2-47ff55091a9c"
      },
      "source": [
        "#Estatística dos Campos\r\n",
        "df_train['feature_14'].value_counts()\r\n",
        "sns.countplot(df_train['feature_14'])"
      ],
      "execution_count": 16,
      "outputs": [
        {
          "output_type": "execute_result",
          "data": {
            "text/plain": [
              "<matplotlib.axes._subplots.AxesSubplot at 0x7f7abcf13510>"
            ]
          },
          "metadata": {
            "tags": []
          },
          "execution_count": 16
        },
        {
          "output_type": "display_data",
          "data": {
            "image/png": "[encoded data removed]",
            "text/plain": [
              "<Figure size 432x288 with 1 Axes>"
            ]
          },
          "metadata": {
            "tags": [],
            "needs_background": "light"
          }
        }
      ]
    },
    {
      "cell_type": "code",
      "metadata": {
        "colab": {
          "base_uri": "https://localhost:8080/",
          "height": 297
        },
        "id": "7KO3DoubAEKN",
        "outputId": "a609ac7d-919a-4107-e7a9-7b4c2016f54f"
      },
      "source": [
        "#Estatística dos Campos\r\n",
        "df_train['feature_15'].value_counts()\r\n",
        "sns.countplot(df_train['feature_15'])"
      ],
      "execution_count": 17,
      "outputs": [
        {
          "output_type": "execute_result",
          "data": {
            "text/plain": [
              "<matplotlib.axes._subplots.AxesSubplot at 0x7f7abba12c90>"
            ]
          },
          "metadata": {
            "tags": []
          },
          "execution_count": 17
        },
        {
          "output_type": "display_data",
          "data": {
            "image/png": "[encoded data removed]",
            "text/plain": [
              "<Figure size 432x288 with 1 Axes>"
            ]
          },
          "metadata": {
            "tags": [],
            "needs_background": "light"
          }
        }
      ]
    },
    {
      "cell_type": "code",
      "metadata": {
        "colab": {
          "base_uri": "https://localhost:8080/",
          "height": 330
        },
        "id": "VK06quLxJwhf",
        "outputId": "f86d56cd-560c-4909-8e9d-6d787c054c03"
      },
      "source": [
        "#Mapa de Correlação das Variáveis(features)\r\n",
        "corr = df_train.corr()\r\n",
        "sns.heatmap(corr)"
      ],
      "execution_count": 18,
      "outputs": [
        {
          "output_type": "execute_result",
          "data": {
            "text/plain": [
              "<matplotlib.axes._subplots.AxesSubplot at 0x7f7abb989a90>"
            ]
          },
          "metadata": {
            "tags": []
          },
          "execution_count": 18
        },
        {
          "output_type": "display_data",
          "data": {
            "image/png": "[encoded data removed]",
            "text/plain": [
              "<Figure size 432x288 with 2 Axes>"
            ]
          },
          "metadata": {
            "tags": [],
            "needs_background": "light"
          }
        }
      ]
    },
    {
      "cell_type": "markdown",
      "metadata": {
        "id": "9-_qOBMuI1Mz"
      },
      "source": [
        "#3° Pré-Processamento dos Dados"
      ]
    },
    {
      "cell_type": "markdown",
      "metadata": {
        "id": "_dtpYu2SXsca"
      },
      "source": [
        "### **Balanceamento** **da** **Classe**\r\n",
        "O conjunto de dados está altamente desbalanceado e precisa de tratamento. Vamos usar uma **Hiperparâmetro** do Algoritmo ao invés de usar funções específicas como o SMOTE."
      ]
    },
    {
      "cell_type": "markdown",
      "metadata": {
        "id": "_RK0hcVDXyEr"
      },
      "source": [
        "### **Seleção das Variáveis - Feature Select**"
      ]
    },
    {
      "cell_type": "code",
      "metadata": {
        "id": "sp2UcvM4eNg-"
      },
      "source": [
        "#Separando os valores para realizar o Treinamento \r\n",
        "array = df_train.values"
      ],
      "execution_count": 19,
      "outputs": []
    },
    {
      "cell_type": "code",
      "metadata": {
        "id": "su6WKSobeIR6"
      },
      "source": [
        "# Separando o array em componentes de input e output (variáveis explicativas e Target(Y))\r\n",
        "X = array[:, [2,3,5,11,13,14,15]]\r\n",
        "Y = array[:,16]"
      ],
      "execution_count": 26,
      "outputs": []
    },
    {
      "cell_type": "code",
      "metadata": {
        "id": "hXU9ZLEbeIVA"
      },
      "source": [
        "# Definindo o tamanho dos dados de treino e de teste\r\n",
        "teste_size = 0.38\r\n",
        "seed = 7\r\n",
        "\r\n"
      ],
      "execution_count": 27,
      "outputs": []
    },
    {
      "cell_type": "code",
      "metadata": {
        "id": "BAx5la0cNTz6"
      },
      "source": [
        "# Criando o dataset de treino e de teste\r\n",
        "X_treino, X_teste, y_treino, y_teste = train_test_split(X, Y, test_size = teste_size, random_state = seed)\r\n"
      ],
      "execution_count": 28,
      "outputs": []
    },
    {
      "cell_type": "markdown",
      "metadata": {
        "id": "C17poDU9m3KQ"
      },
      "source": [
        "#4° Construíndo a Máquina Preditiva \r\n"
      ]
    },
    {
      "cell_type": "code",
      "metadata": {
        "id": "MQZ0rgM1NZwW"
      },
      "source": [
        "# Criando a Máquina Preditiva\r\n",
        "modelo = lgb.LGBMClassifier(\r\n",
        "                            n_estimators=95,\r\n",
        "                            learning_rate=0.1,\r\n",
        "                            scale_pos_weight=3, \r\n",
        "                            random_state=7,\r\n",
        "                           )\r\n",
        "\r\n"
      ],
      "execution_count": 29,
      "outputs": []
    },
    {
      "cell_type": "markdown",
      "metadata": {
        "id": "kXCLZFPxUmtv"
      },
      "source": [
        "### **Explicando os Hiperparâmetros**"
      ]
    },
    {
      "cell_type": "markdown",
      "metadata": {
        "id": "AU-2xZZtsHah"
      },
      "source": [
        "\r\n",
        "\"**scale_pos_weight**\":  \r\n",
        "Controle o saldo de pesos positivos e negativos, útil para classes **desbalanceadas**.\r\n",
        "Geralmente, o Scale_pos_weight é a proporção do número de classe negativa para a classe positiva. Suponha que o conjunto de dados possua 90 observações da classe negativa e 10 observações da classe positiva; o valor ideal de scale_pos_Weight pode ser 9.\r\n",
        "\r\n",
        "https://lightgbm.readthedocs.io/en/latest/Parameters.html\r\n"
      ]
    },
    {
      "cell_type": "markdown",
      "metadata": {
        "id": "NJmSlRWNU348"
      },
      "source": [
        "**\"learning_rate\"**\r\n",
        "É um parâmetro de ajuste em um algoritmo de otimização que determina o tamanho da etapa em cada iteração enquanto se move em direção a um mínimo de uma função de perda.\r\n",
        "Metaforicamente é a velocidade com que um modelo de aprendizado de máquina \"aprende\" Costumo usar valores entre [0001, 0.001, 0.01, 0.1, 0.2, 0.3]"
      ]
    },
    {
      "cell_type": "markdown",
      "metadata": {
        "id": "QadYACgvU0rk"
      },
      "source": [
        "**\"n_estimators\"**É o número de árvores de decisão."
      ]
    },
    {
      "cell_type": "markdown",
      "metadata": {
        "id": "fgqrAWEFX8Mn"
      },
      "source": [
        "\"**random_state**\"É uma semente aleatória para gerar os mesmos valores que os meus."
      ]
    },
    {
      "cell_type": "code",
      "metadata": {
        "id": "eiZJsPB4NyVm"
      },
      "source": [
        "# Treinando o modelo\r\n",
        "modelo.fit(X_treino, y_treino)\r\n",
        "\r\n",
        "# Pront do modelo\r\n",
        "print(modelo)\r\n",
        "\r\n",
        "# Fazendo previsões\r\n",
        "y_pred = modelo.predict(X_teste)\r\n",
        "previsoes = [round(value) for value in y_pred]\r\n",
        "\r\n"
      ],
      "execution_count": null,
      "outputs": []
    },
    {
      "cell_type": "markdown",
      "metadata": {
        "id": "RdMLL-Z6m3Mg"
      },
      "source": [
        "#5° Avaliação da Máquina Preditiva"
      ]
    },
    {
      "cell_type": "code",
      "metadata": {
        "id": "BuXUpkMGN3MA",
        "colab": {
          "base_uri": "https://localhost:8080/"
        },
        "outputId": "9960b1f3-3ba1-4387-9580-0b26af484e63"
      },
      "source": [
        "# Avaliando com a Métrica Acurácia\r\n",
        "accuracy = accuracy_score(y_teste, previsoes)\r\n",
        "print(\"Acurácia: %.2f%%\" % (accuracy * 100.0))"
      ],
      "execution_count": 31,
      "outputs": [
        {
          "output_type": "stream",
          "text": [
            "Acurácia: 89.83%\n"
          ],
          "name": "stdout"
        }
      ]
    },
    {
      "cell_type": "code",
      "metadata": {
        "colab": {
          "base_uri": "https://localhost:8080/"
        },
        "id": "juW4gs0Ze8qJ",
        "outputId": "fdd49fbc-ce51-4495-94a8-1b34e14a9811"
      },
      "source": [
        "# Avaliando com a Métrica da Competição F1_Score\r\n",
        "F1 = f1_score(y_teste, previsoes)\r\n",
        "F1"
      ],
      "execution_count": 32,
      "outputs": [
        {
          "output_type": "execute_result",
          "data": {
            "text/plain": [
              "0.6391184573002755"
            ]
          },
          "metadata": {
            "tags": []
          },
          "execution_count": 32
        }
      ]
    },
    {
      "cell_type": "markdown",
      "metadata": {
        "id": "DJxwDlQ42bOf"
      },
      "source": [
        "\r\n",
        "# Entre os 17 Primeiros do Mundo na Competição!\r\n",
        "https://www.machinehack.com/hackathons/insurance_churn_prediction_weekend_hackathon_2/leaderboard\r\n",
        "\r\n",
        "![](https://cienciadosdados.com/images/2021/TOP17-2.png)"
      ]
    },
    {
      "cell_type": "markdown",
      "metadata": {
        "id": "UaRlUFrqPMeT"
      },
      "source": [
        "\r\n",
        "![](https://cienciadosdados.com/images/2021/TOP1.png)"
      ]
    },
    {
      "cell_type": "markdown",
      "metadata": {
        "id": "NjMWsJkW39Fq"
      },
      "source": [
        "# **Resumão**\r\n",
        "![](https://i.pinimg.com/originals/8a/08/32/8a0832c65e2c644302c106d5157b48a9.gif)\r\n",
        "\r\n",
        "* Nesta aula, aprendemos a **Criar Máquina Preditiva** que prevê a se o Cliente quer Abandonar a Seguradora....\r\n",
        "* Mais 1 Case com **LightGBM**\r\n",
        "* **Hiperparâmetros**\r\n",
        "* Seleção de Variáveis - **Feature Selection**\r\n",
        "* Ficamos entre os 18 primeiros colocados na competição\r\n",
        "\r\n",
        "\r\n"
      ]
    },
    {
      "cell_type": "markdown",
      "metadata": {
        "id": "SLF6vuqmxTUL"
      },
      "source": [
        "#Fim"
      ]
    },
    {
      "cell_type": "markdown",
      "metadata": {
        "id": "_fHqFSvWe94c"
      },
      "source": [
        "## Valeu!"
      ]
    },
    {
      "cell_type": "markdown",
      "metadata": {
        "id": "_2DT4SBZRDP-"
      },
      "source": [
        "### #Links - Ciência dos Dados <a href=\"https://linktr.ee/cienciadosdados\">https://linktr.ee/cienciadosdados</a>"
      ]
    },
    {
      "cell_type": "markdown",
      "metadata": {
        "id": "ThxYRK6DfJ3f"
      },
      "source": [
        "### #YouTube - Mais Aulas como essa no YouTube <a href=\"https://www.youtube.com/watch?v=IaIc5oHd3II&t=1569s\">https://www.youtube.com/watch?v=IaIc5oHd3II&t=1569s</a>"
      ]
    },
    {
      "cell_type": "code",
      "metadata": {
        "colab": {
          "base_uri": "https://localhost:8080/",
          "height": 223
        },
        "id": "_pg8zEm-Nv6Y",
        "outputId": "4d164054-2995-4c6f-e30d-5c0e4f6e4bc5"
      },
      "source": [
        "from IPython.core.display import HTML\n",
        "HTML('<iframe width=\"380\" height=\"202\" src=\"https://www.youtube.com/embed/vp_-ZIUst6c\" frameborder=\"0\" allow=\"accelerometer; autoplay; clipboard-write; encrypted-media; gyroscope; picture-in-picture\" allowfullscreen></iframe>')"
      ],
      "execution_count": null,
      "outputs": [
        {
          "output_type": "execute_result",
          "data": {
            "text/html": [
              "<iframe width=\"380\" height=\"202\" src=\"https://www.youtube.com/embed/vp_-ZIUst6c\" frameborder=\"0\" allow=\"accelerometer; autoplay; clipboard-write; encrypted-media; gyroscope; picture-in-picture\" allowfullscreen></iframe>"
            ],
            "text/plain": [
              "<IPython.core.display.HTML object>"
            ]
          },
          "metadata": {
            "tags": []
          },
          "execution_count": 273
        }
      ]
    }
  ]
}