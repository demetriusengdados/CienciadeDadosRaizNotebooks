{
  "nbformat": 4,
  "nbformat_minor": 0,
  "metadata": {
    "colab": {
      "name": "AUC_ROC Métrica de Avaliação das Máquinas Preditivas.ipynb",
      "provenance": [],
      "collapsed_sections": [
        "jyOpEj9mIG6x",
        "zLIXXh7gINx1",
        "pTvorSv1IQyK",
        "zntllGJ2IVZv"
      ]
    },
    "kernelspec": {
      "name": "python3",
      "display_name": "Python 3"
    }
  },
  "cells": [
    {
      "cell_type": "markdown",
      "metadata": {
        "id": "A1eaRA1fD2PW"
      },
      "source": [
        "![alt text](https://encrypted-tbn0.gstatic.com/images?q=tbn%3AANd9GcTK4gQ9nhwHHaSXMHpeggWg7twwMCgb877smkRmtkmDeDoGF9Z6&usqp=CAU)"
      ]
    },
    {
      "cell_type": "markdown",
      "metadata": {
        "id": "xpmZHxI0D2PX"
      },
      "source": [
        "# <font color='Green'>Dicas e Truques de Ciência de Dados</font>\n",
        "\n",
        "# <font color='Grey'> AUC_ROC - Métrica de Avaliação das Máquinas Preditivas </font>\n",
        "\n",
        "####**Obs**: Aprendizagem Supervisionada Binária\n"
      ]
    },
    {
      "cell_type": "markdown",
      "metadata": {
        "id": "j8sI0hu71nJM"
      },
      "source": [
        "**O que veremos nessa aula?**\r\n",
        "\r\n",
        "* Componentes da Curva ROC \r\n",
        "\r\n",
        "    - Sensibilidade  - (TPR), \r\n",
        "\r\n",
        "    - FPR            - (taxa de Falso Positivo), \r\n",
        "\r\n",
        "    - Especificidade - (taxa de verdadeiro Negativo)  \r\n",
        "\r\n",
        "    - FNR            - (Taxa de Falso Negativo)\r\n",
        "\r\n",
        "* O que é a curva AUC-ROC?\r\n",
        "* Como funciona a curva AUC-ROC?\r\n",
        "* AUC-ROC em Python na Prática\r\n",
        " "
      ]
    },
    {
      "cell_type": "markdown",
      "metadata": {
        "id": "QuRi3i2bu9fp"
      },
      "source": [
        "![alt text](https://miro.medium.com/max/1028/1*tMIpJr1H84Pdb1-UxtCbCw.gif)\r\n",
        "\r\n",
        "![alt text](https://miro.medium.com/max/2400/1*Dz0AhFrL2U-Y3FJA8RUpKg.gif)\r\n",
        "\r\n",
        "\r\n"
      ]
    },
    {
      "cell_type": "markdown",
      "metadata": {
        "id": "B4Hqnj6rCjYq"
      },
      "source": [
        "#Entendendo os Componentes da Curva ROC"
      ]
    },
    {
      "cell_type": "markdown",
      "metadata": {
        "id": "cpjUBRQNCRIQ"
      },
      "source": [
        "## ![alt text](https://miro.medium.com/max/2102/1*fxiTNIgOyvAombPJx5KGeA.png)"
      ]
    },
    {
      "cell_type": "markdown",
      "metadata": {
        "id": "PKNa6dpbDA1p"
      },
      "source": [
        "##TPR (taxa de verdadeiro positivo)/  Sentitividade ou   Recall"
      ]
    },
    {
      "cell_type": "markdown",
      "metadata": {
        "id": "k7XhE9d4DRoB"
      },
      "source": [
        "![alt text](https://cdn.analyticsvidhya.com/wp-content/uploads/2020/06/sensitivity.gif)"
      ]
    },
    {
      "cell_type": "markdown",
      "metadata": {
        "id": "RjOEIPLODlrD"
      },
      "source": [
        "##FPR (taxa de falso positivo)"
      ]
    },
    {
      "cell_type": "markdown",
      "metadata": {
        "id": "R2FPGNxPDtsL"
      },
      "source": [
        "![alt text](https://cdn.analyticsvidhya.com/wp-content/uploads/2020/06/FPR.gif)"
      ]
    },
    {
      "cell_type": "markdown",
      "metadata": {
        "id": "xU23Sh22FJEV"
      },
      "source": [
        "### Especificidade"
      ]
    },
    {
      "cell_type": "markdown",
      "metadata": {
        "id": "dTyxgYDCFPJP"
      },
      "source": [
        "![alt text](https://cdn.analyticsvidhya.com/wp-content/uploads/2020/06/Specificity.gif)"
      ]
    },
    {
      "cell_type": "markdown",
      "metadata": {
        "id": "BeQxEirDFY4q"
      },
      "source": [
        "![alt text](https://cdn.analyticsvidhya.com/wp-content/uploads/2020/04/Basic-Confusion-matrix.png)"
      ]
    },
    {
      "cell_type": "markdown",
      "metadata": {
        "id": "Ahcd7HczGBoU"
      },
      "source": [
        "### FNR - Taxa de Falso Negativo"
      ]
    },
    {
      "cell_type": "markdown",
      "metadata": {
        "id": "Gev3FG--Ga_k"
      },
      "source": [
        "![alt text](https://cdn.analyticsvidhya.com/wp-content/uploads/2020/06/FNR.gif)"
      ]
    },
    {
      "cell_type": "markdown",
      "metadata": {
        "id": "OxlvemLJEpSg"
      },
      "source": [
        "# AUC - Area Under the Curve (ROC)"
      ]
    },
    {
      "cell_type": "markdown",
      "metadata": {
        "id": "A0ZdWS8KEv_1"
      },
      "source": [
        "![alt text](https://cdn.analyticsvidhya.com/wp-content/uploads/2020/06/AUC1.png)"
      ]
    },
    {
      "cell_type": "markdown",
      "metadata": {
        "id": "uKvCoukDInRV"
      },
      "source": [
        "### 1 - Problema de Negócio: Calcular a AUC_ROC"
      ]
    },
    {
      "cell_type": "markdown",
      "metadata": {
        "id": "jyOpEj9mIG6x"
      },
      "source": [
        "### 2 - Análise/Fonte de Dados"
      ]
    },
    {
      "cell_type": "code",
      "metadata": {
        "id": "197HB5LuuOkE"
      },
      "source": [
        "# auc roc curve\r\n",
        "\r\n",
        "from sklearn.datasets import make_classification\r\n",
        "from sklearn.model_selection import train_test_split\r\n",
        "\r\n"
      ],
      "execution_count": 1,
      "outputs": []
    },
    {
      "cell_type": "markdown",
      "metadata": {
        "id": "zLIXXh7gINx1"
      },
      "source": [
        "### 3 - Pré-Processamento"
      ]
    },
    {
      "cell_type": "code",
      "metadata": {
        "id": "pQygGx-gHzZf"
      },
      "source": [
        "# generate two class dataset\r\n",
        "X, y = make_classification(n_samples=1000, n_classes=2, n_features=20, random_state=27)\r\n",
        "\r\n",
        "# split into train-test sets\r\n",
        "X_train, X_test, y_train, y_test = train_test_split(X, y, test_size=0.3, random_state=27)\r\n",
        "\r\n",
        "\r\n",
        "\r\n"
      ],
      "execution_count": 2,
      "outputs": []
    },
    {
      "cell_type": "code",
      "metadata": {
        "id": "bjFlD7fwUZly"
      },
      "source": [
        "X_train"
      ],
      "execution_count": null,
      "outputs": []
    },
    {
      "cell_type": "markdown",
      "metadata": {
        "id": "pTvorSv1IQyK"
      },
      "source": [
        "### 4 - Criação da Máquina Preditiva"
      ]
    },
    {
      "cell_type": "code",
      "metadata": {
        "id": "MlA8Nq0LH5ag"
      },
      "source": [
        "# train models\r\n",
        "from sklearn.linear_model import LogisticRegression\r\n",
        "from sklearn.neighbors import KNeighborsClassifier\r\n",
        "\r\n",
        "# logistic regression\r\n",
        "model1 = LogisticRegression()\r\n",
        "# knn\r\n",
        "model2 = KNeighborsClassifier(n_neighbors=4)\r\n",
        "\r\n",
        "# fit model\r\n",
        "model1.fit(X_train, y_train)\r\n",
        "model2.fit(X_train, y_train)\r\n",
        "\r\n",
        "# predict probabilities\r\n",
        "pred_prob1 = model1.predict_proba(X_test)\r\n",
        "pred_prob2 = model2.predict_proba(X_test)\r\n",
        "\r\n",
        "\r\n"
      ],
      "execution_count": 4,
      "outputs": []
    },
    {
      "cell_type": "markdown",
      "metadata": {
        "id": "zntllGJ2IVZv"
      },
      "source": [
        "### 5 - Avaliação da Máquina"
      ]
    },
    {
      "cell_type": "code",
      "metadata": {
        "id": "TxPrgY1kH9I0"
      },
      "source": [
        "from sklearn.metrics import roc_curve\r\n",
        "\r\n",
        "# roc curve for models\r\n",
        "fpr1, tpr1, thresh1 = roc_curve(y_test, pred_prob1[:,1], pos_label=1)\r\n",
        "fpr2, tpr2, thresh2 = roc_curve(y_test, pred_prob2[:,1], pos_label=1)\r\n",
        "\r\n",
        "# roc curve for tpr = fpr \r\n",
        "random_probs = [0 for i in range(len(y_test))]\r\n",
        "p_fpr, p_tpr, _ = roc_curve(y_test, random_probs, pos_label=1)\r\n",
        "\r\n",
        "\r\n"
      ],
      "execution_count": 8,
      "outputs": []
    },
    {
      "cell_type": "code",
      "metadata": {
        "colab": {
          "base_uri": "https://localhost:8080/",
          "height": 376
        },
        "id": "VagI8i8j0N0N",
        "outputId": "defba640-3cee-4fad-975c-2156a6ebd532"
      },
      "source": [
        "# multi-class classification\r\n",
        "import matplotlib.pyplot as plt\r\n",
        "# matplotlib\r\n",
        "import matplotlib.pyplot as plt\r\n",
        "plt.style.use('seaborn')\r\n",
        "\r\n",
        "# plot roc curves\r\n",
        "plt.plot(fpr1, tpr1, linestyle='--',color='orange', label='Logistic Regression')\r\n",
        "plt.plot(fpr2, tpr2, linestyle='--',color='green', label='KNN')\r\n",
        "plt.plot(p_fpr, p_tpr, linestyle='--', color='blue')\r\n",
        "# title\r\n",
        "plt.title('ROC curve')\r\n",
        "# x label\r\n",
        "plt.xlabel('False Positive Rate')\r\n",
        "# y label\r\n",
        "plt.ylabel('True Positive rate')\r\n",
        "\r\n",
        "plt.legend(loc='best')\r\n",
        "plt.savefig('ROC',dpi=300)\r\n",
        "plt.show();"
      ],
      "execution_count": 9,
      "outputs": [
        {
          "output_type": "display_data",
          "data": {
            "image/png": "[encoded data removed]",
            "text/plain": [
              "<Figure size 576x396 with 1 Axes>"
            ]
          },
          "metadata": {
            "tags": []
          }
        }
      ]
    },
    {
      "cell_type": "code",
      "metadata": {
        "id": "pajKLltXICFR",
        "colab": {
          "base_uri": "https://localhost:8080/"
        },
        "outputId": "206e66eb-f8a4-4b8b-f68c-9478d1b62e37"
      },
      "source": [
        "from sklearn.metrics import roc_auc_score\r\n",
        "\r\n",
        "# auc scores\r\n",
        "auc_score1 = roc_auc_score(y_test, pred_prob1[:,1])\r\n",
        "auc_score2 = roc_auc_score(y_test, pred_prob2[:,1])\r\n",
        "\r\n",
        "print(auc_score1, auc_score2)"
      ],
      "execution_count": 10,
      "outputs": [
        {
          "output_type": "stream",
          "text": [
            "0.9762374461979914 0.9233769727403157\n"
          ],
          "name": "stdout"
        }
      ]
    },
    {
      "cell_type": "markdown",
      "metadata": {
        "id": "HPoQzv8pCM39"
      },
      "source": [
        "\r\n",
        "![alt text](https://www.spectrumnews.org/wp-content/uploads/2016/08/fig-3-1.gif)\r\n"
      ]
    },
    {
      "cell_type": "markdown",
      "metadata": {
        "id": "SLF6vuqmxTUL"
      },
      "source": [
        "#Fim"
      ]
    },
    {
      "cell_type": "markdown",
      "metadata": {
        "id": "_fHqFSvWe94c"
      },
      "source": [
        "## Valeu!"
      ]
    },
    {
      "cell_type": "markdown",
      "metadata": {
        "id": "Dte-q2S_JGLH"
      },
      "source": [
        "![alt text](https://cienciadosdados.com/images/2021/Lives_Dirias_de_11_a_22_01_s_16_07.png)"
      ]
    },
    {
      "cell_type": "markdown",
      "metadata": {
        "id": "_2DT4SBZRDP-"
      },
      "source": [
        "### #Links - Ciência dos Dados <a href=\"https://linktr.ee/cienciadosdados\">https://linktr.ee/cienciadosdados</a>"
      ]
    },
    {
      "cell_type": "markdown",
      "metadata": {
        "id": "ThxYRK6DfJ3f"
      },
      "source": [
        "### #YouTube - Mais Aulas como essa no YouTube <a href=\"https://www.youtube.com/watch?v=IaIc5oHd3II&t=1569s\">https://www.youtube.com/watch?v=IaIc5oHd3II&t=1569s</a>"
      ]
    },
    {
      "cell_type": "code",
      "metadata": {
        "id": "_pg8zEm-Nv6Y"
      },
      "source": [
        "from IPython.core.display import HTML\n",
        "HTML('<iframe width=\"380\" height=\"200\" src=\"https://www.youtube.com/embed/s4HlDv1AhgU\" frameborder=\"0\" allow=\"accelerometer; autoplay; clipboard-write; encrypted-media; gyroscope; picture-in-picture\" allowfullscreen></iframe>')"
      ],
      "execution_count": null,
      "outputs": []
    }
  ]
}