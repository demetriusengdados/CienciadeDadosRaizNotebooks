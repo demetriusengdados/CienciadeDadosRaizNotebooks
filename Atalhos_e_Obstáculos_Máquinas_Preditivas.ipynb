{
  "nbformat": 4,
  "nbformat_minor": 0,
  "metadata": {
    "colab": {
      "name": "Atalhos e Obstáculos - Máquinas_Preditivas.ipynb",
      "provenance": [],
      "collapsed_sections": [
        "wWEY0JpXWsqz",
        "GB2XctSi-eMF",
        "C4MD7an0AKgP",
        "PCXhvU3IAd6s",
        "OunCxu9TVeVf",
        "rVoQ9w_nBOVU"
      ]
    },
    "kernelspec": {
      "name": "python3",
      "display_name": "Python 3"
    }
  },
  "cells": [
    {
      "cell_type": "markdown",
      "metadata": {
        "id": "A1eaRA1fD2PW"
      },
      "source": [
        "![alt text](https://encrypted-tbn0.gstatic.com/images?q=tbn%3AANd9GcTK4gQ9nhwHHaSXMHpeggWg7twwMCgb877smkRmtkmDeDoGF9Z6&usqp=CAU)"
      ]
    },
    {
      "cell_type": "markdown",
      "metadata": {
        "id": "HoFFYsXPQUcZ"
      },
      "source": [
        "![alt text](https://cienciadosdados.com/images/2021/Atalhos_e_Obstculos.png)"
      ]
    },
    {
      "cell_type": "markdown",
      "metadata": {
        "id": "X99hrqWxU_B5"
      },
      "source": [
        "# <font color='RED'>Obstáculo</font>\r\n",
        "\r\n",
        "##Acreditar que não vai conseguir Construir Máquinas Preditivas. \r\n",
        "\r\n",
        "==> Aproveite o Poder da Colaboração: Os Algoritmos já estão Prontos!\r\n"
      ]
    },
    {
      "cell_type": "markdown",
      "metadata": {
        "id": "fOm97g_V9Mlw"
      },
      "source": [
        "# **Anteriormente**..."
      ]
    },
    {
      "cell_type": "markdown",
      "metadata": {
        "id": "wWEY0JpXWsqz"
      },
      "source": [
        "## **Live 1** - <font color='Blue'>Atalho</font>: Saber o que faz um Cientista de Dados"
      ]
    },
    {
      "cell_type": "markdown",
      "metadata": {
        "id": "N9GCIQ6p9-dn"
      },
      "source": [
        "* Saber o que faz um Cientista de Dados\r\n",
        "\r\n",
        "    ==> Entender que **não precisa ser PhD** em todos os tópicos para ser Cientista de Dados\r\n",
        "\r\n",
        "    ==> Precisa **saber quais as habilidades** necessárias e focar nelas..."
      ]
    },
    {
      "cell_type": "markdown",
      "metadata": {
        "id": "GB2XctSi-eMF"
      },
      "source": [
        "## **Live 2** - Obstáculo: Achar que Precisa Conhecer Profundamente tudo sobre Ciência de Dados"
      ]
    },
    {
      "cell_type": "markdown",
      "metadata": {
        "id": "VdBX__lH-l05"
      },
      "source": [
        "* Achar que Precisa Conhecer Profundamente tudo sobre Ciência de Dados\r\n",
        "\r\n",
        "    ==> Entender que **não precisa ser PhD** em todos os tópicos para ser Cientista de Dados\r\n",
        "\r\n",
        "    ==> Precisa **saber quais as habilidades** necessárias e focar nelas..."
      ]
    },
    {
      "cell_type": "markdown",
      "metadata": {
        "id": "C4MD7an0AKgP"
      },
      "source": [
        "## **Live 3** - <font color='Blue'>Atalho</font>: Entender qual é o caminho a percorrer para ser um Cientista de Dados"
      ]
    },
    {
      "cell_type": "markdown",
      "metadata": {
        "id": "PCXhvU3IAd6s"
      },
      "source": [
        "==> **Entender qual é o caminho** a percorrer para ser um Cientista de Dados\r\n",
        "\r\n",
        "==> Seguir o GPS - Focar na sua ROMA\r\n",
        "\r\n",
        "### Passo 1: Buscar Skills Básicas\r\n",
        "### Passo 2: Aprender usar as Ferramentas Necessárias (somente elas)\r\n",
        "### Passo 3: Aprender a Construir Máquinas Preditivas\r\n",
        "### Passo 4: Implementar Máquinas Preditivas\r\n",
        "### Passo 5: Never Stop Learning - Seja curioso e Organizado"
      ]
    },
    {
      "cell_type": "markdown",
      "metadata": {
        "id": "5SSpkBDHAHST"
      },
      "source": [
        "![alt text](https://i.pinimg.com/originals/8e/04/80/8e0480ac5b45a68c6da54464419959ab.gif)\r\n",
        "\r\n",
        "\r\n"
      ]
    },
    {
      "cell_type": "markdown",
      "metadata": {
        "id": "oQWGQgV0BguP"
      },
      "source": [
        "https://www.mindmeister.com/1746049667"
      ]
    },
    {
      "cell_type": "markdown",
      "metadata": {
        "id": "OunCxu9TVeVf"
      },
      "source": [
        "## **Live 4** - Obstáculo: Ficar Fuçando e Seguindo todas as fontes na WEB"
      ]
    },
    {
      "cell_type": "markdown",
      "metadata": {
        "id": "Qh3hxgwlwZ67"
      },
      "source": [
        "**Obstáculo invisível**: Vc pensa que está buscando clareza, mas está se confundindo mais...\r\n",
        "\r\n",
        "===> Pense na ROMA. Mas, o foco é no Próximo Passo!"
      ]
    },
    {
      "cell_type": "markdown",
      "metadata": {
        "id": "rVoQ9w_nBOVU"
      },
      "source": [
        "## **Live 5** - <font color='Blue'>Atalho</font> Entender quais são as <font color='Blue'>Ferramentas Necessárias</font> para o Cientista de Dados.\r\n"
      ]
    },
    {
      "cell_type": "markdown",
      "metadata": {
        "id": "-ZiaxE3IV0Ys"
      },
      "source": [
        "![](https://blog.mackenzie.br/content/images/2020/09/giphy-1.gif)\r\n",
        "\r\n",
        "![](https://cio.com.br/wp-content/uploads/2019/10/ciencia-de-dados.jpg)\r\n",
        "\r\n",
        "\r\n"
      ]
    },
    {
      "cell_type": "markdown",
      "metadata": {
        "id": "jFyOe0KCpgTm"
      },
      "source": [
        "## **Live 6** - Obstáculo: Não acreditar que vai conseguir Fazer a  <font color='Blue'>Análise dos Dados.</font> "
      ]
    },
    {
      "cell_type": "markdown",
      "metadata": {
        "id": "gyoeTc0iE0Ni"
      },
      "source": [
        "## **Live 7** - <font color='Blue'>Atalho</font> : Aprender a <font color='Blue'>Pré-Processar</font> Dados."
      ]
    },
    {
      "cell_type": "markdown",
      "metadata": {
        "id": "bjsKNP0kw5ym"
      },
      "source": [
        "![](https://cdn.lowgif.com/small/6327efb5e997a590-.gif)\r\n",
        "\r\n"
      ]
    },
    {
      "cell_type": "markdown",
      "metadata": {
        "id": "D3ZEG1iPFsMP"
      },
      "source": [
        "# **Live 8** - Obstáculo: Acreditar que não consegue <font color='PURPLE'>Construir de Máquinas Preditivas</font>\r\n",
        "\r\n",
        "![](https://i.pinimg.com/originals/b3/31/6f/b3316fc13b503a31331bdf1542001171.gif) ![](https://oden.io/wp-content/uploads/2017/10/connected_factory.gif)"
      ]
    },
    {
      "cell_type": "markdown",
      "metadata": {
        "id": "hP9f2ab0LDDY"
      },
      "source": [
        "### 1° Nossa! Esse trem é **difícil** demais....\r\n",
        "\r\n",
        "==> Para resolver isso de vez: \r\n",
        "\r\n",
        "- Ver casos práticos\r\n",
        "- Reveja\r\n",
        "- Refaça\r\n",
        "- Crie suas Próprias"
      ]
    },
    {
      "cell_type": "markdown",
      "metadata": {
        "id": "K1BgL_vLMQ2e"
      },
      "source": [
        "###2° Caso de uso\r\n",
        "\r\n",
        "Alunos que estão **voando** seguindo o GPS\r\n",
        "\r\n",
        "\r\n",
        "![](https://cienciadosdados.com/images/2021/Caso_de_Uso_ML-Leandro.png)"
      ]
    },
    {
      "cell_type": "markdown",
      "metadata": {
        "id": "8jJmt-O3QrQ7"
      },
      "source": [
        "#3° Você pensa:  \r\n",
        "\r\n",
        "###\"Mas eu nem sei **Python** e vou aprender Máquinas Preditivas?\"\r\n",
        "\r\n",
        "###Eu te Respondo: Segue o **GPS**!\r\n",
        "![](https://media1.giphy.com/media/xULW8yjXilW3ylbppm/giphy.gif)"
      ]
    },
    {
      "cell_type": "markdown",
      "metadata": {
        "id": "IQqRK8ctJFAO"
      },
      "source": [
        " #     **Mini Curso de Construção de Máquinas Preditivas com Machine Learning**      \r\n",
        "\r\n",
        "\r\n",
        "       "
      ]
    },
    {
      "cell_type": "markdown",
      "metadata": {
        "id": "gSg-_CFwivHb"
      },
      "source": [
        "##**1° Entendendo o Problema de Negócio**\r\n",
        "\r\n",
        "### **Áreas**"
      ]
    },
    {
      "cell_type": "markdown",
      "metadata": {
        "id": "l9MBPGMZi4ny"
      },
      "source": [
        "### Saúde\r\n",
        "![](https://www.fairwarning.com/wp-content/uploads/2018/07/harnessing-the-power-of-ai-in-healthcare-blog-fairwarning.jpg)"
      ]
    },
    {
      "cell_type": "code",
      "metadata": {
        "colab": {
          "base_uri": "https://localhost:8080/",
          "height": 221
        },
        "id": "BolHfwFMmLIr",
        "outputId": "309b79f4-e5fc-4fdb-9e15-bc44c34fedbf"
      },
      "source": [
        "from IPython.core.display import HTML\r\n",
        "HTML('<iframe width=\"300\" height=\"200\" src=\"https://www.youtube.com/embed/jD4AKp4-Tmo?list=PLeR2Gm6UuDXr14EhmTpJ9kdqgG0z2YB-w\" frameborder=\"0\" allow=\"accelerometer; autoplay; clipboard-write; encrypted-media; gyroscope; picture-in-picture\" allowfullscreen></iframe>')"
      ],
      "execution_count": null,
      "outputs": [
        {
          "output_type": "execute_result",
          "data": {
            "text/html": [
              "<iframe width=\"300\" height=\"200\" src=\"https://www.youtube.com/embed/jD4AKp4-Tmo?list=PLeR2Gm6UuDXr14EhmTpJ9kdqgG0z2YB-w\" frameborder=\"0\" allow=\"accelerometer; autoplay; clipboard-write; encrypted-media; gyroscope; picture-in-picture\" allowfullscreen></iframe>"
            ],
            "text/plain": [
              "<IPython.core.display.HTML object>"
            ]
          },
          "metadata": {
            "tags": []
          },
          "execution_count": 3
        }
      ]
    },
    {
      "cell_type": "markdown",
      "metadata": {
        "id": "SqZccL3di4sv"
      },
      "source": [
        "### Empréstimos\r\n",
        "![](https://www.smartdatacollective.com/wp-content/uploads/2018/12/how-ai-is-transforming-lending.jpg)"
      ]
    },
    {
      "cell_type": "code",
      "metadata": {
        "colab": {
          "base_uri": "https://localhost:8080/",
          "height": 221
        },
        "id": "F1fBkEP-nEn3",
        "outputId": "20541abd-8f5e-475d-cb4e-e905f452d5b6"
      },
      "source": [
        "from IPython.core.display import HTML\r\n",
        "HTML('<iframe width=\"300\" height=\"200\" src=\"https://www.youtube.com/embed/e7ObhgiZNBE\" frameborder=\"0\" allow=\"accelerometer; autoplay; clipboard-write; encrypted-media; gyroscope; picture-in-picture\" allowfullscreen></iframe>')"
      ],
      "execution_count": null,
      "outputs": [
        {
          "output_type": "execute_result",
          "data": {
            "text/html": [
              "<iframe width=\"300\" height=\"200\" src=\"https://www.youtube.com/embed/e7ObhgiZNBE\" frameborder=\"0\" allow=\"accelerometer; autoplay; clipboard-write; encrypted-media; gyroscope; picture-in-picture\" allowfullscreen></iframe>"
            ],
            "text/plain": [
              "<IPython.core.display.HTML object>"
            ]
          },
          "metadata": {
            "tags": []
          },
          "execution_count": 7
        }
      ]
    },
    {
      "cell_type": "markdown",
      "metadata": {
        "id": "jFuaOoWXjlAc"
      },
      "source": [
        "###Reconhecimento Facial\r\n",
        "![](https://governmentciomedia.com/sites/default/files/styles/featured_article_image/public/2018-01/AI%20Facial%20recognition%20Article%20Image.jpg?itok=Mm8cTYlJ)"
      ]
    },
    {
      "cell_type": "code",
      "metadata": {
        "colab": {
          "base_uri": "https://localhost:8080/",
          "height": 221
        },
        "id": "ACSd5UPfnFPO",
        "outputId": "32b2ad4c-dfe8-40b6-9841-09f35e5488c8"
      },
      "source": [
        "from IPython.core.display import HTML\r\n",
        "HTML('<iframe width=\"300\" height=\"200\" src=\"https://www.youtube.com/embed/zDBU0-g6BKQ?list=PLeR2Gm6UuDXr14EhmTpJ9kdqgG0z2YB-w\" frameborder=\"0\" allow=\"accelerometer; autoplay; clipboard-write; encrypted-media; gyroscope; picture-in-picture\" allowfullscreen></iframe>')"
      ],
      "execution_count": null,
      "outputs": [
        {
          "output_type": "execute_result",
          "data": {
            "text/html": [
              "<iframe width=\"300\" height=\"200\" src=\"https://www.youtube.com/embed/zDBU0-g6BKQ?list=PLeR2Gm6UuDXr14EhmTpJ9kdqgG0z2YB-w\" frameborder=\"0\" allow=\"accelerometer; autoplay; clipboard-write; encrypted-media; gyroscope; picture-in-picture\" allowfullscreen></iframe>"
            ],
            "text/plain": [
              "<IPython.core.display.HTML object>"
            ]
          },
          "metadata": {
            "tags": []
          },
          "execution_count": 8
        }
      ]
    },
    {
      "cell_type": "markdown",
      "metadata": {
        "id": "FPtbj5PHjo9T"
      },
      "source": [
        "###Processamento de Linguagem Natural - PLN\r\n",
        "![](https://dair.ai/images/nlp_overview.png)"
      ]
    },
    {
      "cell_type": "code",
      "metadata": {
        "colab": {
          "base_uri": "https://localhost:8080/",
          "height": 221
        },
        "id": "xsHZpSWWnFsX",
        "outputId": "68586def-cda9-41ad-f971-14ac22891d7b"
      },
      "source": [
        "from IPython.core.display import HTML\r\n",
        "HTML('<iframe width=\"300\" height=\"200\" src=\"https://www.youtube.com/embed/LGlPzFyrk2g?list=PLeR2Gm6UuDXr14EhmTpJ9kdqgG0z2YB-w\" frameborder=\"0\" allow=\"accelerometer; autoplay; clipboard-write; encrypted-media; gyroscope; picture-in-picture\" allowfullscreen></iframe>')"
      ],
      "execution_count": null,
      "outputs": [
        {
          "output_type": "execute_result",
          "data": {
            "text/html": [
              "<iframe width=\"300\" height=\"200\" src=\"https://www.youtube.com/embed/LGlPzFyrk2g?list=PLeR2Gm6UuDXr14EhmTpJ9kdqgG0z2YB-w\" frameborder=\"0\" allow=\"accelerometer; autoplay; clipboard-write; encrypted-media; gyroscope; picture-in-picture\" allowfullscreen></iframe>"
            ],
            "text/plain": [
              "<IPython.core.display.HTML object>"
            ]
          },
          "metadata": {
            "tags": []
          },
          "execution_count": 9
        }
      ]
    },
    {
      "cell_type": "markdown",
      "metadata": {
        "id": "nqAs4Ljpi4u5"
      },
      "source": [
        "### Fraudes\r\n",
        "![](https://www.pymnts.com/wp-content/uploads/2019/06/digital-fraud-ai-tools.jpg)"
      ]
    },
    {
      "cell_type": "code",
      "metadata": {
        "colab": {
          "base_uri": "https://localhost:8080/",
          "height": 221
        },
        "id": "eF2cDSswnGFN",
        "outputId": "1b4b7c0b-a7f7-452d-d4b7-3d4fb66aa282"
      },
      "source": [
        "from IPython.core.display import HTML\r\n",
        "HTML('<iframe width=\"300\" height=\"200\" src=\"https://www.youtube.com/embed/gDSC8JZ25u4?list=PLeR2Gm6UuDXr14EhmTpJ9kdqgG0z2YB-w\" frameborder=\"0\" allow=\"accelerometer; autoplay; clipboard-write; encrypted-media; gyroscope; picture-in-picture\" allowfullscreen></iframe>')"
      ],
      "execution_count": null,
      "outputs": [
        {
          "output_type": "execute_result",
          "data": {
            "text/html": [
              "<iframe width=\"300\" height=\"200\" src=\"https://www.youtube.com/embed/gDSC8JZ25u4?list=PLeR2Gm6UuDXr14EhmTpJ9kdqgG0z2YB-w\" frameborder=\"0\" allow=\"accelerometer; autoplay; clipboard-write; encrypted-media; gyroscope; picture-in-picture\" allowfullscreen></iframe>"
            ],
            "text/plain": [
              "<IPython.core.display.HTML object>"
            ]
          },
          "metadata": {
            "tags": []
          },
          "execution_count": 10
        }
      ]
    },
    {
      "cell_type": "markdown",
      "metadata": {
        "id": "3PkokNh7jyJA"
      },
      "source": [
        "### Vendas de Produtos e Faturamento Empresarial\r\n",
        "![](https://images.squarespace-cdn.com/content/v1/57462f541bbee075320514a9/1540497816198-84WJCM1B1Q48KFGSTHSC/ke17ZwdGBToddI8pDm48kLkXF2pIyv_F2eUT9F60jBl7gQa3H78H3Y0txjaiv_0fDoOvxcdMmMKkDsyUqMSsMWxHk725yiiHCCLfrh8O1z4YTzHvnKhyp6Da-NYroOW3ZGjoBKy3azqku80C789l0iyqMbMesKd95J-X4EagrgU9L3Sa3U8cogeb0tjXbfawd0urKshkc5MgdBeJmALQKw/shutterstock_796355923.jpg)"
      ]
    },
    {
      "cell_type": "code",
      "metadata": {
        "colab": {
          "base_uri": "https://localhost:8080/",
          "height": 221
        },
        "id": "M5P5WujpnGgD",
        "outputId": "8b05b53e-6119-4d10-b081-c217c0566f8c"
      },
      "source": [
        "from IPython.core.display import HTML\r\n",
        "HTML('<iframe width=\"300\" height=\"200\" src=\"https://www.youtube.com/embed/sX0cfTrKAZ0?list=PLeR2Gm6UuDXr14EhmTpJ9kdqgG0z2YB-w\" frameborder=\"0\" allow=\"accelerometer; autoplay; clipboard-write; encrypted-media; gyroscope; picture-in-picture\" allowfullscreen></iframe>')"
      ],
      "execution_count": null,
      "outputs": [
        {
          "output_type": "execute_result",
          "data": {
            "text/html": [
              "<iframe width=\"300\" height=\"200\" src=\"https://www.youtube.com/embed/sX0cfTrKAZ0?list=PLeR2Gm6UuDXr14EhmTpJ9kdqgG0z2YB-w\" frameborder=\"0\" allow=\"accelerometer; autoplay; clipboard-write; encrypted-media; gyroscope; picture-in-picture\" allowfullscreen></iframe>"
            ],
            "text/plain": [
              "<IPython.core.display.HTML object>"
            ]
          },
          "metadata": {
            "tags": []
          },
          "execution_count": 11
        }
      ]
    },
    {
      "cell_type": "markdown",
      "metadata": {
        "id": "h9pQ5vwgk_tA"
      },
      "source": [
        "#2° **O Problema envolve Regressão ou Classificação**?"
      ]
    },
    {
      "cell_type": "markdown",
      "metadata": {
        "id": "Vg-Dy-lBlpWL"
      },
      "source": [
        "### **Regressão** = Prever Valores Contínuos, tipo Previsão de Faturamento, quantidade vendas de um produto...etc\r\n",
        "\r\n",
        "![](https://analyticsprofile.com/wp-content/uploads/2019/06/REGRESSION-ANALYSIS-1.jpg)"
      ]
    },
    {
      "cell_type": "code",
      "metadata": {
        "colab": {
          "base_uri": "https://localhost:8080/",
          "height": 221
        },
        "id": "_1bHuB9Xox2k",
        "outputId": "a8a6d60d-162a-4982-f77f-76cffa2533ee"
      },
      "source": [
        "from IPython.core.display import HTML\r\n",
        "HTML('<iframe width=\"300\" height=\"200\" src=\"https://www.youtube.com/embed/W9iktBS67Iw?list=PLeR2Gm6UuDXr14EhmTpJ9kdqgG0z2YB-w\" frameborder=\"0\" allow=\"accelerometer; autoplay; clipboard-write; encrypted-media; gyroscope; picture-in-picture\" allowfullscreen></iframe>')"
      ],
      "execution_count": null,
      "outputs": [
        {
          "output_type": "execute_result",
          "data": {
            "text/html": [
              "<iframe width=\"300\" height=\"200\" src=\"https://www.youtube.com/embed/W9iktBS67Iw?list=PLeR2Gm6UuDXr14EhmTpJ9kdqgG0z2YB-w\" frameborder=\"0\" allow=\"accelerometer; autoplay; clipboard-write; encrypted-media; gyroscope; picture-in-picture\" allowfullscreen></iframe>"
            ],
            "text/plain": [
              "<IPython.core.display.HTML object>"
            ]
          },
          "metadata": {
            "tags": []
          },
          "execution_count": 12
        }
      ]
    },
    {
      "cell_type": "markdown",
      "metadata": {
        "id": "up5O7WrCl1Ni"
      },
      "source": [
        "### **Classificação** = Prever uma Classe, tipo se o cara tem Risco A, B ou C....Se o cara vai ser um inadimplente ou não, Se o paciente tem doença ou não...etc\r\n",
        "![](https://www.emailmanager.com/files/upload/blog/imagensblog/teste-a-b-ou-multivariado.png)\r\n"
      ]
    },
    {
      "cell_type": "code",
      "metadata": {
        "colab": {
          "base_uri": "https://localhost:8080/",
          "height": 221
        },
        "id": "sXGsi8oZplBR",
        "outputId": "6c52de6b-fcb0-4b44-d7a2-18fbfd471532"
      },
      "source": [
        "from IPython.core.display import HTML\r\n",
        "HTML('<iframe width=\"300\" height=\"200\" src=\"https://www.youtube.com/embed/c4wDGK9eUyc?list=PLeR2Gm6UuDXr14EhmTpJ9kdqgG0z2YB-w\" frameborder=\"0\" allow=\"accelerometer; autoplay; clipboard-write; encrypted-media; gyroscope; picture-in-picture\" allowfullscreen></iframe>')"
      ],
      "execution_count": null,
      "outputs": [
        {
          "output_type": "execute_result",
          "data": {
            "text/html": [
              "<iframe width=\"300\" height=\"200\" src=\"https://www.youtube.com/embed/c4wDGK9eUyc?list=PLeR2Gm6UuDXr14EhmTpJ9kdqgG0z2YB-w\" frameborder=\"0\" allow=\"accelerometer; autoplay; clipboard-write; encrypted-media; gyroscope; picture-in-picture\" allowfullscreen></iframe>"
            ],
            "text/plain": [
              "<IPython.core.display.HTML object>"
            ]
          },
          "metadata": {
            "tags": []
          },
          "execution_count": 13
        }
      ]
    },
    {
      "cell_type": "markdown",
      "metadata": {
        "id": "FMb8r2_0lVpx"
      },
      "source": [
        "#**3° Aprendizagem Supervisionada ou Não-Supervisionada?**"
      ]
    },
    {
      "cell_type": "markdown",
      "metadata": {
        "id": "vc1km3MLpxgt"
      },
      "source": [
        "### **Supervisionada**: Já temos dados históricos sobre o que queremos prever. Possuimos a informação do Target(classe a ser prevista).\r\n",
        "\r\n",
        "**EX:** Se quero prever se o paciente possui uma doença, utilizo informações passadas, históricas sobre pacientes que possuiam a doença."
      ]
    },
    {
      "cell_type": "code",
      "metadata": {
        "colab": {
          "base_uri": "https://localhost:8080/",
          "height": 221
        },
        "id": "HIBTCO4Aqrpa",
        "outputId": "d918023a-fe7f-4792-f7f2-f78c9f09bba5"
      },
      "source": [
        "from IPython.core.display import HTML\r\n",
        "HTML('<iframe width=\"300\" height=\"200\" src=\"https://www.youtube.com/embed/U7VJljqHwjY?list=PLeR2Gm6UuDXr14EhmTpJ9kdqgG0z2YB-w\" frameborder=\"0\" allow=\"accelerometer; autoplay; clipboard-write; encrypted-media; gyroscope; picture-in-picture\" allowfullscreen></iframe>')"
      ],
      "execution_count": null,
      "outputs": [
        {
          "output_type": "execute_result",
          "data": {
            "text/html": [
              "<iframe width=\"300\" height=\"200\" src=\"https://www.youtube.com/embed/U7VJljqHwjY?list=PLeR2Gm6UuDXr14EhmTpJ9kdqgG0z2YB-w\" frameborder=\"0\" allow=\"accelerometer; autoplay; clipboard-write; encrypted-media; gyroscope; picture-in-picture\" allowfullscreen></iframe>"
            ],
            "text/plain": [
              "<IPython.core.display.HTML object>"
            ]
          },
          "metadata": {
            "tags": []
          },
          "execution_count": 14
        }
      ]
    },
    {
      "cell_type": "markdown",
      "metadata": {
        "id": "BOoNVupxpxji"
      },
      "source": [
        "### **Não Supervisionada**: A gente não possui informações sobre a classe. Pelo contrário, a gente quer prevê-la dentro de clusters(grupos), por exemplo.\r\n",
        "\r\n",
        "###**EX**: Queremos Prever em qual segmento o cliente se enquadra, qual grupo ele pertence de acordo com a similaridade entre esses clientes."
      ]
    },
    {
      "cell_type": "code",
      "metadata": {
        "colab": {
          "base_uri": "https://localhost:8080/",
          "height": 221
        },
        "id": "lQLmUmNfrW4e",
        "outputId": "1615a097-ecd6-4db2-d295-17fc8b2e20c6"
      },
      "source": [
        "from IPython.core.display import HTML\r\n",
        "HTML('<iframe width=\"300\" height=\"200\" src=\"https://www.youtube.com/embed/PL7ehge24Ak?list=PLeR2Gm6UuDXr14EhmTpJ9kdqgG0z2YB-w\" frameborder=\"0\" allow=\"accelerometer; autoplay; clipboard-write; encrypted-media; gyroscope; picture-in-picture\" allowfullscreen></iframe>')"
      ],
      "execution_count": null,
      "outputs": [
        {
          "output_type": "execute_result",
          "data": {
            "text/html": [
              "<iframe width=\"300\" height=\"200\" src=\"https://www.youtube.com/embed/PL7ehge24Ak?list=PLeR2Gm6UuDXr14EhmTpJ9kdqgG0z2YB-w\" frameborder=\"0\" allow=\"accelerometer; autoplay; clipboard-write; encrypted-media; gyroscope; picture-in-picture\" allowfullscreen></iframe>"
            ],
            "text/plain": [
              "<IPython.core.display.HTML object>"
            ]
          },
          "metadata": {
            "tags": []
          },
          "execution_count": 15
        }
      ]
    },
    {
      "cell_type": "markdown",
      "metadata": {
        "id": "p1AiKjfbrpFg"
      },
      "source": [
        "#**4° Cada tipo de Aprendizagem possui algoritmos especificos.**\r\n",
        "https://st2.ning.com/topology/rest/1.0/file/get/3837751335?profile=original\r\n",
        "\r\n",
        "![](https://st2.ning.com/topology/rest/1.0/file/get/3837751335?profile=original)"
      ]
    },
    {
      "cell_type": "markdown",
      "metadata": {
        "id": "kGx2uG_MsL2_"
      },
      "source": [
        "![](https://www.mindmeister.com/generic_files/get_file/11998225?filetype=image_file&img=50053331&cb=ecc62038814c190dac24750988698376794460cf&t=4gtFQwD6NU)"
      ]
    },
    {
      "cell_type": "markdown",
      "metadata": {
        "id": "bq-8hvoP-aK6"
      },
      "source": [
        "#Fim   \r\n",
        "\r\n",
        "**\"Os Dados são o ativo mais importante da economia.”**\r\n",
        "\r\n",
        "\"\r\n",
        "https://linktr.ee/cienciadosdados"
      ]
    },
    {
      "cell_type": "code",
      "metadata": {
        "colab": {
          "base_uri": "https://localhost:8080/",
          "height": 320
        },
        "id": "wyiem91BwSpq",
        "outputId": "48d10bb3-a9a2-4ae5-ab0d-148cb46bb066"
      },
      "source": [
        "from IPython.core.display import HTML\r\n",
        "HTML('<iframe width=\"500\" height=\"300\" src=\"https://www.youtube.com/embed/VTO0v3X1H1c\" frameborder=\"0\" allow=\"accelerometer; autoplay; clipboard-write; encrypted-media; gyroscope; picture-in-picture\" allowfullscreen></iframe>')"
      ],
      "execution_count": null,
      "outputs": [
        {
          "output_type": "execute_result",
          "data": {
            "text/html": [
              "<iframe width=\"500\" height=\"300\" src=\"https://www.youtube.com/embed/VTO0v3X1H1c\" frameborder=\"0\" allow=\"accelerometer; autoplay; clipboard-write; encrypted-media; gyroscope; picture-in-picture\" allowfullscreen></iframe>"
            ],
            "text/plain": [
              "<IPython.core.display.HTML object>"
            ]
          },
          "metadata": {
            "tags": []
          },
          "execution_count": 12
        }
      ]
    },
    {
      "cell_type": "markdown",
      "metadata": {
        "id": "ZtqQ16OFmDNb"
      },
      "source": [
        "#SIMBÓRA e OBRIGADO!!\r\n",
        "\r\n",
        "\r\n",
        "\r\n"
      ]
    }
  ]
}