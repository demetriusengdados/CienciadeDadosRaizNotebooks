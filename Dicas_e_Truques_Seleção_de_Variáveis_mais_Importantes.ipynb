{
  "nbformat": 4,
  "nbformat_minor": 0,
  "metadata": {
    "colab": {
      "name": "Dicas e Truques - Seleção de Variáveis mais Importantes.ipynb",
      "provenance": [],
      "collapsed_sections": []
    },
    "kernelspec": {
      "name": "python3",
      "display_name": "Python 3"
    }
  },
  "cells": [
    {
      "cell_type": "markdown",
      "metadata": {
        "id": "A1eaRA1fD2PW"
      },
      "source": [
        "![alt text](https://encrypted-tbn0.gstatic.com/images?q=tbn%3AANd9GcTK4gQ9nhwHHaSXMHpeggWg7twwMCgb877smkRmtkmDeDoGF9Z6&usqp=CAU)"
      ]
    },
    {
      "cell_type": "markdown",
      "metadata": {
        "id": "-nj-CYSnS7Sy"
      },
      "source": [
        "# <font color='blue'>\"Dicas e Truques\" de Ciência de Dados</font>\r\n",
        "# <font color='Green'> Feature Selection</font>\r\n",
        "\r\n",
        "\r\n"
      ]
    },
    {
      "cell_type": "markdown",
      "metadata": {
        "id": "NuQkH_kT1OgK"
      },
      "source": [
        "![](https://ofuturodascoisas.com/wp-content/uploads/2017/04/Estat%C3%ADstica-seeing-theory.gif)"
      ]
    },
    {
      "cell_type": "markdown",
      "metadata": {
        "id": "PoQuw-Fl1ckr"
      },
      "source": [
        "![](https://cienciadosdados.com/images/2021/pipeline.png)"
      ]
    },
    {
      "cell_type": "markdown",
      "metadata": {
        "id": "PeFlyma4jb9n"
      },
      "source": [
        "## <font color='blue'> **Construíndo Máquina Preditiva**</font>\r\n",
        "#**1° Método de Seleção de Variáveis** \r\n",
        "\r\n",
        "# **SelectKBest**"
      ]
    },
    {
      "cell_type": "markdown",
      "metadata": {
        "id": "nB6crWcQS7S0"
      },
      "source": [
        "https://scikit-learn.org/stable/modules/generated/sklearn.feature_selection.SelectKBest.html"
      ]
    },
    {
      "cell_type": "markdown",
      "metadata": {
        "id": "JIeNzOknS7Sz"
      },
      "source": [
        "Os atributos ou **variáveis** presentes no seu dataset e que você utiliza nos dados de treino, **terão grande influência na precisão e resultado do seu modelo** preditivo. Atributos irrelevantes terão impacto negativo na performance, enquanto atributos colineares podem afetar o grau de acurácia do modelo. O **Scikit-learn possui funções que automatizam o trabalho de extração e seleção de variáveis.**"
      ]
    },
    {
      "cell_type": "markdown",
      "metadata": {
        "id": "z8zmp1w42oXd"
      },
      "source": [
        "![](https://1.bp.blogspot.com/-zsIPXPiwOrg/Wu66vpTsf8I/AAAAAAAABE8/Usl3uXQuxqM-YnRHBfZGLdaV8q-oFyWBgCLcBGAs/s640/what%2Bis%2Bcamshaft%2B%2528camshaft%2529%2Bhow%2Bdoes%2Bit%2Bwork.gif)"
      ]
    },
    {
      "cell_type": "markdown",
      "metadata": {
        "id": "dJTglDbUS7Sz"
      },
      "source": [
        "A etapa de Feature Selection é onde selecionamos os atributos (variáveis) que serão melhores candidatas a variáveis preditoras. O Feature Selection nos ajuda a **reduzir o overfitting (quando o algoritmo aprende demais)**, **aumenta a acurácia do modelo e reduz o tempo de treinamento.**"
      ]
    },
    {
      "cell_type": "markdown",
      "metadata": {
        "id": "48w-QeRq3PA_"
      },
      "source": [
        "![](https://m.gifmania.pt/Gifs-Animados-Objetos/Imagens-Animadas-Dinheiro/Gif-Animados-Economia/Estatistica/Estatistica-81612.gif)"
      ]
    },
    {
      "cell_type": "markdown",
      "metadata": {
        "id": "gfGFDcNFS7S1"
      },
      "source": [
        "**Testes estatísticos podem ser usados para selecionar os atributos** que possuem forte relacionamento com a variável que estamos tentando prever. \r\n",
        "\r\n",
        "**O Scikit-learn fornece a função SelectKBest() que pode ser usada com diversos testes estatísticos, para selecionar os atributos.** Vamos usar o teste qui-quadrado, logo abaixo, e selecionar os 4 melhores atributos que podem ser usados como variáveis preditoras."
      ]
    },
    {
      "cell_type": "markdown",
      "metadata": {
        "id": "cBkY81_ujWBB"
      },
      "source": [
        "**chi2 - qui-quadrado**\r\n",
        "\r\n",
        "https://scikit-learn.org/stable/modules/generated/sklearn.feature_selection.chi2.html#sklearn.feature_selection.chi2\r\n",
        "\r\n"
      ]
    },
    {
      "cell_type": "markdown",
      "metadata": {
        "id": "XZq4EAGqz0Vh"
      },
      "source": [
        "O teste do qui-quadrado mede a dependência entre as variáveis, portanto, o uso dessa função **“elimina”** as **características que têm maior probabilidade** de serem independentes da classe e, portanto, **irrelevantes para a classificação.**"
      ]
    },
    {
      "cell_type": "code",
      "metadata": {
        "id": "PQJlZWqKS7S2"
      },
      "source": [
        "# Extração de Variáveis com Testes Estatísticos Univariados (Teste qui-quadrado neste exemplo)\n",
        "\n",
        "# Import dos módulos\n",
        "from pandas import read_csv\n",
        "from sklearn.feature_selection import SelectKBest\n",
        "from sklearn.feature_selection import chi2\n",
        "\n",
        "# Carregando os dados\n",
        "arquivo = 'pima-data.csv'\n",
        "colunas = ['preg', 'plas', 'pres', 'skin', 'test', 'mass', 'pedi', 'age', 'class']\n",
        "dados = read_csv(arquivo, names = colunas)\n",
        "array = dados.values\n",
        "\n",
        "# Separando o array em componentes de input e output\n",
        "X = array[:,0:8]\n",
        "Y = array[:,8]\n",
        "\n"
      ],
      "execution_count": 24,
      "outputs": []
    },
    {
      "cell_type": "code",
      "metadata": {
        "id": "E3T_j8eBT-dM"
      },
      "source": [
        "Y"
      ],
      "execution_count": null,
      "outputs": []
    },
    {
      "cell_type": "code",
      "metadata": {
        "id": "yd6cC7He55DK"
      },
      "source": [
        "# Função para seleção de variáveis\r\n",
        "best_var = SelectKBest(score_func = chi2, k = 4)\r\n",
        "\r\n",
        "# Executa a função de pontuação em (X, y) e obtém os recursos selecionados\r\n",
        "fit = best_var.fit(X, Y)\r\n",
        "\r\n",
        "# Reduz X para os recursos selecionados\r\n",
        "features = fit.transform(X)\r\n",
        "\r\n"
      ],
      "execution_count": 28,
      "outputs": []
    },
    {
      "cell_type": "code",
      "metadata": {
        "colab": {
          "base_uri": "https://localhost:8080/"
        },
        "id": "g_sJkSSv55ld",
        "outputId": "46c3ad59-0ea2-4841-8162-3c1566cb4107"
      },
      "source": [
        "# Resultados\r\n",
        "print('\\nNúmero original de features:', X.shape[1])\r\n",
        "print('\\nNúmero reduzido de features:', features.shape[1])\r\n",
        "print('\\nFeatures (Variáveis Selecionadas): \\n\\n', features)"
      ],
      "execution_count": 29,
      "outputs": [
        {
          "output_type": "stream",
          "text": [
            "\n",
            "Número original de features: 8\n",
            "\n",
            "Número reduzido de features: 4\n",
            "\n",
            "Features (Variáveis Selecionadas): \n",
            "\n",
            " [[148.    0.   33.6  50. ]\n",
            " [ 85.    0.   26.6  31. ]\n",
            " [183.    0.   23.3  32. ]\n",
            " ...\n",
            " [121.  112.   26.2  30. ]\n",
            " [126.    0.   30.1  47. ]\n",
            " [ 93.    0.   30.4  23. ]]\n"
          ],
          "name": "stdout"
        }
      ]
    },
    {
      "cell_type": "code",
      "metadata": {
        "id": "RWcLuwud7LET",
        "colab": {
          "base_uri": "https://localhost:8080/",
          "height": 417
        },
        "outputId": "5731123b-4c84-49d0-bb48-2c588ef85655"
      },
      "source": [
        "dados"
      ],
      "execution_count": 30,
      "outputs": [
        {
          "output_type": "execute_result",
          "data": {
            "text/html": [
              "<div>\n",
              "<style scoped>\n",
              "    .dataframe tbody tr th:only-of-type {\n",
              "        vertical-align: middle;\n",
              "    }\n",
              "\n",
              "    .dataframe tbody tr th {\n",
              "        vertical-align: top;\n",
              "    }\n",
              "\n",
              "    .dataframe thead th {\n",
              "        text-align: right;\n",
              "    }\n",
              "</style>\n",
              "<table border=\"1\" class=\"dataframe\">\n",
              "  <thead>\n",
              "    <tr style=\"text-align: right;\">\n",
              "      <th></th>\n",
              "      <th>preg</th>\n",
              "      <th>plas</th>\n",
              "      <th>pres</th>\n",
              "      <th>skin</th>\n",
              "      <th>test</th>\n",
              "      <th>mass</th>\n",
              "      <th>pedi</th>\n",
              "      <th>age</th>\n",
              "      <th>class</th>\n",
              "    </tr>\n",
              "  </thead>\n",
              "  <tbody>\n",
              "    <tr>\n",
              "      <th>0</th>\n",
              "      <td>6</td>\n",
              "      <td>148</td>\n",
              "      <td>72</td>\n",
              "      <td>35</td>\n",
              "      <td>0</td>\n",
              "      <td>33.6</td>\n",
              "      <td>0.627</td>\n",
              "      <td>50</td>\n",
              "      <td>1</td>\n",
              "    </tr>\n",
              "    <tr>\n",
              "      <th>1</th>\n",
              "      <td>1</td>\n",
              "      <td>85</td>\n",
              "      <td>66</td>\n",
              "      <td>29</td>\n",
              "      <td>0</td>\n",
              "      <td>26.6</td>\n",
              "      <td>0.351</td>\n",
              "      <td>31</td>\n",
              "      <td>0</td>\n",
              "    </tr>\n",
              "    <tr>\n",
              "      <th>2</th>\n",
              "      <td>8</td>\n",
              "      <td>183</td>\n",
              "      <td>64</td>\n",
              "      <td>0</td>\n",
              "      <td>0</td>\n",
              "      <td>23.3</td>\n",
              "      <td>0.672</td>\n",
              "      <td>32</td>\n",
              "      <td>1</td>\n",
              "    </tr>\n",
              "    <tr>\n",
              "      <th>3</th>\n",
              "      <td>1</td>\n",
              "      <td>89</td>\n",
              "      <td>66</td>\n",
              "      <td>23</td>\n",
              "      <td>94</td>\n",
              "      <td>28.1</td>\n",
              "      <td>0.167</td>\n",
              "      <td>21</td>\n",
              "      <td>0</td>\n",
              "    </tr>\n",
              "    <tr>\n",
              "      <th>4</th>\n",
              "      <td>0</td>\n",
              "      <td>137</td>\n",
              "      <td>40</td>\n",
              "      <td>35</td>\n",
              "      <td>168</td>\n",
              "      <td>43.1</td>\n",
              "      <td>2.288</td>\n",
              "      <td>33</td>\n",
              "      <td>1</td>\n",
              "    </tr>\n",
              "    <tr>\n",
              "      <th>...</th>\n",
              "      <td>...</td>\n",
              "      <td>...</td>\n",
              "      <td>...</td>\n",
              "      <td>...</td>\n",
              "      <td>...</td>\n",
              "      <td>...</td>\n",
              "      <td>...</td>\n",
              "      <td>...</td>\n",
              "      <td>...</td>\n",
              "    </tr>\n",
              "    <tr>\n",
              "      <th>763</th>\n",
              "      <td>10</td>\n",
              "      <td>101</td>\n",
              "      <td>76</td>\n",
              "      <td>48</td>\n",
              "      <td>180</td>\n",
              "      <td>32.9</td>\n",
              "      <td>0.171</td>\n",
              "      <td>63</td>\n",
              "      <td>0</td>\n",
              "    </tr>\n",
              "    <tr>\n",
              "      <th>764</th>\n",
              "      <td>2</td>\n",
              "      <td>122</td>\n",
              "      <td>70</td>\n",
              "      <td>27</td>\n",
              "      <td>0</td>\n",
              "      <td>36.8</td>\n",
              "      <td>0.340</td>\n",
              "      <td>27</td>\n",
              "      <td>0</td>\n",
              "    </tr>\n",
              "    <tr>\n",
              "      <th>765</th>\n",
              "      <td>5</td>\n",
              "      <td>121</td>\n",
              "      <td>72</td>\n",
              "      <td>23</td>\n",
              "      <td>112</td>\n",
              "      <td>26.2</td>\n",
              "      <td>0.245</td>\n",
              "      <td>30</td>\n",
              "      <td>0</td>\n",
              "    </tr>\n",
              "    <tr>\n",
              "      <th>766</th>\n",
              "      <td>1</td>\n",
              "      <td>126</td>\n",
              "      <td>60</td>\n",
              "      <td>0</td>\n",
              "      <td>0</td>\n",
              "      <td>30.1</td>\n",
              "      <td>0.349</td>\n",
              "      <td>47</td>\n",
              "      <td>1</td>\n",
              "    </tr>\n",
              "    <tr>\n",
              "      <th>767</th>\n",
              "      <td>1</td>\n",
              "      <td>93</td>\n",
              "      <td>70</td>\n",
              "      <td>31</td>\n",
              "      <td>0</td>\n",
              "      <td>30.4</td>\n",
              "      <td>0.315</td>\n",
              "      <td>23</td>\n",
              "      <td>0</td>\n",
              "    </tr>\n",
              "  </tbody>\n",
              "</table>\n",
              "<p>768 rows × 9 columns</p>\n",
              "</div>"
            ],
            "text/plain": [
              "     preg  plas  pres  skin  test  mass   pedi  age  class\n",
              "0       6   148    72    35     0  33.6  0.627   50      1\n",
              "1       1    85    66    29     0  26.6  0.351   31      0\n",
              "2       8   183    64     0     0  23.3  0.672   32      1\n",
              "3       1    89    66    23    94  28.1  0.167   21      0\n",
              "4       0   137    40    35   168  43.1  2.288   33      1\n",
              "..    ...   ...   ...   ...   ...   ...    ...  ...    ...\n",
              "763    10   101    76    48   180  32.9  0.171   63      0\n",
              "764     2   122    70    27     0  36.8  0.340   27      0\n",
              "765     5   121    72    23   112  26.2  0.245   30      0\n",
              "766     1   126    60     0     0  30.1  0.349   47      1\n",
              "767     1    93    70    31     0  30.4  0.315   23      0\n",
              "\n",
              "[768 rows x 9 columns]"
            ]
          },
          "metadata": {
            "tags": []
          },
          "execution_count": 30
        }
      ]
    },
    {
      "cell_type": "markdown",
      "metadata": {
        "id": "zPfMAy7S4SUk"
      },
      "source": [
        "## **Observação**\r\n",
        " \r\n",
        " Além do teste do qui-quadrado, outras estatísticas podem ser utilizadas no SelectKBest().\r\n",
        " \r\n",
        " Vide exemplos abaixo:\r\n",
        "\r\n",
        "**ANOVA - f_classif** https://scikit-learn.org/stable/auto_examples/feature_selection/plot_feature_selection_pipeline.html?highlight=selectkbest%20anova\r\n",
        "\r\n",
        "**Regressão - f_regression**https://scikit-learn.org/stable/auto_examples/cluster/plot_feature_agglomeration_vs_univariate_selection.html#sphx-glr-auto-examples-cluster-plot-feature-agglomeration-vs-univariate-selection-py"
      ]
    },
    {
      "cell_type": "markdown",
      "metadata": {
        "id": "Yfm5YFwLS7TG"
      },
      "source": [
        "# **2° Método** \r\n",
        "\r\n",
        "## **Ensemble para Seleção de Variáveis**"
      ]
    },
    {
      "cell_type": "markdown",
      "metadata": {
        "id": "UTldJkJN7uxR"
      },
      "source": [
        "![](https://miro.medium.com/fit/c/184/184/0*CszCU2p5Ml6WbnH3.gif)"
      ]
    },
    {
      "cell_type": "markdown",
      "metadata": {
        "id": "03lgPmtxS7TH"
      },
      "source": [
        "https://scikit-learn.org/stable/modules/generated/sklearn.ensemble.ExtraTreesClassifier.html"
      ]
    },
    {
      "cell_type": "markdown",
      "metadata": {
        "id": "3CD8zTB4S7TI"
      },
      "source": [
        "Bagged Decision Trees, como o algoritmo RandomForest (esses são chamados de Métodos Ensemble), podem ser usados para estimar a importância de cada atributo. **Esse método retorna um score para cada atributo.**"
      ]
    },
    {
      "cell_type": "markdown",
      "metadata": {
        "id": "LFTBbXGYS7TJ"
      },
      "source": [
        "Quanto maior o score, maior a importância do atributo."
      ]
    },
    {
      "cell_type": "code",
      "metadata": {
        "id": "qQSHwN-uS7TK"
      },
      "source": [
        "# Importância do Atributo com o Extra Trees Classifier\n",
        "\n",
        "# Import dos Módulos\n",
        "from pandas import read_csv\n",
        "from sklearn.ensemble import ExtraTreesClassifier\n",
        "\n",
        "# Carregando os dados\n",
        "arquivo = 'pima-data.csv'\n",
        "colunas = ['preg', 'plas', 'pres', 'skin', 'test', 'mass', 'pedi', 'age', 'class']\n",
        "dados = read_csv(arquivo, names = colunas)\n",
        "array = dados.values\n",
        "\n",
        "# Separando o array em componentes de input e output\n",
        "X = array[:,0:8]\n",
        "Y = array[:,8]\n",
        "\n"
      ],
      "execution_count": 31,
      "outputs": []
    },
    {
      "cell_type": "code",
      "metadata": {
        "id": "SMf-cxaaV2yV"
      },
      "source": [
        "Y"
      ],
      "execution_count": null,
      "outputs": []
    },
    {
      "cell_type": "code",
      "metadata": {
        "colab": {
          "base_uri": "https://localhost:8080/"
        },
        "id": "gRfcr7Mi8kII",
        "outputId": "5d19743e-1905-416b-841a-caee3ccd0e4f"
      },
      "source": [
        "# Criação do Modelo - Feature Selection\r\n",
        "modelo = ExtraTreesClassifier()\r\n",
        "modelo.fit(X, Y)\r\n",
        "\r\n"
      ],
      "execution_count": 33,
      "outputs": [
        {
          "output_type": "execute_result",
          "data": {
            "text/plain": [
              "ExtraTreesClassifier(bootstrap=False, ccp_alpha=0.0, class_weight=None,\n",
              "                     criterion='gini', max_depth=None, max_features='auto',\n",
              "                     max_leaf_nodes=None, max_samples=None,\n",
              "                     min_impurity_decrease=0.0, min_impurity_split=None,\n",
              "                     min_samples_leaf=1, min_samples_split=2,\n",
              "                     min_weight_fraction_leaf=0.0, n_estimators=100,\n",
              "                     n_jobs=None, oob_score=False, random_state=None, verbose=0,\n",
              "                     warm_start=False)"
            ]
          },
          "metadata": {
            "tags": []
          },
          "execution_count": 33
        }
      ]
    },
    {
      "cell_type": "code",
      "metadata": {
        "colab": {
          "base_uri": "https://localhost:8080/"
        },
        "id": "BxNqEYIf8leo",
        "outputId": "6e69590e-9352-48c3-c784-40c8b761dd55"
      },
      "source": [
        "# Print dos Resultados\r\n",
        "print(dados.columns[0:8])\r\n",
        "print(modelo.feature_importances_)"
      ],
      "execution_count": 36,
      "outputs": [
        {
          "output_type": "stream",
          "text": [
            "Index(['preg', 'plas', 'pres', 'skin', 'test', 'mass', 'pedi', 'age'], dtype='object')\n",
            "[0.11230618 0.23845573 0.09532422 0.07864453 0.07362404 0.13883606\n",
            " 0.12077196 0.14203727]\n"
          ],
          "name": "stdout"
        }
      ]
    },
    {
      "cell_type": "markdown",
      "metadata": {
        "id": "SLF6vuqmxTUL"
      },
      "source": [
        "#Fim\r\n",
        "![](https://divulgavagas.com.br/img/sucesso.gif)"
      ]
    },
    {
      "cell_type": "markdown",
      "metadata": {
        "id": "_fHqFSvWe94c"
      },
      "source": [
        "## Valeu!"
      ]
    },
    {
      "cell_type": "markdown",
      "metadata": {
        "id": "ThxYRK6DfJ3f"
      },
      "source": [
        "### #YouTube - Mais Aulas como essa no YouTube \r\n",
        "https://www.youtube.com/channel/UCd3ThZLzVDDnKSZMsbK0icg?sub_confirmation=1"
      ]
    },
    {
      "cell_type": "markdown",
      "metadata": {
        "id": "_2DT4SBZRDP-"
      },
      "source": [
        "### #Links - Ciência dos Dados <a href=\"https://linktr.ee/cienciadosdados\">https://linktr.ee/cienciadosdados</a>"
      ]
    },
    {
      "cell_type": "code",
      "metadata": {
        "colab": {
          "base_uri": "https://localhost:8080/",
          "height": 221
        },
        "id": "_pg8zEm-Nv6Y",
        "outputId": "6475aed2-dd35-4361-bf24-71010cd5d012"
      },
      "source": [
        "from IPython.core.display import HTML\n",
        "HTML('<iframe width=\"380\" height=\"200\" src=\"https://www.youtube.com/embed/O8SZGlSFnwo\" frameborder=\"0\" allow=\"accelerometer; autoplay; clipboard-write; encrypted-media; gyroscope; picture-in-picture\" allowfullscreen></iframe>')"
      ],
      "execution_count": null,
      "outputs": [
        {
          "output_type": "execute_result",
          "data": {
            "text/html": [
              "<iframe width=\"380\" height=\"200\" src=\"https://www.youtube.com/embed/O8SZGlSFnwo\" frameborder=\"0\" allow=\"accelerometer; autoplay; clipboard-write; encrypted-media; gyroscope; picture-in-picture\" allowfullscreen></iframe>"
            ],
            "text/plain": [
              "<IPython.core.display.HTML object>"
            ]
          },
          "metadata": {
            "tags": []
          },
          "execution_count": 29
        }
      ]
    },
    {
      "cell_type": "markdown",
      "metadata": {
        "id": "OISsNp6K9-Eh"
      },
      "source": [
        "### Anexo da Aula:\r\n",
        "http://bit.ly/3bj8FIp"
      ]
    }
  ]
}