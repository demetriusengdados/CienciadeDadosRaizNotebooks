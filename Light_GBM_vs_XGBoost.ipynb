{
  "nbformat": 4,
  "nbformat_minor": 0,
  "metadata": {
    "colab": {
      "name": "Light_GBM_vs_XGBoost.ipynb",
      "provenance": [],
      "collapsed_sections": []
    },
    "kernelspec": {
      "display_name": "Python 3",
      "language": "python",
      "name": "python3"
    },
    "language_info": {
      "codemirror_mode": {
        "name": "ipython",
        "version": 3
      },
      "file_extension": ".py",
      "mimetype": "text/x-python",
      "name": "python",
      "nbconvert_exporter": "python",
      "pygments_lexer": "ipython3",
      "version": "3.8.3"
    }
  },
  "cells": [
    {
      "cell_type": "markdown",
      "metadata": {
        "id": "A1eaRA1fD2PW"
      },
      "source": [
        "![alt text](https://encrypted-tbn0.gstatic.com/images?q=tbn%3AANd9GcTK4gQ9nhwHHaSXMHpeggWg7twwMCgb877smkRmtkmDeDoGF9Z6&usqp=CAU)"
      ]
    },
    {
      "cell_type": "markdown",
      "metadata": {
        "id": "xpmZHxI0D2PX"
      },
      "source": [
        "# <font color='PURPLE'>Ciência dos Dados na Prática</font>\n",
        "\n",
        "# <font color='GREY'> Conhecendo o Light_GBM</font>\n"
      ]
    },
    {
      "cell_type": "markdown",
      "metadata": {
        "id": "EZtwXlub7M_m"
      },
      "source": [
        "![alt text](https://lightgbm.readthedocs.io/en/latest/_images/LightGBM_logo_black_text.svg) "
      ]
    },
    {
      "cell_type": "markdown",
      "metadata": {
        "id": "ugkgk9gOqt3e"
      },
      "source": [
        "https://lightgbm.readthedocs.io/en/latest/\r\n",
        "\r\n",
        "### Bem-vindo à documentação do LightGBM!\r\n",
        "\r\n",
        "LightGBM é uma estrutura de aumento de gradiente que usa algoritmos de aprendizagem baseados em árvore. Ele é projetado para ser distribuído e eficiente com as seguintes vantagens:\r\n",
        "\r\n",
        "* Maior velocidade de treinamento e maior eficiência.\r\n",
        "\r\n",
        "* Menor uso de memória.\r\n",
        "\r\n",
        "* Melhor precisão.\r\n",
        "\r\n",
        "* Suporte de aprendizagem paralela e GPU.\r\n",
        "\r\n",
        "* Capaz de lidar com dados em grande escala.\r\n",
        "\r\n",
        "![alt text](https://miro.medium.com/fit/c/184/184/0*CszCU2p5Ml6WbnH3.gif) "
      ]
    },
    {
      "cell_type": "markdown",
      "metadata": {
        "id": "3eqnGHvX04Z1"
      },
      "source": [
        "**1. O que é Light GBM?**\r\n",
        "Light GBM é uma estrutura de aumento de gradiente rápida, distribuída e de alto desempenho baseada no algoritmo da árvore de decisão, usada para classificação, classificação e muitas outras tarefas de aprendizado de máquina.\r\n",
        "\r\n",
        "Uma vez que é baseado em algoritmos de árvore de decisão, ele divide a árvore em termos de folha com o melhor ajuste, enquanto outros algoritmos de reforço dividem a árvore em profundidade ou nível, em vez de em folha. Portanto, ao crescer na mesma folha no Light GBM, o algoritmo de folha inteligente pode reduzir mais perdas do que o algoritmo de nível e, portanto, resulta em uma precisão muito melhor que raramente pode ser alcançada por qualquer um dos algoritmos de aumento existentes. Além disso, é surpreendentemente muito rápido, daí a palavra 'Light'.\r\n",
        "\r\n",
        "**2. Hyperparâmetros Importantes**\r\n",
        "\r\n",
        "task : default value = train ; options = train , prediction ; Specifies the task we wish to perform which is either train or prediction.\r\n",
        "application: default=regression, type=enum, options= options :\r\n",
        "regression : perform regression task\r\n",
        "binary : Binary classification\r\n",
        "multiclass: Multiclass Classification\r\n",
        "lambdarank : lambdarank application\r\n",
        "data: type=string; training data , LightGBM will train from this data\r\n",
        "num_iterations: number of boosting iterations to be performed ; default=100; type=int\r\n",
        "num_leaves : number of leaves in one tree ; default = 31 ; type =int\r\n",
        "device : default= cpu ; options = gpu,cpu. Device on which we want to train our model. Choose GPU for faster training.\r\n",
        "max_depth: Specify the max depth to which tree will grow. This parameter is used to deal with overfitting.\r\n",
        "min_data_in_leaf: Min number of data in one leaf.\r\n",
        "feature_fraction: default=1 ; specifies the fraction of features to be taken for each iteration\r\n",
        "bagging_fraction: default=1 ; specifies the fraction of data to be used for each iteration and is generally used to speed up the training and avoid overfitting.\r\n",
        "min_gain_to_split: default=.1 ; min gain to perform splitting\r\n",
        "max_bin : max number of bins to bucket the feature values.\r\n",
        "min_data_in_bin : min number of data in one bin\r\n",
        "num_threads: default=OpenMP_default, type=int ;Number of threads for Light GBM.\r\n",
        "label : type=string ; specify the label column\r\n",
        "categorical_feature : type=string ; specify the categorical features we want to use for training our model\r\n",
        "num_class: default=1 ; type=int ; used only for multi-class classification"
      ]
    },
    {
      "cell_type": "markdown",
      "metadata": {
        "id": "XRJb4sERw6-X"
      },
      "source": [
        "#1° Problema de Negócio \n",
        "Precisamos construir uma Máquina Preditiva que, a partir de dados históricos da empresa, faça a previsão da renda dos seus colaboradores.\n",
        "\n",
        "## Fonte de Dados: UCI - Adults\n",
        "http://archive.ics.uci.edu/ml/datasets/Adult"
      ]
    },
    {
      "cell_type": "markdown",
      "metadata": {
        "id": "m5cN2-KOzJZH"
      },
      "source": [
        "# 2° Análise Exploratória dos Dados"
      ]
    },
    {
      "cell_type": "code",
      "metadata": {
        "id": "9EsHJ3ptjHA4"
      },
      "source": [
        "#Comando de Instalação do Algoritmo\r\n",
        "!pip install lightgbm"
      ],
      "execution_count": null,
      "outputs": []
    },
    {
      "cell_type": "code",
      "metadata": {
        "id": "47n7_XSVjHA5"
      },
      "source": [
        "#Comando de Instalação do Algoritmo\r\n",
        "!pip install xgboost"
      ],
      "execution_count": null,
      "outputs": []
    },
    {
      "cell_type": "code",
      "metadata": {
        "id": "N2osJr7WEBJD"
      },
      "source": [
        "#importing standard libraries \n",
        "import numpy as np \n",
        "import pandas as pd \n",
        "from pandas import Series, DataFrame \n",
        "\n",
        "#import lightgbm and xgboost \n",
        "import lightgbm as lgb \n",
        "import xgboost as xgb \n",
        "\n",
        "# Importação dos dados a serem utilizados para a criação do modelo de ML\n",
        "data = pd.read_csv('https://raw.githubusercontent.com/llSourcell/Best-Programming-Languages-for-Machine-Learning/master/adults.txt', sep=',')\n",
        "data\n",
        "\n"
      ],
      "execution_count": null,
      "outputs": []
    },
    {
      "cell_type": "code",
      "metadata": {
        "colab": {
          "base_uri": "https://localhost:8080/",
          "height": 300
        },
        "id": "RU2e5plJE2ZS",
        "outputId": "f9c7286e-d2a4-48dc-92e6-42466f388a2b"
      },
      "source": [
        "#Assigning names to the columns \n",
        "data.columns=['age','workclass','fnlwgt','education','education-num','marital_Status','occupation','relationship','race','sex','capital_gain','capital_loss','hours_per_week','native_country','Income'] \n",
        "\n",
        "#glimpse of the dataset \n",
        "data.head() \n",
        "\n"
      ],
      "execution_count": 52,
      "outputs": [
        {
          "output_type": "execute_result",
          "data": {
            "text/html": [
              "<div>\n",
              "<style scoped>\n",
              "    .dataframe tbody tr th:only-of-type {\n",
              "        vertical-align: middle;\n",
              "    }\n",
              "\n",
              "    .dataframe tbody tr th {\n",
              "        vertical-align: top;\n",
              "    }\n",
              "\n",
              "    .dataframe thead th {\n",
              "        text-align: right;\n",
              "    }\n",
              "</style>\n",
              "<table border=\"1\" class=\"dataframe\">\n",
              "  <thead>\n",
              "    <tr style=\"text-align: right;\">\n",
              "      <th></th>\n",
              "      <th>age</th>\n",
              "      <th>workclass</th>\n",
              "      <th>fnlwgt</th>\n",
              "      <th>education</th>\n",
              "      <th>education-num</th>\n",
              "      <th>marital_Status</th>\n",
              "      <th>occupation</th>\n",
              "      <th>relationship</th>\n",
              "      <th>race</th>\n",
              "      <th>sex</th>\n",
              "      <th>capital_gain</th>\n",
              "      <th>capital_loss</th>\n",
              "      <th>hours_per_week</th>\n",
              "      <th>native_country</th>\n",
              "      <th>Income</th>\n",
              "    </tr>\n",
              "  </thead>\n",
              "  <tbody>\n",
              "    <tr>\n",
              "      <th>0</th>\n",
              "      <td>39</td>\n",
              "      <td>State-gov</td>\n",
              "      <td>77516</td>\n",
              "      <td>Bachelors</td>\n",
              "      <td>13</td>\n",
              "      <td>Never-married</td>\n",
              "      <td>Adm-clerical</td>\n",
              "      <td>Not-in-family</td>\n",
              "      <td>White</td>\n",
              "      <td>Male</td>\n",
              "      <td>2174</td>\n",
              "      <td>0</td>\n",
              "      <td>40</td>\n",
              "      <td>United-States</td>\n",
              "      <td>&lt;=50K</td>\n",
              "    </tr>\n",
              "    <tr>\n",
              "      <th>1</th>\n",
              "      <td>50</td>\n",
              "      <td>Self-emp-not-inc</td>\n",
              "      <td>83311</td>\n",
              "      <td>Bachelors</td>\n",
              "      <td>13</td>\n",
              "      <td>Married-civ-spouse</td>\n",
              "      <td>Exec-managerial</td>\n",
              "      <td>Husband</td>\n",
              "      <td>White</td>\n",
              "      <td>Male</td>\n",
              "      <td>0</td>\n",
              "      <td>0</td>\n",
              "      <td>13</td>\n",
              "      <td>United-States</td>\n",
              "      <td>&lt;=50K</td>\n",
              "    </tr>\n",
              "    <tr>\n",
              "      <th>2</th>\n",
              "      <td>38</td>\n",
              "      <td>Private</td>\n",
              "      <td>215646</td>\n",
              "      <td>HS-grad</td>\n",
              "      <td>9</td>\n",
              "      <td>Divorced</td>\n",
              "      <td>Handlers-cleaners</td>\n",
              "      <td>Not-in-family</td>\n",
              "      <td>White</td>\n",
              "      <td>Male</td>\n",
              "      <td>0</td>\n",
              "      <td>0</td>\n",
              "      <td>40</td>\n",
              "      <td>United-States</td>\n",
              "      <td>&lt;=50K</td>\n",
              "    </tr>\n",
              "    <tr>\n",
              "      <th>3</th>\n",
              "      <td>53</td>\n",
              "      <td>Private</td>\n",
              "      <td>234721</td>\n",
              "      <td>11th</td>\n",
              "      <td>7</td>\n",
              "      <td>Married-civ-spouse</td>\n",
              "      <td>Handlers-cleaners</td>\n",
              "      <td>Husband</td>\n",
              "      <td>Black</td>\n",
              "      <td>Male</td>\n",
              "      <td>0</td>\n",
              "      <td>0</td>\n",
              "      <td>40</td>\n",
              "      <td>United-States</td>\n",
              "      <td>&lt;=50K</td>\n",
              "    </tr>\n",
              "    <tr>\n",
              "      <th>4</th>\n",
              "      <td>28</td>\n",
              "      <td>Private</td>\n",
              "      <td>338409</td>\n",
              "      <td>Bachelors</td>\n",
              "      <td>13</td>\n",
              "      <td>Married-civ-spouse</td>\n",
              "      <td>Prof-specialty</td>\n",
              "      <td>Wife</td>\n",
              "      <td>Black</td>\n",
              "      <td>Female</td>\n",
              "      <td>0</td>\n",
              "      <td>0</td>\n",
              "      <td>40</td>\n",
              "      <td>Cuba</td>\n",
              "      <td>&lt;=50K</td>\n",
              "    </tr>\n",
              "  </tbody>\n",
              "</table>\n",
              "</div>"
            ],
            "text/plain": [
              "   age         workclass  fnlwgt  ... hours_per_week  native_country Income\n",
              "0   39         State-gov   77516  ...             40   United-States  <=50K\n",
              "1   50  Self-emp-not-inc   83311  ...             13   United-States  <=50K\n",
              "2   38           Private  215646  ...             40   United-States  <=50K\n",
              "3   53           Private  234721  ...             40   United-States  <=50K\n",
              "4   28           Private  338409  ...             40            Cuba  <=50K\n",
              "\n",
              "[5 rows x 15 columns]"
            ]
          },
          "metadata": {
            "tags": []
          },
          "execution_count": 52
        }
      ]
    },
    {
      "cell_type": "code",
      "metadata": {
        "colab": {
          "base_uri": "https://localhost:8080/"
        },
        "id": "EgKZt_gBxyVM",
        "outputId": "c3282c5c-07f6-406d-a36a-a8b9465df52b"
      },
      "source": [
        "data.info()"
      ],
      "execution_count": 94,
      "outputs": [
        {
          "output_type": "stream",
          "text": [
            "<class 'pandas.core.frame.DataFrame'>\n",
            "RangeIndex: 32561 entries, 0 to 32560\n",
            "Data columns (total 15 columns):\n",
            " #   Column          Non-Null Count  Dtype \n",
            "---  ------          --------------  ----- \n",
            " 0   age             32561 non-null  int64 \n",
            " 1   workclass       32561 non-null  object\n",
            " 2   final_weight    32561 non-null  int64 \n",
            " 3   education       32561 non-null  object\n",
            " 4   education_num   32561 non-null  int64 \n",
            " 5   marital_status  32561 non-null  object\n",
            " 6   occupation      32561 non-null  object\n",
            " 7   relationship    32561 non-null  object\n",
            " 8   race            32561 non-null  object\n",
            " 9   sex             32561 non-null  object\n",
            " 10  capital_gain    32561 non-null  int64 \n",
            " 11  capital_loss    32561 non-null  int64 \n",
            " 12  hours_per_week  32561 non-null  int64 \n",
            " 13  native_country  32561 non-null  object\n",
            " 14  salary          32561 non-null  object\n",
            "dtypes: int64(6), object(9)\n",
            "memory usage: 3.7+ MB\n"
          ],
          "name": "stdout"
        }
      ]
    },
    {
      "cell_type": "markdown",
      "metadata": {
        "id": "SOwYi6_fzRk_"
      },
      "source": [
        "#3° Pré-Processamento dos Dados"
      ]
    },
    {
      "cell_type": "code",
      "metadata": {
        "id": "fXBKeyB6FhvX",
        "colab": {
          "base_uri": "https://localhost:8080/"
        },
        "outputId": "7c0a1681-403d-4a0c-a0f8-df629e69ef4e"
      },
      "source": [
        "# Label Encoding our target variable\n",
        "# Faremos a transformação do domínio existente na Variável Label(TARGET/ variável a ser predita/\"Y\") de caracteres para números. Para isso usamos o labelEncoder \n",
        "from sklearn.preprocessing import LabelEncoder, OneHotEncoder\n",
        "\n",
        "le=LabelEncoder() \n",
        "le.fit(data.salary) \n",
        "\n",
        "le.classes_ \n",
        "data.Income=Series(le.transform(data.salary))  #label encoding our target variable \n",
        "data.Income.value_counts() \n",
        "\n",
        " "
      ],
      "execution_count": 101,
      "outputs": [
        {
          "output_type": "execute_result",
          "data": {
            "text/plain": [
              "0    24720\n",
              "1     7841\n",
              "dtype: int64"
            ]
          },
          "metadata": {
            "tags": []
          },
          "execution_count": 101
        }
      ]
    },
    {
      "cell_type": "code",
      "metadata": {
        "id": "9Md8eX13xUmL"
      },
      "source": [
        "#One Hot Encoding of the Categorical features \r\n",
        "one_hot_workclass=pd.get_dummies(data.workclass) \r\n",
        "one_hot_education=pd.get_dummies(data.education) \r\n",
        "one_hot_marital_Status=pd.get_dummies(data.marital_status) \r\n",
        "one_hot_occupation=pd.get_dummies(data.occupation)\r\n",
        "one_hot_relationship=pd.get_dummies(data.relationship) \r\n",
        "one_hot_race=pd.get_dummies(data.race) \r\n",
        "one_hot_sex=pd.get_dummies(data.sex) \r\n",
        "one_hot_native_country=pd.get_dummies(data.native_country) \r\n",
        "\r\n",
        "#removing categorical features \r\n",
        "data.drop(['workclass','education','marital_Status','occupation','relationship','race','sex','native_country'],axis=1,inplace=True) \r\n",
        "\r\n",
        " "
      ],
      "execution_count": null,
      "outputs": []
    },
    {
      "cell_type": "code",
      "metadata": {
        "id": "TbZqr3-QGNfJ"
      },
      "source": [
        "#Merging one hot encoded features with our dataset 'data' \n",
        "data=pd.concat([data,one_hot_workclass,one_hot_education,one_hot_marital_Status,one_hot_occupation,one_hot_relationship,one_hot_race,one_hot_sex,one_hot_native_country],axis=1) \n",
        "data\n",
        "\n"
      ],
      "execution_count": null,
      "outputs": []
    },
    {
      "cell_type": "code",
      "metadata": {
        "colab": {
          "base_uri": "https://localhost:8080/"
        },
        "id": "9zbBMTQvyTel",
        "outputId": "e91d8416-3730-4beb-c615-41174a404323"
      },
      "source": [
        "data.info()"
      ],
      "execution_count": 106,
      "outputs": [
        {
          "output_type": "stream",
          "text": [
            "<class 'pandas.core.frame.DataFrame'>\n",
            "RangeIndex: 32561 entries, 0 to 32560\n",
            "Columns: 219 entries, age to Yugoslavia\n",
            "dtypes: int64(6), object(9), uint8(204)\n",
            "memory usage: 10.1+ MB\n"
          ],
          "name": "stdout"
        }
      ]
    },
    {
      "cell_type": "code",
      "metadata": {
        "colab": {
          "base_uri": "https://localhost:8080/"
        },
        "id": "j3sv3reJjHA8",
        "outputId": "1007b320-fa83-4de5-ee18-4c065c08a254"
      },
      "source": [
        "data.duplicated().sum()"
      ],
      "execution_count": 107,
      "outputs": [
        {
          "output_type": "execute_result",
          "data": {
            "text/plain": [
              "24"
            ]
          },
          "metadata": {
            "tags": []
          },
          "execution_count": 107
        }
      ]
    },
    {
      "cell_type": "code",
      "metadata": {
        "id": "AH6aSGDPjHA9"
      },
      "source": [
        "data.drop_duplicates(keep=False, inplace=True)"
      ],
      "execution_count": 109,
      "outputs": []
    },
    {
      "cell_type": "code",
      "metadata": {
        "colab": {
          "base_uri": "https://localhost:8080/"
        },
        "id": "tA3VhdHEjHA9",
        "outputId": "5ff59bf1-25c9-4299-fb5b-72a90cc72783"
      },
      "source": [
        "data.duplicated().sum()"
      ],
      "execution_count": 110,
      "outputs": [
        {
          "output_type": "execute_result",
          "data": {
            "text/plain": [
              "0"
            ]
          },
          "metadata": {
            "tags": []
          },
          "execution_count": 110
        }
      ]
    },
    {
      "cell_type": "code",
      "metadata": {
        "id": "7mVYxJBxjHA9"
      },
      "source": [
        "#removing dulpicate columns \n",
        "_, i = np.unique(data.columns, return_index=True) \n",
        "data=data.iloc[:, i] "
      ],
      "execution_count": 111,
      "outputs": []
    },
    {
      "cell_type": "code",
      "metadata": {
        "id": "pF41s1ysyYZo"
      },
      "source": [
        "data.info()"
      ],
      "execution_count": null,
      "outputs": []
    },
    {
      "cell_type": "code",
      "metadata": {
        "id": "h7Hpnj9TjHA-"
      },
      "source": [
        "\n",
        "#Here our target variable is 'Income' with values as 1 or 0.  \n",
        "#Separating our data into features dataset x and our target dataset y \n",
        "x=data.drop('salary',axis=1) \n",
        "y=data.salary"
      ],
      "execution_count": 113,
      "outputs": []
    },
    {
      "cell_type": "code",
      "metadata": {
        "id": "T39EFTzjjHA-"
      },
      "source": [
        "x.head()"
      ],
      "execution_count": null,
      "outputs": []
    },
    {
      "cell_type": "code",
      "metadata": {
        "colab": {
          "base_uri": "https://localhost:8080/"
        },
        "id": "oYwfDCsSjHA_",
        "outputId": "9326b574-8570-4335-e1d0-f7df5ee3da8d"
      },
      "source": [
        "#Imputing missing values in our target variable \n",
        "y.fillna(y.mode()[0],inplace=True) \n",
        "\n"
      ],
      "execution_count": 115,
      "outputs": [
        {
          "output_type": "stream",
          "text": [
            "/usr/local/lib/python3.6/dist-packages/pandas/core/series.py:4536: SettingWithCopyWarning: \n",
            "A value is trying to be set on a copy of a slice from a DataFrame\n",
            "\n",
            "See the caveats in the documentation: https://pandas.pydata.org/pandas-docs/stable/user_guide/indexing.html#returning-a-view-versus-a-copy\n",
            "  downcast=downcast,\n"
          ],
          "name": "stderr"
        }
      ]
    },
    {
      "cell_type": "code",
      "metadata": {
        "id": "9W-DE4FojHA_"
      },
      "source": [
        "#Now splitting our dataset into test and train \n",
        "from sklearn.model_selection import train_test_split \n",
        "x_train,x_test,y_train,y_test=train_test_split(x,y,test_size=.3)\n"
      ],
      "execution_count": 67,
      "outputs": []
    },
    {
      "cell_type": "markdown",
      "metadata": {
        "id": "4j3Pvz4tze7-"
      },
      "source": [
        "#4° Máquina Preditiva"
      ]
    },
    {
      "cell_type": "markdown",
      "metadata": {
        "id": "tD64UBMlzpCV"
      },
      "source": [
        "## XGBoost"
      ]
    },
    {
      "cell_type": "code",
      "metadata": {
        "id": "dwi0Q5AKjHA_"
      },
      "source": [
        "#Applying xgboost\n",
        "\n",
        "#The data is stored in a DMatrix object \n",
        "#label is used to define our outcome variable\n",
        "dtrain=xgb.DMatrix(x_train,label=y_train)\n",
        "dtest=xgb.DMatrix(x_test)\n",
        "\n"
      ],
      "execution_count": 116,
      "outputs": []
    },
    {
      "cell_type": "code",
      "metadata": {
        "colab": {
          "base_uri": "https://localhost:8080/"
        },
        "id": "iygEu31njHBA",
        "outputId": "f38b00da-afde-4334-d840-1e5186d94fec"
      },
      "source": [
        "\n",
        "#setting parameters for xgboost\n",
        "parameters={'max_depth':5,  \n",
        "            'eta':1, \n",
        "            'silent':1,\n",
        "            'objective':'binary:logistic',\n",
        "            'eval_metric':'auc','learning_rate':.05}\n",
        "\n",
        "\n",
        "#training our model \n",
        "num_round=50\n",
        "from datetime import datetime \n",
        "start = datetime.now() \n",
        "\n",
        "xg=xgb.train(parameters,dtrain,num_round) \n",
        "stop = datetime.now()\n",
        "#Execution time of the model \n",
        "execution_time_xgb = stop-start \n",
        "execution_time_xgb\n",
        "#datetime.timedelta( , , ) representation => (days , seconds , microseconds) \n",
        "\n"
      ],
      "execution_count": 117,
      "outputs": [
        {
          "output_type": "execute_result",
          "data": {
            "text/plain": [
              "datetime.timedelta(0, 3, 373695)"
            ]
          },
          "metadata": {
            "tags": []
          },
          "execution_count": 117
        }
      ]
    },
    {
      "cell_type": "code",
      "metadata": {
        "colab": {
          "base_uri": "https://localhost:8080/"
        },
        "id": "Cddp1-F3jHBA",
        "outputId": "4d84dcbe-4765-42e0-e32f-dfb0c90b9064"
      },
      "source": [
        "#now predicting our model on test set \n",
        "ypred=xg.predict(dtest) \n",
        "ypred.size\n"
      ],
      "execution_count": 118,
      "outputs": [
        {
          "output_type": "execute_result",
          "data": {
            "text/plain": [
              "9755"
            ]
          },
          "metadata": {
            "tags": []
          },
          "execution_count": 118
        }
      ]
    },
    {
      "cell_type": "code",
      "metadata": {
        "id": "jWNF4nV_jHBB"
      },
      "source": [
        "\n",
        "#Converting probabilities into 1 or 0  \n",
        "\n",
        "for i in range(0,9755): \n",
        "    if ypred[i]>=.5:       # setting threshold to .5 \n",
        "       ypred[i]=1 \n",
        "    else: \n",
        "       ypred[i]=0  \n",
        "\n"
      ],
      "execution_count": 119,
      "outputs": []
    },
    {
      "cell_type": "markdown",
      "metadata": {
        "id": "7v2QYaD3z0OY"
      },
      "source": [
        "#5° Avaliação da Máquina Preditiva com XGBoost"
      ]
    },
    {
      "cell_type": "code",
      "metadata": {
        "colab": {
          "base_uri": "https://localhost:8080/"
        },
        "id": "1top0biPjHBB",
        "outputId": "6eb64c69-bd22-4965-fe82-b6d8d5277cda"
      },
      "source": [
        "#calculating accuracy of our model \n",
        "from sklearn.metrics import accuracy_score \n",
        "accuracy_xgb = accuracy_score(y_test,ypred) \n",
        "accuracy_xgb\n"
      ],
      "execution_count": 120,
      "outputs": [
        {
          "output_type": "execute_result",
          "data": {
            "text/plain": [
              "0.8551512045105074"
            ]
          },
          "metadata": {
            "tags": []
          },
          "execution_count": 120
        }
      ]
    },
    {
      "cell_type": "markdown",
      "metadata": {
        "id": "SGln2U4OzswG"
      },
      "source": [
        "## **Light_GBM**"
      ]
    },
    {
      "cell_type": "markdown",
      "metadata": {
        "id": "clzFMDjX2P-7"
      },
      "source": [
        "## Hyperparâmetros\r\n",
        "\r\n",
        "O **Light_GBM** usa divisão por folha em vez de divisão por profundidade, o que permite convergir muito mais rápido, mas também leva ao sobreajuste. Portanto, aqui está um guia rápido para ajustar os parâmetros no Light GBM.\r\n",
        "\r\n",
        "\r\n",
        "### **Para** **melhor** **ajuste**\r\n",
        "\r\n",
        "\r\n",
        "**num_leaves** : este parâmetro é usado para definir o número de folhas a serem formadas em uma árvore. Teoricamente, a relação entre num_leaves e max_depth é num_leaves = 2 ^ (max_depth). No entanto, esta não é uma boa estimativa no caso de GBM leve, uma vez que a divisão ocorre em relação à folha, e não à profundidade. Portanto, num_leaves definido deve ser menor que 2 ^ (max_depth), caso contrário, pode levar a sobreajuste. Light GBM não tem uma relação direta entre num_leaves e max_depth e, portanto, os dois não devem estar vinculados um ao outro.\r\n",
        "\r\n",
        "**min_data_in_leaf** : É também um dos parâmetros importantes para lidar com overfitting. Definir seu valor menor pode causar sobreajuste e, portanto, deve ser definido de acordo. Seu valor deve ser de centenas a milhares de grandes conjuntos de dados.\r\n",
        "max_depth : especifica a profundidade máxima ou nível até o qual a árvore pode crescer.\r\n",
        " \r\n",
        "\r\n",
        "\r\n",
        "##**Para velocidade mais rápida**\r\n",
        "\r\n",
        "\r\n",
        "\r\n",
        "**bagging_fraction** : é usado para realizar o ensacamento para resultados mais rápidos\r\n",
        "\r\n",
        "feature_fraction : define a fração dos recursos a serem usados ​​em cada iteração\r\n",
        "max_bin : O valor menor de max_bin pode economizar muito tempo, uma vez que agrupa os valores do recurso em caixas discretas, o que é computacionalmente barato.\r\n",
        " \r\n",
        "\r\n",
        "##**Para melhor precisão**\r\n",
        "\r\n",
        "\r\n",
        "* Use dados de treinamento maiores\r\n",
        "* **num_leaves** : configurá-lo com um valor alto produz árvores mais profundas com maior precisão, mas leva ao sobreajuste. Portanto, seu valor mais alto não é preferido.\r\n",
        "* **max_bin** : configurá-lo para valores altos tem efeito semelhante ao causado pelo aumento do valor de num_leaves e também torna mais lento nosso procedimento de treinamento."
      ]
    },
    {
      "cell_type": "code",
      "metadata": {
        "colab": {
          "base_uri": "https://localhost:8080/"
        },
        "id": "a5nH8JA3jHBB",
        "outputId": "aff84ebf-be85-4b30-efa8-4595869418be"
      },
      "source": [
        "# Light GBM\n",
        "train_data=lgb.Dataset(x_train,label=y_train)\n",
        "#setting parameters for lightgbm\n",
        "param = {'num_leaves':150,         #número de folhas em uma árvore; padrão = 31; type = int\n",
        "         'objective':'binary',     \n",
        "         'max_depth':7,\n",
        "         'learning_rate':.05,\n",
        "         'max_bin':200}\n",
        "\n",
        "param['metric'] = ['auc', 'binary_logloss']\n",
        "\n",
        "#Here we have set max_depth in xgb and LightGBM to 7 to have a fair comparison between the two.\n",
        "\n",
        "#training our model using light gbm\n",
        "num_round=50\n",
        "start=datetime.now()\n",
        "lgbm=lgb.train(param,train_data,num_round)\n",
        "stop=datetime.now()\n",
        "#Execution time of the model\n",
        "execution_time_lgbm = stop-start\n",
        "execution_time_lgbm\n",
        "\n"
      ],
      "execution_count": 121,
      "outputs": [
        {
          "output_type": "execute_result",
          "data": {
            "text/plain": [
              "datetime.timedelta(0, 0, 351131)"
            ]
          },
          "metadata": {
            "tags": []
          },
          "execution_count": 121
        }
      ]
    },
    {
      "cell_type": "code",
      "metadata": {
        "colab": {
          "base_uri": "https://localhost:8080/"
        },
        "id": "4rwV9rzDjHBC",
        "outputId": "dc311500-9368-4310-d603-10b83db13fbe"
      },
      "source": [
        "#predicting on test set\n",
        "ypred2=lgbm.predict(x_test)\n",
        "ypred2[0:5]  # showing first 5 predictions\n"
      ],
      "execution_count": 122,
      "outputs": [
        {
          "output_type": "execute_result",
          "data": {
            "text/plain": [
              "array([0.02060976, 0.9400384 , 0.02314722, 0.02060976, 0.41985589])"
            ]
          },
          "metadata": {
            "tags": []
          },
          "execution_count": 122
        }
      ]
    },
    {
      "cell_type": "code",
      "metadata": {
        "colab": {
          "base_uri": "https://localhost:8080/"
        },
        "id": "nXL3GF4Vkz9z",
        "outputId": "91462d31-5164-43e2-baa7-27d72af0d45e"
      },
      "source": [
        "ypred.size\r\n"
      ],
      "execution_count": 123,
      "outputs": [
        {
          "output_type": "execute_result",
          "data": {
            "text/plain": [
              "9755"
            ]
          },
          "metadata": {
            "tags": []
          },
          "execution_count": 123
        }
      ]
    },
    {
      "cell_type": "code",
      "metadata": {
        "id": "qmCMS71mjHBC"
      },
      "source": [
        "#converting probabilities into 0 or 1\n",
        "for i in range(0,9755):\n",
        "    if ypred2[i]>=.5:       # setting threshold to .5\n",
        "       ypred2[i]=1\n",
        "    else:  \n",
        "       ypred2[i]=0\n"
      ],
      "execution_count": 124,
      "outputs": []
    },
    {
      "cell_type": "code",
      "metadata": {
        "colab": {
          "base_uri": "https://localhost:8080/"
        },
        "id": "IzXkUaNpjHBC",
        "outputId": "8acfb878-0b1e-44ab-bf00-b592dfcde99a"
      },
      "source": [
        "#calculating accuracy\n",
        "accuracy_lgbm = accuracy_score(ypred2,y_test)\n",
        "accuracy_lgbm\n",
        "\n"
      ],
      "execution_count": 125,
      "outputs": [
        {
          "output_type": "execute_result",
          "data": {
            "text/plain": [
              "0.8592516658124039"
            ]
          },
          "metadata": {
            "tags": []
          },
          "execution_count": 125
        }
      ]
    },
    {
      "cell_type": "code",
      "metadata": {
        "id": "Zq5gts820MgK"
      },
      "source": [
        "y_test.value_counts()"
      ],
      "execution_count": null,
      "outputs": []
    },
    {
      "cell_type": "code",
      "metadata": {
        "id": "_bl_6JXJjHBD"
      },
      "source": [
        "from sklearn.metrics import roc_auc_score\n",
        "#calculating roc_auc_score for xgboost\n",
        "auc_xgb =  roc_auc_score(y_test,ypred)\n",
        "auc_xgb\n"
      ],
      "execution_count": null,
      "outputs": []
    },
    {
      "cell_type": "markdown",
      "metadata": {
        "id": "yCYVFzc90S60"
      },
      "source": [
        "# Comparando XGBoost vs Light_GBM"
      ]
    },
    {
      "cell_type": "code",
      "metadata": {
        "id": "YbJPkSIhjHBD"
      },
      "source": [
        "#calculating roc_auc_score for light gbm. \n",
        "auc_lgbm = roc_auc_score(y_test,ypred2)\n",
        "auc_lgbm = comparison_dict = {'accuracy score':(accuracy_lgbm,accuracy_xgb),'auc score':(auc_lgbm,auc_xgb),'execution time':(execution_time_lgbm,execution_time_xgb)}\n"
      ],
      "execution_count": 128,
      "outputs": []
    },
    {
      "cell_type": "code",
      "metadata": {
        "colab": {
          "base_uri": "https://localhost:8080/",
          "height": 107
        },
        "id": "agAmt9WVjHBD",
        "outputId": "41cc5cf6-0482-437f-abe3-0cd18adbc5f8"
      },
      "source": [
        "#Creating a dataframe ‘comparison_df’ for comparing the performance of Lightgbm and xgb. \n",
        "comparison_df = DataFrame(comparison_dict) \n",
        "comparison_df.index= ['LightGBM','xgboost'] \n",
        "comparison_df"
      ],
      "execution_count": 129,
      "outputs": [
        {
          "output_type": "execute_result",
          "data": {
            "text/html": [
              "<div>\n",
              "<style scoped>\n",
              "    .dataframe tbody tr th:only-of-type {\n",
              "        vertical-align: middle;\n",
              "    }\n",
              "\n",
              "    .dataframe tbody tr th {\n",
              "        vertical-align: top;\n",
              "    }\n",
              "\n",
              "    .dataframe thead th {\n",
              "        text-align: right;\n",
              "    }\n",
              "</style>\n",
              "<table border=\"1\" class=\"dataframe\">\n",
              "  <thead>\n",
              "    <tr style=\"text-align: right;\">\n",
              "      <th></th>\n",
              "      <th>accuracy score</th>\n",
              "      <th>auc score</th>\n",
              "      <th>execution time</th>\n",
              "    </tr>\n",
              "  </thead>\n",
              "  <tbody>\n",
              "    <tr>\n",
              "      <th>LightGBM</th>\n",
              "      <td>0.859252</td>\n",
              "      <td>0.756820</td>\n",
              "      <td>0 days 00:00:00.351131</td>\n",
              "    </tr>\n",
              "    <tr>\n",
              "      <th>xgboost</th>\n",
              "      <td>0.855151</td>\n",
              "      <td>0.752521</td>\n",
              "      <td>0 days 00:00:03.373695</td>\n",
              "    </tr>\n",
              "  </tbody>\n",
              "</table>\n",
              "</div>"
            ],
            "text/plain": [
              "          accuracy score  auc score         execution time\n",
              "LightGBM        0.859252   0.756820 0 days 00:00:00.351131\n",
              "xgboost         0.855151   0.752521 0 days 00:00:03.373695"
            ]
          },
          "metadata": {
            "tags": []
          },
          "execution_count": 129
        }
      ]
    },
    {
      "cell_type": "markdown",
      "metadata": {
        "id": "tA8dbTGrlKc6"
      },
      "source": [
        "\r\n",
        "### <font color='PURPLE'> Light_GBM é 9 (NOVE) Vezes mais Rápido !!!</font>\r\n",
        "\r\n"
      ]
    },
    {
      "cell_type": "markdown",
      "metadata": {
        "id": "NjMWsJkW39Fq"
      },
      "source": [
        "# **Resumão**\r\n",
        "\r\n",
        "Nesta aula, tentei dar uma ideia intuitiva do Light GBM. Uma das desvantagens de usar esse algoritmo atualmente é sua base limitada de usuários - mas isso está mudando rapidamente. Este algoritmo, além de ser mais preciso e econômico do que o XGBOOST, tem seu uso limitado devido à menor documentação disponível.\r\n",
        "\r\n",
        "No entanto, esse algoritmo mostrou resultados muito melhores e superou os algoritmos de aumento existentes. Eu recomendo fortemente que você implemente Light GBM sobre os outros algoritmos de boost e veja a diferença você mesmo.\r\n",
        "Simbóra!"
      ]
    },
    {
      "cell_type": "markdown",
      "metadata": {
        "id": "SLF6vuqmxTUL"
      },
      "source": [
        "#Fim"
      ]
    },
    {
      "cell_type": "markdown",
      "metadata": {
        "id": "_fHqFSvWe94c"
      },
      "source": [
        "## Valeu!"
      ]
    },
    {
      "cell_type": "markdown",
      "metadata": {
        "id": "_2DT4SBZRDP-"
      },
      "source": [
        "### #Links - Ciência dos Dados <a href=\"https://linktr.ee/cienciadosdados\">https://linktr.ee/cienciadosdados</a>"
      ]
    },
    {
      "cell_type": "markdown",
      "metadata": {
        "id": "ThxYRK6DfJ3f"
      },
      "source": [
        "### #YouTube - Mais Aulas como essa no YouTube <a href=\"https://www.youtube.com/watch?v=IaIc5oHd3II&t=1569s\">https://www.youtube.com/watch?v=IaIc5oHd3II&t=1569s</a>"
      ]
    },
    {
      "cell_type": "code",
      "metadata": {
        "colab": {
          "base_uri": "https://localhost:8080/",
          "height": 220
        },
        "id": "_pg8zEm-Nv6Y",
        "outputId": "745ed11e-1c0f-4d8e-c62f-dd4d1ff737c1"
      },
      "source": [
        "from IPython.core.display import HTML\n",
        "HTML('<<iframe width=\"380\" height=\"200\" src=\"https://www.youtube.com/embed/FI3RlY9AaVs\" frameborder=\"0\" allow=\"accelerometer; autoplay; clipboard-write; encrypted-media; gyroscope; picture-in-picture\" allowfullscreen></iframe>')"
      ],
      "execution_count": 90,
      "outputs": [
        {
          "output_type": "execute_result",
          "data": {
            "text/html": [
              "<<iframe width=\"380\" height=\"200\" src=\"https://www.youtube.com/embed/FI3RlY9AaVs\" frameborder=\"0\" allow=\"accelerometer; autoplay; clipboard-write; encrypted-media; gyroscope; picture-in-picture\" allowfullscreen></iframe>"
            ],
            "text/plain": [
              "<IPython.core.display.HTML object>"
            ]
          },
          "metadata": {
            "tags": []
          },
          "execution_count": 90
        }
      ]
    }
  ]
}