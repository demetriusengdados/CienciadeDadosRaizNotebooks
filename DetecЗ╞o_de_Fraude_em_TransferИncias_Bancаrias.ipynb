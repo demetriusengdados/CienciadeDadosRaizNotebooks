{
  "nbformat": 4,
  "nbformat_minor": 0,
  "metadata": {
    "colab": {
      "name": "Detecção de  Fraude em Transferências Bancárias.ipynb",
      "provenance": [],
      "collapsed_sections": []
    },
    "kernelspec": {
      "name": "python3",
      "display_name": "Python 3"
    },
    "accelerator": "GPU"
  },
  "cells": [
    {
      "cell_type": "markdown",
      "metadata": {
        "id": "mZVCagpZvZfE"
      },
      "source": [
        "![alt text](https://encrypted-tbn0.gstatic.com/images?q=tbn%3AANd9GcTK4gQ9nhwHHaSXMHpeggWg7twwMCgb877smkRmtkmDeDoGF9Z6&usqp=CAU)"
      ]
    },
    {
      "cell_type": "markdown",
      "metadata": {
        "id": "7oiQVQi0AJ6D"
      },
      "source": [
        "# <font color='PURPLE'>Ciência dos Dados na Prática</font>\n",
        "\n",
        "# <font color='GREY'> Detecção de Fraude em Transferências Bancárias</font>\n",
        "\n"
      ]
    },
    {
      "cell_type": "markdown",
      "metadata": {
        "id": "TBOmyI2I1TJ_"
      },
      "source": [
        "![alt text](https://encrypted-tbn0.gstatic.com/images?q=tbn:ANd9GcSJBs0VgOyUFFSnB5ORdhFUsQAXo95WAYd3iw&usqp=CAU)\r\n",
        "\r\n",
        "![alt text](https://mfaas.com/resources/wp-content/uploads/In-app-Event-Fraud.gif)\r\n",
        "![alt text](https://i.pinimg.com/originals/ad/63/67/ad6367c47eebf1baeb5af6c160ce8366.gif)\r\n",
        "\r\n",
        "###\"Golpe em dados bancários pela internet **cresceu 43%** no Brasil\"\r\n",
        "https://economia.ig.com.br/2020-07-28/golpe-em-dados-bancarios-pela-internet-cresceu-43-no-brasil-saiba-se-proteger.html"
      ]
    },
    {
      "cell_type": "markdown",
      "metadata": {
        "id": "jc0U_f5HBF-2"
      },
      "source": [
        "# 1° Qual o Problema de Negócio\r\n",
        "\r\n",
        "Esse conjunto de dados fictício possui transações de transferências entre contas de uma mesma Instituição Financeira. São mais de 200 mil registros de transferências, sendo 490 Fraudulentas, ou seja, não foram realizadas pelo dono da conta corrente. Temos 28 variáveis explicativas e a variável Classe é o Target e assume o valor 1 em caso de fraude e 0 em caso contrário.\r\n",
        "\r\n"
      ]
    },
    {
      "cell_type": "markdown",
      "metadata": {
        "id": "0mvzI4JRBS8M"
      },
      "source": [
        "# 2° Análise Exploratória dos Dados"
      ]
    },
    {
      "cell_type": "code",
      "metadata": {
        "id": "5cgV4YMl1Qxt"
      },
      "source": [
        "# Bibliotecas utilizadas\n",
        "import os\n",
        "import pandas as pd\n",
        "import numpy as np\n",
        "import matplotlib.pyplot as plt\n",
        "import seaborn as sns\n",
        "import warnings\n",
        "warnings.filterwarnings('ignore')\n",
        "\n",
        "# Bibliotecas utilizadas no Pré-Processamento dos Dados\n",
        "from imblearn.over_sampling import SMOTE\n",
        "from sklearn.model_selection import train_test_split\n",
        "\n",
        "# Bibliotecas utilizadas na Construção de Máquinas Preditivas\n",
        "from sklearn.ensemble import RandomForestClassifier\n",
        "from sklearn.tree import DecisionTreeClassifier\n",
        "from sklearn.ensemble import GradientBoostingClassifier\n",
        "import xgboost as xgb\n",
        "import lightgbm as lgb\n",
        "\n",
        "# Bibliotecas utilizadas na Avaliação das Máquinas\n",
        "from sklearn.metrics import classification_report\n",
        "from sklearn.metrics import accuracy_score\n",
        "from sklearn.metrics import confusion_matrix\n",
        "from sklearn.metrics import roc_auc_score\n",
        "\n",
        "\n"
      ],
      "execution_count": 1,
      "outputs": []
    },
    {
      "cell_type": "code",
      "metadata": {
        "id": "Duolit8J1_bW"
      },
      "source": [
        "# Lendo os Dados\n",
        "df = pd.read_csv('/content/transferencias.csv')"
      ],
      "execution_count": 2,
      "outputs": []
    },
    {
      "cell_type": "code",
      "metadata": {
        "id": "cv4LR1zW2DGQ",
        "colab": {
          "base_uri": "https://localhost:8080/"
        },
        "outputId": "e3af6985-4c44-4425-8c25-301d64040f51"
      },
      "source": [
        "# Informações dos Atributos\n",
        "df.info()"
      ],
      "execution_count": 3,
      "outputs": [
        {
          "output_type": "stream",
          "text": [
            "<class 'pandas.core.frame.DataFrame'>\n",
            "RangeIndex: 284807 entries, 0 to 284806\n",
            "Data columns (total 31 columns):\n",
            " #   Column           Non-Null Count   Dtype  \n",
            "---  ------           --------------   -----  \n",
            " 0   Timestamp        284807 non-null  float64\n",
            " 1   pais             284807 non-null  float64\n",
            " 2   cidade           284807 non-null  float64\n",
            " 3   bairro           284807 non-null  float64\n",
            " 4   cep              284807 non-null  float64\n",
            " 5   ip               284807 non-null  float64\n",
            " 6   dia              284807 non-null  float64\n",
            " 7   hora             284807 non-null  float64\n",
            " 8   minuto           284807 non-null  float64\n",
            " 9   so               284807 non-null  float64\n",
            " 10  valor            284807 non-null  float64\n",
            " 11  antecedentes     284807 non-null  float64\n",
            " 12  reclamacoes      284807 non-null  float64\n",
            " 13  qtd_trans        284807 non-null  float64\n",
            " 14  crt              284807 non-null  float64\n",
            " 15  limite_global    284807 non-null  float64\n",
            " 16  tipo_crt         284807 non-null  float64\n",
            " 17  estabelecimento  284807 non-null  float64\n",
            " 18  contas           284807 non-null  float64\n",
            " 19  emprestimos      284807 non-null  float64\n",
            " 20  navegador        284807 non-null  float64\n",
            " 21  android          284807 non-null  float64\n",
            " 22  ios              284807 non-null  float64\n",
            " 23  compras          284807 non-null  float64\n",
            " 24  hist_navegacao   284807 non-null  float64\n",
            " 25  relacionamento   284807 non-null  float64\n",
            " 26  ind_seguranca    284807 non-null  float64\n",
            " 27  tempo_transacao  284807 non-null  float64\n",
            " 28  lim_crt          284807 non-null  float64\n",
            " 29  hist_saldo       284807 non-null  float64\n",
            " 30  Target           284807 non-null  int64  \n",
            "dtypes: float64(30), int64(1)\n",
            "memory usage: 67.4 MB\n"
          ],
          "name": "stdout"
        }
      ]
    },
    {
      "cell_type": "code",
      "metadata": {
        "id": "1o9gs1pA2Dcb"
      },
      "source": [
        "# Visualizando algumas linhas\n",
        "df.head()"
      ],
      "execution_count": null,
      "outputs": []
    },
    {
      "cell_type": "code",
      "metadata": {
        "id": "McQntZd-2FMJ",
        "colab": {
          "base_uri": "https://localhost:8080/"
        },
        "outputId": "5f4b28ae-8451-434e-bc51-31fc746275e2"
      },
      "source": [
        "# Verificando valores missing\n",
        "# (verificar linhas duplicadas)\n",
        "df.isna().sum()"
      ],
      "execution_count": 5,
      "outputs": [
        {
          "output_type": "execute_result",
          "data": {
            "text/plain": [
              "Timestamp          0\n",
              "pais               0\n",
              "cidade             0\n",
              "bairro             0\n",
              "cep                0\n",
              "ip                 0\n",
              "dia                0\n",
              "hora               0\n",
              "minuto             0\n",
              "so                 0\n",
              "valor              0\n",
              "antecedentes       0\n",
              "reclamacoes        0\n",
              "qtd_trans          0\n",
              "crt                0\n",
              "limite_global      0\n",
              "tipo_crt           0\n",
              "estabelecimento    0\n",
              "contas             0\n",
              "emprestimos        0\n",
              "navegador          0\n",
              "android            0\n",
              "ios                0\n",
              "compras            0\n",
              "hist_navegacao     0\n",
              "relacionamento     0\n",
              "ind_seguranca      0\n",
              "tempo_transacao    0\n",
              "lim_crt            0\n",
              "hist_saldo         0\n",
              "Target             0\n",
              "dtype: int64"
            ]
          },
          "metadata": {
            "tags": []
          },
          "execution_count": 5
        }
      ]
    },
    {
      "cell_type": "code",
      "metadata": {
        "id": "g-B1gXJf99JJ"
      },
      "source": [
        "# Eliminando os valores missing\n",
        "df.dropna(inplace=True) "
      ],
      "execution_count": 7,
      "outputs": []
    },
    {
      "cell_type": "code",
      "metadata": {
        "id": "2xrwYkpf2Gmo",
        "colab": {
          "base_uri": "https://localhost:8080/",
          "height": 296
        },
        "outputId": "e5a250ce-2e85-42fc-d99b-6df31ba4d7af"
      },
      "source": [
        "# Dando uma olhada na variável Target\n",
        "df['Target'].value_counts()\n",
        "sns.countplot(df['Target'])"
      ],
      "execution_count": 8,
      "outputs": [
        {
          "output_type": "execute_result",
          "data": {
            "text/plain": [
              "<matplotlib.axes._subplots.AxesSubplot at 0x7f76f0593208>"
            ]
          },
          "metadata": {
            "tags": []
          },
          "execution_count": 8
        },
        {
          "output_type": "display_data",
          "data": {
            "image/png": "[encoded data removed]",
            "text/plain": [
              "<Figure size 432x288 with 1 Axes>"
            ]
          },
          "metadata": {
            "tags": [],
            "needs_background": "light"
          }
        }
      ]
    },
    {
      "cell_type": "code",
      "metadata": {
        "id": "z7nTLCdl2KFq"
      },
      "source": [
        "# Explorando as correlações com o Target\n",
        "df.corr()['Target'].sort_values(ascending=False)"
      ],
      "execution_count": null,
      "outputs": []
    },
    {
      "cell_type": "code",
      "metadata": {
        "id": "HvhD_L-IxGrn"
      },
      "source": [
        "df.corr(method='spearman')"
      ],
      "execution_count": null,
      "outputs": []
    },
    {
      "cell_type": "code",
      "metadata": {
        "id": "4cqhuB-22Lt_"
      },
      "source": [
        "# Estatísticas descritivas das variáveis\n",
        "df.describe()"
      ],
      "execution_count": null,
      "outputs": []
    },
    {
      "cell_type": "markdown",
      "metadata": {
        "id": "EI9fQ_W42PdM"
      },
      "source": [
        "# 3° Pré-Processamento dos dados"
      ]
    },
    {
      "cell_type": "markdown",
      "metadata": {
        "id": "QFrecKYh2UQO"
      },
      "source": [
        "* Há desbalanceamento da classe (target)?\n",
        "\n",
        "* Também pode ser complicado lidar com outliers se não entendermos o domínio e o contexto do problema o suficiente.\n",
        "\n"
      ]
    },
    {
      "cell_type": "code",
      "metadata": {
        "id": "O2NlB6Oy2hWx"
      },
      "source": [
        "# Separando os dados para treinamento e teste da máquina preditiva\n",
        "X = df.drop(['Target'], axis=1)\n",
        "y = df['Target']\n"
      ],
      "execution_count": 15,
      "outputs": []
    },
    {
      "cell_type": "code",
      "metadata": {
        "id": "_wM6ZHYxj3fK"
      },
      "source": [
        "#Balanceamento da Classe (Target)\r\n",
        "smt = SMOTE()"
      ],
      "execution_count": 16,
      "outputs": []
    },
    {
      "cell_type": "code",
      "metadata": {
        "id": "CVrsvdXdkBlA"
      },
      "source": [
        "X, y = smt.fit_sample(X, y)"
      ],
      "execution_count": 17,
      "outputs": []
    },
    {
      "cell_type": "code",
      "metadata": {
        "colab": {
          "base_uri": "https://localhost:8080/"
        },
        "id": "91QWsQ_smzjE",
        "outputId": "0d1d18a1-4710-4ed4-e1e6-8d7b25ba4157"
      },
      "source": [
        "#Contagem do target depois do smote. Obs: Antes da contagem, para usar a função bincount, precisei converter de float para inteiro\r\n",
        "yi = y.astype(int)\r\n",
        "np.bincount(yi)"
      ],
      "execution_count": 18,
      "outputs": [
        {
          "output_type": "execute_result",
          "data": {
            "text/plain": [
              "array([284315, 284315])"
            ]
          },
          "metadata": {
            "tags": []
          },
          "execution_count": 18
        }
      ]
    },
    {
      "cell_type": "code",
      "metadata": {
        "colab": {
          "base_uri": "https://localhost:8080/",
          "height": 265
        },
        "id": "opXGjkWNpt_N",
        "outputId": "ba0c2d3b-01bb-4977-c85d-d2f613632e99"
      },
      "source": [
        "ax = sns.countplot(x=yi)"
      ],
      "execution_count": 20,
      "outputs": [
        {
          "output_type": "display_data",
          "data": {
            "image/png": "[encoded data removed]",
            "text/plain": [
              "<Figure size 432x288 with 1 Axes>"
            ]
          },
          "metadata": {
            "tags": [],
            "needs_background": "light"
          }
        }
      ]
    },
    {
      "cell_type": "code",
      "metadata": {
        "id": "jF6tBXYKkHiZ"
      },
      "source": [
        "X_train, X_val, y_train, y_val = train_test_split(X, y, test_size=0.3, random_state=7,stratify=y) "
      ],
      "execution_count": 22,
      "outputs": []
    },
    {
      "cell_type": "markdown",
      "metadata": {
        "id": "Oi4Egtnx2ljO"
      },
      "source": [
        "# 4° Criando a Máquina Preditiva de Detecção de Fraude"
      ]
    },
    {
      "cell_type": "markdown",
      "metadata": {
        "id": "v7hKD41PA_Zl"
      },
      "source": [
        "#XGBoost"
      ]
    },
    {
      "cell_type": "markdown",
      "metadata": {
        "id": "QzBhxjhK2vhI"
      },
      "source": [
        "* Criamos a Máquina Preditiva e ajustamos o modelo aos dados que preparamos para o treinamento.\n",
        "\n",
        "* Em seguida, procedemos à classificação com os dados que preparamos para avaliação.\n",
        "\n",
        "* Por último, avaliamos o desempenho do modelo com as principais métricas de classificação."
      ]
    },
    {
      "cell_type": "code",
      "metadata": {
        "id": "375BJFQO2rUa"
      },
      "source": [
        "# Construindo o Modelo\n",
        "from xgboost import XGBClassifier\n",
        "model = XGBClassifier()"
      ],
      "execution_count": 23,
      "outputs": []
    },
    {
      "cell_type": "code",
      "metadata": {
        "id": "Gw-3QOGE9JBm"
      },
      "source": [
        "# Treinando o Modelo\n",
        "# Demora alguns minutinhos\n",
        "model = model.fit(X_train, y_train)\n",
        "model"
      ],
      "execution_count": null,
      "outputs": []
    },
    {
      "cell_type": "code",
      "metadata": {
        "id": "aem4JL6c20CR"
      },
      "source": [
        "# Passando novos dados (dados de teste) Para o modelo\n",
        "y_predict = model.predict(X_val)\n"
      ],
      "execution_count": 25,
      "outputs": []
    },
    {
      "cell_type": "markdown",
      "metadata": {
        "id": "ctXa9Y57_m-8"
      },
      "source": [
        "## 5° Avaliando a Máquina Preditiva"
      ]
    },
    {
      "cell_type": "code",
      "metadata": {
        "id": "bas3qqmx2104"
      },
      "source": [
        "# Comparando gabarito e Previsoes_da_Máquina\n",
        "gabarito = pd.DataFrame({'Gabarito': y_val,'Previsoes_da_Máquina': y_predict})\n",
        "gabarito"
      ],
      "execution_count": null,
      "outputs": []
    },
    {
      "cell_type": "code",
      "metadata": {
        "id": "QVgw7hL426kO"
      },
      "source": [
        "# Evaluate model\n",
        "print('Classification metrics: \\n', classification_report(y_val, y_predict))\n",
        "print('Acurácia: \\n', accuracy_score(y_val, y_predict))\n",
        "#0.98684  F1 99%\n",
        "print('Confusion Matrix: \\n', confusion_matrix(y_val, y_predict))"
      ],
      "execution_count": null,
      "outputs": []
    },
    {
      "cell_type": "markdown",
      "metadata": {
        "id": "OIuDnDQ2BDpZ"
      },
      "source": [
        "#LightGBM"
      ]
    },
    {
      "cell_type": "code",
      "metadata": {
        "id": "gPiTxHzXBPs_"
      },
      "source": [
        "# Light GBM\r\n",
        "train_data=lgb.Dataset(X_train,label=y_train)\r\n",
        "#setting parameters for lightgbm\r\n",
        "param = {'num_leaves':1000,         #número de folhas em uma árvore; padrão = 31; type = int\r\n",
        "         'objective':'binary',     \r\n",
        "         'max_depth':7,\r\n",
        "         'learning_rate':.01,\r\n",
        "         'max_bin':200}\r\n",
        "\r\n",
        "param['metric'] = ['auc', 'binary_logloss']\r\n",
        "\r\n",
        "#training our model using light gbm\r\n",
        "num_round=50\r\n",
        "\r\n",
        "lgbm=lgb.train(param,train_data,num_round)\r\n",
        "\r\n"
      ],
      "execution_count": 29,
      "outputs": []
    },
    {
      "cell_type": "code",
      "metadata": {
        "id": "EfXS-behBPtI"
      },
      "source": [
        "# Passando novos dados (dados de teste) Para o modelo\n",
        "y_predict = lgbm.predict(X_val)"
      ],
      "execution_count": 30,
      "outputs": []
    },
    {
      "cell_type": "markdown",
      "metadata": {
        "id": "A8vB0niI2DJN"
      },
      "source": [
        "## 5° Avaliando a Máquina Preditiva"
      ]
    },
    {
      "cell_type": "code",
      "metadata": {
        "id": "UPQw8qmrBPtK",
        "colab": {
          "base_uri": "https://localhost:8080/",
          "height": 417
        },
        "outputId": "35a3a77b-e337-487a-ef49-7c0112eded13"
      },
      "source": [
        "# Comparando gabarito e Previsoes_da_Máquina\n",
        "gabarito = pd.DataFrame({'Gabarito': y_val,'Previsoes_da_Máquina': y_predict})\n",
        "gabarito"
      ],
      "execution_count": 31,
      "outputs": [
        {
          "output_type": "execute_result",
          "data": {
            "text/html": [
              "<div>\n",
              "<style scoped>\n",
              "    .dataframe tbody tr th:only-of-type {\n",
              "        vertical-align: middle;\n",
              "    }\n",
              "\n",
              "    .dataframe tbody tr th {\n",
              "        vertical-align: top;\n",
              "    }\n",
              "\n",
              "    .dataframe thead th {\n",
              "        text-align: right;\n",
              "    }\n",
              "</style>\n",
              "<table border=\"1\" class=\"dataframe\">\n",
              "  <thead>\n",
              "    <tr style=\"text-align: right;\">\n",
              "      <th></th>\n",
              "      <th>Gabarito</th>\n",
              "      <th>Previsoes_da_Máquina</th>\n",
              "    </tr>\n",
              "  </thead>\n",
              "  <tbody>\n",
              "    <tr>\n",
              "      <th>0</th>\n",
              "      <td>0</td>\n",
              "      <td>0.304927</td>\n",
              "    </tr>\n",
              "    <tr>\n",
              "      <th>1</th>\n",
              "      <td>1</td>\n",
              "      <td>0.696817</td>\n",
              "    </tr>\n",
              "    <tr>\n",
              "      <th>2</th>\n",
              "      <td>0</td>\n",
              "      <td>0.344381</td>\n",
              "    </tr>\n",
              "    <tr>\n",
              "      <th>3</th>\n",
              "      <td>0</td>\n",
              "      <td>0.304927</td>\n",
              "    </tr>\n",
              "    <tr>\n",
              "      <th>4</th>\n",
              "      <td>1</td>\n",
              "      <td>0.696817</td>\n",
              "    </tr>\n",
              "    <tr>\n",
              "      <th>...</th>\n",
              "      <td>...</td>\n",
              "      <td>...</td>\n",
              "    </tr>\n",
              "    <tr>\n",
              "      <th>170584</th>\n",
              "      <td>0</td>\n",
              "      <td>0.313116</td>\n",
              "    </tr>\n",
              "    <tr>\n",
              "      <th>170585</th>\n",
              "      <td>0</td>\n",
              "      <td>0.304927</td>\n",
              "    </tr>\n",
              "    <tr>\n",
              "      <th>170586</th>\n",
              "      <td>1</td>\n",
              "      <td>0.696817</td>\n",
              "    </tr>\n",
              "    <tr>\n",
              "      <th>170587</th>\n",
              "      <td>0</td>\n",
              "      <td>0.304927</td>\n",
              "    </tr>\n",
              "    <tr>\n",
              "      <th>170588</th>\n",
              "      <td>0</td>\n",
              "      <td>0.315973</td>\n",
              "    </tr>\n",
              "  </tbody>\n",
              "</table>\n",
              "<p>170589 rows × 2 columns</p>\n",
              "</div>"
            ],
            "text/plain": [
              "        Gabarito  Previsoes_da_Máquina\n",
              "0              0              0.304927\n",
              "1              1              0.696817\n",
              "2              0              0.344381\n",
              "3              0              0.304927\n",
              "4              1              0.696817\n",
              "...          ...                   ...\n",
              "170584         0              0.313116\n",
              "170585         0              0.304927\n",
              "170586         1              0.696817\n",
              "170587         0              0.304927\n",
              "170588         0              0.315973\n",
              "\n",
              "[170589 rows x 2 columns]"
            ]
          },
          "metadata": {
            "tags": []
          },
          "execution_count": 31
        }
      ]
    },
    {
      "cell_type": "code",
      "metadata": {
        "colab": {
          "base_uri": "https://localhost:8080/"
        },
        "id": "Hewjp0VDBPtL",
        "outputId": "22066f71-ed7b-4ad6-8c18-079b835c49ba"
      },
      "source": [
        "y_predict.size"
      ],
      "execution_count": 32,
      "outputs": [
        {
          "output_type": "execute_result",
          "data": {
            "text/plain": [
              "170589"
            ]
          },
          "metadata": {
            "tags": []
          },
          "execution_count": 32
        }
      ]
    },
    {
      "cell_type": "code",
      "metadata": {
        "id": "9YwIJp4NBPtM"
      },
      "source": [
        "#converting probabilities into 0 or 1\r\n",
        "for i in range(0,170589):\r\n",
        "    if y_predict[i]>=.5:       # setting threshold to .5\r\n",
        "       y_predict[i]=1\r\n",
        "    else:  \r\n",
        "       y_predict[i]=0"
      ],
      "execution_count": 33,
      "outputs": []
    },
    {
      "cell_type": "code",
      "metadata": {
        "id": "hAMJ2RBRBPtN"
      },
      "source": [
        "# Evaluate model\n",
        "print('Classification metrics: \\n', classification_report(y_val, y_predict))\n",
        "print('Acurácia: \\n', accuracy_score(y_val, y_predict))\n",
        "#0.9843  F1 98%\n",
        "print('Confusion Matrix: \\n', confusion_matrix(y_val, y_predict))"
      ],
      "execution_count": null,
      "outputs": []
    },
    {
      "cell_type": "markdown",
      "metadata": {
        "id": "9nBoKImjR1o4"
      },
      "source": [
        "# Random Forest"
      ]
    },
    {
      "cell_type": "code",
      "metadata": {
        "id": "ipO2HbUqSD25"
      },
      "source": [
        "# Construindo o Modelo\n",
        "model = RandomForestClassifier()\n"
      ],
      "execution_count": 35,
      "outputs": []
    },
    {
      "cell_type": "code",
      "metadata": {
        "id": "BCEM2jLOSD3U",
        "colab": {
          "base_uri": "https://localhost:8080/"
        },
        "outputId": "a069974f-6f3e-4d40-a883-4fab3c9c5491"
      },
      "source": [
        "# Treinando o Modelo\n",
        "# Demora alguns minutinhos\n",
        "model = model.fit(X_train, y_train)\n",
        "model"
      ],
      "execution_count": 36,
      "outputs": [
        {
          "output_type": "execute_result",
          "data": {
            "text/plain": [
              "RandomForestClassifier(bootstrap=True, ccp_alpha=0.0, class_weight=None,\n",
              "                       criterion='gini', max_depth=None, max_features='auto',\n",
              "                       max_leaf_nodes=None, max_samples=None,\n",
              "                       min_impurity_decrease=0.0, min_impurity_split=None,\n",
              "                       min_samples_leaf=1, min_samples_split=2,\n",
              "                       min_weight_fraction_leaf=0.0, n_estimators=100,\n",
              "                       n_jobs=None, oob_score=False, random_state=None,\n",
              "                       verbose=0, warm_start=False)"
            ]
          },
          "metadata": {
            "tags": []
          },
          "execution_count": 36
        }
      ]
    },
    {
      "cell_type": "code",
      "metadata": {
        "id": "jcgMgpelSD3X"
      },
      "source": [
        "# Passando novos dados (dados de teste) Para o modelo\n",
        "y_predict = model.predict(X_val)\n"
      ],
      "execution_count": 37,
      "outputs": []
    },
    {
      "cell_type": "markdown",
      "metadata": {
        "id": "TxGPPq_f2Ej6"
      },
      "source": [
        "## 5° Avaliando a Máquina Preditiva"
      ]
    },
    {
      "cell_type": "code",
      "metadata": {
        "id": "zX2jCECkSD3Y"
      },
      "source": [
        "# Comparando gabarito e Previsoes_da_Máquina\n",
        "gabarito = pd.DataFrame({'Gabarito': y_val,'Previsoes_da_Máquina': y_predict})\n",
        "gabarito"
      ],
      "execution_count": null,
      "outputs": []
    },
    {
      "cell_type": "code",
      "metadata": {
        "id": "XiMfuiFKSD3Y"
      },
      "source": [
        "# Evaluate model\n",
        "print('Classification metrics: \\n', classification_report(y_val, y_predict))\n",
        "print('Acurácia: \\n', accuracy_score(y_val, y_predict))\n",
        "print('Confusion Matrix: \\n', confusion_matrix(y_val, y_predict))"
      ],
      "execution_count": null,
      "outputs": []
    },
    {
      "cell_type": "markdown",
      "metadata": {
        "id": "F0-36CH1_8Ya"
      },
      "source": [
        "### **Resumão**\n",
        "\n",
        "* Geração de Hipóteses é muito importante para o sucesso do Projeto de Ciência de Dados\n",
        "* O tratamento de classes desbalanceadas é fundamental para a assertividade da Máquina Preditiva\n",
        "* Às vezes, Menos é Mais. O Random forest bateu XGB e LGBM.\n"
      ]
    },
    {
      "cell_type": "markdown",
      "metadata": {
        "id": "SLF6vuqmxTUL"
      },
      "source": [
        "#Fim"
      ]
    },
    {
      "cell_type": "markdown",
      "metadata": {
        "id": "_fHqFSvWe94c"
      },
      "source": [
        "## Valeu!"
      ]
    },
    {
      "cell_type": "markdown",
      "metadata": {
        "id": "_2DT4SBZRDP-"
      },
      "source": [
        "### #Links - Ciência dos Dados <a href=\"https://linktr.ee/cienciadosdados\">https://linktr.ee/cienciadosdados</a>"
      ]
    },
    {
      "cell_type": "markdown",
      "metadata": {
        "id": "ThxYRK6DfJ3f"
      },
      "source": [
        "### #YouTube - Mais Aulas como essa no YouTube <a href=\"https://www.youtube.com/watch?v=IaIc5oHd3II&t=1569s\">https://www.youtube.com/watch?v=IaIc5oHd3II&t=1569s</a>"
      ]
    },
    {
      "cell_type": "code",
      "metadata": {
        "colab": {
          "base_uri": "https://localhost:8080/",
          "height": 241
        },
        "id": "_pg8zEm-Nv6Y",
        "outputId": "49aa97e3-b713-4d18-f116-6dada9538a90"
      },
      "source": [
        "from IPython.core.display import HTML\n",
        "HTML('<iframe width=\"380\" height=\"200\" src=\"https://www.youtube.com/embed/W9iktBS67Iw\" frameborder=\"0\" allow=\"accelerometer; autoplay; clipboard-write; encrypted-media; gyroscope; picture-in-picture\" allowfullscreen></iframe>')"
      ],
      "execution_count": null,
      "outputs": [
        {
          "output_type": "execute_result",
          "data": {
            "text/html": [
              "<iframe width=\"380\" height=\"200\" src=\"https://www.youtube.com/embed/W9iktBS67Iw\" frameborder=\"0\" allow=\"accelerometer; autoplay; clipboard-write; encrypted-media; gyroscope; picture-in-picture\" allowfullscreen></iframe>"
            ],
            "text/plain": [
              "<IPython.core.display.HTML object>"
            ]
          },
          "metadata": {
            "tags": []
          },
          "execution_count": 1
        }
      ]
    }
  ]
}