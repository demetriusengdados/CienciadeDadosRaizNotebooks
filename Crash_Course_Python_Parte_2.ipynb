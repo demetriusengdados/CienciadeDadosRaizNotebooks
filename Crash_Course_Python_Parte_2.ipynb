{
  "nbformat": 4,
  "nbformat_minor": 0,
  "metadata": {
    "colab": {
      "name": "Crash Course Python - Parte 2",
      "provenance": [],
      "collapsed_sections": [
        "86DcZLWeTxVQ",
        "_EUlEtiKSg1D",
        "cfRYXVADS5Mj",
        "Y4cb6IWtS_ju",
        "QZ8uOl1OTNa5",
        "u0Fc4y3-T5h6",
        "C_5tjVAVT0vQ",
        "0wXjY_T3WObu",
        "uFjCGIxfWji-"
      ]
    },
    "kernelspec": {
      "name": "python3",
      "display_name": "Python 3"
    }
  },
  "cells": [
    {
      "cell_type": "markdown",
      "metadata": {
        "id": "mZVCagpZvZfE"
      },
      "source": [
        "![alt text](https://encrypted-tbn0.gstatic.com/images?q=tbn%3AANd9GcTK4gQ9nhwHHaSXMHpeggWg7twwMCgb877smkRmtkmDeDoGF9Z6&usqp=CAU)"
      ]
    },
    {
      "cell_type": "markdown",
      "metadata": {
        "id": "nbPb0q01k11H"
      },
      "source": [
        "##<font color='GreeN'>Dicas e Truques de Ciência de Dados </font>\n",
        "\n",
        "### <font color='BLUE'>Baby Steps em Ciência de Dados </font>\n",
        " \n"
      ]
    },
    {
      "cell_type": "markdown",
      "metadata": {
        "id": "86DcZLWeTxVQ"
      },
      "source": [
        "#**Python Crash Course**\r\n",
        "![alt text](https://www.python.org/static/img/python-logo@2x.png)\r\n",
        "\r\n"
      ]
    },
    {
      "cell_type": "markdown",
      "metadata": {
        "id": "_EUlEtiKSg1D"
      },
      "source": [
        "##Strings"
      ]
    },
    {
      "cell_type": "code",
      "metadata": {
        "id": "ETyuxxPRNRJg"
      },
      "source": [
        "data = 'Cientista de Dados'\r\n"
      ],
      "execution_count": null,
      "outputs": []
    },
    {
      "cell_type": "code",
      "metadata": {
        "colab": {
          "base_uri": "https://localhost:8080/"
        },
        "id": "vlaQhE3UNeno",
        "outputId": "10aca0e5-a024-4f7b-fdd1-b4b017101090"
      },
      "source": [
        "print(data)"
      ],
      "execution_count": null,
      "outputs": [
        {
          "output_type": "stream",
          "text": [
            "Cientista de Dados\n"
          ],
          "name": "stdout"
        }
      ]
    },
    {
      "cell_type": "code",
      "metadata": {
        "id": "IZ3FtGmiNi-3",
        "colab": {
          "base_uri": "https://localhost:8080/"
        },
        "outputId": "2f2f8493-6c36-4312-d436-e2a4953a9cce"
      },
      "source": [
        "print(len(data))"
      ],
      "execution_count": null,
      "outputs": [
        {
          "output_type": "stream",
          "text": [
            "18\n"
          ],
          "name": "stdout"
        }
      ]
    },
    {
      "cell_type": "code",
      "metadata": {
        "colab": {
          "base_uri": "https://localhost:8080/",
          "height": 35
        },
        "id": "6uzb4bz0NntI",
        "outputId": "40311e96-b69c-429a-b0e8-ae5221c49528"
      },
      "source": [
        "data[10:]"
      ],
      "execution_count": null,
      "outputs": [
        {
          "output_type": "execute_result",
          "data": {
            "application/vnd.google.colaboratory.intrinsic+json": {
              "type": "string"
            },
            "text/plain": [
              "'de Dados'"
            ]
          },
          "metadata": {
            "tags": []
          },
          "execution_count": 17
        }
      ]
    },
    {
      "cell_type": "markdown",
      "metadata": {
        "id": "cfRYXVADS5Mj"
      },
      "source": [
        "##Números"
      ]
    },
    {
      "cell_type": "code",
      "metadata": {
        "id": "0iuw0VMKSmsu"
      },
      "source": [
        "# Numbers\r\n",
        "value = 123\r\n",
        "value\r\n",
        "type(value)"
      ],
      "execution_count": null,
      "outputs": []
    },
    {
      "cell_type": "code",
      "metadata": {
        "id": "_z4HQy4jmCFO"
      },
      "source": [
        "print(value)"
      ],
      "execution_count": null,
      "outputs": []
    },
    {
      "cell_type": "markdown",
      "metadata": {
        "id": "Y4cb6IWtS_ju"
      },
      "source": [
        "##Boleanos"
      ]
    },
    {
      "cell_type": "code",
      "metadata": {
        "id": "oouFpGLUTBBf"
      },
      "source": [
        "# Boolean\r\n",
        "a = True\r\n",
        "b = False\r\n"
      ],
      "execution_count": null,
      "outputs": []
    },
    {
      "cell_type": "code",
      "metadata": {
        "id": "lrRabgExm6n0"
      },
      "source": [
        "print(a,b)"
      ],
      "execution_count": null,
      "outputs": []
    },
    {
      "cell_type": "code",
      "metadata": {
        "id": "paS9582XTGIb",
        "colab": {
          "base_uri": "https://localhost:8080/"
        },
        "outputId": "748b6cdd-5ac4-4b33-8646-c459961d1889"
      },
      "source": [
        "# Multiple Assignment\r\n",
        "a, b, c = 1, 2, 3\r\n",
        "print(a, b,c)\r\n",
        "\r\n"
      ],
      "execution_count": null,
      "outputs": [
        {
          "output_type": "stream",
          "text": [
            "1 2 3\n"
          ],
          "name": "stdout"
        }
      ]
    },
    {
      "cell_type": "code",
      "metadata": {
        "id": "8aERpvzBTGzX",
        "colab": {
          "base_uri": "https://localhost:8080/"
        },
        "outputId": "b44c38c5-06bf-4b67-b3f9-d3acef62a542"
      },
      "source": [
        "# No value\r\n",
        "a = None\r\n",
        "print(a)"
      ],
      "execution_count": null,
      "outputs": [
        {
          "output_type": "stream",
          "text": [
            "None\n"
          ],
          "name": "stdout"
        }
      ]
    },
    {
      "cell_type": "markdown",
      "metadata": {
        "id": "QZ8uOl1OTNa5"
      },
      "source": [
        "##Flow Control\r\n",
        "If-Then-Else Condition Example"
      ]
    },
    {
      "cell_type": "code",
      "metadata": {
        "id": "0aKzkY9YTG2D"
      },
      "source": [
        "idade = 21"
      ],
      "execution_count": null,
      "outputs": []
    },
    {
      "cell_type": "code",
      "metadata": {
        "id": "4FfYt948nnlv"
      },
      "source": [
        "if idade >= 18:\r\n",
        "    print('maior de idade')\r\n",
        "else:\r\n",
        "    print('menor de idade')"
      ],
      "execution_count": null,
      "outputs": []
    },
    {
      "cell_type": "code",
      "metadata": {
        "id": "PvDps-ddPYPC",
        "colab": {
          "base_uri": "https://localhost:8080/"
        },
        "outputId": "5a334ec5-ee73-4a1b-92e3-b58b0c1bedda"
      },
      "source": [
        "idade = 39\r\n",
        "\r\n",
        "if idade < 12:\r\n",
        "    print('crianca')\r\n",
        "elif idade < 18:\r\n",
        "    print('adolescente')\r\n",
        "\r\n",
        "elif idade < 39:\r\n",
        "    print('maduro')\r\n",
        "\r\n",
        "elif idade < 60:\r\n",
        "    print('adulto')\r\n",
        "else:\r\n",
        "    print('idoso')"
      ],
      "execution_count": null,
      "outputs": [
        {
          "output_type": "stream",
          "text": [
            "adulto\n"
          ],
          "name": "stdout"
        }
      ]
    },
    {
      "cell_type": "markdown",
      "metadata": {
        "id": "sMUG7eGoTVRI"
      },
      "source": [
        "For-Loop Example"
      ]
    },
    {
      "cell_type": "code",
      "metadata": {
        "id": "-tNK1BVtTG4q"
      },
      "source": [
        "# For-Loop\r\n",
        "for i in range(10):\r\n",
        "\tprint(i)"
      ],
      "execution_count": null,
      "outputs": []
    },
    {
      "cell_type": "markdown",
      "metadata": {
        "id": "gvb_9SONTbb5"
      },
      "source": [
        "While-Loop Example"
      ]
    },
    {
      "cell_type": "code",
      "metadata": {
        "id": "9AKigGkwTG6_"
      },
      "source": [
        "# While-Loop\r\n",
        "e = 5\r\n",
        "while e <= 100:\r\n",
        "\tprint(e)\r\n",
        "\te += 10"
      ],
      "execution_count": null,
      "outputs": []
    },
    {
      "cell_type": "markdown",
      "metadata": {
        "id": "u0Fc4y3-T5h6"
      },
      "source": [
        "##Estrutura de Dados"
      ]
    },
    {
      "cell_type": "markdown",
      "metadata": {
        "id": "ENUnPu7tT8BS"
      },
      "source": [
        "Tupla"
      ]
    },
    {
      "cell_type": "code",
      "metadata": {
        "id": "R0Lw89y7T-pw",
        "colab": {
          "base_uri": "https://localhost:8080/"
        },
        "outputId": "7159f582-be11-4195-d366-594d8f8208ee"
      },
      "source": [
        "tupla =  (1, 2, 3)\r\n",
        "print(tupla)"
      ],
      "execution_count": null,
      "outputs": [
        {
          "output_type": "stream",
          "text": [
            "(1, 2, 3)\n"
          ],
          "name": "stdout"
        }
      ]
    },
    {
      "cell_type": "code",
      "metadata": {
        "colab": {
          "base_uri": "https://localhost:8080/"
        },
        "id": "CegSk68VqugX",
        "outputId": "d5437856-57fc-4b9a-d292-047597a24a7f"
      },
      "source": [
        "type(tupla)"
      ],
      "execution_count": null,
      "outputs": [
        {
          "output_type": "execute_result",
          "data": {
            "text/plain": [
              "tuple"
            ]
          },
          "metadata": {
            "tags": []
          },
          "execution_count": 53
        }
      ]
    },
    {
      "cell_type": "markdown",
      "metadata": {
        "id": "XDY6C-JpUFg3"
      },
      "source": [
        "Lista\r\n"
      ]
    },
    {
      "cell_type": "code",
      "metadata": {
        "id": "i3AWCF1TUBxw",
        "colab": {
          "base_uri": "https://localhost:8080/"
        },
        "outputId": "ed5d2fe2-102f-4f9d-ac53-ac273f2c4f64"
      },
      "source": [
        "\r\n",
        "mylist = [1, 2, 3]\r\n",
        "\r\n",
        "print(\"O índice ZERO é o número: %d\" % mylist[0])"
      ],
      "execution_count": null,
      "outputs": [
        {
          "output_type": "stream",
          "text": [
            "O índice ZERO é o número: 1\n"
          ],
          "name": "stdout"
        }
      ]
    },
    {
      "cell_type": "code",
      "metadata": {
        "colab": {
          "base_uri": "https://localhost:8080/"
        },
        "id": "82tE4j2zq0X2",
        "outputId": "58ba33ab-bb11-47cb-a636-890f02e41ab0"
      },
      "source": [
        "type(mylist)"
      ],
      "execution_count": null,
      "outputs": [
        {
          "output_type": "execute_result",
          "data": {
            "text/plain": [
              "list"
            ]
          },
          "metadata": {
            "tags": []
          },
          "execution_count": 55
        }
      ]
    },
    {
      "cell_type": "code",
      "metadata": {
        "colab": {
          "base_uri": "https://localhost:8080/"
        },
        "id": "NMe-NNc0RCgB",
        "outputId": "8afb2c8e-de16-4922-8b2e-1d4141d02625"
      },
      "source": [
        "mylist[0]"
      ],
      "execution_count": null,
      "outputs": [
        {
          "output_type": "execute_result",
          "data": {
            "text/plain": [
              "1"
            ]
          },
          "metadata": {
            "tags": []
          },
          "execution_count": 53
        }
      ]
    },
    {
      "cell_type": "code",
      "metadata": {
        "id": "9mcjqITUQu19"
      },
      "source": [
        "mylist.append(4)\r\n",
        "print(\"List Length: %d\" % len(mylist))\r\n",
        "for value in mylist:\r\n",
        "\tprint(value)\r\n"
      ],
      "execution_count": null,
      "outputs": []
    },
    {
      "cell_type": "markdown",
      "metadata": {
        "id": "yO0w8XJuUTJS"
      },
      "source": [
        "Dicionário"
      ]
    },
    {
      "cell_type": "code",
      "metadata": {
        "id": "2aKqakEZUUxh",
        "colab": {
          "base_uri": "https://localhost:8080/"
        },
        "outputId": "12cb1bc1-88f2-461a-f158-7f48da207086"
      },
      "source": [
        "mydict = {'a': 1, 'b': 2, 'c': 3}\r\n",
        "print(\"O valor da chave 'a' é igual: %d\" % mydict['a'])\r\n"
      ],
      "execution_count": null,
      "outputs": [
        {
          "output_type": "stream",
          "text": [
            "O valor da chave 'a' é igual: 1\n"
          ],
          "name": "stdout"
        }
      ]
    },
    {
      "cell_type": "code",
      "metadata": {
        "id": "XeZa1widRh1O"
      },
      "source": [
        "mydict['a'] = 11"
      ],
      "execution_count": null,
      "outputs": []
    },
    {
      "cell_type": "code",
      "metadata": {
        "colab": {
          "base_uri": "https://localhost:8080/"
        },
        "id": "1A9ihbESRTX-",
        "outputId": "06f3e2ef-5ab3-4d14-fc16-dd5585653ae0"
      },
      "source": [
        "mydict['a'] = 11\r\n",
        "print(\"A value: %d\" % mydict['a'])\r\n",
        "print(\"Keys: %s\" % mydict.keys())\r\n",
        "print(\"Values: %s\" % mydict.values())\r\n"
      ],
      "execution_count": null,
      "outputs": [
        {
          "output_type": "stream",
          "text": [
            "A value: 11\n",
            "Keys: dict_keys(['a', 'b', 'c'])\n",
            "Values: dict_values([11, 2, 3])\n"
          ],
          "name": "stdout"
        }
      ]
    },
    {
      "cell_type": "code",
      "metadata": {
        "colab": {
          "base_uri": "https://localhost:8080/"
        },
        "id": "C0u_mZ7_RV9v",
        "outputId": "1fac3802-420a-4273-872d-40d71b0dcc39"
      },
      "source": [
        "for key in mydict.keys():\r\n",
        "\tprint(mydict[key])"
      ],
      "execution_count": null,
      "outputs": [
        {
          "output_type": "stream",
          "text": [
            "11\n",
            "2\n",
            "3\n"
          ],
          "name": "stdout"
        }
      ]
    },
    {
      "cell_type": "markdown",
      "metadata": {
        "id": "HzQkB-HiTn78"
      },
      "source": [
        "##Functions"
      ]
    },
    {
      "cell_type": "code",
      "metadata": {
        "id": "dxhgNTXOTG9U"
      },
      "source": [
        "# Sum function\r\n",
        "def mysum(x, y):\r\n",
        "\treturn x + y\r\n",
        " \r\n"
      ],
      "execution_count": null,
      "outputs": []
    },
    {
      "cell_type": "code",
      "metadata": {
        "id": "_KHwuhf5sCql"
      },
      "source": [
        "def myfun (x,y):\r\n",
        "  return x+y "
      ],
      "execution_count": null,
      "outputs": []
    },
    {
      "cell_type": "code",
      "metadata": {
        "colab": {
          "base_uri": "https://localhost:8080/"
        },
        "id": "yAXm7B_tsOQw",
        "outputId": "c74459e8-1db9-4177-9710-03f385675056"
      },
      "source": [
        "print(myfun)"
      ],
      "execution_count": null,
      "outputs": [
        {
          "output_type": "stream",
          "text": [
            "<function myfun at 0x7f274b638730>\n"
          ],
          "name": "stdout"
        }
      ]
    },
    {
      "cell_type": "code",
      "metadata": {
        "id": "zRFd-i8hslrO"
      },
      "source": [
        "# Test sum function\r\n",
        "myfun(1,3)"
      ],
      "execution_count": null,
      "outputs": []
    },
    {
      "cell_type": "code",
      "metadata": {
        "id": "D45bGZkxRspb"
      },
      "source": [
        "# Sum function\r\n",
        "def myexp(x, y):\r\n",
        "\treturn x**y\r\n",
        " \r\n",
        "myexp(3,3)"
      ],
      "execution_count": null,
      "outputs": []
    },
    {
      "cell_type": "markdown",
      "metadata": {
        "id": "C_5tjVAVT0vQ"
      },
      "source": [
        "# **NumPy Crash Course**\r\n",
        "![alt text](https://miro.medium.com/max/765/0*p0FtnloWd4ogMvTQ.png)\r\n",
        "\r\n"
      ]
    },
    {
      "cell_type": "markdown",
      "metadata": {
        "id": "587NVyBKUnCO"
      },
      "source": [
        "Create Array (matriz)\r\n",
        "matrizes são tensores com 2 dimensões (**tensores de rank 2**)."
      ]
    },
    {
      "cell_type": "code",
      "metadata": {
        "colab": {
          "base_uri": "https://localhost:8080/"
        },
        "id": "BuB0UkNpTHAI",
        "outputId": "3edc12a0-61e8-4e6f-c06a-d6d3d85ead68"
      },
      "source": [
        "# define an array\r\n",
        "import numpy\r\n",
        "mylist = [1, 2, 3]\r\n",
        "myarray = numpy.array(mylist)\r\n",
        "print(myarray)\r\n",
        "print(myarray.shape)"
      ],
      "execution_count": 64,
      "outputs": [
        {
          "output_type": "stream",
          "text": [
            "[1 2 3]\n",
            "(3,)\n"
          ],
          "name": "stdout"
        }
      ]
    },
    {
      "cell_type": "markdown",
      "metadata": {
        "id": "wTx-mL-FUwNI"
      },
      "source": [
        "Acessando os dados do Array (matriz)"
      ]
    },
    {
      "cell_type": "code",
      "metadata": {
        "id": "BN93bhUWTHC-",
        "colab": {
          "base_uri": "https://localhost:8080/"
        },
        "outputId": "d82a2ac9-5eae-471b-fe7f-a2a0955c3d9d"
      },
      "source": [
        "# access values\r\n",
        "import numpy\r\n",
        "mylist = [[1, 2, 3], [3, 4, 5]]\r\n",
        "myarray = numpy.array(mylist)\r\n",
        "print(myarray)\r\n",
        "print(myarray.shape)\r\n"
      ],
      "execution_count": 65,
      "outputs": [
        {
          "output_type": "stream",
          "text": [
            "[[1 2 3]\n",
            " [3 4 5]]\n",
            "(2, 3)\n"
          ],
          "name": "stdout"
        }
      ]
    },
    {
      "cell_type": "code",
      "metadata": {
        "colab": {
          "base_uri": "https://localhost:8080/"
        },
        "id": "uSTLJDg7be3G",
        "outputId": "5794e5ca-018b-4b3f-f4ee-552c37483279"
      },
      "source": [
        "print(\"Primeira linha: %s\" % myarray[0])\r\n"
      ],
      "execution_count": 66,
      "outputs": [
        {
          "output_type": "stream",
          "text": [
            "Primeira linha: [1 2 3]\n"
          ],
          "name": "stdout"
        }
      ]
    },
    {
      "cell_type": "code",
      "metadata": {
        "id": "BANcADhhbts1"
      },
      "source": [
        "print(\"última linha: %s\" % myarray[-1])\r\n"
      ],
      "execution_count": null,
      "outputs": []
    },
    {
      "cell_type": "code",
      "metadata": {
        "colab": {
          "base_uri": "https://localhost:8080/"
        },
        "id": "_sZKOd5fbzf6",
        "outputId": "80b2cfc1-162d-4034-fcc2-978c1d2f3049"
      },
      "source": [
        "print(\"Qual elemento está na Posição dessa consulta? A Resposta é %s\" % myarray[0, 2])\r\n"
      ],
      "execution_count": 68,
      "outputs": [
        {
          "output_type": "stream",
          "text": [
            "Qual elemento está na Posição dessa consulta? A Resposta é 3\n"
          ],
          "name": "stdout"
        }
      ]
    },
    {
      "cell_type": "code",
      "metadata": {
        "colab": {
          "base_uri": "https://localhost:8080/"
        },
        "id": "ONE6P4rPcDes",
        "outputId": "fe12f743-debc-4324-e872-7f601b9cc9a6"
      },
      "source": [
        "print(\"Quais elementos estão na coluna dessa consulta? A Resposta é %s\" % myarray[:, 2])"
      ],
      "execution_count": 69,
      "outputs": [
        {
          "output_type": "stream",
          "text": [
            "Quais elementos estão na coluna dessa consulta? A Resposta é [3 5]\n"
          ],
          "name": "stdout"
        }
      ]
    },
    {
      "cell_type": "markdown",
      "metadata": {
        "id": "v60PbZ8ZVgFq"
      },
      "source": [
        "Arithmetic"
      ]
    },
    {
      "cell_type": "code",
      "metadata": {
        "colab": {
          "base_uri": "https://localhost:8080/"
        },
        "id": "cKu9b_p-THFK",
        "outputId": "57329593-4092-4ac3-b959-e451608f700c"
      },
      "source": [
        "# arithmetic\r\n",
        "import numpy\r\n",
        "myarray1 = numpy.array([2, 2, 2])\r\n",
        "myarray2 = numpy.array([3, 3, 3])\r\n",
        "print(\"Soma: %s\" % (myarray1 + myarray2))\r\n",
        "print(\"Multiplicação: %s\" % (myarray1 * myarray2))"
      ],
      "execution_count": 21,
      "outputs": [
        {
          "output_type": "stream",
          "text": [
            "Soma: [5 5 5]\n",
            "Multiplicação: [6 6 6]\n"
          ],
          "name": "stdout"
        }
      ]
    },
    {
      "cell_type": "markdown",
      "metadata": {
        "id": "eWA6mCpLp8KX"
      },
      "source": [
        "### O vetor n-dimensional (tensor)\r\n",
        "\r\n",
        "O NumPy é uma biblioteca para a linguagem Python com funções para se trabalhar com **computação numérica**. Seu **principal objeto é o vetor n-dimensional, ou ndarray**. Um vetor n-dimensional também é conhecido pelo nome **tensor**.\r\n",
        "\r\n",
        " A principal característica do ndarray é que ele deve ser homogêneo, ou seja, diferentemente do objeto lista, todos os seus elementos devem ser do mesmo tipo."
      ]
    },
    {
      "cell_type": "code",
      "metadata": {
        "colab": {
          "base_uri": "https://localhost:8080/"
        },
        "id": "xp2LJ-lOozR-",
        "outputId": "240e2b4e-ac5e-4378-d325-982101289d3d"
      },
      "source": [
        "#cria um vetor\r\n",
        "import numpy as np\r\n",
        "v = np.array([1,2,3,4])\r\n",
        "print(v)"
      ],
      "execution_count": 70,
      "outputs": [
        {
          "output_type": "stream",
          "text": [
            "[1 2 3 4]\n"
          ],
          "name": "stdout"
        }
      ]
    },
    {
      "cell_type": "code",
      "metadata": {
        "colab": {
          "base_uri": "https://localhost:8080/"
        },
        "id": "-Ol0d7ZUqUVZ",
        "outputId": "803ebd77-55f2-4e5f-9cbe-b11471f9a8bb"
      },
      "source": [
        "print(v.dtype)"
      ],
      "execution_count": 71,
      "outputs": [
        {
          "output_type": "stream",
          "text": [
            "int64\n"
          ],
          "name": "stdout"
        }
      ]
    },
    {
      "cell_type": "code",
      "metadata": {
        "colab": {
          "base_uri": "https://localhost:8080/"
        },
        "id": "PAB3V75TqW-4",
        "outputId": "2fa640ce-e807-4c0e-eb67-32946651ac5c"
      },
      "source": [
        "v = np.array([1,2,3,4], dtype='float64')\r\n",
        "print(v.dtype)"
      ],
      "execution_count": 72,
      "outputs": [
        {
          "output_type": "stream",
          "text": [
            "float64\n"
          ],
          "name": "stdout"
        }
      ]
    },
    {
      "cell_type": "markdown",
      "metadata": {
        "id": "oXOweFDiqebi"
      },
      "source": [
        "Os tensores NumPy também possuem um atributo chamado shape. Esse atributo indica a forma do tensor, por exemplo:"
      ]
    },
    {
      "cell_type": "code",
      "metadata": {
        "colab": {
          "base_uri": "https://localhost:8080/"
        },
        "id": "uemRyW3jqflI",
        "outputId": "3bad209e-df11-428f-b64a-236e555d32f0"
      },
      "source": [
        "print(v.shape)"
      ],
      "execution_count": 73,
      "outputs": [
        {
          "output_type": "stream",
          "text": [
            "(4,)\n"
          ],
          "name": "stdout"
        }
      ]
    },
    {
      "cell_type": "markdown",
      "metadata": {
        "id": "lEyboyONqkoc"
      },
      "source": [
        "Neste caso, o tensor v possui 1 dimensão (ou eixo) com 4 elementos. Um tensor unidimensional corresponde a um vetor. "
      ]
    },
    {
      "cell_type": "markdown",
      "metadata": {
        "id": "3DcsEDSjquGf"
      },
      "source": [
        "Podemos também criar um tensor bidimensional (uma matriz) usando o atributo shape:"
      ]
    },
    {
      "cell_type": "code",
      "metadata": {
        "colab": {
          "base_uri": "https://localhost:8080/"
        },
        "id": "yNNb3xF7ql3N",
        "outputId": "37679d70-5004-4d3c-ad80-f42b5aa92cb2"
      },
      "source": [
        "# Alterando a dimensão do tensor\r\n",
        "v = np.array([1,2,3,4])\r\n",
        "v.shape = (2,2)\r\n",
        "print(v)"
      ],
      "execution_count": 27,
      "outputs": [
        {
          "output_type": "stream",
          "text": [
            "[[1 2]\n",
            " [3 4]]\n"
          ],
          "name": "stdout"
        }
      ]
    },
    {
      "cell_type": "markdown",
      "metadata": {
        "id": "3afaEEZ4q-Wg"
      },
      "source": [
        "### Reshape\r\n",
        "\r\n",
        "Outra forma útil de mudar o shape de um tensor é simplesmente utilizando a função reshape:"
      ]
    },
    {
      "cell_type": "code",
      "metadata": {
        "colab": {
          "base_uri": "https://localhost:8080/"
        },
        "id": "WqMZ5lcirECD",
        "outputId": "a146e98b-195f-4880-967b-fa5f3b21b1a9"
      },
      "source": [
        "v = np.array([1,2,3,4]).reshape(2,2)\r\n",
        "print(v)\r\n"
      ],
      "execution_count": 76,
      "outputs": [
        {
          "output_type": "stream",
          "text": [
            "[[1 2]\n",
            " [3 4]]\n"
          ],
          "name": "stdout"
        }
      ]
    },
    {
      "cell_type": "markdown",
      "metadata": {
        "id": "rBCvvN3nrJUW"
      },
      "source": [
        "### **ndim** (eixos ou dimensões do tensor) e **size** (total de elementos/registros)\r\n",
        "O número de eixos (ou dimensões) de um tensor é dado pelo atributo ndim, enquanto o número total de elementos é dado por size:"
      ]
    },
    {
      "cell_type": "code",
      "metadata": {
        "colab": {
          "base_uri": "https://localhost:8080/"
        },
        "id": "pDElu8TareWO",
        "outputId": "3feaccbe-d463-4289-9f16-59d8d38f5145"
      },
      "source": [
        "v = np.array(range(9)).reshape(1,3,3)\r\n",
        "v"
      ],
      "execution_count": 87,
      "outputs": [
        {
          "output_type": "execute_result",
          "data": {
            "text/plain": [
              "array([[[0, 1, 2],\n",
              "        [3, 4, 5],\n",
              "        [6, 7, 8]]])"
            ]
          },
          "metadata": {
            "tags": []
          },
          "execution_count": 87
        }
      ]
    },
    {
      "cell_type": "code",
      "metadata": {
        "colab": {
          "base_uri": "https://localhost:8080/"
        },
        "id": "es-1Y3Y-euBQ",
        "outputId": "dbd5d154-e83e-4ad5-e586-d56e446d7cf6"
      },
      "source": [
        "\r\n",
        "print('Shape = ', v.shape)\r\n",
        "print('Número de dimensões = ', v.ndim)\r\n",
        "print('Número de elementos = ', v.size)\r\n",
        "print('\\n\\n Veja abaixo o Tensor v  \\n\\n', v)\r\n"
      ],
      "execution_count": 88,
      "outputs": [
        {
          "output_type": "stream",
          "text": [
            "Shape =  (1, 3, 3)\n",
            "Número de dimensões =  3\n",
            "Número de elementos =  9\n",
            "\n",
            "\n",
            " Veja abaixo o Tensor v  \n",
            "\n",
            " [[[0 1 2]\n",
            "  [3 4 5]\n",
            "  [6 7 8]]]\n"
          ],
          "name": "stdout"
        }
      ]
    },
    {
      "cell_type": "markdown",
      "metadata": {
        "id": "0wXjY_T3WObu"
      },
      "source": [
        "# **Matplotlib Crash Course**\r\n",
        "![alt text](https://encrypted-tbn0.gstatic.com/images?q=tbn:ANd9GcRhMLqZjlbD_mb9HsaF8t1I2s9VI-8ZD60s1g&usqp=CAU)"
      ]
    },
    {
      "cell_type": "markdown",
      "metadata": {
        "id": "oh2DPXpIWTpq"
      },
      "source": [
        "Line Plot"
      ]
    },
    {
      "cell_type": "code",
      "metadata": {
        "colab": {
          "base_uri": "https://localhost:8080/",
          "height": 304
        },
        "id": "6vynDQlOTHHn",
        "outputId": "6c5691dd-3f5c-428f-ae5e-6aad928a553e"
      },
      "source": [
        "# basic line plot\r\n",
        "import matplotlib.pyplot as plt\r\n",
        "import numpy\r\n",
        "\r\n",
        "myarray = numpy.array([1, 2, 3])\r\n",
        "plt.plot(myarray)\r\n",
        "plt.xlabel('Data')\r\n",
        "plt.ylabel('Faturamento')\r\n",
        "plt.show()"
      ],
      "execution_count": 91,
      "outputs": [
        {
          "output_type": "display_data",
          "data": {
            "image/png": "[encoded data removed]",
            "text/plain": [
              "<Figure size 432x288 with 1 Axes>"
            ]
          },
          "metadata": {
            "tags": []
          }
        }
      ]
    },
    {
      "cell_type": "markdown",
      "metadata": {
        "id": "ZDKlEulPWZiX"
      },
      "source": [
        "Scatter Plot"
      ]
    },
    {
      "cell_type": "code",
      "metadata": {
        "colab": {
          "base_uri": "https://localhost:8080/",
          "height": 304
        },
        "id": "wUTtgSb8WWpp",
        "outputId": "3f02753a-9375-49cb-cea9-75e5b1509956"
      },
      "source": [
        "# basic scatter plot\r\n",
        "import matplotlib.pyplot as plt\r\n",
        "import numpy\r\n",
        "vendas = numpy.array([1, 2, 3, 4, 8, 16 ])\r\n",
        "faturamento = numpy.array([2, 4, 6, 8, 10, 12])\r\n",
        "plt.scatter(vendas,faturamento)\r\n",
        "plt.xlabel('vendas')\r\n",
        "plt.ylabel('faturamento')\r\n",
        "plt.show()"
      ],
      "execution_count": 93,
      "outputs": [
        {
          "output_type": "display_data",
          "data": {
            "image/png": "[encoded data removed]",
            "text/plain": [
              "<Figure size 432x288 with 1 Axes>"
            ]
          },
          "metadata": {
            "tags": []
          }
        }
      ]
    },
    {
      "cell_type": "code",
      "metadata": {
        "colab": {
          "base_uri": "https://localhost:8080/",
          "height": 286
        },
        "id": "GKXOfSTZkmDn",
        "outputId": "ffa2a95a-f9ff-4494-8f17-b0e99556a517"
      },
      "source": [
        "fig, ax = plt.subplots()\r\n",
        "\r\n",
        "size = 0.3\r\n",
        "vals = np.array([[60., 32.], [37., 40.], [29., 10.]])\r\n",
        "\r\n",
        "cmap = plt.get_cmap(\"tab20c\")\r\n",
        "outer_colors = cmap(np.arange(3)*4)\r\n",
        "inner_colors = cmap([1, 2, 5, 6, 9, 10])\r\n",
        "\r\n",
        "ax.pie(vals.sum(axis=1), radius=1, colors=outer_colors,\r\n",
        "       wedgeprops=dict(width=size, edgecolor='w'))\r\n",
        "\r\n",
        "ax.pie(vals.flatten(), radius=1-size, colors=inner_colors,\r\n",
        "       wedgeprops=dict(width=size, edgecolor='w'))\r\n",
        "\r\n",
        "ax.set(aspect=\"equal\", title='Pie plot with `ax.pie`')\r\n",
        "plt.show()"
      ],
      "execution_count": 94,
      "outputs": [
        {
          "output_type": "display_data",
          "data": {
            "image/png": "[encoded data removed]",
            "text/plain": [
              "<Figure size 432x288 with 1 Axes>"
            ]
          },
          "metadata": {
            "tags": []
          }
        }
      ]
    },
    {
      "cell_type": "code",
      "metadata": {
        "colab": {
          "base_uri": "https://localhost:8080/",
          "height": 343
        },
        "id": "evPi0ghmixJe",
        "outputId": "2f8dda5a-b585-4bc6-cd20-4da7d4e4b9ee"
      },
      "source": [
        "import matplotlib.pyplot as plt\r\n",
        "from matplotlib.patches import ConnectionPatch\r\n",
        "import numpy as np\r\n",
        "\r\n",
        "# make figure and assign axis objects\r\n",
        "fig = plt.figure(figsize=(9, 5))\r\n",
        "ax1 = fig.add_subplot(121)\r\n",
        "ax2 = fig.add_subplot(122)\r\n",
        "fig.subplots_adjust(wspace=0)\r\n",
        "\r\n",
        "# pie chart parameters\r\n",
        "ratios = [.27, .56, .17]\r\n",
        "labels = ['Alta Renda', 'Baixa renda', 'Classe Média']\r\n",
        "explode = [0.1, 0, 0]\r\n",
        "# rotate so that first wedge is split by the x-axis\r\n",
        "angle = -180 * ratios[0]\r\n",
        "ax1.pie(ratios, autopct='%1.1f%%', startangle=angle,\r\n",
        "        labels=labels, explode=explode)\r\n",
        "\r\n",
        "# bar chart parameters\r\n",
        "\r\n",
        "xpos = 0\r\n",
        "bottom = 0\r\n",
        "ratios = [.33, .54, .07, .06]\r\n",
        "width = .2\r\n",
        "colors = [[.1, .3, .5], [.1, .3, .3], [.1, .3, .7], [.1, .3, .9]]\r\n",
        "\r\n",
        "for j in range(len(ratios)):\r\n",
        "    height = ratios[j]\r\n",
        "    ax2.bar(xpos, height, width, bottom=bottom, color=colors[j])\r\n",
        "    ypos = bottom + ax2.patches[j].get_height() / 2\r\n",
        "    bottom += height\r\n",
        "    ax2.text(xpos, ypos, \"%d%%\" % (ax2.patches[j].get_height() * 100),\r\n",
        "             ha='center')\r\n",
        "\r\n",
        "ax2.set_title('Faixa Etária - Alta Renda')\r\n",
        "ax2.legend(('50-65', 'acima 65', '35-49', 'abaixo 35'))\r\n",
        "ax2.axis('off')\r\n",
        "ax2.set_xlim(- 2.5 * width, 2.5 * width)\r\n",
        "\r\n",
        "# use ConnectionPatch to draw lines between the two plots\r\n",
        "# get the wedge data\r\n",
        "theta1, theta2 = ax1.patches[0].theta1, ax1.patches[0].theta2\r\n",
        "center, r = ax1.patches[0].center, ax1.patches[0].r\r\n",
        "bar_height = sum([item.get_height() for item in ax2.patches])\r\n",
        "\r\n",
        "# draw top connecting line\r\n",
        "x = r * np.cos(np.pi / 180 * theta2) + center[0]\r\n",
        "y = r * np.sin(np.pi / 180 * theta2) + center[1]\r\n",
        "con = ConnectionPatch(xyA=(-width / 2, bar_height), coordsA=ax2.transData,\r\n",
        "                      xyB=(x, y), coordsB=ax1.transData)\r\n",
        "con.set_color([0, 0, 0])\r\n",
        "con.set_linewidth(4)\r\n",
        "ax2.add_artist(con)\r\n",
        "\r\n",
        "# draw bottom connecting line\r\n",
        "x = r * np.cos(np.pi / 180 * theta1) + center[0]\r\n",
        "y = r * np.sin(np.pi / 180 * theta1) + center[1]\r\n",
        "con = ConnectionPatch(xyA=(-width / 2, 0), coordsA=ax2.transData,\r\n",
        "                      xyB=(x, y), coordsB=ax1.transData)\r\n",
        "con.set_color([0, 0, 0])\r\n",
        "ax2.add_artist(con)\r\n",
        "con.set_linewidth(4)\r\n",
        "\r\n",
        "plt.show()"
      ],
      "execution_count": 95,
      "outputs": [
        {
          "output_type": "display_data",
          "data": {
            "image/png": "[encoded data removed]",
            "text/plain": [
              "<Figure size 648x360 with 2 Axes>"
            ]
          },
          "metadata": {
            "tags": []
          }
        }
      ]
    },
    {
      "cell_type": "code",
      "metadata": {
        "colab": {
          "base_uri": "https://localhost:8080/",
          "height": 304
        },
        "id": "5JGMrKcUjNam",
        "outputId": "2308192a-bcde-44bb-8dad-3938cc9a6eda"
      },
      "source": [
        "import matplotlib.pyplot as plt\r\n",
        "import numpy as np\r\n",
        "\r\n",
        "\r\n",
        "plt.style.use('fivethirtyeight')\r\n",
        "\r\n",
        "x = np.linspace(0, 10)\r\n",
        "\r\n",
        "# Fixing random state for reproducibility\r\n",
        "np.random.seed(7)\r\n",
        "\r\n",
        "fig, ax = plt.subplots()\r\n",
        "\r\n",
        "ax.plot(x, np.sin(x) + x + np.random.randn(50))\r\n",
        "ax.plot(x, np.sin(x) + 0.5 * x + np.random.randn(50))\r\n",
        "ax.plot(x, np.sin(x) + 2 * x + np.random.randn(50))\r\n",
        "ax.plot(x, np.sin(x) - 0.5 * x + np.random.randn(50))\r\n",
        "ax.plot(x, np.sin(x) - 2 * x + np.random.randn(50))\r\n",
        "ax.plot(x, np.sin(x) + np.random.randn(50))\r\n",
        "ax.set_title(\"'fivethirtyeight' é o Estilo do Gráfico\")\r\n",
        "\r\n",
        "plt.show()"
      ],
      "execution_count": 96,
      "outputs": [
        {
          "output_type": "display_data",
          "data": {
            "image/png": "[encoded data removed]",
            "text/plain": [
              "<Figure size 432x288 with 1 Axes>"
            ]
          },
          "metadata": {
            "tags": []
          }
        }
      ]
    },
    {
      "cell_type": "markdown",
      "metadata": {
        "id": "_cMS-1vLleom"
      },
      "source": [
        "### **Eletroencefalograma**\r\n",
        "\r\n",
        "é um exame que avalia a atividade elétrica espontânea do cérebro. Para tanto, o teste, também conhecido pela abreviação EEG, amplifica os impulsos elétricos cerebrais e os registra, a fim de detectar anormalidades neurológicas."
      ]
    },
    {
      "cell_type": "code",
      "metadata": {
        "colab": {
          "base_uri": "https://localhost:8080/",
          "height": 297
        },
        "id": "DxHjI_f7j-82",
        "outputId": "092e70e4-5333-4abb-e2c5-2e4ef1e1ccc9"
      },
      "source": [
        "import numpy as np\r\n",
        "import matplotlib.pyplot as plt\r\n",
        "import matplotlib.cbook as cbook\r\n",
        "import matplotlib.cm as cm\r\n",
        "\r\n",
        "from matplotlib.collections import LineCollection\r\n",
        "from matplotlib.ticker import MultipleLocator\r\n",
        "\r\n",
        "fig = plt.figure(\"MRI_with_EEG\")\r\n",
        "\r\n",
        "# Load the MRI data (256x256 16 bit integers)\r\n",
        "with cbook.get_sample_data('s1045.ima.gz') as dfile:\r\n",
        "    im = np.frombuffer(dfile.read(), np.uint16).reshape((256, 256))\r\n",
        "\r\n",
        "# Plot the MRI image\r\n",
        "ax0 = fig.add_subplot(2, 2, 1)\r\n",
        "ax0.imshow(im, cmap=cm.gray)\r\n",
        "ax0.axis('off')\r\n",
        "\r\n",
        "# Plot the histogram of MRI intensity\r\n",
        "ax1 = fig.add_subplot(2, 2, 2)\r\n",
        "im = np.ravel(im)\r\n",
        "im = im[np.nonzero(im)]  # Ignore the background\r\n",
        "im = im / (2**16 - 1)  # Normalize\r\n",
        "ax1.hist(im, bins=100)\r\n",
        "ax1.xaxis.set_major_locator(MultipleLocator(0.4))\r\n",
        "ax1.minorticks_on()\r\n",
        "ax1.set_yticks([])\r\n",
        "ax1.set_xlabel('Intensity (a.u.)')\r\n",
        "ax1.set_ylabel('MRI density')\r\n",
        "\r\n",
        "# Load the EEG data\r\n",
        "n_samples, n_rows = 800, 4\r\n",
        "with cbook.get_sample_data('eeg.dat') as eegfile:\r\n",
        "    data = np.fromfile(eegfile, dtype=float).reshape((n_samples, n_rows))\r\n",
        "t = 10 * np.arange(n_samples) / n_samples\r\n",
        "\r\n",
        "# Plot the EEG\r\n",
        "ticklocs = []\r\n",
        "ax2 = fig.add_subplot(2, 1, 2)\r\n",
        "ax2.set_xlim(0, 10)\r\n",
        "ax2.set_xticks(np.arange(10))\r\n",
        "dmin = data.min()\r\n",
        "dmax = data.max()\r\n",
        "dr = (dmax - dmin) * 0.7  # Crowd them a bit.\r\n",
        "y0 = dmin\r\n",
        "y1 = (n_rows - 1) * dr + dmax\r\n",
        "ax2.set_ylim(y0, y1)\r\n",
        "\r\n",
        "segs = []\r\n",
        "for i in range(n_rows):\r\n",
        "    segs.append(np.column_stack((t, data[:, i])))\r\n",
        "    ticklocs.append(i * dr)\r\n",
        "\r\n",
        "offsets = np.zeros((n_rows, 2), dtype=float)\r\n",
        "offsets[:, 1] = ticklocs\r\n",
        "\r\n",
        "lines = LineCollection(segs, offsets=offsets, transOffset=None)\r\n",
        "ax2.add_collection(lines)\r\n",
        "\r\n",
        "# Set the yticks to use axes coordinates on the y axis\r\n",
        "ax2.set_yticks(ticklocs)\r\n",
        "ax2.set_yticklabels(['PG3', 'PG5', 'PG7', 'PG9'])\r\n",
        "\r\n",
        "ax2.set_xlabel('Time (s)')\r\n",
        "\r\n",
        "\r\n",
        "plt.tight_layout()\r\n",
        "plt.show()"
      ],
      "execution_count": 97,
      "outputs": [
        {
          "output_type": "display_data",
          "data": {
            "image/png": "[encoded data removed]",
            "text/plain": [
              "<Figure size 432x288 with 3 Axes>"
            ]
          },
          "metadata": {
            "tags": []
          }
        }
      ]
    },
    {
      "cell_type": "code",
      "metadata": {
        "colab": {
          "base_uri": "https://localhost:8080/",
          "height": 264
        },
        "id": "HlJHNtRQkGJY",
        "outputId": "d95c4523-04bf-4ea2-e24d-005e6da9a963"
      },
      "source": [
        "from mpl_toolkits.mplot3d import axes3d\r\n",
        "import matplotlib.pyplot as plt\r\n",
        "from matplotlib import cm\r\n",
        "\r\n",
        "fig = plt.figure()\r\n",
        "ax = fig.gca(projection='3d')\r\n",
        "X, Y, Z = axes3d.get_test_data(0.05)\r\n",
        "\r\n",
        "# Plot the 3D surface\r\n",
        "ax.plot_surface(X, Y, Z, rstride=8, cstride=8, alpha=0.3)\r\n",
        "\r\n",
        "# Plot projections of the contours for each dimension.  By choosing offsets\r\n",
        "# that match the appropriate axes limits, the projected contours will sit on\r\n",
        "# the 'walls' of the graph\r\n",
        "cset = ax.contourf(X, Y, Z, zdir='z', offset=-100, cmap=cm.coolwarm)\r\n",
        "cset = ax.contourf(X, Y, Z, zdir='x', offset=-40, cmap=cm.coolwarm)\r\n",
        "cset = ax.contourf(X, Y, Z, zdir='y', offset=40, cmap=cm.coolwarm)\r\n",
        "\r\n",
        "ax.set_xlim(-40, 40)\r\n",
        "ax.set_ylim(-40, 40)\r\n",
        "ax.set_zlim(-100, 100)\r\n",
        "\r\n",
        "ax.set_xlabel('X')\r\n",
        "ax.set_ylabel('Y')\r\n",
        "ax.set_zlabel('Z')\r\n",
        "\r\n",
        "plt.show()"
      ],
      "execution_count": 98,
      "outputs": [
        {
          "output_type": "display_data",
          "data": {
            "image/png": "[encoded data removed]",
            "text/plain": [
              "<Figure size 432x288 with 1 Axes>"
            ]
          },
          "metadata": {
            "tags": []
          }
        }
      ]
    },
    {
      "cell_type": "markdown",
      "metadata": {
        "id": "uFjCGIxfWji-"
      },
      "source": [
        "# **Pandas Crash Course**\r\n",
        "![alt text](https://s3.amazonaws.com/lintel-blogs-static-files/wp-content/uploads/2019/07/14165137/pandas.jpg)"
      ]
    },
    {
      "cell_type": "markdown",
      "metadata": {
        "id": "byprmnmWWn1b"
      },
      "source": [
        "**Series**: Uma série é um array unidimensional onde as linhas e colunas podem ser rotuladas."
      ]
    },
    {
      "cell_type": "code",
      "metadata": {
        "id": "yOPbNRYHWciZ",
        "colab": {
          "base_uri": "https://localhost:8080/"
        },
        "outputId": "0e4810f7-73f9-4843-ef24-bf63c69230e9"
      },
      "source": [
        "# series\r\n",
        "import numpy as np\r\n",
        "import pandas as pd\r\n",
        "myarray = np.array([1, 2, 3])\r\n",
        "rownames = ['Kiwi', 'Marlos', 'Bruno']\r\n",
        "myseries = pd.Series(myarray, index=rownames)\r\n",
        "print(myseries)"
      ],
      "execution_count": 101,
      "outputs": [
        {
          "output_type": "stream",
          "text": [
            "Kiwi      1\n",
            "Marlos    2\n",
            "Bruno     3\n",
            "dtype: int64\n"
          ],
          "name": "stdout"
        }
      ]
    },
    {
      "cell_type": "code",
      "metadata": {
        "id": "484QlBu5XSJ1"
      },
      "source": [
        "print(myseries['Marlos'])\r\n"
      ],
      "execution_count": null,
      "outputs": []
    },
    {
      "cell_type": "markdown",
      "metadata": {
        "id": "Uj8_mzt3Zrl7"
      },
      "source": [
        "**Dataframe**"
      ]
    },
    {
      "cell_type": "code",
      "metadata": {
        "id": "JmLrBUx4ZvWe",
        "colab": {
          "base_uri": "https://localhost:8080/"
        },
        "outputId": "4736160c-ac34-4840-d957-a0407efdb77a"
      },
      "source": [
        "# dataframe\r\n",
        "import numpy as np\r\n",
        "import pandas as pd\r\n",
        "\r\n",
        "myarray = np.array([[10, 9, 7], [5, 5, 8], [1,1,1]])\r\n",
        "rownames = ['Marlos', 'Kiwi','Oliveira']\r\n",
        "colnames = ['Geografia', 'Matemática', 'Biologia']\r\n",
        "mydataframe = pd.DataFrame(myarray, index=rownames, columns=colnames)\r\n",
        "print(mydataframe)"
      ],
      "execution_count": 108,
      "outputs": [
        {
          "output_type": "stream",
          "text": [
            "          Geografia  Matemática  Biologia\n",
            "Marlos           10           9         7\n",
            "Kiwi              5           5         8\n",
            "Oliveira          1           1         1\n"
          ],
          "name": "stdout"
        }
      ]
    },
    {
      "cell_type": "code",
      "metadata": {
        "colab": {
          "base_uri": "https://localhost:8080/"
        },
        "id": "xAoBx7zClWwV",
        "outputId": "a41f6c0a-f705-42c8-fd61-d1344acdbe84"
      },
      "source": [
        "#Quantidade de linhas\r\n",
        "mydataframe.value_counts().sum()"
      ],
      "execution_count": 109,
      "outputs": [
        {
          "output_type": "execute_result",
          "data": {
            "text/plain": [
              "3"
            ]
          },
          "metadata": {
            "tags": []
          },
          "execution_count": 109
        }
      ]
    },
    {
      "cell_type": "code",
      "metadata": {
        "colab": {
          "base_uri": "https://localhost:8080/"
        },
        "id": "_scC_HgNljES",
        "outputId": "9d5b571c-8679-4a60-e9a6-6ef7fa92e316"
      },
      "source": [
        "mydataframe.Biologia.mean()\r\n"
      ],
      "execution_count": 110,
      "outputs": [
        {
          "output_type": "execute_result",
          "data": {
            "text/plain": [
              "5.333333333333333"
            ]
          },
          "metadata": {
            "tags": []
          },
          "execution_count": 110
        }
      ]
    },
    {
      "cell_type": "code",
      "metadata": {
        "colab": {
          "base_uri": "https://localhost:8080/"
        },
        "id": "ZLDxlmBnlXGJ",
        "outputId": "0c2a9506-28cf-4931-b1c1-057caa4da5a5"
      },
      "source": [
        "mydataframe.Biologia.median()"
      ],
      "execution_count": 111,
      "outputs": [
        {
          "output_type": "execute_result",
          "data": {
            "text/plain": [
              "7.0"
            ]
          },
          "metadata": {
            "tags": []
          },
          "execution_count": 111
        }
      ]
    },
    {
      "cell_type": "code",
      "metadata": {
        "id": "pvSV3IAojiv0"
      },
      "source": [
        "df = pd.read_csv('/content/bank-full.csv',delimiter=';' )\r\n",
        "df"
      ],
      "execution_count": null,
      "outputs": []
    },
    {
      "cell_type": "code",
      "metadata": {
        "colab": {
          "base_uri": "https://localhost:8080/",
          "height": 223
        },
        "id": "W6c2nKp-kCZa",
        "outputId": "b72b5a9a-1cf9-446f-ba44-227cf8564aca"
      },
      "source": [
        "df.head()"
      ],
      "execution_count": 115,
      "outputs": [
        {
          "output_type": "execute_result",
          "data": {
            "text/html": [
              "<div>\n",
              "<style scoped>\n",
              "    .dataframe tbody tr th:only-of-type {\n",
              "        vertical-align: middle;\n",
              "    }\n",
              "\n",
              "    .dataframe tbody tr th {\n",
              "        vertical-align: top;\n",
              "    }\n",
              "\n",
              "    .dataframe thead th {\n",
              "        text-align: right;\n",
              "    }\n",
              "</style>\n",
              "<table border=\"1\" class=\"dataframe\">\n",
              "  <thead>\n",
              "    <tr style=\"text-align: right;\">\n",
              "      <th></th>\n",
              "      <th>age</th>\n",
              "      <th>job</th>\n",
              "      <th>marital</th>\n",
              "      <th>education</th>\n",
              "      <th>default</th>\n",
              "      <th>balance</th>\n",
              "      <th>housing</th>\n",
              "      <th>loan</th>\n",
              "      <th>contact</th>\n",
              "      <th>day</th>\n",
              "      <th>month</th>\n",
              "      <th>duration</th>\n",
              "      <th>campaign</th>\n",
              "      <th>pdays</th>\n",
              "      <th>previous</th>\n",
              "      <th>poutcome</th>\n",
              "      <th>y</th>\n",
              "    </tr>\n",
              "  </thead>\n",
              "  <tbody>\n",
              "    <tr>\n",
              "      <th>0</th>\n",
              "      <td>58</td>\n",
              "      <td>management</td>\n",
              "      <td>married</td>\n",
              "      <td>tertiary</td>\n",
              "      <td>no</td>\n",
              "      <td>2143</td>\n",
              "      <td>yes</td>\n",
              "      <td>no</td>\n",
              "      <td>unknown</td>\n",
              "      <td>5</td>\n",
              "      <td>may</td>\n",
              "      <td>261</td>\n",
              "      <td>1</td>\n",
              "      <td>-1</td>\n",
              "      <td>0</td>\n",
              "      <td>unknown</td>\n",
              "      <td>no</td>\n",
              "    </tr>\n",
              "    <tr>\n",
              "      <th>1</th>\n",
              "      <td>44</td>\n",
              "      <td>technician</td>\n",
              "      <td>single</td>\n",
              "      <td>secondary</td>\n",
              "      <td>no</td>\n",
              "      <td>29</td>\n",
              "      <td>yes</td>\n",
              "      <td>no</td>\n",
              "      <td>unknown</td>\n",
              "      <td>5</td>\n",
              "      <td>may</td>\n",
              "      <td>151</td>\n",
              "      <td>1</td>\n",
              "      <td>-1</td>\n",
              "      <td>0</td>\n",
              "      <td>unknown</td>\n",
              "      <td>no</td>\n",
              "    </tr>\n",
              "    <tr>\n",
              "      <th>2</th>\n",
              "      <td>33</td>\n",
              "      <td>entrepreneur</td>\n",
              "      <td>married</td>\n",
              "      <td>secondary</td>\n",
              "      <td>no</td>\n",
              "      <td>2</td>\n",
              "      <td>yes</td>\n",
              "      <td>yes</td>\n",
              "      <td>unknown</td>\n",
              "      <td>5</td>\n",
              "      <td>may</td>\n",
              "      <td>76</td>\n",
              "      <td>1</td>\n",
              "      <td>-1</td>\n",
              "      <td>0</td>\n",
              "      <td>unknown</td>\n",
              "      <td>no</td>\n",
              "    </tr>\n",
              "    <tr>\n",
              "      <th>3</th>\n",
              "      <td>47</td>\n",
              "      <td>blue-collar</td>\n",
              "      <td>married</td>\n",
              "      <td>unknown</td>\n",
              "      <td>no</td>\n",
              "      <td>1506</td>\n",
              "      <td>yes</td>\n",
              "      <td>no</td>\n",
              "      <td>unknown</td>\n",
              "      <td>5</td>\n",
              "      <td>may</td>\n",
              "      <td>92</td>\n",
              "      <td>1</td>\n",
              "      <td>-1</td>\n",
              "      <td>0</td>\n",
              "      <td>unknown</td>\n",
              "      <td>no</td>\n",
              "    </tr>\n",
              "    <tr>\n",
              "      <th>4</th>\n",
              "      <td>33</td>\n",
              "      <td>unknown</td>\n",
              "      <td>single</td>\n",
              "      <td>unknown</td>\n",
              "      <td>no</td>\n",
              "      <td>1</td>\n",
              "      <td>no</td>\n",
              "      <td>no</td>\n",
              "      <td>unknown</td>\n",
              "      <td>5</td>\n",
              "      <td>may</td>\n",
              "      <td>198</td>\n",
              "      <td>1</td>\n",
              "      <td>-1</td>\n",
              "      <td>0</td>\n",
              "      <td>unknown</td>\n",
              "      <td>no</td>\n",
              "    </tr>\n",
              "  </tbody>\n",
              "</table>\n",
              "</div>"
            ],
            "text/plain": [
              "   age           job  marital  education  ... pdays  previous poutcome   y\n",
              "0   58    management  married   tertiary  ...    -1         0  unknown  no\n",
              "1   44    technician   single  secondary  ...    -1         0  unknown  no\n",
              "2   33  entrepreneur  married  secondary  ...    -1         0  unknown  no\n",
              "3   47   blue-collar  married    unknown  ...    -1         0  unknown  no\n",
              "4   33       unknown   single    unknown  ...    -1         0  unknown  no\n",
              "\n",
              "[5 rows x 17 columns]"
            ]
          },
          "metadata": {
            "tags": []
          },
          "execution_count": 115
        }
      ]
    },
    {
      "cell_type": "code",
      "metadata": {
        "id": "-RilzpCpkCcc"
      },
      "source": [
        "df.describe()"
      ],
      "execution_count": null,
      "outputs": []
    },
    {
      "cell_type": "code",
      "metadata": {
        "colab": {
          "base_uri": "https://localhost:8080/"
        },
        "id": "KO4UAPXAkCe1",
        "outputId": "df4a3056-ea9d-4dcc-f6a0-a6e1a31c1597"
      },
      "source": [
        "df.balance.sum()"
      ],
      "execution_count": 117,
      "outputs": [
        {
          "output_type": "execute_result",
          "data": {
            "text/plain": [
              "61589682"
            ]
          },
          "metadata": {
            "tags": []
          },
          "execution_count": 117
        }
      ]
    },
    {
      "cell_type": "code",
      "metadata": {
        "colab": {
          "base_uri": "https://localhost:8080/"
        },
        "id": "0fXscAaekCkL",
        "outputId": "6d6856e2-a087-4809-d815-74ee3e429dde"
      },
      "source": [
        "df.y.value_counts()"
      ],
      "execution_count": 118,
      "outputs": [
        {
          "output_type": "execute_result",
          "data": {
            "text/plain": [
              "no     39922\n",
              "yes     5289\n",
              "Name: y, dtype: int64"
            ]
          },
          "metadata": {
            "tags": []
          },
          "execution_count": 118
        }
      ]
    },
    {
      "cell_type": "code",
      "metadata": {
        "id": "id2BYDtFkCpG"
      },
      "source": [
        ""
      ],
      "execution_count": null,
      "outputs": []
    },
    {
      "cell_type": "markdown",
      "metadata": {
        "id": "OA_PyYbqZyjw"
      },
      "source": [
        "#**Resumão**\r\n",
        "![alt text](https://static.imagensparawhats.com.br/content/assetz/uploads/2018/08/imagens-para-whats-praia-e-mar-gifs.gif)"
      ]
    },
    {
      "cell_type": "markdown",
      "metadata": {
        "id": "E9fC-q0LZ4Gm"
      },
      "source": [
        "Você acaba de colocar o pé nesse MAR que é o **Python**. \r\n",
        "\r\n",
        "Você descobriu a sintaxe básica e o uso do Python e 3 bibliotecas Python principais usadas para inicira os trabalhos de aprendizado de máquina:\r\n",
        "\r\n",
        "* **NumPy**\r\n",
        "* **Matplotlib**\r\n",
        "* **Pandas** \r\n",
        "\r\n",
        "Agora você conhece sintaxe e informações de uso suficientes para ler e entender o código Python para aprendizado de máquina e para começar a criar seus próprios scripts.\r\n",
        "\r\n",
        "Simbóra!\r\n",
        "\r\n"
      ]
    },
    {
      "cell_type": "markdown",
      "metadata": {
        "id": "XTRc7NjBKG65"
      },
      "source": [
        "# Fim"
      ]
    },
    {
      "cell_type": "markdown",
      "metadata": {
        "id": "_fHqFSvWe94c"
      },
      "source": [
        "## Valeu!"
      ]
    },
    {
      "cell_type": "markdown",
      "metadata": {
        "id": "_2DT4SBZRDP-"
      },
      "source": [
        "### #Links - Ciência dos Dados <a href=\"https://linktr.ee/cienciadosdados\">https://linktr.ee/cienciadosdados</a>"
      ]
    },
    {
      "cell_type": "markdown",
      "metadata": {
        "id": "ThxYRK6DfJ3f"
      },
      "source": [
        "### #YouTube - Mais Aulas como essa no YouTube <a href=\"https://www.youtube.com/watch?v=IaIc5oHd3II&t=1569s\">https://www.youtube.com/watch?v=IaIc5oHd3II&t=1569s</a>"
      ]
    },
    {
      "cell_type": "code",
      "metadata": {
        "id": "_pg8zEm-Nv6Y",
        "colab": {
          "base_uri": "https://localhost:8080/",
          "height": 241
        },
        "outputId": "a9700443-244a-4579-d051-430c94c35fa9"
      },
      "source": [
        "from IPython.core.display import HTML\n",
        "HTML('<iframe width=\"380\" height=\"200\" src=\"https://www.youtube.com/embed/W9iktBS67Iw\" frameborder=\"0\" allow=\"accelerometer; autoplay; clipboard-write; encrypted-media; gyroscope; picture-in-picture\" allowfullscreen></iframe>')"
      ],
      "execution_count": null,
      "outputs": [
        {
          "output_type": "execute_result",
          "data": {
            "text/html": [
              "<iframe width=\"380\" height=\"200\" src=\"https://www.youtube.com/embed/W9iktBS67Iw\" frameborder=\"0\" allow=\"accelerometer; autoplay; clipboard-write; encrypted-media; gyroscope; picture-in-picture\" allowfullscreen></iframe>"
            ],
            "text/plain": [
              "<IPython.core.display.HTML object>"
            ]
          },
          "metadata": {
            "tags": []
          },
          "execution_count": 28
        }
      ]
    }
  ]
}